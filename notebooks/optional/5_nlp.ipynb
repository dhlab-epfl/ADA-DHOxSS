{
 "cells": [
  {
   "cell_type": "markdown",
   "metadata": {},
   "source": [
    "# (Optional) Chapter V - Natural Language Processing"
   ]
  },
  {
   "cell_type": "markdown",
   "metadata": {},
   "source": [
    "This notebook is aimed to work alongside our explanation to help illustrate how to begin the basics of natural language processing. We will mainly focus on the concepts behind it, as the code is relatively simple.\n",
    "\n",
    "- The basics of Natural language processing\n",
    "- TF/IDF\n",
    "- Keyword extraction\n",
    "- Frequency distributions\n",
    "- Topic modelling\n",
    "\n",
    "\n",
    "- Named entity extraction\n",
    "- Relational data (structuring into networks)"
   ]
  },
  {
   "cell_type": "markdown",
   "metadata": {},
   "source": [
    "## Section A) Setup"
   ]
  },
  {
   "cell_type": "markdown",
   "metadata": {},
   "source": [
    "We'll first import our required packages. For the basics of natural language processing we're going to be using nltk. You'll need to install this in your current enviroment using the terminal."
   ]
  },
  {
   "cell_type": "markdown",
   "metadata": {},
   "source": [
    "To make sure your enviroment is set up, open your terminal. The line should begin with (base).\n",
    "\n",
    "- We have previously used 'conda create -n enviroment_name' to create an enviroment. Now use 'conda activate enviroment_name' to open your enviroment, once you've run this the line should start with (enviroment_name).\n",
    "\n",
    "- Once in the enviroment we can install packages. We want to install them here rather than in the base so that they are only used for this project. \n",
    "\n",
    "- To do this use 'conda install package_name'.\n",
    "In this case 'conda install nltk'.\n"
   ]
  },
  {
   "cell_type": "code",
   "execution_count": 11,
   "metadata": {},
   "outputs": [],
   "source": [
    "# conda activate your_enviroment_name\n",
    "# conda install nltk"
   ]
  },
  {
   "cell_type": "code",
   "execution_count": 12,
   "metadata": {},
   "outputs": [
    {
     "name": "stderr",
     "output_type": "stream",
     "text": [
      "[nltk_data] Downloading package stopwords to\n",
      "[nltk_data]     /Users/ellencharlesworth/nltk_data...\n",
      "[nltk_data]   Package stopwords is already up-to-date!\n"
     ]
    }
   ],
   "source": [
    "# Set up imports\n",
    "import pandas as pd, matplotlib.pyplot as plt\n",
    "import nltk\n",
    "from nltk.corpus import stopwords\n",
    "from nltk.tokenize import word_tokenize\n",
    "nltk.download('stopwords')\n",
    "\n",
    "import gensim\n",
    "# from gensim.corpora import Dictionary\n",
    "import pyLDAvis\n",
    "\n",
    "# nltk.download('punkt')\n",
    "# nltk.download('wordnet')\n",
    "# nltk.download('omw-1.4')\n",
    "import string # This provides us a list of punctuation later down the line\n",
    "import plotly.graph_objects as go\n",
    "from nltk.tokenize import sent_tokenize, word_tokenize\n",
    "from nltk.stem import WordNetLemmatizer\n",
    "from gensim import corpora, models, similarities\n"
   ]
  },
  {
   "cell_type": "markdown",
   "metadata": {},
   "source": [
    "Let's now load in the dataframe and start cleaning. \n",
    "Note: this file is tab seperated (see how this changes read_csv below)"
   ]
  },
  {
   "cell_type": "code",
   "execution_count": 30,
   "metadata": {},
   "outputs": [],
   "source": [
    "df = pd.read_csv('../../data/sample_museum_tweets.tsv', sep='\\t')"
   ]
  },
  {
   "cell_type": "markdown",
   "metadata": {},
   "source": [
    "### A) Data cleaning and Tokenization\n",
    "\n",
    "Let's check what out data looks like."
   ]
  },
  {
   "cell_type": "code",
   "execution_count": 14,
   "metadata": {},
   "outputs": [
    {
     "name": "stdout",
     "output_type": "stream",
     "text": [
      "<class 'pandas.core.frame.DataFrame'>\n",
      "RangeIndex: 50000 entries, 0 to 49999\n",
      "Data columns (total 7 columns):\n",
      " #   Column              Non-Null Count  Dtype  \n",
      "---  ------              --------------  -----  \n",
      " 0   id                  50000 non-null  int64  \n",
      " 1   ts                  50000 non-null  object \n",
      " 2   museum_account      50000 non-null  object \n",
      " 3   original_text       50000 non-null  object \n",
      " 4   is_retweet          50000 non-null  bool   \n",
      " 5   is_reply            50000 non-null  bool   \n",
      " 6   interactions_count  50000 non-null  float64\n",
      "dtypes: bool(2), float64(1), int64(1), object(3)\n",
      "memory usage: 2.0+ MB\n"
     ]
    }
   ],
   "source": [
    "df.info()"
   ]
  },
  {
   "cell_type": "code",
   "execution_count": 31,
   "metadata": {},
   "outputs": [
    {
     "data": {
      "text/html": [
       "<div>\n",
       "<style scoped>\n",
       "    .dataframe tbody tr th:only-of-type {\n",
       "        vertical-align: middle;\n",
       "    }\n",
       "\n",
       "    .dataframe tbody tr th {\n",
       "        vertical-align: top;\n",
       "    }\n",
       "\n",
       "    .dataframe thead th {\n",
       "        text-align: right;\n",
       "    }\n",
       "</style>\n",
       "<table border=\"1\" class=\"dataframe\">\n",
       "  <thead>\n",
       "    <tr style=\"text-align: right;\">\n",
       "      <th></th>\n",
       "      <th>id</th>\n",
       "      <th>ts</th>\n",
       "      <th>museum_account</th>\n",
       "      <th>original_text</th>\n",
       "      <th>is_retweet</th>\n",
       "      <th>is_reply</th>\n",
       "      <th>interactions_count</th>\n",
       "    </tr>\n",
       "  </thead>\n",
       "  <tbody>\n",
       "    <tr>\n",
       "      <th>0</th>\n",
       "      <td>5798944681378</td>\n",
       "      <td>2021-07-22 19:38:34+00:00</td>\n",
       "      <td>ancienthousemus</td>\n",
       "      <td>@AncientHouseMus @artukdotorg Ugh, no wonder h...</td>\n",
       "      <td>False</td>\n",
       "      <td>True</td>\n",
       "      <td>0.0</td>\n",
       "    </tr>\n",
       "    <tr>\n",
       "      <th>1</th>\n",
       "      <td>8702741370361</td>\n",
       "      <td>2019-01-02 08:25:06+00:00</td>\n",
       "      <td>livcathedral</td>\n",
       "      <td>Looking for a fun challenge to take as a famil...</td>\n",
       "      <td>False</td>\n",
       "      <td>False</td>\n",
       "      <td>4.0</td>\n",
       "    </tr>\n",
       "    <tr>\n",
       "      <th>2</th>\n",
       "      <td>4436751452541</td>\n",
       "      <td>2020-04-06 10:07:47+00:00</td>\n",
       "      <td>samuseums</td>\n",
       "      <td>@samuseums A great choice to show the beautifu...</td>\n",
       "      <td>False</td>\n",
       "      <td>True</td>\n",
       "      <td>2.0</td>\n",
       "    </tr>\n",
       "    <tr>\n",
       "      <th>3</th>\n",
       "      <td>7789471450859</td>\n",
       "      <td>2019-06-29 07:42:00+00:00</td>\n",
       "      <td>hull_museums</td>\n",
       "      <td>Our Hands on History Museum is open today 12no...</td>\n",
       "      <td>False</td>\n",
       "      <td>True</td>\n",
       "      <td>1.0</td>\n",
       "    </tr>\n",
       "    <tr>\n",
       "      <th>4</th>\n",
       "      <td>1508119645064</td>\n",
       "      <td>2022-05-18 11:12:56+00:00</td>\n",
       "      <td>ecmfcm</td>\n",
       "      <td>@CynthiaTheBaker @BarnsleyMuseums @SMTrust @Da...</td>\n",
       "      <td>False</td>\n",
       "      <td>True</td>\n",
       "      <td>1.0</td>\n",
       "    </tr>\n",
       "    <tr>\n",
       "      <th>5</th>\n",
       "      <td>3249899610136</td>\n",
       "      <td>2019-11-09 11:56:24+00:00</td>\n",
       "      <td>bm_ag</td>\n",
       "      <td>Yes it is a miserable weather day, but we've g...</td>\n",
       "      <td>False</td>\n",
       "      <td>False</td>\n",
       "      <td>14.0</td>\n",
       "    </tr>\n",
       "    <tr>\n",
       "      <th>6</th>\n",
       "      <td>3071854785518</td>\n",
       "      <td>2022-02-10 10:56:10+00:00</td>\n",
       "      <td>seacitymuseum</td>\n",
       "      <td>RT @SotonStories: \"...Nobody said LGBTQ+ in th...</td>\n",
       "      <td>True</td>\n",
       "      <td>False</td>\n",
       "      <td>1.0</td>\n",
       "    </tr>\n",
       "    <tr>\n",
       "      <th>7</th>\n",
       "      <td>5846312467152</td>\n",
       "      <td>2020-09-11 22:35:33+00:00</td>\n",
       "      <td>trinityhouse_uk</td>\n",
       "      <td>Our support vessels play a huge part in the #V...</td>\n",
       "      <td>False</td>\n",
       "      <td>True</td>\n",
       "      <td>49.0</td>\n",
       "    </tr>\n",
       "    <tr>\n",
       "      <th>8</th>\n",
       "      <td>6250125091251</td>\n",
       "      <td>2019-05-13 22:05:58+00:00</td>\n",
       "      <td>largsmuseum</td>\n",
       "      <td>RT @Scotmaritime: Our FREE Powering Up! Scienc...</td>\n",
       "      <td>True</td>\n",
       "      <td>False</td>\n",
       "      <td>9.0</td>\n",
       "    </tr>\n",
       "    <tr>\n",
       "      <th>9</th>\n",
       "      <td>6455006045973</td>\n",
       "      <td>2022-02-21 09:12:40+00:00</td>\n",
       "      <td>wabbey</td>\n",
       "      <td>@wabbey 💜🙏💜 https://t.co/tlTHjZOTBf</td>\n",
       "      <td>False</td>\n",
       "      <td>True</td>\n",
       "      <td>1.0</td>\n",
       "    </tr>\n",
       "  </tbody>\n",
       "</table>\n",
       "</div>"
      ],
      "text/plain": [
       "              id                         ts   museum_account  \\\n",
       "0  5798944681378  2021-07-22 19:38:34+00:00  ancienthousemus   \n",
       "1  8702741370361  2019-01-02 08:25:06+00:00     livcathedral   \n",
       "2  4436751452541  2020-04-06 10:07:47+00:00        samuseums   \n",
       "3  7789471450859  2019-06-29 07:42:00+00:00     hull_museums   \n",
       "4  1508119645064  2022-05-18 11:12:56+00:00           ecmfcm   \n",
       "5  3249899610136  2019-11-09 11:56:24+00:00            bm_ag   \n",
       "6  3071854785518  2022-02-10 10:56:10+00:00    seacitymuseum   \n",
       "7  5846312467152  2020-09-11 22:35:33+00:00  trinityhouse_uk   \n",
       "8  6250125091251  2019-05-13 22:05:58+00:00      largsmuseum   \n",
       "9  6455006045973  2022-02-21 09:12:40+00:00           wabbey   \n",
       "\n",
       "                                       original_text  is_retweet  is_reply  \\\n",
       "0  @AncientHouseMus @artukdotorg Ugh, no wonder h...       False      True   \n",
       "1  Looking for a fun challenge to take as a famil...       False     False   \n",
       "2  @samuseums A great choice to show the beautifu...       False      True   \n",
       "3  Our Hands on History Museum is open today 12no...       False      True   \n",
       "4  @CynthiaTheBaker @BarnsleyMuseums @SMTrust @Da...       False      True   \n",
       "5  Yes it is a miserable weather day, but we've g...       False     False   \n",
       "6  RT @SotonStories: \"...Nobody said LGBTQ+ in th...        True     False   \n",
       "7  Our support vessels play a huge part in the #V...       False      True   \n",
       "8  RT @Scotmaritime: Our FREE Powering Up! Scienc...        True     False   \n",
       "9                @wabbey 💜🙏💜 https://t.co/tlTHjZOTBf       False      True   \n",
       "\n",
       "   interactions_count  \n",
       "0                 0.0  \n",
       "1                 4.0  \n",
       "2                 2.0  \n",
       "3                 1.0  \n",
       "4                 1.0  \n",
       "5                14.0  \n",
       "6                 1.0  \n",
       "7                49.0  \n",
       "8                 9.0  \n",
       "9                 1.0  "
      ]
     },
     "execution_count": 31,
     "metadata": {},
     "output_type": "execute_result"
    }
   ],
   "source": [
    "df.head(10)"
   ]
  },
  {
   "cell_type": "markdown",
   "metadata": {},
   "source": [
    "✏️ [Ex. 1]\n",
    "\n",
    "Let's clean up the datatypes first.\n",
    "- Rename 'original_text' to 'text'\n",
    "- Make sure that the column's datatype is a string\n",
    "- How many null values are there in 'text'?\n",
    "\n",
    "The dataset we have has already been cleaned so there is not much to do! But you may want to be wary of duplicates in your own dataset. The pandas function drop_duplicates() will help. You can check the length of the df before and after to see how many it found. Check the documentation for more details."
   ]
  },
  {
   "cell_type": "code",
   "execution_count": 32,
   "metadata": {},
   "outputs": [],
   "source": [
    "df = df.rename(columns={'original_text':'text'})\n",
    "df['text'] = df['text'].astype(str)\n",
    "\n",
    "# # Note it's always useful, just in case they're saved as a string 'NaN'.\n",
    "# df['text'].value_counts()"
   ]
  },
  {
   "cell_type": "markdown",
   "metadata": {},
   "source": [
    "To make our dataset more homogenous, for now we will focus on all of the tweets that are not replies. This is becuase replies tend to have different characteristics (shorter, more boring vocabulary) so we'll drop them for this exercise. \n",
    "\n",
    "Here we can use loc, or simply a tilda (~) for 'not'.\n",
    "\n",
    "When we do this we drop more than half the tweets. "
   ]
  },
  {
   "cell_type": "code",
   "execution_count": 17,
   "metadata": {},
   "outputs": [
    {
     "name": "stdout",
     "output_type": "stream",
     "text": [
      "50000\n",
      "23622\n"
     ]
    }
   ],
   "source": [
    "print(len(df))\n",
    "df = df[~df[\"is_reply\"]]\n",
    "print(len(df))\n"
   ]
  },
  {
   "cell_type": "markdown",
   "metadata": {},
   "source": [
    "## Section B) Preprocessing Tweets\n",
    "https://towardsdatascience.com/lda-topic-modeling-with-tweets-deff37c0e131\n",
    "\n",
    "https://medium.com/swlh/quick-text-pre-processing-c444f0ed9dcc\n",
    "\n",
    "Here we will: \n",
    "- Remove URLs (you could also remove mentions using what we learnt yesterday or the code below, but we will leave them for now)\n",
    "- Remove stop words, punctuation, and lowercase all words\n",
    "- Tokenize each tweet\n",
    "- Remove any remaining special characters\n",
    "- Lemmatize/Stem the tweets\n",
    "\n",
    "To remove urls, we will need to use regex with string operators. Here are some helpful guides:\n",
    "https://blog.hpc.qmul.ac.uk/Beginners-Guide-to-Regular-Expressions/\n",
    "\n",
    "And for a more full description: https://regexone.com/\n",
    "\n",
    "You can test your regex with this site: \n",
    "https://regex101.com/ "
   ]
  },
  {
   "cell_type": "code",
   "execution_count": 18,
   "metadata": {},
   "outputs": [
    {
     "data": {
      "text/html": [
       "<div>\n",
       "<style scoped>\n",
       "    .dataframe tbody tr th:only-of-type {\n",
       "        vertical-align: middle;\n",
       "    }\n",
       "\n",
       "    .dataframe tbody tr th {\n",
       "        vertical-align: top;\n",
       "    }\n",
       "\n",
       "    .dataframe thead th {\n",
       "        text-align: right;\n",
       "    }\n",
       "</style>\n",
       "<table border=\"1\" class=\"dataframe\">\n",
       "  <thead>\n",
       "    <tr style=\"text-align: right;\">\n",
       "      <th></th>\n",
       "      <th>id</th>\n",
       "      <th>ts</th>\n",
       "      <th>museum_account</th>\n",
       "      <th>text</th>\n",
       "      <th>is_retweet</th>\n",
       "      <th>is_reply</th>\n",
       "      <th>interactions_count</th>\n",
       "    </tr>\n",
       "  </thead>\n",
       "  <tbody>\n",
       "    <tr>\n",
       "      <th>1</th>\n",
       "      <td>8702741370361</td>\n",
       "      <td>2019-01-02 08:25:06+00:00</td>\n",
       "      <td>livcathedral</td>\n",
       "      <td>Looking for a fun challenge to take as a famil...</td>\n",
       "      <td>False</td>\n",
       "      <td>False</td>\n",
       "      <td>4.0</td>\n",
       "    </tr>\n",
       "    <tr>\n",
       "      <th>5</th>\n",
       "      <td>3249899610136</td>\n",
       "      <td>2019-11-09 11:56:24+00:00</td>\n",
       "      <td>bm_ag</td>\n",
       "      <td>Yes it is a miserable weather day, but we've g...</td>\n",
       "      <td>False</td>\n",
       "      <td>False</td>\n",
       "      <td>14.0</td>\n",
       "    </tr>\n",
       "    <tr>\n",
       "      <th>6</th>\n",
       "      <td>3071854785518</td>\n",
       "      <td>2022-02-10 10:56:10+00:00</td>\n",
       "      <td>seacitymuseum</td>\n",
       "      <td>RT @SotonStories: \"...Nobody said LGBTQ+ in th...</td>\n",
       "      <td>True</td>\n",
       "      <td>False</td>\n",
       "      <td>1.0</td>\n",
       "    </tr>\n",
       "    <tr>\n",
       "      <th>8</th>\n",
       "      <td>6250125091251</td>\n",
       "      <td>2019-05-13 22:05:58+00:00</td>\n",
       "      <td>largsmuseum</td>\n",
       "      <td>RT @Scotmaritime: Our FREE Powering Up! Scienc...</td>\n",
       "      <td>True</td>\n",
       "      <td>False</td>\n",
       "      <td>9.0</td>\n",
       "    </tr>\n",
       "    <tr>\n",
       "      <th>11</th>\n",
       "      <td>3284713454042</td>\n",
       "      <td>2020-01-04 14:16:54+00:00</td>\n",
       "      <td>tateliverpool</td>\n",
       "      <td>RT @its_jess13: Definitely recommend a visit t...</td>\n",
       "      <td>True</td>\n",
       "      <td>False</td>\n",
       "      <td>3.0</td>\n",
       "    </tr>\n",
       "  </tbody>\n",
       "</table>\n",
       "</div>"
      ],
      "text/plain": [
       "               id                         ts museum_account  \\\n",
       "1   8702741370361  2019-01-02 08:25:06+00:00   livcathedral   \n",
       "5   3249899610136  2019-11-09 11:56:24+00:00          bm_ag   \n",
       "6   3071854785518  2022-02-10 10:56:10+00:00  seacitymuseum   \n",
       "8   6250125091251  2019-05-13 22:05:58+00:00    largsmuseum   \n",
       "11  3284713454042  2020-01-04 14:16:54+00:00  tateliverpool   \n",
       "\n",
       "                                                 text  is_retweet  is_reply  \\\n",
       "1   Looking for a fun challenge to take as a famil...       False     False   \n",
       "5   Yes it is a miserable weather day, but we've g...       False     False   \n",
       "6   RT @SotonStories: \"...Nobody said LGBTQ+ in th...        True     False   \n",
       "8   RT @Scotmaritime: Our FREE Powering Up! Scienc...        True     False   \n",
       "11  RT @its_jess13: Definitely recommend a visit t...        True     False   \n",
       "\n",
       "    interactions_count  \n",
       "1                  4.0  \n",
       "5                 14.0  \n",
       "6                  1.0  \n",
       "8                  9.0  \n",
       "11                 3.0  "
      ]
     },
     "execution_count": 18,
     "metadata": {},
     "output_type": "execute_result"
    }
   ],
   "source": [
    "def remove_urls(df, text_column_name):\n",
    "    df[text_column_name] = df[text_column_name].str.replace(r\"http\\S+\", \"\", regex=True)\n",
    "    return (df)\n",
    "\n",
    "df = remove_urls(df, 'text')\n",
    "df.head()"
   ]
  },
  {
   "cell_type": "markdown",
   "metadata": {},
   "source": [
    "### Removing stopwords and tokenization"
   ]
  },
  {
   "cell_type": "code",
   "execution_count": 19,
   "metadata": {},
   "outputs": [],
   "source": [
    "# Implement stopwords\n",
    "stop_words = stopwords.words('english')\n",
    "\n",
    "# Add punctuation to our stopwords list\n",
    "stop_words += list(string.punctuation) # This comes from python itself and is a full list of non-alphabetical characters. e.g. -./:;<=>?@\n",
    "\n",
    "# Add integers\n",
    "stop_words += ['0', '1', '2', '3', '4', '5', '6', '7', '8', '9']"
   ]
  },
  {
   "cell_type": "code",
   "execution_count": 33,
   "metadata": {},
   "outputs": [
    {
     "data": {
      "text/plain": [
       "['fkdsj', 'kjsdfh', 'khfsd']"
      ]
     },
     "execution_count": 33,
     "metadata": {},
     "output_type": "execute_result"
    }
   ],
   "source": [
    "tokenize_and_lowercase('fkdsj kjsdfh khfsd fdj')"
   ]
  },
  {
   "cell_type": "code",
   "execution_count": 35,
   "metadata": {},
   "outputs": [
    {
     "data": {
      "text/plain": [
       "0     [ancienthousemus, artukdotorg, wonder, gave, a...\n",
       "1     [looking, challenge, take, family, year, helpi...\n",
       "2     [samuseums, great, choice, show, beautiful, se...\n",
       "3     [hands, history, museum, open, today, 12noon-4...\n",
       "4     [cynthiathebaker, barnsleymuseums, smtrust, da...\n",
       "5     [miserable, weather, something, cheer, come, a...\n",
       "6     [sotonstories, nobody, said, lgbtq+, days, sce...\n",
       "7     [support, vessels, play, huge, part, visitingc...\n",
       "8     [scotmaritime, free, powering, science, festiv...\n",
       "9                    [wabbey, https, //t.co/tlthjzotbf]\n",
       "10    [carshaltonviews, thank, involved, putting, to...\n",
       "11    [its_jess13, definitely, recommend, visit, the...\n",
       "12    [marina_white, riverside, picnic, reached, who...\n",
       "13    [steveaprocter, t86_dan, richard99366022, clar...\n",
       "14    [milestoneshct, spitfire, back, meet, book, sl...\n",
       "15    [heard, displaying, entrants, year, european, ...\n",
       "16    [autographabp, autograph, touring, exhibition,...\n",
       "17    [fitzmuseum_uk, themerl, charming, kind, thing...\n",
       "18    [insideoutproject, discover, free, outdoor, di...\n",
       "19    [volunteer, patrick, bell, written, lovely, re...\n",
       "Name: text_tokens, dtype: object"
      ]
     },
     "execution_count": 35,
     "metadata": {},
     "output_type": "execute_result"
    }
   ],
   "source": [
    "def tokenize_and_lowercase_new(text):\n",
    "    tokens = word_tokenize(text)\n",
    "\n",
    "    short_removed = []\n",
    "    for token in tokens:\n",
    "        token_lower = token.lower()\n",
    "        if (token_lower not in stop_words)&(len(token_lower)>3):\n",
    "            short_removed.append(token_lower)\n",
    "    return short_removed\n",
    "\n",
    "\n",
    "# temp_dw['tweet_text'] = temp_dw['tweet_text'].apply(tokenize_lowercase)\n",
    "# temp_dw['tweet_text'].head(10)\n",
    "df['text_tokens'] = df['text'].apply(tokenize_and_lowercase_new)\n",
    "\n",
    "df.text_tokens.head(20)"
   ]
  },
  {
   "cell_type": "markdown",
   "metadata": {},
   "source": [
    "Great! Each row is now a list of words that were in that tweet. However, it's a little bit cleaner than the method we used before, as we now don't have any punctuation or common words such as 'a' or 'the'. This is a much better start for analysis. \n",
    "\n",
    "There is one last step, we still need to lemmatize or perform stemming. Lemmatizing is a little bit more sophisticated (remember our example of leaf and leaves) so we will lemmatize using nltk. "
   ]
  },
  {
   "cell_type": "code",
   "execution_count": 36,
   "metadata": {},
   "outputs": [
    {
     "data": {
      "text/plain": [
       "0    [ancienthousemus, artukdotorg, wonder, gave, a...\n",
       "1    [looking, challenge, take, family, year, helpi...\n",
       "2    [samuseums, great, choice, show, beautiful, se...\n",
       "3    [hand, history, museum, open, today, 12noon-4p...\n",
       "4    [cynthiathebaker, barnsleymuseums, smtrust, da...\n",
       "Name: text_lemmatized, dtype: object"
      ]
     },
     "execution_count": 36,
     "metadata": {},
     "output_type": "execute_result"
    }
   ],
   "source": [
    "from nltk.stem import WordNetLemmatizer\n",
    "\n",
    "lemmatizer = WordNetLemmatizer()\n",
    "\n",
    "def lemmatize_text(df_text):\n",
    "    lemmatized_words =[]\n",
    "    for w in df_text:\n",
    "        lemmatized_words.append(lemmatizer.lemmatize(w))\n",
    "    return lemmatized_words\n",
    "\n",
    "df['text_lemmatized'] = df['text_tokens'].apply(lemmatize_text)\n",
    "df['text_lemmatized'].head()"
   ]
  },
  {
   "cell_type": "code",
   "execution_count": null,
   "metadata": {},
   "outputs": [],
   "source": [
    "# You may want to save the dataframe for ease of access later.\n",
    "df.to_pickle(\"../../data/lemmatized_museum_tweets.pkl\")  \n",
    "\n",
    "# to read it back to a dataframe we would use: \n",
    "# df = pd.read_pickle(\"../../data/lemmatized_museum_tweets.pkl\") "
   ]
  },
  {
   "cell_type": "markdown",
   "metadata": {},
   "source": [
    "https://www.youtube.com/watch?v=UkmIljRIG_M&t=179s\n",
    "For evalutation of topic models"
   ]
  },
  {
   "cell_type": "markdown",
   "metadata": {},
   "source": [
    "## Section C) Basic Analysis"
   ]
  },
  {
   "cell_type": "code",
   "execution_count": null,
   "metadata": {},
   "outputs": [],
   "source": [
    "df = pd.read_pickle(\"../../data/lemmatized_museum_tweets.pkl\") "
   ]
  },
  {
   "cell_type": "markdown",
   "metadata": {},
   "source": [
    "We saw how to visualise the length of museum tweets yesterday, but using nltk, we can do additional checks on the most common words and how they change over time."
   ]
  },
  {
   "cell_type": "code",
   "execution_count": 37,
   "metadata": {},
   "outputs": [
    {
     "data": {
      "text/plain": [
       "[('http', 32405),\n",
       " ('museum', 3353),\n",
       " ('today', 2993),\n",
       " ('year', 2456),\n",
       " ('time', 2195),\n",
       " ('great', 2156),\n",
       " ('visit', 1981),\n",
       " ('book', 1981),\n",
       " ('exhibition', 1895),\n",
       " ('thank', 1828),\n",
       " ('open', 1777),\n",
       " ('like', 1772),\n",
       " ('find', 1760),\n",
       " ('week', 1742),\n",
       " ('look', 1708),\n",
       " ('work', 1688),\n",
       " ('thanks', 1574),\n",
       " ('join', 1528),\n",
       " ('ticket', 1489),\n",
       " ('collection', 1469),\n",
       " ('love', 1465),\n",
       " ('free', 1433),\n",
       " ('first', 1430),\n",
       " ('looking', 1407),\n",
       " ('would', 1397),\n",
       " ('back', 1396),\n",
       " ('please', 1339),\n",
       " ('know', 1300),\n",
       " ('part', 1283),\n",
       " ('event', 1252)]"
      ]
     },
     "execution_count": 37,
     "metadata": {},
     "output_type": "execute_result"
    }
   ],
   "source": [
    "from nltk.probability import FreqDist\n",
    "\n",
    "#iterate through each tweet, then each token in each tweet, and store in one list\n",
    "#flat_words = [item for sublist in df['text'] for item in sublist]\n",
    "\n",
    "flat_words = []\n",
    "for sublist in df['text_lemmatized']:\n",
    "    for item in sublist:\n",
    "        flat_words.append(item)\n",
    "\n",
    "word_freq = FreqDist(flat_words)\n",
    "word_freq.most_common(30)"
   ]
  },
  {
   "cell_type": "code",
   "execution_count": 38,
   "metadata": {},
   "outputs": [
    {
     "data": {
      "text/plain": [
       "{'http': 32405,\n",
       " 'museum': 3353,\n",
       " 'today': 2993,\n",
       " 'year': 2456,\n",
       " 'time': 2195,\n",
       " 'great': 2156,\n",
       " 'visit': 1981,\n",
       " 'book': 1981,\n",
       " 'exhibition': 1895,\n",
       " 'thank': 1828,\n",
       " 'open': 1777,\n",
       " 'like': 1772,\n",
       " 'find': 1760,\n",
       " 'week': 1742,\n",
       " 'look': 1708,\n",
       " 'work': 1688,\n",
       " 'thanks': 1574,\n",
       " 'join': 1528,\n",
       " 'ticket': 1489,\n",
       " 'collection': 1469,\n",
       " 'love': 1465,\n",
       " 'free': 1433,\n",
       " 'first': 1430,\n",
       " 'looking': 1407,\n",
       " 'would': 1397,\n",
       " 'back': 1396,\n",
       " 'please': 1339,\n",
       " 'know': 1300,\n",
       " 'part': 1283,\n",
       " 'event': 1252}"
      ]
     },
     "execution_count": 38,
     "metadata": {},
     "output_type": "execute_result"
    }
   ],
   "source": [
    "# It is currently a list of tuples, but we can easily convert it into a dictionary, which we could turn into a wordcloud.\n",
    "top_30_words = dict(word_freq.most_common(30))\n",
    "top_30_words"
   ]
  },
  {
   "cell_type": "code",
   "execution_count": 40,
   "metadata": {},
   "outputs": [
    {
     "data": {
      "text/plain": [
       "{'http': 465,\n",
       " 'rafmuseum': 131,\n",
       " 'london': 66,\n",
       " 'museum': 64,\n",
       " 'cosford': 54,\n",
       " 'aircraft': 43,\n",
       " 'free': 42,\n",
       " 'year': 31,\n",
       " 'story': 30,\n",
       " 'detail': 28}"
      ]
     },
     "execution_count": 40,
     "metadata": {},
     "output_type": "execute_result"
    }
   ],
   "source": [
    "raf_museums_tweets = df.loc[df['museum_account']=='rafmuseum']\n",
    "horniman_tweets = df.loc[df['museum_account']=='hornimanmuseum']\n",
    "\n",
    "#flat_words_raf = [item for sublist in raf_museums_tweets['text'] for item in sublist]\n",
    "flat_words_raf = []\n",
    "for sublist in raf_museums_tweets['text_lemmatized']:\n",
    "    for item in sublist:\n",
    "        flat_words_raf.append(item)\n",
    "\n",
    "word_freq_raf = FreqDist(flat_words_raf)\n",
    "top_10_words_raf = dict(word_freq_raf.most_common(10))\n",
    "top_10_words_raf"
   ]
  },
  {
   "cell_type": "code",
   "execution_count": 41,
   "metadata": {},
   "outputs": [
    {
     "data": {
      "image/png": "[encoded data removed]",
      "text/plain": [
       "<Figure size 640x480 with 1 Axes>"
      ]
     },
     "metadata": {},
     "output_type": "display_data"
    }
   ],
   "source": [
    "import matplotlib.pyplot as plt\n",
    "\n",
    "plt.bar(range(len(top_10_words_raf)), list(top_10_words_raf.values()), align='center')\n",
    "plt.xticks(range(len(top_10_words_raf)), list(top_10_words_raf.keys()))\n",
    "\n",
    "plt.show()\n"
   ]
  },
  {
   "cell_type": "code",
   "execution_count": 42,
   "metadata": {},
   "outputs": [
    {
     "data": {
      "image/png": "[encoded data removed]",
      "text/plain": [
       "<Figure size 640x480 with 1 Axes>"
      ]
     },
     "metadata": {},
     "output_type": "display_data"
    }
   ],
   "source": [
    "flat_words_horn = [item for sublist in horniman_tweets['text'] for item in sublist]\n",
    "word_freq_horn = FreqDist(flat_words_horn)\n",
    "top_10_words_horn = dict(word_freq_horn.most_common(10))\n",
    "\n",
    "plt.bar(range(len(top_10_words_horn)), list(top_10_words_horn.values()), align='center')\n",
    "plt.xticks(range(len(top_10_words_horn)), list(top_10_words_horn.keys()))\n",
    "\n",
    "plt.show()"
   ]
  },
  {
   "cell_type": "markdown",
   "metadata": {},
   "source": [
    "## Section D) Topic modeling\n",
    "\n",
    "So what is our data about? One interesting thing we can try is topic modeling."
   ]
  },
  {
   "cell_type": "code",
   "execution_count": 44,
   "metadata": {},
   "outputs": [],
   "source": [
    "# First we have to create a bag of words\n",
    "\n",
    "#create dictionary\n",
    "text_dict = gensim.corpora.Dictionary(df['text_lemmatized'])\n",
    "\n",
    "#view integer mappings\n",
    "text_dict.token2id\n",
    "\n",
    "tweets_bow = []\n",
    "for tweet in df['text_lemmatized']:\n",
    "    tweets_bow.append(text_dict.doc2bow(tweet))"
   ]
  },
  {
   "cell_type": "code",
   "execution_count": 53,
   "metadata": {},
   "outputs": [
    {
     "name": "stdout",
     "output_type": "stream",
     "text": [
      "659020 words total, with a vocabulary size of 120866\n",
      "Max tweet length is 28\n"
     ]
    }
   ],
   "source": [
    "all_words = []\n",
    "for tokens in df['text_lemmatized']:\n",
    "    for word in tokens:\n",
    "        all_words.append(word)\n",
    "\n",
    "\n",
    "tweet_length_in_lemmas = []\n",
    "for tokens in df['text_lemmatized']:\n",
    "    tweet_length_in_lemmas.append(len(tokens))\n",
    "\n",
    "tweet_length_in_lemmas = [len(tokens) ]\n",
    "vocab = sorted(list(set(all_words)))\n",
    "\n",
    "print('{} words total, with a vocabulary size of {}'.format(len(all_words), len(vocab)))\n",
    "print('Max tweet length is {}'.format(max(tweet_length_in_lemmas)))"
   ]
  },
  {
   "cell_type": "code",
   "execution_count": 51,
   "metadata": {},
   "outputs": [
    {
     "ename": "KeyboardInterrupt",
     "evalue": "",
     "output_type": "error",
     "traceback": [
      "\u001b[0;31m---------------------------------------------------------------------------\u001b[0m",
      "\u001b[0;31mKeyboardInterrupt\u001b[0m                         Traceback (most recent call last)",
      "Cell \u001b[0;32mIn[51], line 6\u001b[0m\n\u001b[1;32m      3\u001b[0m \u001b[38;5;66;03m# When we train a model there are a number of parameters that we can add.\u001b[39;00m\n\u001b[1;32m      4\u001b[0m \u001b[38;5;66;03m# k here represents the number of topics\u001b[39;00m\n\u001b[1;32m      5\u001b[0m k \u001b[38;5;241m=\u001b[39m \u001b[38;5;241m7\u001b[39m\n\u001b[0;32m----> 6\u001b[0m tweets_lda \u001b[38;5;241m=\u001b[39m LdaModel(tweets_bow,\n\u001b[1;32m      7\u001b[0m                       num_topics \u001b[38;5;241m=\u001b[39m k,\n\u001b[1;32m      8\u001b[0m                       id2word \u001b[38;5;241m=\u001b[39m text_dict,\n\u001b[1;32m      9\u001b[0m                       random_state \u001b[38;5;241m=\u001b[39m \u001b[38;5;241m1\u001b[39m,\n\u001b[1;32m     10\u001b[0m                       passes\u001b[38;5;241m=\u001b[39m\u001b[38;5;241m10\u001b[39m)\n\u001b[1;32m     12\u001b[0m tweets_lda\u001b[38;5;241m.\u001b[39mshow_topics()\n\u001b[1;32m     13\u001b[0m \u001b[38;5;66;03m# tweets_lda.save(\"../../data/lda_museum_tweets_7.model\") \u001b[39;00m\n",
      "File \u001b[0;32m~/miniconda3/envs/berto/lib/python3.11/site-packages/gensim/models/ldamodel.py:521\u001b[0m, in \u001b[0;36mLdaModel.__init__\u001b[0;34m(self, corpus, num_topics, id2word, distributed, chunksize, passes, update_every, alpha, eta, decay, offset, eval_every, iterations, gamma_threshold, minimum_probability, random_state, ns_conf, minimum_phi_value, per_word_topics, callbacks, dtype)\u001b[0m\n\u001b[1;32m    519\u001b[0m use_numpy \u001b[38;5;241m=\u001b[39m \u001b[38;5;28mself\u001b[39m\u001b[38;5;241m.\u001b[39mdispatcher \u001b[38;5;129;01mis\u001b[39;00m \u001b[38;5;129;01mnot\u001b[39;00m \u001b[38;5;28;01mNone\u001b[39;00m\n\u001b[1;32m    520\u001b[0m start \u001b[38;5;241m=\u001b[39m time\u001b[38;5;241m.\u001b[39mtime()\n\u001b[0;32m--> 521\u001b[0m \u001b[38;5;28mself\u001b[39m\u001b[38;5;241m.\u001b[39mupdate(corpus, chunks_as_numpy\u001b[38;5;241m=\u001b[39muse_numpy)\n\u001b[1;32m    522\u001b[0m \u001b[38;5;28mself\u001b[39m\u001b[38;5;241m.\u001b[39madd_lifecycle_event(\n\u001b[1;32m    523\u001b[0m     \u001b[38;5;124m\"\u001b[39m\u001b[38;5;124mcreated\u001b[39m\u001b[38;5;124m\"\u001b[39m,\n\u001b[1;32m    524\u001b[0m     msg\u001b[38;5;241m=\u001b[39m\u001b[38;5;124mf\u001b[39m\u001b[38;5;124m\"\u001b[39m\u001b[38;5;124mtrained \u001b[39m\u001b[38;5;132;01m{\u001b[39;00m\u001b[38;5;28mself\u001b[39m\u001b[38;5;132;01m}\u001b[39;00m\u001b[38;5;124m in \u001b[39m\u001b[38;5;132;01m{\u001b[39;00mtime\u001b[38;5;241m.\u001b[39mtime()\u001b[38;5;250m \u001b[39m\u001b[38;5;241m-\u001b[39m\u001b[38;5;250m \u001b[39mstart\u001b[38;5;132;01m:\u001b[39;00m\u001b[38;5;124m.2f\u001b[39m\u001b[38;5;132;01m}\u001b[39;00m\u001b[38;5;124ms\u001b[39m\u001b[38;5;124m\"\u001b[39m,\n\u001b[1;32m    525\u001b[0m )\n",
      "File \u001b[0;32m~/miniconda3/envs/berto/lib/python3.11/site-packages/gensim/models/ldamodel.py:1006\u001b[0m, in \u001b[0;36mLdaModel.update\u001b[0;34m(self, corpus, chunksize, decay, offset, passes, update_every, eval_every, iterations, gamma_threshold, chunks_as_numpy)\u001b[0m\n\u001b[1;32m   1001\u001b[0m \u001b[38;5;28;01melse\u001b[39;00m:\n\u001b[1;32m   1002\u001b[0m     logger\u001b[38;5;241m.\u001b[39minfo(\n\u001b[1;32m   1003\u001b[0m         \u001b[38;5;124m\"\u001b[39m\u001b[38;5;124mPROGRESS: pass \u001b[39m\u001b[38;5;132;01m%i\u001b[39;00m\u001b[38;5;124m, at document #\u001b[39m\u001b[38;5;132;01m%i\u001b[39;00m\u001b[38;5;124m/\u001b[39m\u001b[38;5;132;01m%i\u001b[39;00m\u001b[38;5;124m\"\u001b[39m,\n\u001b[1;32m   1004\u001b[0m         pass_, chunk_no \u001b[38;5;241m*\u001b[39m chunksize \u001b[38;5;241m+\u001b[39m \u001b[38;5;28mlen\u001b[39m(chunk), lencorpus\n\u001b[1;32m   1005\u001b[0m     )\n\u001b[0;32m-> 1006\u001b[0m     gammat \u001b[38;5;241m=\u001b[39m \u001b[38;5;28mself\u001b[39m\u001b[38;5;241m.\u001b[39mdo_estep(chunk, other)\n\u001b[1;32m   1008\u001b[0m     \u001b[38;5;28;01mif\u001b[39;00m \u001b[38;5;28mself\u001b[39m\u001b[38;5;241m.\u001b[39moptimize_alpha:\n\u001b[1;32m   1009\u001b[0m         \u001b[38;5;28mself\u001b[39m\u001b[38;5;241m.\u001b[39mupdate_alpha(gammat, rho())\n",
      "File \u001b[0;32m~/miniconda3/envs/berto/lib/python3.11/site-packages/gensim/models/ldamodel.py:768\u001b[0m, in \u001b[0;36mLdaModel.do_estep\u001b[0;34m(self, chunk, state)\u001b[0m\n\u001b[1;32m    766\u001b[0m \u001b[38;5;28;01mif\u001b[39;00m state \u001b[38;5;129;01mis\u001b[39;00m \u001b[38;5;28;01mNone\u001b[39;00m:\n\u001b[1;32m    767\u001b[0m     state \u001b[38;5;241m=\u001b[39m \u001b[38;5;28mself\u001b[39m\u001b[38;5;241m.\u001b[39mstate\n\u001b[0;32m--> 768\u001b[0m gamma, sstats \u001b[38;5;241m=\u001b[39m \u001b[38;5;28mself\u001b[39m\u001b[38;5;241m.\u001b[39minference(chunk, collect_sstats\u001b[38;5;241m=\u001b[39m\u001b[38;5;28;01mTrue\u001b[39;00m)\n\u001b[1;32m    769\u001b[0m state\u001b[38;5;241m.\u001b[39msstats \u001b[38;5;241m+\u001b[39m\u001b[38;5;241m=\u001b[39m sstats\n\u001b[1;32m    770\u001b[0m state\u001b[38;5;241m.\u001b[39mnumdocs \u001b[38;5;241m+\u001b[39m\u001b[38;5;241m=\u001b[39m gamma\u001b[38;5;241m.\u001b[39mshape[\u001b[38;5;241m0\u001b[39m]  \u001b[38;5;66;03m# avoids calling len(chunk) on a generator\u001b[39;00m\n",
      "File \u001b[0;32m~/miniconda3/envs/berto/lib/python3.11/site-packages/gensim/models/ldamodel.py:722\u001b[0m, in \u001b[0;36mLdaModel.inference\u001b[0;34m(self, chunk, collect_sstats)\u001b[0m\n\u001b[1;32m    720\u001b[0m Elogthetad \u001b[38;5;241m=\u001b[39m dirichlet_expectation(gammad)\n\u001b[1;32m    721\u001b[0m expElogthetad \u001b[38;5;241m=\u001b[39m np\u001b[38;5;241m.\u001b[39mexp(Elogthetad)\n\u001b[0;32m--> 722\u001b[0m phinorm \u001b[38;5;241m=\u001b[39m np\u001b[38;5;241m.\u001b[39mdot(expElogthetad, expElogbetad) \u001b[38;5;241m+\u001b[39m epsilon\n\u001b[1;32m    723\u001b[0m \u001b[38;5;66;03m# If gamma hasn't changed much, we're done.\u001b[39;00m\n\u001b[1;32m    724\u001b[0m meanchange \u001b[38;5;241m=\u001b[39m mean_absolute_difference(gammad, lastgamma)\n",
      "File \u001b[0;32m<__array_function__ internals>:200\u001b[0m, in \u001b[0;36mdot\u001b[0;34m(*args, **kwargs)\u001b[0m\n",
      "\u001b[0;31mKeyboardInterrupt\u001b[0m: "
     ]
    }
   ],
   "source": [
    "from gensim.models.ldamodel import LdaModel\n",
    "\n",
    "# When we train a model there are a number of parameters that we can add.\n",
    "# k here represents the number of topics\n",
    "k = 7\n",
    "tweets_lda = LdaModel(tweets_bow,\n",
    "                      num_topics = k,\n",
    "                      id2word = text_dict,\n",
    "                      random_state = 1,\n",
    "                      passes=10)\n",
    "\n",
    "tweets_lda.show_topics()\n",
    "# tweets_lda.save(\"../../data/lda_museum_tweets_7.model\") \n",
    "tweets_lda.save(\"lda_museum_tweets_7.model\") \n",
    "\n",
    "# https://stackoverflow.com/questions/17354417/gensim-how-to-save-lda-models-produced-topics-to-a-readable-format-csv-txt-et"
   ]
  },
  {
   "cell_type": "code",
   "execution_count": null,
   "metadata": {},
   "outputs": [
    {
     "name": "stdout",
     "output_type": "stream",
     "text": [
      "Serving to http://127.0.0.1:8888/    [Ctrl-C to exit]\n"
     ]
    },
    {
     "name": "stderr",
     "output_type": "stream",
     "text": [
      "127.0.0.1 - - [07/Aug/2025 10:36:53] \"GET / HTTP/1.1\" 200 -\n",
      "127.0.0.1 - - [07/Aug/2025 10:36:53] code 404, message Not Found\n",
      "127.0.0.1 - - [07/Aug/2025 10:36:53] \"GET /favicon.ico HTTP/1.1\" 404 -\n"
     ]
    },
    {
     "name": "stdout",
     "output_type": "stream",
     "text": [
      "\n",
      "stopping Server...\n"
     ]
    },
    {
     "data": {
      "text/html": [
       "\n",
       "<link rel=\"stylesheet\" type=\"text/css\" href=\"https://cdn.jsdelivr.net/gh/bmabey/pyLDAvis@3.4.0/pyLDAvis/js/ldavis.v1.0.0.css\">\n",
       "\n",
       "\n",
       "<div id=\"ldavis_el18250131340959529501870792\" style=\"background-color:white;\"></div>\n",
       "<script type=\"text/javascript\">\n",
       "\n",
       "var ldavis_el18250131340959529501870792_data = {\"mdsDat\": {\"x\": [0.28641342672649045, 0.2690405629188939, -0.01503290137051696, -0.06993683847561855, -0.14344226723223016, -0.15927534286584152, -0.1677666397011773], \"y\": [0.031060000893878555, 0.039392537565069795, -0.2741405790380282, 0.08968936733325848, 0.060308169195017615, 0.03715412556171235, 0.016536378489091483], \"topics\": [1, 2, 3, 4, 5, 6, 7], \"cluster\": [1, 1, 1, 1, 1, 1, 1], \"Freq\": [32.62323876714762, 31.0398231092664, 9.957817389205365, 8.908366450034912, 6.536849671875021, 5.553747981756461, 5.38015663071422]}, \"tinfo\": {\"Term\": [\"book\", \"join\", \"ticket\", \"free\", \"event\", \"help\", \"today\", \"saturday\", \"photo\", \"open\", \"talk\", \"woman\", \"tour\", \"visit\", \"onthisday\", \"look\", \"find\", \"exhibition\", \"tomorrow\", \"love\", \"museum\", \"beautiful\", \"next\", \"visitor\", \"half\", \"activity\", \"family\", \"online\", \"happy\", \"week\", \"saturday\", \"talk\", \"tour\", \"event\", \"activity\", \"workshop\", \"session\", \"thursday\", \"wednesday\", \"holiday\", \"ticket\", \"craft\", \"miss\", \"december\", \"virtual\", \"booking\", \"steam\", \"performance\", \"join\", \"featuring\", \"train\", \"theatre\", \"lecture\", \"bank\", \"class\", \"book\", \"hosting\", \"currently\", \"11am\", \"discus\", \"free\", \"10am\", \"entry\", \"february\", \"september\", \"easter\", \"apply\", \"friday\", \"chance\", \"music\", \"tomorrow\", \"next\", \"sunday\", \"open\", \"online\", \"family\", \"october\", \"detail\", \"exhibition\", \"child\", \"weekend\", \"museum\", \"find\", \"week\", \"come\", \"visit\", \"christmas\", \"looking\", \"available\", \"history\", \"great\", \"last\", \"time\", \"year\", \"today\", \"first\", \"part\", \"help\", \"visitor\", \"photo\", \"building\", \"art\", \"think\", \"stay\", \"area\", \"seeing\", \"huge\", \"trip\", \"safe\", \"visited\", \"feel\", \"face\", \"spot\", \"outside\", \"health\", \"nationaltrust\", \"selection\", \"wildlife\", \"covid-19\", \"helping\", \"river\", \"enjoying\", \"list\", \"throwbackthursday\", \"estate\", \"raise\", \"without\", \"photograph\", \"always\", \"city\", \"beautiful\", \"many\", \"staff\", \"love\", \"thanks\", \"tell\", \"amazing\", \"favourite\", \"view\", \"taken\", \"know\", \"look\", \"like\", \"would\", \"lovely\", \"support\", \"thank\", \"people\", \"could\", \"today\", \"collection\", \"volunteer\", \"year\", \"house\", \"time\", \"need\", \"museum\", \"garden\", \"work\", \"great\", \"make\", \"visit\", \"week\", \"happy\", \"take\", \"find\", \"exhibition\", \"half\", \"done\", \"question\", \"proud\", \"coffee\", \"paper\", \"cake\", \"note\", \"guess\", \"flying\", \"vote\", \"copy\", \"included\", \"upcoming\", \"normal\", \"charraig\", \"mh\\u00f3r\", \"dylan\", \"21st\", \"table\", \"exhibit\", \"vehicle\", \"boy\", \"sorry\", \"body\", \"30th\", \"wind\", \"dinosaur\", \"former\", \"though\", \"essential\", \"receive\", \"tweet\", \"match\", \"hold\", \"term\", \"answer\", \"birthday\", \"happy\", \"today\", \"well\", \"round\", \"service\", \"artist\", \"museum\", \"royal\", \"print\", \"first\", \"queen\", \"flower\", \"lockdown\", \"rose\", \"aircraft\", \"natural\", \"died\", \"worked\", \"power\", \"supporting\", \"result\", \"impact\", \"focus\", \"race\", \"helped\", \"stem\", \"bexhillmuseum\", \"bloom\", \"machine\", \"global\", \"reach\", \"staffordshire\", \"brick\", \"largest\", \"gardening\", \"coat\", \"added\", \"moved\", \"success\", \"interest\", \"northern\", \"mary\", \"onthisday\", \"stage\", \"contribution\", \"woman\", \"scotland\", \"bexhill\", \"black\", \"female\", \"plant\", \"britain\", \"known\", \"competition\", \"first\", \"british\", \"george\", \"world\", \"research\", \"collection\", \"garden\", \"made\", \"year\", \"history\", \"tree\", \"recently\", \"fund\", \"manager\", \"island\", \"test\", \"transport\", \"hospital\", \"michael\", \"silver\", \"football\", \"graduate\", \"breakfast\", \"12th\", \"recruiting\", \"recorded\", \"notice\", \"engagement\", \"academy\", \"despite\", \"true\", \"youth\", \"researcher\", \"leader\", \"effect\", \"blossom\", \"speak\", \"distancing\", \"creativity\", \"specimen\", \"product\", \"cumbria\", \"officer\", \"fan\", \"partnership\", \"onthisday\", \"team\", \"training\", \"discovered\", \"army\", \"went\", \"series\", \"hepworth\", \"wakefield\", \"discussion\", \"beach\", \"insight\", \"glasgow\", \"scientist\", \"collaboration\", \"illustration\", \"else\", \"23rd\", \"historical\", \"pandemic\", \"parade\", \"underway\", \"putting\", \"diary\", \"showcase\", \"joseph\", \"barbara\", \"onto\", \"grand\", \"preview\", \"fully\", \"silk\", \"storytelling\", \"passing\", \"returned\", \"museumsfromhome\", \"turner\", \"church\", \"26th\", \"john\", \"wedding\", \"director\", \"film\", \"panel\", \"scene\", \"called\", \"heart\", \"snow\", \"gwflatout\", \"goodwoodrevival\", \"path\", \"system\", \"heading\", \"orkney\", \"palace\", \"gwspeedweek\", \"recipe\", \"sunset\", \"marking\", \"bright\", \"language\", \"beer\", \"double\", \"finest\", \"revealed\", \"campus\", \"peace\", \"wondered\", \"icon\", \"rifle\", \"solo\", \"clean\", \"cafc\", \"wartime\", \"cold\", \"roman\", \"mind\", \"britain\", \"watching\"], \"Freq\": [1284.0, 1147.0, 950.0, 970.0, 806.0, 542.0, 1998.0, 516.0, 479.0, 1116.0, 497.0, 317.0, 473.0, 1167.0, 269.0, 825.0, 1062.0, 1217.0, 540.0, 567.0, 2021.0, 500.0, 666.0, 381.0, 185.0, 390.0, 630.0, 628.0, 471.0, 1150.0, 515.2878762320811, 496.3103980885969, 472.74245862097035, 804.9571325351612, 389.96197504211295, 353.1639976543657, 297.1742867714266, 276.7058251583867, 261.3349248835713, 254.74242574022264, 947.907059692725, 213.8450458698265, 209.10262863170462, 180.7971091477678, 166.98656730519983, 166.6454996449191, 139.6028059292536, 135.40372434623978, 1140.8345657271338, 125.1574937478221, 124.95031392107803, 122.66347689582649, 122.03202670663832, 119.24311341437888, 114.6499412564192, 1276.0018133453746, 108.58553243671061, 116.75128512546513, 115.62085498862919, 105.80569670723389, 962.37982839282, 144.27275188532371, 217.54983550679404, 187.2217106846884, 189.18370774751057, 268.32805542107644, 164.43115877175438, 358.5682065244016, 243.85064364275976, 196.02498185117625, 484.0202734020323, 564.763179881638, 376.6912000046275, 889.745597871595, 526.3956297136681, 525.3443733333221, 217.64270021756317, 295.7315014297419, 846.426672431255, 320.4135935962831, 499.02784733522293, 1092.6748371901283, 679.3062545975712, 682.9047994449281, 490.47867331654663, 681.547193973191, 423.1759814230257, 513.4389880885353, 356.2144069298555, 470.98096378048905, 534.4678462007079, 423.06386730515015, 549.3313728910558, 591.3003528304453, 682.7214078066819, 461.2239019009033, 432.9808932499923, 542.1568210231569, 380.8316097730117, 478.0113443582474, 238.42053519116078, 178.72077924315153, 208.59019096770467, 167.1375136286774, 158.03359089499767, 139.96031652317956, 134.44490112375917, 132.6942819036452, 127.45256380975995, 125.18004678804388, 117.54948469764373, 112.5844336072874, 111.31261015773478, 103.71592155480913, 101.89741338215285, 95.70806584160994, 89.02275507317925, 88.87777820319374, 87.03167313583464, 86.55066488111058, 86.26981545431161, 85.51280275816086, 85.44168973110345, 85.18410688241087, 99.47645878661393, 81.80248456456046, 79.46349245050232, 133.0875835000918, 149.76058019479515, 219.70457558021806, 461.40204827708317, 392.0545599185554, 179.94153808497106, 503.1200817380377, 402.49895226816113, 136.66554899804663, 352.4427877175317, 257.4938760674385, 256.93831774475194, 147.94292388769884, 496.7500677099868, 633.5930886996915, 553.9688362034123, 371.49764784374474, 326.3452000631546, 367.843381220843, 384.1154331919924, 417.1534535185417, 245.2946879901818, 1136.2884208043608, 563.4772176060808, 293.93737094751714, 732.0213742406404, 391.92053307045524, 598.1224479520183, 269.08871285576873, 807.0236408379046, 412.6817272391305, 476.834586738893, 502.3081118818035, 376.8227777737093, 484.7095159303403, 445.2629346591519, 313.8195108471114, 361.35401136266904, 380.8699437232099, 336.8300087009939, 185.03896898318175, 131.53771391478094, 127.47681853805636, 107.13966890046035, 89.80672737017507, 84.44725703058847, 79.99619401075077, 78.2007715229018, 76.64710767719583, 69.67477689908664, 69.02806285250621, 63.78914161447491, 58.62193874149041, 58.29431163824901, 57.611930088289654, 57.28940810285656, 56.90171900392843, 56.956497487355556, 52.862876217885095, 52.40049677826411, 52.233614462518496, 49.76985424321629, 48.538272090255106, 47.947452441329055, 47.836631530809235, 47.27482185616489, 48.23678167194159, 47.22839375130897, 45.77047079154854, 46.857587599601175, 77.93428816893477, 55.72719650599497, 58.61725873386391, 51.923599066809096, 57.05276596540173, 85.72738524806137, 64.13345808797885, 79.36801021334519, 108.91842858743313, 163.26148531959754, 87.97885986595033, 58.49443225633467, 70.3739389143475, 78.49957084193942, 88.74539425377435, 65.86626791905024, 62.03467014226447, 65.94682629850269, 58.50442614123376, 147.8788545821499, 134.4288015475044, 98.73861707692156, 98.03143441338084, 87.60331527104854, 73.74739214167859, 69.0486532606058, 66.49864080732618, 63.24319782363679, 56.54197451028315, 55.987417583119466, 54.6718678107748, 52.673121941628025, 49.85190916101544, 45.85422387313185, 45.31597265002803, 44.680994170395856, 43.33848667532499, 42.76746445057983, 42.33550590848096, 42.196258863065154, 41.40747297587459, 41.268392315194085, 41.128815895914514, 39.521797418991305, 38.869175366203145, 38.77200668078521, 38.57779834300937, 37.9167008555412, 37.16213928972076, 98.8398265344826, 190.3999202177777, 68.27162975551923, 46.67011349414286, 172.66295429118642, 84.69798651772234, 60.819970538659334, 81.9522037475191, 46.21846043235487, 61.54754042568514, 66.09482165913487, 58.24575419980314, 64.3308921899988, 121.9313384741535, 71.0132970502288, 60.761090716002535, 86.29300492006256, 61.79127708487229, 85.0180835835938, 77.20740685522851, 66.43547572883357, 71.88192723672456, 66.85577036142689, 60.10931077371143, 101.99086431976366, 72.89792250005908, 72.84416754557508, 72.66622853011567, 59.80025649885316, 57.460976625046904, 55.60813747869057, 47.20162404701067, 44.78651315972678, 44.12411179050154, 42.07501498469922, 38.94707662413673, 38.503133556076776, 36.25598260792392, 35.58958960816732, 35.23320577138218, 34.63236820188767, 34.44402902048704, 34.52459168588666, 34.025373754089195, 33.116629978033004, 32.833720049555296, 32.753566015495956, 32.3301392307039, 32.27712429761053, 31.043237049065137, 30.81893083475559, 30.817463250246874, 30.751160323630597, 30.4766098960472, 35.50379695994291, 68.23632095306854, 40.51146689403083, 45.56613192390641, 71.82380512225735, 60.004422669726424, 38.21557420027603, 35.80094669396786, 35.057402103841234, 34.635512669884285, 36.748495497424344, 73.4830347510914, 62.11233985338926, 57.1905355387992, 56.49224662113604, 51.65558080072709, 48.339752085907584, 42.05263691990524, 41.424003306149146, 39.86579400462074, 39.07612166369411, 38.21452044128941, 37.694070168490875, 36.99868567208228, 36.570275069332126, 35.71549457964043, 35.581819226476185, 35.49926549785764, 32.78315955053059, 32.78288011641572, 32.400887330610935, 32.14924844246863, 32.0264583182337, 32.009228664741734, 31.598665857616442, 31.38958351501401, 30.91645922003418, 30.791677069268232, 29.88218041618952, 29.89791763747706, 29.527371065756448, 70.66553020779288, 35.174713358059876, 55.373760770159855, 42.94261340652008, 36.594306403211085, 50.480759338652696, 33.5709076065298, 105.5694125335792, 71.95536917596769, 63.797977911620485, 55.323383726019834, 50.49369055203228, 49.48317993986471, 48.95328478597739, 47.74941237857887, 45.76858189392361, 43.465675888898716, 42.40628342802161, 39.87728144127885, 38.94205412606242, 36.76892003689336, 35.56122501806697, 35.43163767035948, 34.8634589809918, 33.871671782094836, 33.53553627033601, 33.49696152733272, 32.79114421747547, 32.15947613583566, 28.709934356970017, 27.48585788959975, 27.396998579959526, 27.058030972502266, 26.536939719290817, 26.330092144687733, 26.175965436279686, 25.777977036497347, 40.38233372239946, 68.58956801676162, 32.75903756269293, 31.053876013642753, 27.43826391641419], \"Total\": [1284.0, 1147.0, 950.0, 970.0, 806.0, 542.0, 1998.0, 516.0, 479.0, 1116.0, 497.0, 317.0, 473.0, 1167.0, 269.0, 825.0, 1062.0, 1217.0, 540.0, 567.0, 2021.0, 500.0, 666.0, 381.0, 185.0, 390.0, 630.0, 628.0, 471.0, 1150.0, 516.0472856066444, 497.0647921133571, 473.49624802147275, 806.3503869727625, 390.7205256291997, 353.91807720505756, 297.9279559092807, 277.4810056162145, 262.0890578572375, 255.4983623800914, 950.7895804271874, 214.5994452326647, 209.85667718441354, 181.55264961913616, 167.74061421386693, 167.40828824133885, 140.35671920767288, 136.1576707735455, 1147.208695916497, 125.91222951731217, 125.704488558336, 123.41807358184042, 122.78703517893936, 120.00027626946606, 115.40438533717874, 1284.6643780636903, 109.33940979907018, 117.5740269688372, 116.44524748122713, 106.56068263099954, 970.6240219168488, 145.41159118820545, 220.18564661308494, 192.17864943242654, 195.21121977426557, 282.0754397716417, 168.5455216585802, 386.7468791747219, 257.4699539307182, 203.653764736631, 540.515542056258, 666.4373501131861, 424.09982444619214, 1116.885418790864, 628.172293750892, 630.75514407503, 230.87261250847578, 335.59799714945126, 1217.5490627048662, 374.4560427406445, 659.1766279266606, 2021.299121619362, 1062.6362007631308, 1150.356026295315, 717.1203376058492, 1167.57759138664, 598.6072190430983, 830.3220904558749, 455.5791426958342, 766.3469525340616, 1047.1233794351085, 650.1752895676378, 1180.5301258043971, 1407.7268357165913, 1998.5912137945033, 897.2675034465682, 775.6297467882772, 542.9152086537415, 381.5934670638879, 479.04928294269996, 239.17901737432248, 179.48042587227226, 209.48813696265665, 167.89672092015226, 158.79204450187112, 140.71826473899526, 135.20321597927958, 133.4536099490772, 128.21024765661255, 125.93861685213336, 118.30776768789424, 113.34327497897995, 112.07069741592896, 104.4744590951493, 102.656250709309, 96.46616010033921, 89.78154048121431, 89.63589571359988, 87.79164367694526, 87.30920002263265, 87.02830918904434, 86.27042387862024, 86.20046130960748, 85.94293001592408, 100.3771774681622, 82.56412936614554, 80.22171549045645, 135.8106792902847, 154.0527329894297, 230.11199856287658, 500.3843329823923, 424.58398946344715, 189.46072472387416, 567.3163762454861, 450.0939651482755, 142.1377440717068, 397.7425693041364, 285.86688826614983, 285.26845091300015, 156.4341921166418, 620.2884576332322, 825.0235922976243, 716.4217995715172, 451.06273264318827, 388.30080900160306, 447.53287106320556, 479.23229314953187, 530.3001183346686, 285.2095381513468, 1998.5912137945033, 868.4346372700951, 374.58017105807346, 1407.7268357165913, 593.6378065421998, 1180.5301258043971, 349.872352973704, 2021.299121619362, 705.9248527052587, 929.2949002095021, 1047.1233794351085, 643.3879726802628, 1167.57759138664, 1150.356026295315, 471.09918632996687, 709.0647874977584, 1062.6362007631308, 1217.5490627048662, 185.8039266064877, 132.30599669196764, 128.24307757993446, 107.9061324941065, 90.57254398075048, 85.21373425276909, 80.76188145838118, 78.9672230340757, 77.4126637243685, 70.44045260596427, 69.79375350981681, 64.55507438458744, 59.38798781165571, 59.06013348462474, 58.37846338921925, 58.053463335732495, 57.665770935488226, 57.72215028517002, 53.62954829826353, 53.166978980962924, 53.000356163926995, 50.535978321012415, 49.30584267914783, 48.71291674736979, 48.602694861391086, 48.04096085323557, 49.01947891308069, 47.99502937705972, 46.53667069434268, 47.65602094886322, 89.24722287506304, 59.18950815773212, 65.37884327453934, 55.73676015414565, 66.27183123155386, 148.95781402216573, 101.70864503635916, 191.19460288074038, 471.09918632996687, 1998.5912137945033, 369.69163722154747, 90.55257824447793, 283.06686905950806, 608.3307401883931, 2021.299121619362, 209.33973770527507, 156.38811850816103, 897.2675034465682, 133.076525730877, 148.64588803459722, 135.19632826373058, 99.50534819899445, 98.79984085478497, 88.3713840423982, 74.51899461355778, 69.81639410864257, 67.26640556303416, 64.0111711917622, 57.309103220427616, 56.75487441648382, 55.44081713356138, 53.44006499398979, 50.619849005196315, 46.62102470467189, 46.08229317280779, 45.447920175699856, 44.106703842300796, 43.53522148175595, 43.10339055813947, 42.96476305676684, 42.17509742144264, 42.035999196357224, 41.89709681244309, 40.290385067907394, 39.63654590132463, 39.540088800507576, 39.346111090073414, 38.68531232515154, 37.929734663254514, 120.66985550408467, 269.90257559509695, 81.26121384481968, 50.191157611382785, 317.2529147320601, 135.41430736880824, 81.30793420418365, 147.01667175885316, 54.55237906028072, 107.989558601758, 136.35166367483518, 98.34938377450115, 134.25028556839038, 897.2675034465682, 196.5345041042107, 119.69222574232715, 523.3173641175648, 177.15217964364132, 868.4346372700951, 705.9248527052587, 444.93324803372644, 1407.7268357165913, 766.3469525340616, 174.95539322616438, 102.76417188600492, 73.67046142541155, 73.61642870943668, 73.44073601703185, 60.573352688903476, 58.23483251096161, 56.3810961167931, 47.97491206438788, 45.56064939254861, 44.89703744469962, 42.84762221651081, 39.72098655391076, 39.277034452860974, 37.02759831496017, 36.363318195929374, 36.007307978156895, 35.405042048235394, 35.2161266862156, 35.29895519772777, 34.79832486687257, 33.88907524257735, 33.606863387122175, 33.52642435726609, 33.102927748815766, 33.051148083302635, 31.816028100754885, 31.591846190553973, 31.590561086765295, 31.524951445185557, 31.24961428406579, 36.80583610173567, 97.65679817564124, 52.414895309573545, 68.00531046799989, 269.90257559509695, 540.3394215569167, 71.439809652633, 54.09145992815337, 60.963556864325284, 67.85235166555027, 220.2032508518309, 74.25770792131333, 62.887019691433444, 57.966240170948005, 57.26790728551346, 52.431628442782085, 49.114652646996994, 42.82954388564645, 42.199591925050555, 40.641980375703724, 39.85214173658522, 38.991760197889135, 38.46978984016557, 37.77403823939775, 37.34617245173125, 36.49141425863325, 36.35826085369771, 36.27483057336705, 33.5585015384321, 33.55841931833733, 33.175289909121595, 32.92436297614393, 32.80199535346256, 32.785369381580416, 32.375197236548104, 32.16549949904026, 31.691833287514758, 31.568075948901853, 30.658357109864255, 30.674932075467154, 30.302447676301263, 93.82090751459639, 46.018675470224046, 237.90920573418148, 103.00198197872423, 62.25887446585566, 266.11261137184465, 64.5575032155905, 106.34775232505399, 72.73389602835373, 64.57618052032478, 56.100619342408244, 51.27058750417049, 50.25999737099904, 49.73176819289957, 48.53073439943371, 46.54665819622565, 44.244009510161675, 43.18449915357472, 40.65385798195754, 39.72020448171835, 37.54709059918544, 36.34045137796471, 36.20993789944942, 35.642294485676196, 34.64921819643767, 34.31402814757514, 34.27508837429721, 33.56939704372134, 32.93820851698682, 29.488513532657766, 28.26466638237303, 28.17627387727635, 27.83593182454884, 27.315064276755482, 27.10942196475364, 26.953697426761984, 26.557230047053796, 56.604580571942044, 166.76963699612816, 43.11046969394588, 136.35166367483518, 44.92082736104494], \"Category\": [\"Default\", \"Default\", \"Default\", \"Default\", \"Default\", \"Default\", \"Default\", \"Default\", \"Default\", \"Default\", \"Default\", \"Default\", \"Default\", \"Default\", \"Default\", \"Default\", \"Default\", \"Default\", \"Default\", \"Default\", \"Default\", \"Default\", \"Default\", \"Default\", \"Default\", \"Default\", \"Default\", \"Default\", \"Default\", \"Default\", \"Topic1\", \"Topic1\", \"Topic1\", \"Topic1\", \"Topic1\", \"Topic1\", \"Topic1\", \"Topic1\", \"Topic1\", \"Topic1\", \"Topic1\", \"Topic1\", \"Topic1\", \"Topic1\", \"Topic1\", \"Topic1\", \"Topic1\", \"Topic1\", \"Topic1\", \"Topic1\", \"Topic1\", \"Topic1\", \"Topic1\", \"Topic1\", \"Topic1\", \"Topic1\", \"Topic1\", \"Topic1\", \"Topic1\", \"Topic1\", \"Topic1\", \"Topic1\", \"Topic1\", \"Topic1\", \"Topic1\", \"Topic1\", \"Topic1\", \"Topic1\", \"Topic1\", \"Topic1\", \"Topic1\", \"Topic1\", \"Topic1\", \"Topic1\", \"Topic1\", \"Topic1\", \"Topic1\", \"Topic1\", \"Topic1\", \"Topic1\", \"Topic1\", \"Topic1\", \"Topic1\", \"Topic1\", \"Topic1\", \"Topic1\", \"Topic1\", \"Topic1\", \"Topic1\", \"Topic1\", \"Topic1\", \"Topic1\", \"Topic1\", \"Topic1\", \"Topic1\", \"Topic1\", \"Topic1\", \"Topic2\", \"Topic2\", \"Topic2\", \"Topic2\", \"Topic2\", \"Topic2\", \"Topic2\", \"Topic2\", \"Topic2\", \"Topic2\", \"Topic2\", \"Topic2\", \"Topic2\", \"Topic2\", \"Topic2\", \"Topic2\", \"Topic2\", \"Topic2\", \"Topic2\", \"Topic2\", \"Topic2\", \"Topic2\", \"Topic2\", \"Topic2\", \"Topic2\", \"Topic2\", \"Topic2\", \"Topic2\", \"Topic2\", \"Topic2\", \"Topic2\", \"Topic2\", \"Topic2\", \"Topic2\", \"Topic2\", \"Topic2\", \"Topic2\", \"Topic2\", \"Topic2\", \"Topic2\", \"Topic2\", \"Topic2\", \"Topic2\", \"Topic2\", \"Topic2\", \"Topic2\", \"Topic2\", \"Topic2\", \"Topic2\", \"Topic2\", \"Topic2\", \"Topic2\", \"Topic2\", \"Topic2\", \"Topic2\", \"Topic2\", \"Topic2\", \"Topic2\", \"Topic2\", \"Topic2\", \"Topic2\", \"Topic2\", \"Topic2\", \"Topic2\", \"Topic2\", \"Topic2\", \"Topic2\", \"Topic2\", \"Topic2\", \"Topic2\", \"Topic3\", \"Topic3\", \"Topic3\", \"Topic3\", \"Topic3\", \"Topic3\", \"Topic3\", \"Topic3\", \"Topic3\", \"Topic3\", \"Topic3\", \"Topic3\", \"Topic3\", \"Topic3\", \"Topic3\", \"Topic3\", \"Topic3\", \"Topic3\", \"Topic3\", \"Topic3\", \"Topic3\", \"Topic3\", \"Topic3\", \"Topic3\", \"Topic3\", \"Topic3\", \"Topic3\", \"Topic3\", \"Topic3\", \"Topic3\", \"Topic3\", \"Topic3\", \"Topic3\", \"Topic3\", \"Topic3\", \"Topic3\", \"Topic3\", \"Topic3\", \"Topic3\", \"Topic3\", \"Topic3\", \"Topic3\", \"Topic3\", \"Topic3\", \"Topic3\", \"Topic3\", \"Topic3\", \"Topic3\", \"Topic3\", \"Topic4\", \"Topic4\", \"Topic4\", \"Topic4\", \"Topic4\", \"Topic4\", \"Topic4\", \"Topic4\", \"Topic4\", \"Topic4\", \"Topic4\", \"Topic4\", \"Topic4\", \"Topic4\", \"Topic4\", \"Topic4\", \"Topic4\", \"Topic4\", \"Topic4\", \"Topic4\", \"Topic4\", \"Topic4\", \"Topic4\", \"Topic4\", \"Topic4\", \"Topic4\", \"Topic4\", \"Topic4\", \"Topic4\", \"Topic4\", \"Topic4\", \"Topic4\", \"Topic4\", \"Topic4\", \"Topic4\", \"Topic4\", \"Topic4\", \"Topic4\", \"Topic4\", \"Topic4\", \"Topic4\", \"Topic4\", \"Topic4\", \"Topic4\", \"Topic4\", \"Topic4\", \"Topic4\", \"Topic4\", \"Topic4\", \"Topic4\", \"Topic4\", \"Topic4\", \"Topic4\", \"Topic4\", \"Topic5\", \"Topic5\", \"Topic5\", \"Topic5\", \"Topic5\", \"Topic5\", \"Topic5\", \"Topic5\", \"Topic5\", \"Topic5\", \"Topic5\", \"Topic5\", \"Topic5\", \"Topic5\", \"Topic5\", \"Topic5\", \"Topic5\", \"Topic5\", \"Topic5\", \"Topic5\", \"Topic5\", \"Topic5\", \"Topic5\", \"Topic5\", \"Topic5\", \"Topic5\", \"Topic5\", \"Topic5\", \"Topic5\", \"Topic5\", \"Topic5\", \"Topic5\", \"Topic5\", \"Topic5\", \"Topic5\", \"Topic5\", \"Topic5\", \"Topic5\", \"Topic5\", \"Topic5\", \"Topic5\", \"Topic6\", \"Topic6\", \"Topic6\", \"Topic6\", \"Topic6\", \"Topic6\", \"Topic6\", \"Topic6\", \"Topic6\", \"Topic6\", \"Topic6\", \"Topic6\", \"Topic6\", \"Topic6\", \"Topic6\", \"Topic6\", \"Topic6\", \"Topic6\", \"Topic6\", \"Topic6\", \"Topic6\", \"Topic6\", \"Topic6\", \"Topic6\", \"Topic6\", \"Topic6\", \"Topic6\", \"Topic6\", \"Topic6\", \"Topic6\", \"Topic6\", \"Topic6\", \"Topic6\", \"Topic6\", \"Topic6\", \"Topic6\", \"Topic6\", \"Topic7\", \"Topic7\", \"Topic7\", \"Topic7\", \"Topic7\", \"Topic7\", \"Topic7\", \"Topic7\", \"Topic7\", \"Topic7\", \"Topic7\", \"Topic7\", \"Topic7\", \"Topic7\", \"Topic7\", \"Topic7\", \"Topic7\", \"Topic7\", \"Topic7\", \"Topic7\", \"Topic7\", \"Topic7\", \"Topic7\", \"Topic7\", \"Topic7\", \"Topic7\", \"Topic7\", \"Topic7\", \"Topic7\", \"Topic7\", \"Topic7\", \"Topic7\", \"Topic7\", \"Topic7\", \"Topic7\"], \"logprob\": [30.0, 29.0, 28.0, 27.0, 26.0, 25.0, 24.0, 23.0, 22.0, 21.0, 20.0, 19.0, 18.0, 17.0, 16.0, 15.0, 14.0, 13.0, 12.0, 11.0, 10.0, 9.0, 8.0, 7.0, 6.0, 5.0, 4.0, 3.0, 2.0, 1.0, -5.3341, -5.3717, -5.4203, -4.8881, -5.6128, -5.7119, -5.8845, -5.9559, -6.0131, -6.0386, -4.7246, -6.2136, -6.236, -6.3815, -6.4609, -6.463, -6.6401, -6.6706, -4.5393, -6.7493, -6.7509, -6.7694, -6.7746, -6.7977, -6.837, -4.4274, -6.8913, -6.8188, -6.8285, -6.9173, -4.7095, -6.6072, -6.1964, -6.3466, -6.3361, -5.9867, -6.4764, -5.6967, -6.0823, -6.3006, -5.3967, -5.2425, -5.6474, -4.7879, -5.3128, -5.3148, -6.196, -5.8894, -4.8378, -5.8093, -5.3662, -4.5825, -5.0578, -5.0525, -5.3835, -5.0545, -5.5311, -5.3377, -5.7033, -5.424, -5.2976, -5.5313, -5.2702, -5.1965, -5.0528, -5.445, -5.5082, -5.2336, -5.5868, -5.3595, -6.0551, -6.3433, -6.1887, -6.4103, -6.4663, -6.5878, -6.628, -6.6411, -6.6814, -6.6994, -6.7622, -6.8054, -6.8168, -6.8875, -6.9051, -6.9678, -7.0402, -7.0418, -7.0628, -7.0684, -7.0716, -7.0804, -7.0813, -7.0843, -6.9292, -7.1248, -7.1538, -6.6381, -6.5201, -6.1368, -5.3948, -5.5577, -6.3365, -5.3083, -5.5314, -6.6116, -5.6642, -5.9781, -5.9803, -6.5323, -5.321, -5.0777, -5.212, -5.6116, -5.7412, -5.6215, -5.5782, -5.4957, -6.0266, -4.4936, -5.195, -5.8457, -4.9333, -5.558, -5.1353, -5.9341, -4.8358, -5.5064, -5.3619, -5.3099, -5.5973, -5.3456, -5.4304, -5.7803, -5.6393, -5.5867, -5.7095, -5.1716, -5.5129, -5.5443, -5.7181, -5.8945, -5.9561, -6.0102, -6.0329, -6.053, -6.1484, -6.1577, -6.2366, -6.3211, -6.3267, -6.3385, -6.3441, -6.3509, -6.3499, -6.4245, -6.4333, -6.4365, -6.4848, -6.5098, -6.5221, -6.5244, -6.5362, -6.5161, -6.5372, -6.5686, -6.5451, -6.0363, -6.3717, -6.3212, -6.4424, -6.3482, -5.941, -6.2312, -6.0181, -5.7016, -5.2968, -5.9151, -6.3233, -6.1384, -6.0291, -5.9064, -6.2046, -6.2645, -6.2033, -6.3231, -5.2844, -5.3798, -5.6884, -5.6955, -5.808, -5.9802, -6.046, -6.0836, -6.1338, -6.2458, -6.2557, -6.2795, -6.3167, -6.3718, -6.4554, -6.4672, -6.4813, -6.5118, -6.5251, -6.5352, -6.5385, -6.5574, -6.5607, -6.5641, -6.604, -6.6206, -6.6231, -6.6282, -6.6454, -6.6655, -5.6873, -5.0317, -6.0573, -6.4377, -5.1295, -5.8417, -6.1729, -5.8747, -6.4474, -6.161, -6.0897, -6.2162, -6.1168, -5.4774, -6.018, -6.1739, -5.8231, -6.1571, -5.838, -5.9343, -6.0846, -6.0058, -6.0783, -6.1847, -5.3464, -5.6822, -5.683, -5.6854, -5.8803, -5.9202, -5.953, -6.1169, -6.1694, -6.1843, -6.2318, -6.3091, -6.3206, -6.3807, -6.3992, -6.4093, -6.4265, -6.432, -6.4296, -6.4442, -6.4713, -6.4798, -6.4823, -6.4953, -6.4969, -6.5359, -6.5432, -6.5432, -6.5454, -6.5543, -6.4017, -5.7483, -6.2697, -6.1521, -5.6971, -5.8769, -6.3281, -6.3933, -6.4143, -6.4264, -6.3672, -5.5113, -5.6794, -5.7619, -5.7742, -5.8637, -5.9301, -6.0694, -6.0845, -6.1228, -6.1428, -6.1651, -6.1788, -6.1974, -6.2091, -6.2327, -6.2365, -6.2388, -6.3184, -6.3184, -6.3301, -6.3379, -6.3417, -6.3423, -6.3552, -6.3618, -6.377, -6.3811, -6.411, -6.4105, -6.423, -5.5504, -6.248, -5.7942, -6.0484, -6.2084, -5.8867, -6.2947, -5.1172, -5.5005, -5.6208, -5.7634, -5.8547, -5.8749, -5.8857, -5.9106, -5.953, -6.0046, -6.0293, -6.0907, -6.1145, -6.1719, -6.2053, -6.209, -6.2251, -6.254, -6.2639, -6.2651, -6.2864, -6.3058, -6.4193, -6.4629, -6.4661, -6.4786, -6.498, -6.5058, -6.5117, -6.527, -6.0782, -5.5484, -6.2874, -6.3408, -6.4646], \"loglift\": [30.0, 29.0, 28.0, 27.0, 26.0, 25.0, 24.0, 23.0, 22.0, 21.0, 20.0, 19.0, 18.0, 17.0, 16.0, 15.0, 14.0, 13.0, 12.0, 11.0, 10.0, 9.0, 8.0, 7.0, 6.0, 5.0, 4.0, 3.0, 2.0, 1.0, 1.1187, 1.1186, 1.1186, 1.1184, 1.1182, 1.118, 1.1176, 1.1173, 1.1173, 1.1172, 1.1171, 1.1166, 1.1165, 1.116, 1.1156, 1.1156, 1.1148, 1.1146, 1.1146, 1.1141, 1.1141, 1.114, 1.114, 1.1138, 1.1136, 1.1134, 1.1132, 1.1131, 1.113, 1.113, 1.1116, 1.1123, 1.1081, 1.094, 1.0888, 1.0702, 1.0954, 1.0445, 1.0658, 1.082, 1.0097, 0.9546, 1.0016, 0.8928, 0.9434, 0.9373, 1.0611, 0.9937, 0.7566, 0.9643, 0.8418, 0.505, 0.6727, 0.5987, 0.7403, 0.5818, 0.7733, 0.6395, 0.8741, 0.6333, 0.4476, 0.6904, 0.3551, 0.2527, 0.046, 0.4547, 0.5372, 1.1685, 1.1679, 1.1677, 1.1667, 1.1657, 1.1656, 1.1654, 1.1651, 1.1645, 1.1643, 1.1642, 1.164, 1.1639, 1.1635, 1.1632, 1.1631, 1.1626, 1.1625, 1.162, 1.1614, 1.1614, 1.1612, 1.1612, 1.1611, 1.1611, 1.1611, 1.161, 1.1609, 1.1606, 1.1604, 1.1496, 1.1416, 1.1236, 1.0888, 1.0902, 1.1183, 1.0498, 1.0581, 1.1306, 1.049, 1.0654, 1.0653, 1.1141, 0.9478, 0.9059, 0.9127, 0.9758, 0.9961, 0.9738, 0.9487, 0.9299, 1.0191, 0.6052, 0.7373, 0.9275, 0.516, 0.7547, 0.49, 0.9074, 0.2518, 0.6331, 0.5026, 0.4353, 0.6349, 0.2908, 0.2207, 0.7636, 0.4958, 0.1438, -0.1151, 2.3027, 2.301, 2.3008, 2.2997, 2.2983, 2.2978, 2.2973, 2.2971, 2.2969, 2.2959, 2.2958, 2.2949, 2.2938, 2.2938, 2.2936, 2.2936, 2.2935, 2.2935, 2.2924, 2.2923, 2.2922, 2.2915, 2.2911, 2.291, 2.2909, 2.2907, 2.2907, 2.2907, 2.2902, 2.2899, 2.1713, 2.2465, 2.1976, 2.2359, 2.157, 1.7543, 1.8457, 1.4276, 0.8423, -0.198, 0.8712, 1.8698, 0.915, 0.2592, -0.8189, 1.1505, 1.3822, -0.3037, 1.485, 2.413, 2.4125, 2.4104, 2.4104, 2.4094, 2.4078, 2.4071, 2.4067, 2.4061, 2.4047, 2.4046, 2.4042, 2.4037, 2.4029, 2.4016, 2.4014, 2.4012, 2.4006, 2.4004, 2.4002, 2.4001, 2.3998, 2.3997, 2.3997, 2.3989, 2.3986, 2.3986, 2.3985, 2.3981, 2.3977, 2.2186, 2.0692, 2.244, 2.3454, 1.8098, 1.9489, 2.1279, 1.8338, 2.2524, 1.856, 1.694, 1.8943, 1.6825, 0.4223, 1.4002, 1.7402, 0.6157, 1.3649, 0.0944, 0.2052, 0.5165, -0.5565, -0.0209, 1.3498, 2.7202, 2.7172, 2.7172, 2.7171, 2.7149, 2.7143, 2.7139, 2.7115, 2.7106, 2.7103, 2.7095, 2.708, 2.7078, 2.7067, 2.7062, 2.706, 2.7056, 2.7055, 2.7055, 2.7053, 2.7047, 2.7044, 2.7044, 2.7041, 2.704, 2.7031, 2.7029, 2.7029, 2.7029, 2.7027, 2.6917, 2.3692, 2.4701, 2.3273, 1.4039, 0.5299, 2.1021, 2.315, 2.1744, 2.0553, 0.9373, 2.8802, 2.8783, 2.8772, 2.8771, 2.8758, 2.8748, 2.8724, 2.8721, 2.8714, 2.871, 2.8706, 2.8703, 2.87, 2.8697, 2.8692, 2.8691, 2.8691, 2.8673, 2.8673, 2.8671, 2.8669, 2.8668, 2.8667, 2.8664, 2.8663, 2.8659, 2.8658, 2.8651, 2.865, 2.8648, 2.6073, 2.622, 1.4329, 2.0158, 2.3593, 1.2284, 2.2368, 2.9151, 2.9117, 2.9103, 2.9085, 2.9072, 2.9069, 2.9067, 2.9062, 2.9056, 2.9047, 2.9043, 2.9032, 2.9027, 2.9015, 2.9008, 2.9007, 2.9004, 2.8998, 2.8995, 2.8995, 2.899, 2.8985, 2.8957, 2.8945, 2.8944, 2.8941, 2.8936, 2.8933, 2.8932, 2.8927, 2.5848, 2.034, 2.6479, 1.4429, 2.4295]}, \"token.table\": {\"Topic\": [1, 3, 1, 5, 3, 6, 5, 6, 3, 5, 1, 4, 4, 1, 2, 2, 3, 1, 3, 1, 5, 2, 2, 3, 5, 2, 1, 2, 3, 4, 5, 6, 1, 2, 3, 1, 6, 6, 1, 2, 4, 7, 1, 4, 4, 2, 3, 2, 3, 4, 4, 5, 3, 1, 3, 1, 3, 5, 4, 7, 1, 3, 4, 7, 1, 2, 3, 4, 5, 6, 2, 7, 3, 7, 7, 1, 2, 3, 1, 2, 3, 1, 2, 3, 5, 6, 2, 6, 1, 7, 4, 3, 4, 7, 6, 1, 2, 3, 4, 1, 2, 3, 2, 4, 4, 7, 3, 1, 2, 2, 1, 5, 2, 5, 1, 1, 5, 1, 2, 3, 6, 4, 3, 5, 6, 4, 5, 1, 6, 5, 3, 7, 3, 1, 3, 5, 6, 5, 2, 1, 3, 3, 4, 2, 1, 2, 3, 1, 2, 3, 2, 1, 2, 5, 7, 2, 3, 1, 1, 3, 2, 4, 5, 1, 2, 3, 6, 1, 2, 3, 7, 1, 2, 3, 4, 5, 4, 3, 4, 5, 3, 1, 3, 1, 3, 6, 5, 1, 2, 3, 4, 4, 2, 3, 4, 5, 6, 4, 7, 5, 6, 1, 2, 3, 4, 6, 3, 7, 7, 3, 1, 2, 3, 7, 2, 7, 2, 4, 2, 6, 6, 1, 2, 4, 5, 3, 6, 1, 5, 1, 1, 2, 2, 7, 6, 4, 3, 6, 4, 5, 1, 2, 4, 5, 6, 1, 3, 6, 1, 2, 4, 1, 4, 5, 7, 7, 4, 1, 2, 5, 1, 1, 2, 4, 2, 4, 1, 2, 4, 1, 2, 1, 2, 1, 2, 4, 4, 1, 2, 3, 4, 5, 6, 1, 2, 3, 5, 1, 2, 7, 4, 6, 3, 7, 3, 5, 4, 7, 1, 4, 1, 2, 3, 5, 6, 1, 2, 2, 4, 1, 2, 3, 1, 2, 3, 4, 3, 5, 1, 3, 4, 5, 6, 1, 2, 3, 6, 2, 4, 5, 6, 1, 2, 3, 7, 2, 7, 6, 2, 6, 3, 6, 1, 2, 3, 5, 3, 5, 6, 7, 7, 1, 2, 1, 2, 2, 6, 1, 2, 4, 4, 6, 1, 2, 3, 5, 3, 6, 2, 3, 3, 4, 2, 4, 3, 5, 5, 7, 5, 5, 2, 4, 5, 5, 4, 6, 7, 7, 2, 1, 2, 3, 7, 4, 1, 3, 4, 1, 2, 3, 4, 5, 6, 7, 2, 1, 7, 6, 2, 4, 2, 2, 1, 3, 2, 3, 5, 6, 7, 1, 2, 3, 4, 1, 6, 6, 5, 7, 7, 3, 5, 5, 2, 2, 3, 4, 3, 4, 7, 2, 1, 4, 6, 4, 1, 2, 3, 7, 1, 2, 3, 5, 4, 7, 3, 1, 2, 3, 2, 4, 1, 1, 2, 5, 2, 4, 1, 3, 5, 1, 2, 1, 2, 1, 2, 3, 2, 1, 1, 3, 1, 2, 3, 4, 1, 2, 3, 7, 1, 3, 1, 1, 3, 5, 5, 2, 4, 2, 5, 6, 3, 7, 6, 3, 3, 1, 2, 3, 1, 1, 2, 3, 2, 2, 1, 2, 3, 6, 7, 3, 7, 2, 6, 1, 1, 2, 3, 4, 1, 2, 3, 1, 2, 3, 5, 6, 7, 2, 3, 2, 1, 2, 4, 7, 1, 2, 3, 4, 5, 4, 1, 1, 2, 3, 4, 1, 2, 1, 2, 3, 4, 5], \"Freq\": [0.9902924438370361, 0.006877030859979418, 0.9961763361677864, 0.9929466555527897, 0.9882611672438063, 0.9745648774803753, 0.2173030817992666, 0.7605607862974332, 0.9783318061348588, 0.9654667676246286, 0.9981559053545002, 0.9839404295493024, 0.991904431749434, 0.025965134940348376, 0.973692560263064, 0.8849945345700247, 0.11313850583991794, 0.3637842189990154, 0.6292483788091077, 0.9730308962596586, 0.017799345663286437, 0.995012064336373, 0.24604863580027947, 0.164032423866853, 0.5741134835339855, 0.9973232408495946, 0.6295917248590616, 0.11835666890300896, 0.12821972464492637, 0.0756167606880335, 0.021369954107487727, 0.026301481978446433, 0.7814229551717694, 0.14487054786892353, 0.07243527393446177, 0.9916643836117519, 0.96457333417911, 0.977860073021488, 0.0019984638488575305, 0.9212918343233216, 0.07594162625658617, 0.9812631213565327, 0.24597845457216047, 0.7502342864450894, 0.976513903751508, 0.5805603208854039, 0.4131915797292514, 0.40131502974557776, 0.03400974828352354, 0.557759871849786, 0.9901443196087254, 0.968196321632964, 0.9875995587670623, 0.9932555317858586, 0.006227307409315728, 0.9975611228952401, 0.9937970296717559, 0.9818487249068647, 0.9721376477284626, 0.9665854743300231, 0.16868147685274512, 0.11734363607147488, 0.48404249879483385, 0.22735329488848258, 0.20352660303755288, 0.08649880629095998, 0.1373804570503482, 0.3612597203916564, 0.11702779674659292, 0.09667513644283762, 0.9950705651889301, 0.9646171947520985, 0.9905663235597872, 0.989909848524165, 0.9715161036611032, 0.9476833947997568, 0.05049132841146245, 0.9818535660888973, 0.8545729364064187, 0.12818594046096282, 0.013352702131350293, 0.7066403253141272, 0.2923452882505254, 0.07461023545216679, 0.1598790759689288, 0.7567609595862631, 0.9560561873086616, 0.04345709942312098, 0.996495927464132, 0.9590761482780394, 0.9927926956414548, 0.9936786143395491, 0.28266263681019016, 0.7066565920254754, 0.9715733761790608, 0.1876940336147656, 0.6482928891111229, 0.06563533690823091, 0.09787725679297593, 0.6832883887185455, 0.2816821520839718, 0.03346718638621447, 0.5139653871711857, 0.47672151853559247, 0.9364199240812277, 0.059771484515823044, 0.9914015375262278, 0.13674156990957503, 0.8590175545601509, 0.9909826989928753, 0.9972066785540159, 0.9813057740524682, 0.027169604223522652, 0.9781057520468155, 0.9951177400006096, 0.9969559815276973, 0.9915307635579249, 0.8820076475849253, 0.11621046708044624, 0.0029797555661652884, 0.9648563328010957, 0.9930354050500924, 0.9792680744240712, 0.401549180168855, 0.5942927866499054, 0.332769720468044, 0.665539440936088, 0.9947383723794162, 0.9833309842401634, 0.9812658561647803, 0.997687204664804, 0.9908484032762173, 0.987489199872106, 0.9501004419844682, 0.04608696173805256, 0.9666818670183871, 0.9786174167948688, 0.9885597636719773, 0.9968653929532013, 0.9900736190269223, 0.009083244211256168, 0.8739767747080712, 0.123253134894728, 0.9862799741644557, 0.9983253099464214, 0.0012401556645297161, 0.9811254822357618, 0.6948385292339306, 0.2767855606995681, 0.027924952711529127, 0.9969713687993963, 0.8323356613601393, 0.16646713227202786, 0.7822203928453021, 0.20986400783654446, 0.8990198254815928, 0.09794768526647703, 0.9927550364185495, 0.9730529408562243, 0.020813966649331002, 0.9973985842695794, 0.843226286229785, 0.14664804977909304, 0.5373664903095597, 0.25553091846888154, 0.015031230498169504, 0.1878903812271188, 0.6389769137475055, 0.35854227413519824, 0.0018821116752503846, 0.9627983928043379, 0.5137821198574727, 0.2574483073472369, 0.07355665924206768, 0.1359683701141251, 0.018946412229017433, 0.9956548543445286, 0.9937471638856707, 0.9920488701943296, 0.9800201194610109, 0.9884677892437217, 0.9911149716861348, 0.008242120346662244, 0.9282557127961034, 0.0723987742570777, 0.9884109667716697, 0.9908991824886239, 0.2960655078215, 0.5850481087573182, 0.009916069639954546, 0.1090767660395, 0.9785880912832925, 0.2506428451300075, 0.1503857070780045, 0.5096404517643486, 0.09190237654766942, 0.9773050894809668, 0.987706012200254, 0.9749304131136688, 0.9802177536893941, 0.9755504095156242, 0.5099685581350278, 0.47940864453892135, 0.0038199891995133175, 0.004774986499391647, 0.0009549972998783294, 0.994669299511023, 0.9752180038103301, 0.9839164592386845, 0.9956732528683836, 0.10188937148021283, 0.6665263050997257, 0.23137378106964998, 0.9882556940195123, 0.9936072990706888, 0.9910775069742096, 0.9983142696333541, 0.9877548231103438, 0.9964585631004236, 0.9830629310206283, 0.9877880840493943, 0.6146041273375659, 0.2792468858816117, 0.08742776333676627, 0.01826848786141385, 0.8600939334366954, 0.13580430527947823, 0.9980494498068445, 0.9932407111063668, 0.9968958146043233, 0.3385902949321533, 0.6603353015592244, 0.9911006852125176, 0.9582530364944744, 0.9842040085210142, 0.9866993905942891, 0.9934668974997741, 0.991767784911485, 0.9822849478532972, 0.993998752723153, 0.10928538859925446, 0.3698890075667074, 0.2143674930216145, 0.07145583100720483, 0.23118062972919212, 0.9945879978607233, 0.005230085878321069, 0.9833597848265698, 0.18700976710514444, 0.8012401228556619, 0.011285072152896647, 0.2541957970709899, 0.5897342492046965, 0.030503495648518786, 0.11184615071123555, 0.9819794293564821, 0.9753544767303401, 0.6505937810729352, 0.34759856861107175, 0.9842982254338735, 0.993590242017063, 0.207978037643627, 0.7732874688226131, 0.018145734827967455, 0.9860736092200741, 0.9911511778530192, 0.22908435802865978, 0.7684628729638641, 0.0012120865504161892, 0.6178325325758173, 0.3805752052513806, 0.11281183247970664, 0.8866304958951943, 0.13649211840756478, 0.8395552943559645, 0.020602583910575817, 0.9749084890528726, 0.07192090081246157, 0.6248128258082598, 0.10788135121869236, 0.14833685792570198, 0.02697033780467309, 0.020227753353504817, 0.41188211662715374, 0.5859605961073092, 0.0015542721382156744, 0.9916264790313354, 0.07536789138101711, 0.9232566694174597, 0.9906316139438173, 0.8204203078427392, 0.17402855014845983, 0.932956990255421, 0.053824441745505054, 0.9884546599362551, 0.9796787107586683, 0.2319622140745158, 0.7654753064459021, 0.9959177987762537, 0.9863407286910129, 0.5407413421939965, 0.39924818220544844, 0.044031088248184524, 0.015831402516201177, 0.977997275631885, 0.9624177596396071, 0.03437206284427168, 0.995167630805929, 0.9957974626467316, 0.2286548203081731, 0.7688518332862321, 0.0028581852538521637, 0.8477916189782007, 0.15155213011822702, 0.9935170717547673, 0.9754879734459303, 0.9877515886096396, 0.9720249017569446, 0.9442436572765719, 0.05630810800273135, 0.22527873543869176, 0.6963160913559564, 0.06143965511964321, 0.8373498882913014, 0.11939399547879774, 0.0015919199397173031, 0.04138991843264988, 0.02593528418380592, 0.7039577135604465, 0.26676292303343235, 0.9719246511522881, 0.7968588227819383, 0.17280196943473494, 0.030441797724253823, 0.9718829842969824, 0.9954586116141823, 0.9725711962210711, 0.9795087241006063, 0.4647019866895203, 0.5266622515814563, 0.985756588847887, 0.9907307113686505, 0.558256051670225, 0.4074108829741134, 0.028364048814653462, 0.00644637473060306, 0.3235041476702348, 0.6764177633104909, 0.9820047332051095, 0.9852856992725215, 0.9834337688091076, 0.21308688437570084, 0.7863471750855509, 0.9914975721384738, 0.9978096555405439, 0.9793044309551159, 0.014726382420377684, 0.24076401771288225, 0.18520309054837095, 0.57412958069995, 0.981173283269203, 0.9760451263354789, 0.17904173454544653, 0.4220269457142668, 0.3964495550649173, 0.9600118493397543, 0.9916025857552073, 0.9901463698954327, 0.5560710244994786, 0.4433539249387735, 0.9903068640944019, 0.9917652608760995, 0.9931673794603489, 0.9744013047732015, 0.9461136228868043, 0.05068465836893595, 0.9925638296696186, 0.9818680570476461, 0.9900086621916137, 0.9722477729660096, 0.5193275080502361, 0.3499815815121156, 0.12418701279462166, 0.9819422782741838, 0.9946063853199951, 0.9785260147011455, 0.9830382105767421, 0.9699693249064641, 0.9881841989276084, 0.23985181427797117, 0.16189997463763053, 0.18588515606542766, 0.4137443796295003, 0.9949213966069056, 0.24295277314582264, 0.6405118564753506, 0.09938977083238199, 0.02866154350707782, 0.28183851115293185, 0.31527697857785597, 0.20540772846739103, 0.03343846742492412, 0.038215391342770424, 0.10031540227477236, 0.9905604452160955, 0.9979705627064518, 0.9967300453704835, 0.9806315031544275, 0.36923720226860723, 0.6277032438566323, 0.9948957248703464, 0.9912950871969296, 0.9681820554092743, 0.02561328188913424, 0.4087133121416027, 0.2543105053325528, 0.16802658388043668, 0.11353147559488964, 0.05903636730934261, 0.4733863784384802, 0.25082412588904546, 0.24729139172159412, 0.024729139172159412, 0.9968853009901385, 0.9833573755433482, 0.9637655401845995, 0.9876944380726868, 0.9803813334806404, 0.9884655487695998, 0.9853649340878714, 0.9743516664565831, 0.9833480649098437, 0.9904462322389654, 0.9500649818707149, 0.04750324909353574, 0.9775452489871257, 0.0738359632611185, 0.8368075836260097, 0.08614195713797158, 0.994659092117834, 0.9974584814344009, 0.986679299551954, 0.9781699821137418, 0.9912034231469261, 0.888941655404604, 0.05659045021143368, 0.054232514785957274, 0.9854292146087796, 0.1161925824050944, 0.8222859677898988, 0.02234472738559508, 0.03798603655551163, 0.9842032074568207, 0.989063952853763, 0.978050681017991, 0.4851460770093417, 0.5091213191871289, 0.004230925090197748, 0.9460847273698768, 0.051139714992966316, 0.9978578404058152, 0.5089393611290174, 0.3793911601143584, 0.11104131515542198, 0.9638537666032263, 0.0351771447665411, 0.422938537421241, 0.577344670130583, 0.9905345723250926, 0.1961470488189112, 0.8012815611325735, 0.10442263980259472, 0.8931468340562357, 0.9966125416666531, 0.997669858686348, 0.9862342483530642, 0.9890284166975764, 0.9982665277749506, 0.9970660380754972, 0.0021035148482605424, 0.46504531142389854, 0.5065520878533539, 0.015247387259799952, 0.012706156049833293, 0.34174071980595955, 0.5684003773053734, 0.08155744850420411, 0.008005639116977091, 0.895441411654402, 0.10360479143108783, 0.9989519494113283, 0.9943956769848432, 0.4619273226014782, 0.5319163108744295, 0.9787956372892602, 0.6515946602036583, 0.3429445580019254, 0.9966009915411784, 0.9770585259512719, 0.9900190347812134, 0.902432607322934, 0.09177280752436617, 0.9865334279688273, 0.9820499307726636, 0.9893941239722758, 0.09464769031972041, 0.9009057930432646, 0.0035054700118414966, 0.9955847651009394, 0.5841153556142186, 0.4153899523062991, 0.0008564741284665961, 0.9925470290559455, 0.998444766184143, 0.21357243704071327, 0.7848787061246213, 0.9886271554415659, 0.9858950273715344, 0.9790177648020331, 0.37844360842610597, 0.6010574957355801, 0.5728045117829563, 0.4174676950282563, 0.9958447030710046, 0.5937292319835797, 0.38683676168769104, 0.0008692960936802046, 0.0182552179672843, 0.7570049951096238, 0.23665887622665593, 0.006068176313503999, 0.23533126324916825, 0.5247616674751568, 0.23803622029800928, 0.5158258946206881, 0.17685459244137874, 0.3094955367724128, 0.9929057917195175, 0.9792025754723263, 0.9847707633402356, 0.43498418325502103, 0.01891235579369657, 0.545306258718251, 0.9552562777404043, 0.40891217622557924, 0.5132923896305297, 0.027978201531223844, 0.031206455554057363, 0.01829343946272328, 0.988306555801605, 0.9974059612543452, 0.3267615632979156, 0.5006522197897888, 0.00764354534030212, 0.16433622481649557, 0.17514193544003712, 0.8225020006108072, 0.41982576804338356, 0.519987245698404, 0.008524381077023017, 0.051146286462138105, 0.9737651371064756], \"Term\": [\"10am\", \"10am\", \"11am\", \"12th\", \"21st\", \"23rd\", \"26th\", \"26th\", \"30th\", \"academy\", \"activity\", \"added\", \"aircraft\", \"always\", \"always\", \"amazing\", \"amazing\", \"answer\", \"answer\", \"apply\", \"apply\", \"area\", \"army\", \"army\", \"army\", \"art\", \"artist\", \"artist\", \"artist\", \"artist\", \"artist\", \"artist\", \"available\", \"available\", \"available\", \"bank\", \"barbara\", \"beach\", \"beautiful\", \"beautiful\", \"beautiful\", \"beer\", \"bexhill\", \"bexhill\", \"bexhillmuseum\", \"birthday\", \"birthday\", \"black\", \"black\", \"black\", \"bloom\", \"blossom\", \"body\", \"book\", \"book\", \"booking\", \"boy\", \"breakfast\", \"brick\", \"bright\", \"britain\", \"britain\", \"britain\", \"britain\", \"british\", \"british\", \"british\", \"british\", \"british\", \"british\", \"building\", \"cafc\", \"cake\", \"called\", \"campus\", \"chance\", \"chance\", \"charraig\", \"child\", \"child\", \"child\", \"christmas\", \"christmas\", \"church\", \"church\", \"church\", \"city\", \"city\", \"class\", \"clean\", \"coat\", \"coffee\", \"cold\", \"cold\", \"collaboration\", \"collection\", \"collection\", \"collection\", \"collection\", \"come\", \"come\", \"come\", \"competition\", \"competition\", \"contribution\", \"contribution\", \"copy\", \"could\", \"could\", \"covid-19\", \"craft\", \"creativity\", \"cumbria\", \"cumbria\", \"currently\", \"december\", \"despite\", \"detail\", \"detail\", \"detail\", \"diary\", \"died\", \"dinosaur\", \"director\", \"director\", \"discovered\", \"discovered\", \"discus\", \"discussion\", \"distancing\", \"done\", \"double\", \"dylan\", \"easter\", \"easter\", \"effect\", \"else\", \"engagement\", \"enjoying\", \"entry\", \"entry\", \"essential\", \"essential\", \"estate\", \"event\", \"event\", \"exhibit\", \"exhibition\", \"exhibition\", \"exhibition\", \"face\", \"family\", \"family\", \"fan\", \"fan\", \"favourite\", \"favourite\", \"featuring\", \"february\", \"february\", \"feel\", \"female\", \"female\", \"film\", \"film\", \"film\", \"film\", \"find\", \"find\", \"find\", \"finest\", \"first\", \"first\", \"first\", \"first\", \"first\", \"flower\", \"flying\", \"focus\", \"football\", \"former\", \"free\", \"free\", \"friday\", \"friday\", \"fully\", \"fund\", \"garden\", \"garden\", \"garden\", \"garden\", \"gardening\", \"george\", \"george\", \"george\", \"george\", \"glasgow\", \"global\", \"goodwoodrevival\", \"graduate\", \"grand\", \"great\", \"great\", \"great\", \"great\", \"great\", \"guess\", \"gwflatout\", \"gwspeedweek\", \"half\", \"happy\", \"happy\", \"happy\", \"heading\", \"health\", \"heart\", \"help\", \"helped\", \"helping\", \"hepworth\", \"historical\", \"history\", \"history\", \"history\", \"history\", \"hold\", \"hold\", \"holiday\", \"hospital\", \"hosting\", \"house\", \"house\", \"huge\", \"icon\", \"illustration\", \"impact\", \"included\", \"insight\", \"interest\", \"island\", \"john\", \"john\", \"john\", \"john\", \"john\", \"join\", \"join\", \"joseph\", \"know\", \"know\", \"know\", \"known\", \"known\", \"known\", \"known\", \"language\", \"largest\", \"last\", \"last\", \"leader\", \"lecture\", \"like\", \"like\", \"like\", \"list\", \"lockdown\", \"look\", \"look\", \"look\", \"looking\", \"looking\", \"love\", \"love\", \"lovely\", \"lovely\", \"lovely\", \"machine\", \"made\", \"made\", \"made\", \"made\", \"made\", \"made\", \"make\", \"make\", \"make\", \"manager\", \"many\", \"many\", \"marking\", \"mary\", \"mary\", \"match\", \"match\", \"mh\\u00f3r\", \"michael\", \"mind\", \"mind\", \"miss\", \"moved\", \"museum\", \"museum\", \"museum\", \"museum\", \"museumsfromhome\", \"music\", \"music\", \"nationaltrust\", \"natural\", \"need\", \"need\", \"need\", \"next\", \"next\", \"normal\", \"northern\", \"note\", \"notice\", \"october\", \"october\", \"officer\", \"officer\", \"officer\", \"online\", \"online\", \"online\", \"online\", \"onthisday\", \"onthisday\", \"onthisday\", \"onto\", \"open\", \"open\", \"open\", \"orkney\", \"outside\", \"palace\", \"pandemic\", \"panel\", \"panel\", \"paper\", \"parade\", \"part\", \"part\", \"part\", \"part\", \"partnership\", \"partnership\", \"passing\", \"path\", \"peace\", \"people\", \"people\", \"performance\", \"photo\", \"photograph\", \"photograph\", \"plant\", \"plant\", \"plant\", \"power\", \"preview\", \"print\", \"print\", \"print\", \"product\", \"proud\", \"putting\", \"queen\", \"queen\", \"question\", \"race\", \"raise\", \"reach\", \"receive\", \"receive\", \"recently\", \"recipe\", \"recorded\", \"recruiting\", \"research\", \"research\", \"research\", \"researcher\", \"result\", \"returned\", \"revealed\", \"rifle\", \"river\", \"roman\", \"roman\", \"roman\", \"roman\", \"rose\", \"round\", \"round\", \"round\", \"royal\", \"royal\", \"royal\", \"royal\", \"royal\", \"royal\", \"royal\", \"safe\", \"saturday\", \"scene\", \"scientist\", \"scotland\", \"scotland\", \"seeing\", \"selection\", \"september\", \"september\", \"series\", \"series\", \"series\", \"series\", \"series\", \"service\", \"service\", \"service\", \"service\", \"session\", \"showcase\", \"silk\", \"silver\", \"snow\", \"solo\", \"sorry\", \"speak\", \"specimen\", \"spot\", \"staff\", \"staff\", \"staffordshire\", \"stage\", \"stage\", \"stage\", \"stay\", \"steam\", \"stem\", \"storytelling\", \"success\", \"sunday\", \"sunday\", \"sunday\", \"sunset\", \"support\", \"support\", \"support\", \"support\", \"supporting\", \"system\", \"table\", \"take\", \"take\", \"take\", \"taken\", \"taken\", \"talk\", \"team\", \"team\", \"team\", \"tell\", \"tell\", \"term\", \"term\", \"test\", \"thank\", \"thank\", \"thanks\", \"thanks\", \"theatre\", \"think\", \"though\", \"throwbackthursday\", \"thursday\", \"ticket\", \"ticket\", \"time\", \"time\", \"time\", \"time\", \"today\", \"today\", \"today\", \"today\", \"tomorrow\", \"tomorrow\", \"tour\", \"train\", \"training\", \"training\", \"transport\", \"tree\", \"tree\", \"trip\", \"true\", \"turner\", \"tweet\", \"tweet\", \"underway\", \"upcoming\", \"vehicle\", \"view\", \"view\", \"view\", \"virtual\", \"visit\", \"visit\", \"visit\", \"visited\", \"visitor\", \"volunteer\", \"volunteer\", \"vote\", \"wakefield\", \"wartime\", \"watching\", \"watching\", \"wedding\", \"wedding\", \"wednesday\", \"week\", \"week\", \"week\", \"week\", \"weekend\", \"weekend\", \"weekend\", \"well\", \"well\", \"well\", \"went\", \"went\", \"went\", \"wildlife\", \"wind\", \"without\", \"woman\", \"woman\", \"woman\", \"wondered\", \"work\", \"work\", \"work\", \"work\", \"work\", \"worked\", \"workshop\", \"world\", \"world\", \"world\", \"world\", \"would\", \"would\", \"year\", \"year\", \"year\", \"year\", \"youth\"]}, \"R\": 30, \"lambda.step\": 0.01, \"plot.opts\": {\"xlab\": \"PC1\", \"ylab\": \"PC2\"}, \"topic.order\": [3, 7, 6, 5, 1, 4, 2]};\n",
       "\n",
       "function LDAvis_load_lib(url, callback){\n",
       "  var s = document.createElement('script');\n",
       "  s.src = url;\n",
       "  s.async = true;\n",
       "  s.onreadystatechange = s.onload = callback;\n",
       "  s.onerror = function(){console.warn(\"failed to load library \" + url);};\n",
       "  document.getElementsByTagName(\"head\")[0].appendChild(s);\n",
       "}\n",
       "\n",
       "if(typeof(LDAvis) !== \"undefined\"){\n",
       "   // already loaded: just create the visualization\n",
       "   !function(LDAvis){\n",
       "       new LDAvis(\"#\" + \"ldavis_el18250131340959529501870792\", ldavis_el18250131340959529501870792_data);\n",
       "   }(LDAvis);\n",
       "}else if(typeof define === \"function\" && define.amd){\n",
       "   // require.js is available: use it to load d3/LDAvis\n",
       "   require.config({paths: {d3: \"https://d3js.org/d3.v5\"}});\n",
       "   require([\"d3\"], function(d3){\n",
       "      window.d3 = d3;\n",
       "      LDAvis_load_lib(\"https://cdn.jsdelivr.net/gh/bmabey/pyLDAvis@3.4.0/pyLDAvis/js/ldavis.v3.0.0.js\", function(){\n",
       "        new LDAvis(\"#\" + \"ldavis_el18250131340959529501870792\", ldavis_el18250131340959529501870792_data);\n",
       "      });\n",
       "    });\n",
       "}else{\n",
       "    // require.js not available: dynamically load d3 & LDAvis\n",
       "    LDAvis_load_lib(\"https://d3js.org/d3.v5.js\", function(){\n",
       "         LDAvis_load_lib(\"https://cdn.jsdelivr.net/gh/bmabey/pyLDAvis@3.4.0/pyLDAvis/js/ldavis.v3.0.0.js\", function(){\n",
       "                 new LDAvis(\"#\" + \"ldavis_el18250131340959529501870792\", ldavis_el18250131340959529501870792_data);\n",
       "            })\n",
       "         });\n",
       "}\n",
       "</script>"
      ],
      "text/plain": [
       "PreparedData(topic_coordinates=              x         y  topics  cluster       Freq\n",
       "topic                                                \n",
       "2      0.286413  0.031060       1        1  32.623239\n",
       "6      0.269041  0.039393       2        1  31.039823\n",
       "5     -0.015033 -0.274141       3        1   9.957817\n",
       "4     -0.069937  0.089689       4        1   8.908366\n",
       "0     -0.143442  0.060308       5        1   6.536850\n",
       "3     -0.159275  0.037154       6        1   5.553748\n",
       "1     -0.167767  0.016536       7        1   5.380157, topic_info=          Term         Freq        Total Category  logprob  loglift\n",
       "83        book  1284.000000  1284.000000  Default  30.0000  30.0000\n",
       "145       join  1147.000000  1147.000000  Default  29.0000  29.0000\n",
       "136     ticket   950.000000   950.000000  Default  28.0000  28.0000\n",
       "30        free   970.000000   970.000000  Default  27.0000  27.0000\n",
       "29       event   806.000000   806.000000  Default  26.0000  26.0000\n",
       "...        ...          ...          ...      ...      ...      ...\n",
       "5551      cold    40.382334    56.604581   Topic7  -6.0782   2.5848\n",
       "1935     roman    68.589568   166.769637   Topic7  -5.5484   2.0340\n",
       "902       mind    32.759038    43.110470   Topic7  -6.2874   2.6479\n",
       "940    britain    31.053876   136.351664   Topic7  -6.3408   1.4429\n",
       "7661  watching    27.438264    44.920827   Topic7  -6.4646   2.4295\n",
       "\n",
       "[383 rows x 6 columns], token_table=      Topic      Freq   Term\n",
       "term                        \n",
       "1654      1  0.990292   10am\n",
       "1654      3  0.006877   10am\n",
       "1691      1  0.996176   11am\n",
       "5940      5  0.992947   12th\n",
       "946       3  0.988261   21st\n",
       "...     ...       ...    ...\n",
       "18        1  0.419826   year\n",
       "18        2  0.519987   year\n",
       "18        3  0.008524   year\n",
       "18        4  0.051146   year\n",
       "535       5  0.973765  youth\n",
       "\n",
       "[562 rows x 3 columns], R=30, lambda_step=0.01, plot_opts={'xlab': 'PC1', 'ylab': 'PC2'}, topic_order=[3, 7, 6, 5, 1, 4, 2])"
      ]
     },
     "execution_count": 97,
     "metadata": {},
     "output_type": "execute_result"
    }
   ],
   "source": [
    "pyLDAvis.enable_notebook()\n",
    "lda_viz = pyLDAvis.gensim_models.prepare(tweets_lda, tweets_bow, dictionary=tweets_lda.id2word)\n",
    "pyLDAvis.show(lda_viz, local=False)\n",
    "lda_viz"
   ]
  },
  {
   "cell_type": "code",
   "execution_count": null,
   "metadata": {},
   "outputs": [],
   "source": [
    "#Creating a bag of words\n",
    "from gensim.corpora import Dictionary\n",
    "\n",
    "#create dictionary\n",
    "text_dict = Dictionary(df.text)\n",
    "\n",
    "#view integer mappings\n",
    "text_dict.token2id\n",
    "\n",
    "tweets_bow = [text_dict.doc2bow(tweet) for tweet in df['text']]"
   ]
  },
  {
   "cell_type": "code",
   "execution_count": null,
   "metadata": {},
   "outputs": [],
   "source": [
    "from gensim.models.ldamodel import LdaModel\n",
    "\n",
    "# k here represents the number of topics.\n",
    "k = 7\n",
    "tweets_lda = LdaModel(tweets_bow,\n",
    "                      num_topics = k,\n",
    "                      id2word = text_dict,\n",
    "                      random_state = 1,\n",
    "                      passes=10)\n",
    "\n",
    "tweets_lda.show_topics()\n",
    "tweets_lda.save('lda_museum_tweets_7.model')\n",
    "# https://stackoverflow.com/questions/17354417/gensim-how-to-save-lda-models-produced-topics-to-a-readable-format-csv-txt-et"
   ]
  },
  {
   "cell_type": "code",
   "execution_count": null,
   "metadata": {},
   "outputs": [
    {
     "ename": "FileNotFoundError",
     "evalue": "[Errno 2] No such file or directory: 'https://cdn.jsdelivr.net/gh/bmabey/pyLDAvis@3.4.0/pyLDAvis/js/ldavis.v1.0.0.css'",
     "output_type": "error",
     "traceback": [
      "\u001b[0;31m---------------------------------------------------------------------------\u001b[0m",
      "\u001b[0;31mFileNotFoundError\u001b[0m                         Traceback (most recent call last)",
      "\u001b[1;32m/Users/ellencharlesworth/VSCodeProjects/museum_socials/lda_twitter.ipynb Cell 24\u001b[0m line \u001b[0;36m6\n\u001b[1;32m      <a href='vscode-notebook-cell:/Users/ellencharlesworth/VSCodeProjects/museum_socials/lda_twitter.ipynb#X31sZmlsZQ%3D%3D?line=3'>4</a>\u001b[0m pyLDAvis\u001b[39m.\u001b[39menable_notebook()\n\u001b[1;32m      <a href='vscode-notebook-cell:/Users/ellencharlesworth/VSCodeProjects/museum_socials/lda_twitter.ipynb#X31sZmlsZQ%3D%3D?line=4'>5</a>\u001b[0m lda_viz \u001b[39m=\u001b[39m gensimvis\u001b[39m.\u001b[39mprepare(tweets_lda, tweets_bow, dictionary\u001b[39m=\u001b[39mtweets_lda\u001b[39m.\u001b[39mid2word)\n\u001b[0;32m----> <a href='vscode-notebook-cell:/Users/ellencharlesworth/VSCodeProjects/museum_socials/lda_twitter.ipynb#X31sZmlsZQ%3D%3D?line=5'>6</a>\u001b[0m pyLDAvis\u001b[39m.\u001b[39mshow(lda_viz)\n\u001b[1;32m      <a href='vscode-notebook-cell:/Users/ellencharlesworth/VSCodeProjects/museum_socials/lda_twitter.ipynb#X31sZmlsZQ%3D%3D?line=6'>7</a>\u001b[0m lda_viz\n",
      "File \u001b[0;32m~/miniconda3/envs/berto/lib/python3.11/site-packages/pyLDAvis/_display.py:262\u001b[0m, in \u001b[0;36mshow\u001b[0;34m(data, ip, port, n_retries, local, open_browser, http_server, **kwargs)\u001b[0m\n\u001b[1;32m    259\u001b[0m     kwargs[\u001b[39m'\u001b[39m\u001b[39md3_url\u001b[39m\u001b[39m'\u001b[39m] \u001b[39m=\u001b[39m urls\u001b[39m.\u001b[39mD3_URL\n\u001b[1;32m    260\u001b[0m     kwargs[\u001b[39m'\u001b[39m\u001b[39mldavis_css_url\u001b[39m\u001b[39m'\u001b[39m] \u001b[39m=\u001b[39m urls\u001b[39m.\u001b[39mLDAVIS_CSS_URL\n\u001b[1;32m    261\u001b[0m     files \u001b[39m=\u001b[39m {\u001b[39m'\u001b[39m\u001b[39m/LDAvis.js\u001b[39m\u001b[39m'\u001b[39m: [\u001b[39m\"\u001b[39m\u001b[39mtext/javascript\u001b[39m\u001b[39m\"\u001b[39m, \u001b[39mopen\u001b[39m(urls\u001b[39m.\u001b[39mLDAVIS_LOCAL, \u001b[39m'\u001b[39m\u001b[39mr\u001b[39m\u001b[39m'\u001b[39m)\u001b[39m.\u001b[39mread()],\n\u001b[0;32m--> 262\u001b[0m              \u001b[39m'\u001b[39m\u001b[39m/LDAvis.css\u001b[39m\u001b[39m'\u001b[39m: [\u001b[39m\"\u001b[39m\u001b[39mtext/css\u001b[39m\u001b[39m\"\u001b[39m, \u001b[39mopen\u001b[39m(urls\u001b[39m.\u001b[39mLDAVIS_CSS_URL, \u001b[39m'\u001b[39m\u001b[39mr\u001b[39m\u001b[39m'\u001b[39m)\u001b[39m.\u001b[39mread()],\n\u001b[1;32m    263\u001b[0m              \u001b[39m'\u001b[39m\u001b[39m/d3.js\u001b[39m\u001b[39m'\u001b[39m: [\u001b[39m\"\u001b[39m\u001b[39mtext/javascript\u001b[39m\u001b[39m\"\u001b[39m, \u001b[39mopen\u001b[39m(urls\u001b[39m.\u001b[39mD3_URL, \u001b[39m'\u001b[39m\u001b[39mr\u001b[39m\u001b[39m'\u001b[39m)\u001b[39m.\u001b[39mread()]}\n\u001b[1;32m    264\u001b[0m html \u001b[39m=\u001b[39m prepared_data_to_html(data, \u001b[39m*\u001b[39m\u001b[39m*\u001b[39mkwargs)\n\u001b[1;32m    265\u001b[0m serve(html, ip\u001b[39m=\u001b[39mip, port\u001b[39m=\u001b[39mport, n_retries\u001b[39m=\u001b[39mn_retries, files\u001b[39m=\u001b[39mfiles,\n\u001b[1;32m    266\u001b[0m       open_browser\u001b[39m=\u001b[39mopen_browser, http_server\u001b[39m=\u001b[39mhttp_server)\n",
      "\u001b[0;31mFileNotFoundError\u001b[0m: [Errno 2] No such file or directory: 'https://cdn.jsdelivr.net/gh/bmabey/pyLDAvis@3.4.0/pyLDAvis/js/ldavis.v1.0.0.css'"
     ]
    }
   ],
   "source": [
    "import pyLDAvis\n",
    "import pyLDAvis.gensim_models as gensimvis\n",
    "\n",
    "pyLDAvis.enable_notebook()\n",
    "lda_viz = gensimvis.prepare(tweets_lda, tweets_bow, dictionary=tweets_lda.id2word)\n",
    "pyLDAvis.show(lda_viz)\n",
    "lda_viz"
   ]
  },
  {
   "cell_type": "markdown",
   "metadata": {},
   "source": [
    "## Section E) \n",
    "\n",
    "Looking at how word use changes over time."
   ]
  },
  {
   "cell_type": "code",
   "execution_count": null,
   "metadata": {},
   "outputs": [],
   "source": [
    "# Ask for user input\n",
    "\n",
    "# user_input = input(\"Would words would you like to chart over time (seperate with commas)? \").lower()\n",
    "# user_input = [x.strip() for x in user_input.split(',')]\n",
    "# list_of_words = pd.DataFrame(user_input, columns=['words'])\n",
    "\n",
    "# or type them myself! \n",
    "\n",
    "list_of_words = [\"lockdown\",\"home\",\"corona\",\"covid-19\",\"covid\",\"coronavirus\"]\n",
    "word_df = pd.DataFrame(list_of_words, columns=['words'])"
   ]
  },
  {
   "cell_type": "code",
   "execution_count": null,
   "metadata": {},
   "outputs": [],
   "source": [
    "# Tokenise and lematize our words using our previous functions\n",
    "\n",
    "word_df['words'] = word_df['words'].apply(tokenize_and_lowercase)\n",
    "word_df['words'] = word_df['words'].apply(lemmatize_text)\n",
    "\n",
    "mylist = word_df['words'].to_list()\n",
    "mylist = [x[0] for x in mylist]"
   ]
  },
  {
   "cell_type": "code",
   "execution_count": null,
   "metadata": {},
   "outputs": [],
   "source": [
    "newdf = df #.head(3000000)\n",
    "newdf['len_intersect'] = newdf.text.apply(lambda x: len(list(set(x) & set(mylist))))\n",
    "newdf['intersection'] = newdf.text.apply(lambda x: ','.join(list(set(x) & set(mylist))))\n",
    "#df1 = df.loc[df['mask']==True] #not sure it is indexed correctly"
   ]
  },
  {
   "cell_type": "code",
   "execution_count": null,
   "metadata": {},
   "outputs": [],
   "source": [
    "new_df = newdf.copy()"
   ]
  },
  {
   "cell_type": "code",
   "execution_count": null,
   "metadata": {},
   "outputs": [],
   "source": [
    "new_df['ts'] = pd.to_datetime(new_df['ts'], errors='coerce')\n",
    "new_df['id'] = new_df.index\n",
    "new_df = new_df.sort_values(by='ts')\n",
    "new_df.dropna(inplace = True)\n",
    "\n",
    "# new_df['truncate_date'] = new_df['ts'].dt.floor('d')\n",
    "# print(new_df['truncate_date'])\n"
   ]
  },
  {
   "cell_type": "markdown",
   "metadata": {},
   "source": [
    "## Further resources (natural language processing and beyond...)\n",
    "\n",
    "This has been a brief introduction to some basic nlp tasks, but it only scratches the surface. The below links point you in the direction of some helpful resources. They represent a wide range of approaches including neural networks, so do keep in mind what we talked about regarding black box models!\n",
    "\n",
    "### 1) spaCy\n",
    "For further exploration of syntax and named entity recognition, you can explore the spaCy library. They have visualisers to help you get to grips with what it does.\n",
    "https://demos.explosion.ai/displacy-ent\n",
    "https://demos.explosion.ai/displacy\n",
    "\n",
    "I would encourage you to explore the different examples used in the \"Guides\" section of the spaCy documentation.\n",
    "https://spacy.io/usage/linguistic-features\n",
    "https://spacy.io/usage/rule-based-matching\n",
    "\n",
    "It might be helpful for some of your projects!\n",
    "\n",
    "### 2) berTopic\n",
    "Often the go-to tool these days for neural topic modeling. There is a very helpful quickstart guide!\n",
    "https://maartengr.github.io/BERTopic/index.html\n",
    "\n",
    "### 3) Transkribus\n",
    "For those of you who have not processed your scans of text yet and need to do OCR (Optical Character Recognition), Transkribus is to go-to tool for transcribing texts (free for a while, then talk to your university/send them an email). It's a great team and run by academics for academics. Takes some work to figure out all of the functions and interface but it well worth investing the time!\n",
    "\n",
    "Different models be used to work with either handwritten texts or printed/typed, as well as for a wide selection of languages and time periods. \n",
    "https://www.transkribus.org/\n",
    "\n",
    "### 4) Hugging face\n",
    "Most of the libraries mentioned here have a number of pretrained models avaialble (at different sizes), for everything else, there's hugging face.\n",
    "https://huggingface.co/\n",
    "\n",
    "It's not ideal in many ways, but it is the largest repository of pretrained models and datasets currently out there, have an explore! It will be especially helpful for those of you not working in English.\n",
    "An alternative would be kaggle (more for datasets). \n",
    "\n",
    "### 5) Distant viewing lab\n",
    "Fantastic resource for computer vision (step by step guide)\n",
    "https://distantviewing.org/\n",
    "\n",
    "But they also have a section on sentiment analysis using neural networks.\n",
    "https://distantviewing.org/dvscripts/sentiment.html\n",
    "\n",
    "### 6) GLAM workbench \n",
    "A series of amazing notebooks exploring GLAM data. \n",
    "https://glam-workbench.net/\n",
    "\n",
    "I've added some helpful links based on some of your projects! However, feel free to have an explore of the whole site, there are many more notebooks you may find useful. \n",
    "\n",
    "Here they have a guide on how to run these notebooks:\n",
    "\n",
    "https://glam-workbench.net/trove-newspapers/#data-and-images\n",
    "\n",
    "#### Useful notebooks that have direct relevance to some of your projects include: \n",
    "Finding nouns, verbs, sentences, and cleaning your text:\n",
    "https://glam-workbench.net/trove-books/recipe-generator/\n",
    "\n",
    "Geomapping:\n",
    "https://glam-workbench.net/trove-newspapers/Map-newspaper-results-by-place-of-publication/ OR \n",
    "https://glam-workbench.net/trove-newspapers/Map-newspaper-results-by-place-of-publication-over-time/\n",
    "\n",
    "Topic modeling of parlimentary press releases: \n",
    "https://glam-workbench.net/trove-journals/topic-modelling-parliament-press-releases/?h=topic\n",
    "\n",
    "Topic modeling of books:\n",
    "https://glam-workbench.net/trove-books/exploring-digitised-books-adel-rahmani/?h=topic\n",
    "\n",
    "(Alas, should be noted that the trove notebooks aren't being updated due to issues with the National Library of Australia being weird about their API's terms and conditions, but you can still take and adapt them for yourself!)\n",
    "\n",
    "### 7) Plotly\n",
    "Not nlp related but is a different and really nice plotly library where the visualisations are interactive. Worth an experiment: \n",
    "https://plotly.com/python/\n",
    "\n",
    "## Lastly if you come across any great resources yourself feel free to share! "
   ]
  }
 ],
 "metadata": {
  "kernelspec": {
   "display_name": "berto",
   "language": "python",
   "name": "python3"
  },
  "language_info": {
   "codemirror_mode": {
    "name": "ipython",
    "version": 3
   },
   "file_extension": ".py",
   "mimetype": "text/x-python",
   "name": "python",
   "nbconvert_exporter": "python",
   "pygments_lexer": "ipython3",
   "version": "3.11.6"
  },
  "orig_nbformat": 4
 },
 "nbformat": 4,
 "nbformat_minor": 2
}
