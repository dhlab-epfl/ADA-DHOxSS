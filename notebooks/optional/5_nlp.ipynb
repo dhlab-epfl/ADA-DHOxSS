{
 "cells": [
  {
   "cell_type": "markdown",
   "metadata": {},
   "source": [
    "# (Optional) Chapter V - Natural Language Processing"
   ]
  },
  {
   "cell_type": "markdown",
   "metadata": {},
   "source": [
    "This notebook is aimed to work alongside our explanation to help illustrate how to begin the basics of natural language processing. We will mainly focus on the concepts behind it, as the code is relatively simple.\n",
    "\n",
    "- The basics of Natural language processing\n",
    "- TF/IDF\n",
    "- Keyword extraction\n",
    "- Frequency distributions\n",
    "- Topic modelling\n",
    "\n",
    "\n",
    "- Named entity extraction\n",
    "- Relational data (structuring into networks)"
   ]
  },
  {
   "cell_type": "markdown",
   "metadata": {},
   "source": [
    "## Section A) Setup"
   ]
  },
  {
   "cell_type": "markdown",
   "metadata": {},
   "source": [
    "We'll first import our required packages. For the basics of natural language processing we're going to be using nltk. You'll need to install this in your current enviroment using the terminal."
   ]
  },
  {
   "cell_type": "markdown",
   "metadata": {},
   "source": [
    "To make sure your enviroment is set up, open your terminal. The line should begin with (base).\n",
    "\n",
    "- We have previously used 'conda create -n enviroment_name' to create an enviroment. Now use 'conda activate enviroment_name' to open your enviroment, once you've run this the line should start with (enviroment_name).\n",
    "\n",
    "- Once in the enviroment we can install packages. We want to install them here rather than in the base so that they are only used for this project. \n",
    "\n",
    "- To do this use 'conda install package_name'.\n",
    "In this case 'conda install nltk'.\n"
   ]
  },
  {
   "cell_type": "code",
   "execution_count": 1,
   "metadata": {},
   "outputs": [],
   "source": [
    "# conda activate your_enviroment_name\n",
    "# conda install nltk gensim pyLDAvis"
   ]
  },
  {
   "cell_type": "markdown",
   "metadata": {},
   "source": [
    "These import statements are different to what we have used so far. Instead of importing a whole library, using '.' allows us to import particular functions and subselections."
   ]
  },
  {
   "cell_type": "code",
   "execution_count": null,
   "metadata": {},
   "outputs": [
    {
     "name": "stderr",
     "output_type": "stream",
     "text": [
      "[nltk_data] Downloading package stopwords to\n",
      "[nltk_data]     /Users/ellencharlesworth/nltk_data...\n",
      "[nltk_data]   Package stopwords is already up-to-date!\n"
     ]
    }
   ],
   "source": [
    "# Set up imports\n",
    "import pandas as pd, matplotlib.pyplot as plt\n",
    "import nltk\n",
    "from nltk.corpus import stopwords\n",
    "from nltk.tokenize import word_tokenize\n",
    "nltk.download('stopwords')\n",
    "\n",
    "import gensim\n",
    "from gensim.corpora import Dictionary\n",
    "import pyLDAvis.gensim_models\n",
    "import string # This provides us a list of punctuation later down the line"
   ]
  },
  {
   "cell_type": "markdown",
   "metadata": {},
   "source": [
    "Let's now load in the dataframe and start cleaning. \n",
    "Note: this file is tab seperated (see how this changes read_csv below)"
   ]
  },
  {
   "cell_type": "code",
   "execution_count": 3,
   "metadata": {},
   "outputs": [],
   "source": [
    "df = pd.read_csv('../../data/sample_museum_tweets.tsv', sep='\\t')"
   ]
  },
  {
   "cell_type": "markdown",
   "metadata": {},
   "source": [
    "### A) Data cleaning and Tokenization\n",
    "\n",
    "Let's check what out data looks like."
   ]
  },
  {
   "cell_type": "code",
   "execution_count": 4,
   "metadata": {},
   "outputs": [
    {
     "name": "stdout",
     "output_type": "stream",
     "text": [
      "<class 'pandas.core.frame.DataFrame'>\n",
      "RangeIndex: 50000 entries, 0 to 49999\n",
      "Data columns (total 7 columns):\n",
      " #   Column              Non-Null Count  Dtype  \n",
      "---  ------              --------------  -----  \n",
      " 0   id                  50000 non-null  int64  \n",
      " 1   ts                  50000 non-null  object \n",
      " 2   museum_account      50000 non-null  object \n",
      " 3   original_text       50000 non-null  object \n",
      " 4   is_retweet          50000 non-null  bool   \n",
      " 5   is_reply            50000 non-null  bool   \n",
      " 6   interactions_count  50000 non-null  float64\n",
      "dtypes: bool(2), float64(1), int64(1), object(3)\n",
      "memory usage: 2.0+ MB\n"
     ]
    }
   ],
   "source": [
    "df.info()"
   ]
  },
  {
   "cell_type": "code",
   "execution_count": 5,
   "metadata": {},
   "outputs": [
    {
     "data": {
      "text/html": [
       "<div>\n",
       "<style scoped>\n",
       "    .dataframe tbody tr th:only-of-type {\n",
       "        vertical-align: middle;\n",
       "    }\n",
       "\n",
       "    .dataframe tbody tr th {\n",
       "        vertical-align: top;\n",
       "    }\n",
       "\n",
       "    .dataframe thead th {\n",
       "        text-align: right;\n",
       "    }\n",
       "</style>\n",
       "<table border=\"1\" class=\"dataframe\">\n",
       "  <thead>\n",
       "    <tr style=\"text-align: right;\">\n",
       "      <th></th>\n",
       "      <th>id</th>\n",
       "      <th>ts</th>\n",
       "      <th>museum_account</th>\n",
       "      <th>original_text</th>\n",
       "      <th>is_retweet</th>\n",
       "      <th>is_reply</th>\n",
       "      <th>interactions_count</th>\n",
       "    </tr>\n",
       "  </thead>\n",
       "  <tbody>\n",
       "    <tr>\n",
       "      <th>0</th>\n",
       "      <td>5798944681378</td>\n",
       "      <td>2021-07-22 19:38:34+00:00</td>\n",
       "      <td>ancienthousemus</td>\n",
       "      <td>@AncientHouseMus @artukdotorg Ugh, no wonder h...</td>\n",
       "      <td>False</td>\n",
       "      <td>True</td>\n",
       "      <td>0.0</td>\n",
       "    </tr>\n",
       "    <tr>\n",
       "      <th>1</th>\n",
       "      <td>8702741370361</td>\n",
       "      <td>2019-01-02 08:25:06+00:00</td>\n",
       "      <td>livcathedral</td>\n",
       "      <td>Looking for a fun challenge to take as a famil...</td>\n",
       "      <td>False</td>\n",
       "      <td>False</td>\n",
       "      <td>4.0</td>\n",
       "    </tr>\n",
       "    <tr>\n",
       "      <th>2</th>\n",
       "      <td>4436751452541</td>\n",
       "      <td>2020-04-06 10:07:47+00:00</td>\n",
       "      <td>samuseums</td>\n",
       "      <td>@samuseums A great choice to show the beautifu...</td>\n",
       "      <td>False</td>\n",
       "      <td>True</td>\n",
       "      <td>2.0</td>\n",
       "    </tr>\n",
       "    <tr>\n",
       "      <th>3</th>\n",
       "      <td>7789471450859</td>\n",
       "      <td>2019-06-29 07:42:00+00:00</td>\n",
       "      <td>hull_museums</td>\n",
       "      <td>Our Hands on History Museum is open today 12no...</td>\n",
       "      <td>False</td>\n",
       "      <td>True</td>\n",
       "      <td>1.0</td>\n",
       "    </tr>\n",
       "    <tr>\n",
       "      <th>4</th>\n",
       "      <td>1508119645064</td>\n",
       "      <td>2022-05-18 11:12:56+00:00</td>\n",
       "      <td>ecmfcm</td>\n",
       "      <td>@CynthiaTheBaker @BarnsleyMuseums @SMTrust @Da...</td>\n",
       "      <td>False</td>\n",
       "      <td>True</td>\n",
       "      <td>1.0</td>\n",
       "    </tr>\n",
       "    <tr>\n",
       "      <th>5</th>\n",
       "      <td>3249899610136</td>\n",
       "      <td>2019-11-09 11:56:24+00:00</td>\n",
       "      <td>bm_ag</td>\n",
       "      <td>Yes it is a miserable weather day, but we've g...</td>\n",
       "      <td>False</td>\n",
       "      <td>False</td>\n",
       "      <td>14.0</td>\n",
       "    </tr>\n",
       "    <tr>\n",
       "      <th>6</th>\n",
       "      <td>3071854785518</td>\n",
       "      <td>2022-02-10 10:56:10+00:00</td>\n",
       "      <td>seacitymuseum</td>\n",
       "      <td>RT @SotonStories: \"...Nobody said LGBTQ+ in th...</td>\n",
       "      <td>True</td>\n",
       "      <td>False</td>\n",
       "      <td>1.0</td>\n",
       "    </tr>\n",
       "    <tr>\n",
       "      <th>7</th>\n",
       "      <td>5846312467152</td>\n",
       "      <td>2020-09-11 22:35:33+00:00</td>\n",
       "      <td>trinityhouse_uk</td>\n",
       "      <td>Our support vessels play a huge part in the #V...</td>\n",
       "      <td>False</td>\n",
       "      <td>True</td>\n",
       "      <td>49.0</td>\n",
       "    </tr>\n",
       "    <tr>\n",
       "      <th>8</th>\n",
       "      <td>6250125091251</td>\n",
       "      <td>2019-05-13 22:05:58+00:00</td>\n",
       "      <td>largsmuseum</td>\n",
       "      <td>RT @Scotmaritime: Our FREE Powering Up! Scienc...</td>\n",
       "      <td>True</td>\n",
       "      <td>False</td>\n",
       "      <td>9.0</td>\n",
       "    </tr>\n",
       "    <tr>\n",
       "      <th>9</th>\n",
       "      <td>6455006045973</td>\n",
       "      <td>2022-02-21 09:12:40+00:00</td>\n",
       "      <td>wabbey</td>\n",
       "      <td>@wabbey 💜🙏💜 https://t.co/tlTHjZOTBf</td>\n",
       "      <td>False</td>\n",
       "      <td>True</td>\n",
       "      <td>1.0</td>\n",
       "    </tr>\n",
       "  </tbody>\n",
       "</table>\n",
       "</div>"
      ],
      "text/plain": [
       "              id                         ts   museum_account  \\\n",
       "0  5798944681378  2021-07-22 19:38:34+00:00  ancienthousemus   \n",
       "1  8702741370361  2019-01-02 08:25:06+00:00     livcathedral   \n",
       "2  4436751452541  2020-04-06 10:07:47+00:00        samuseums   \n",
       "3  7789471450859  2019-06-29 07:42:00+00:00     hull_museums   \n",
       "4  1508119645064  2022-05-18 11:12:56+00:00           ecmfcm   \n",
       "5  3249899610136  2019-11-09 11:56:24+00:00            bm_ag   \n",
       "6  3071854785518  2022-02-10 10:56:10+00:00    seacitymuseum   \n",
       "7  5846312467152  2020-09-11 22:35:33+00:00  trinityhouse_uk   \n",
       "8  6250125091251  2019-05-13 22:05:58+00:00      largsmuseum   \n",
       "9  6455006045973  2022-02-21 09:12:40+00:00           wabbey   \n",
       "\n",
       "                                       original_text  is_retweet  is_reply  \\\n",
       "0  @AncientHouseMus @artukdotorg Ugh, no wonder h...       False      True   \n",
       "1  Looking for a fun challenge to take as a famil...       False     False   \n",
       "2  @samuseums A great choice to show the beautifu...       False      True   \n",
       "3  Our Hands on History Museum is open today 12no...       False      True   \n",
       "4  @CynthiaTheBaker @BarnsleyMuseums @SMTrust @Da...       False      True   \n",
       "5  Yes it is a miserable weather day, but we've g...       False     False   \n",
       "6  RT @SotonStories: \"...Nobody said LGBTQ+ in th...        True     False   \n",
       "7  Our support vessels play a huge part in the #V...       False      True   \n",
       "8  RT @Scotmaritime: Our FREE Powering Up! Scienc...        True     False   \n",
       "9                @wabbey 💜🙏💜 https://t.co/tlTHjZOTBf       False      True   \n",
       "\n",
       "   interactions_count  \n",
       "0                 0.0  \n",
       "1                 4.0  \n",
       "2                 2.0  \n",
       "3                 1.0  \n",
       "4                 1.0  \n",
       "5                14.0  \n",
       "6                 1.0  \n",
       "7                49.0  \n",
       "8                 9.0  \n",
       "9                 1.0  "
      ]
     },
     "execution_count": 5,
     "metadata": {},
     "output_type": "execute_result"
    }
   ],
   "source": [
    "df.head(10)"
   ]
  },
  {
   "cell_type": "markdown",
   "metadata": {},
   "source": [
    "✏️ [Ex. 1]\n",
    "\n",
    "Let's clean up the datatypes first.\n",
    "- Rename 'original_text' to 'text'\n",
    "- Make sure that the column's datatype is a string\n",
    "- How many null values are there in 'text'?\n",
    "\n",
    "The dataset we have has already been cleaned so there is not much to do! But you may want to be wary of duplicates in your own dataset. The pandas function drop_duplicates() will help. You can check the length of the df before and after to see how many it found. Check the documentation for more details."
   ]
  },
  {
   "cell_type": "code",
   "execution_count": 6,
   "metadata": {},
   "outputs": [],
   "source": [
    "df = df.rename(columns={'original_text':'text'})\n",
    "df['text'] = df['text'].astype(str)\n",
    "\n",
    "# # Note it's always useful to check that there aren't a number of \"NaN\" strings in the column. As there would be more that one, we can identify it by using 'NaN'.\n",
    "# df['text'].value_counts()"
   ]
  },
  {
   "cell_type": "markdown",
   "metadata": {},
   "source": [
    "To make our dataset more homogenous, for now we will focus on all of the tweets that are not replies. This is becuase replies tend to have different characteristics (shorter, more boring vocabulary) so we'll drop them for this exercise. \n",
    "\n",
    "Here we can use loc, or simply a tilda (~) for 'not'.\n",
    "\n",
    "When we do this we drop more than half the tweets. "
   ]
  },
  {
   "cell_type": "code",
   "execution_count": 7,
   "metadata": {},
   "outputs": [
    {
     "name": "stdout",
     "output_type": "stream",
     "text": [
      "50000\n",
      "23622\n"
     ]
    }
   ],
   "source": [
    "print(len(df))\n",
    "df = df[~df[\"is_reply\"]]\n",
    "print(len(df))"
   ]
  },
  {
   "cell_type": "markdown",
   "metadata": {},
   "source": [
    "## Section B) Preprocessing Tweets\n",
    "https://towardsdatascience.com/lda-topic-modeling-with-tweets-deff37c0e131\n",
    "\n",
    "https://medium.com/swlh/quick-text-pre-processing-c444f0ed9dcc\n",
    "\n",
    "Here we will: \n",
    "- Remove URLs (you could also remove mentions using what we learnt yesterday or the code below, but we will leave them for now)\n",
    "- Remove stop words, punctuation, and lowercase all words\n",
    "- Tokenize each tweet\n",
    "- Remove any remaining special characters\n",
    "- Lemmatize/Stem the tweets\n",
    "\n",
    "To remove urls, we will need to use regex with string operators. Here are some helpful guides:\n",
    "https://blog.hpc.qmul.ac.uk/Beginners-Guide-to-Regular-Expressions/\n",
    "\n",
    "And for a more full description: https://regexone.com/\n",
    "\n",
    "You can test your regex with this site: \n",
    "https://regex101.com/ "
   ]
  },
  {
   "cell_type": "code",
   "execution_count": 8,
   "metadata": {},
   "outputs": [
    {
     "data": {
      "text/html": [
       "<div>\n",
       "<style scoped>\n",
       "    .dataframe tbody tr th:only-of-type {\n",
       "        vertical-align: middle;\n",
       "    }\n",
       "\n",
       "    .dataframe tbody tr th {\n",
       "        vertical-align: top;\n",
       "    }\n",
       "\n",
       "    .dataframe thead th {\n",
       "        text-align: right;\n",
       "    }\n",
       "</style>\n",
       "<table border=\"1\" class=\"dataframe\">\n",
       "  <thead>\n",
       "    <tr style=\"text-align: right;\">\n",
       "      <th></th>\n",
       "      <th>id</th>\n",
       "      <th>ts</th>\n",
       "      <th>museum_account</th>\n",
       "      <th>text</th>\n",
       "      <th>is_retweet</th>\n",
       "      <th>is_reply</th>\n",
       "      <th>interactions_count</th>\n",
       "    </tr>\n",
       "  </thead>\n",
       "  <tbody>\n",
       "    <tr>\n",
       "      <th>1</th>\n",
       "      <td>8702741370361</td>\n",
       "      <td>2019-01-02 08:25:06+00:00</td>\n",
       "      <td>livcathedral</td>\n",
       "      <td>Looking for a fun challenge to take as a famil...</td>\n",
       "      <td>False</td>\n",
       "      <td>False</td>\n",
       "      <td>4.0</td>\n",
       "    </tr>\n",
       "    <tr>\n",
       "      <th>5</th>\n",
       "      <td>3249899610136</td>\n",
       "      <td>2019-11-09 11:56:24+00:00</td>\n",
       "      <td>bm_ag</td>\n",
       "      <td>Yes it is a miserable weather day, but we've g...</td>\n",
       "      <td>False</td>\n",
       "      <td>False</td>\n",
       "      <td>14.0</td>\n",
       "    </tr>\n",
       "    <tr>\n",
       "      <th>6</th>\n",
       "      <td>3071854785518</td>\n",
       "      <td>2022-02-10 10:56:10+00:00</td>\n",
       "      <td>seacitymuseum</td>\n",
       "      <td>RT @SotonStories: \"...Nobody said LGBTQ+ in th...</td>\n",
       "      <td>True</td>\n",
       "      <td>False</td>\n",
       "      <td>1.0</td>\n",
       "    </tr>\n",
       "    <tr>\n",
       "      <th>8</th>\n",
       "      <td>6250125091251</td>\n",
       "      <td>2019-05-13 22:05:58+00:00</td>\n",
       "      <td>largsmuseum</td>\n",
       "      <td>RT @Scotmaritime: Our FREE Powering Up! Scienc...</td>\n",
       "      <td>True</td>\n",
       "      <td>False</td>\n",
       "      <td>9.0</td>\n",
       "    </tr>\n",
       "    <tr>\n",
       "      <th>11</th>\n",
       "      <td>3284713454042</td>\n",
       "      <td>2020-01-04 14:16:54+00:00</td>\n",
       "      <td>tateliverpool</td>\n",
       "      <td>RT @its_jess13: Definitely recommend a visit t...</td>\n",
       "      <td>True</td>\n",
       "      <td>False</td>\n",
       "      <td>3.0</td>\n",
       "    </tr>\n",
       "  </tbody>\n",
       "</table>\n",
       "</div>"
      ],
      "text/plain": [
       "               id                         ts museum_account  \\\n",
       "1   8702741370361  2019-01-02 08:25:06+00:00   livcathedral   \n",
       "5   3249899610136  2019-11-09 11:56:24+00:00          bm_ag   \n",
       "6   3071854785518  2022-02-10 10:56:10+00:00  seacitymuseum   \n",
       "8   6250125091251  2019-05-13 22:05:58+00:00    largsmuseum   \n",
       "11  3284713454042  2020-01-04 14:16:54+00:00  tateliverpool   \n",
       "\n",
       "                                                 text  is_retweet  is_reply  \\\n",
       "1   Looking for a fun challenge to take as a famil...       False     False   \n",
       "5   Yes it is a miserable weather day, but we've g...       False     False   \n",
       "6   RT @SotonStories: \"...Nobody said LGBTQ+ in th...        True     False   \n",
       "8   RT @Scotmaritime: Our FREE Powering Up! Scienc...        True     False   \n",
       "11  RT @its_jess13: Definitely recommend a visit t...        True     False   \n",
       "\n",
       "    interactions_count  \n",
       "1                  4.0  \n",
       "5                 14.0  \n",
       "6                  1.0  \n",
       "8                  9.0  \n",
       "11                 3.0  "
      ]
     },
     "execution_count": 8,
     "metadata": {},
     "output_type": "execute_result"
    }
   ],
   "source": [
    "def remove_urls(df, text_column_name):\n",
    "    df[text_column_name] = df[text_column_name].str.replace(r\"http\\S+\", \"\", regex=True)\n",
    "    return (df)\n",
    "\n",
    "df = remove_urls(df, 'text')\n",
    "df.head()"
   ]
  },
  {
   "cell_type": "markdown",
   "metadata": {},
   "source": [
    "### Removing stopwords and tokenization"
   ]
  },
  {
   "cell_type": "code",
   "execution_count": 9,
   "metadata": {},
   "outputs": [],
   "source": [
    "# Get a predefined list of stopwords\n",
    "stop_words = stopwords.words('english')\n",
    "\n",
    "# Add punctuation to our stopwords list\n",
    "stop_words += list(string.punctuation) # This comes from python itself and is a full list of non-alphabetical characters. e.g. -./:;<=>?@\n",
    "\n",
    "# Add integers\n",
    "stop_words += ['0', '1', '2', '3', '4', '5', '6', '7', '8', '9']"
   ]
  },
  {
   "cell_type": "code",
   "execution_count": 10,
   "metadata": {},
   "outputs": [
    {
     "data": {
      "text/plain": [
       "1     [looking, challenge, take, family, year, helpi...\n",
       "5     [miserable, weather, something, cheer, come, a...\n",
       "6     [sotonstories, nobody, said, lgbtq+, days, sce...\n",
       "8     [scotmaritime, free, powering, science, festiv...\n",
       "11    [its_jess13, definitely, recommend, visit, the...\n",
       "12    [marina_white, riverside, picnic, reached, who...\n",
       "14    [milestoneshct, spitfire, back, meet, book, sl...\n",
       "15    [heard, displaying, entrants, year, european, ...\n",
       "18    [insideoutproject, discover, free, outdoor, di...\n",
       "20    [heritagefunduk, 19-27, march, 2022, anyone, p...\n",
       "21    [join, castle, course, dinner, ceremonial, bea...\n",
       "22    [looking, something, tomorrow, visit, wonderfu...\n",
       "26    [fact, fiction, tours, offering, opportunity, ...\n",
       "27    [lt_ccf_sbr, forget, join, lecture, tonight, a...\n",
       "29    [saturday, monday, april, inviting, budding, n...\n",
       "31    [kscotcher, finally, edinburgh, check, teviotp...\n",
       "33    [first, national, lockdown, passenger, trains,...\n",
       "35                                [little, wave, hello]\n",
       "39    [sure, many, enjoyed, drink, festive, period, ...\n",
       "40    [merton_council, parks, reminder, weather, wee...\n",
       "Name: text_tokens, dtype: object"
      ]
     },
     "execution_count": 10,
     "metadata": {},
     "output_type": "execute_result"
    }
   ],
   "source": [
    "def tokenize_and_lowercase_new(text):\n",
    "    tokens = word_tokenize(text)\n",
    "\n",
    "    short_removed = []\n",
    "    for token in tokens:\n",
    "        token_lower = token.lower()\n",
    "        if (token_lower not in stop_words)&(len(token_lower)>3):\n",
    "            short_removed.append(token_lower)\n",
    "    return short_removed\n",
    "\n",
    "df['text_tokens'] = df['text'].apply(tokenize_and_lowercase_new)\n",
    "df['text_tokens'].head(20)"
   ]
  },
  {
   "cell_type": "markdown",
   "metadata": {},
   "source": [
    "Great! Each row is now a list of words that were in that tweet. However, it's a little bit cleaner than the method we used before, as we now don't have any punctuation or common words such as 'a' or 'the'. This is a much better start for analysis. \n",
    "\n",
    "There is one last step, we still need to lemmatize or perform stemming. Lemmatizing is a little bit more sophisticated (remember our example of leaf and leaves) so we will lemmatize using nltk. "
   ]
  },
  {
   "cell_type": "code",
   "execution_count": 11,
   "metadata": {},
   "outputs": [
    {
     "data": {
      "text/plain": [
       "1     [looking, challenge, take, family, year, helpi...\n",
       "5     [miserable, weather, something, cheer, come, a...\n",
       "6     [sotonstories, nobody, said, lgbtq+, day, scen...\n",
       "8     [scotmaritime, free, powering, science, festiv...\n",
       "11    [its_jess13, definitely, recommend, visit, the...\n",
       "Name: text_lemmatized, dtype: object"
      ]
     },
     "execution_count": 11,
     "metadata": {},
     "output_type": "execute_result"
    }
   ],
   "source": [
    "from nltk.stem import WordNetLemmatizer\n",
    "\n",
    "lemmatizer = WordNetLemmatizer()\n",
    "\n",
    "def lemmatize_text(df_text):\n",
    "    lemmatized_words =[]\n",
    "    for w in df_text:\n",
    "        lemmatized_words.append(lemmatizer.lemmatize(w))\n",
    "    return lemmatized_words\n",
    "\n",
    "df['text_lemmatized'] = df['text_tokens'].apply(lemmatize_text)\n",
    "df['text_lemmatized'].head()"
   ]
  },
  {
   "cell_type": "code",
   "execution_count": 12,
   "metadata": {},
   "outputs": [],
   "source": [
    "# You may want to save the dataframe for ease of access later.\n",
    "df.to_pickle(\"../../data/lemmatized_museum_tweets.pkl\")  \n",
    "\n",
    "# to read it back to a dataframe we would use: \n",
    "# df = pd.read_pickle(\"../../data/lemmatized_museum_tweets.pkl\") "
   ]
  },
  {
   "cell_type": "markdown",
   "metadata": {},
   "source": [
    "https://www.youtube.com/watch?v=UkmIljRIG_M&t=179s\n",
    "For evalutation of topic models"
   ]
  },
  {
   "cell_type": "markdown",
   "metadata": {},
   "source": [
    "## Section C) Basic Analysis"
   ]
  },
  {
   "cell_type": "code",
   "execution_count": 13,
   "metadata": {},
   "outputs": [],
   "source": [
    "df = pd.read_pickle(\"../../data/lemmatized_museum_tweets.pkl\") "
   ]
  },
  {
   "cell_type": "markdown",
   "metadata": {},
   "source": [
    "We saw how to visualise the length of museum tweets yesterday, but using nltk, we can do additional checks on the most common words and how they change over time."
   ]
  },
  {
   "cell_type": "code",
   "execution_count": 14,
   "metadata": {},
   "outputs": [
    {
     "data": {
      "text/plain": [
       "[('museum', 2145),\n",
       " ('today', 2051),\n",
       " ('year', 1467),\n",
       " ('book', 1317),\n",
       " ('exhibition', 1267),\n",
       " ('time', 1213),\n",
       " ('week', 1198),\n",
       " ('open', 1194),\n",
       " ('join', 1183),\n",
       " ('visit', 1167),\n",
       " ('find', 1129),\n",
       " ('great', 1082),\n",
       " ('free', 1024),\n",
       " ('ticket', 970),\n",
       " ('work', 962),\n",
       " ('collection', 920),\n",
       " ('first', 911),\n",
       " ('looking', 861),\n",
       " ('event', 849),\n",
       " ('part', 818),\n",
       " ('look', 812),\n",
       " ('history', 788),\n",
       " ('like', 766),\n",
       " ('come', 735),\n",
       " ('take', 723),\n",
       " ('back', 717),\n",
       " ('last', 710),\n",
       " ('garden', 697),\n",
       " ('next', 677),\n",
       " ('weekend', 674)]"
      ]
     },
     "execution_count": 14,
     "metadata": {},
     "output_type": "execute_result"
    }
   ],
   "source": [
    "from nltk.probability import FreqDist\n",
    "\n",
    "#iterate through each tweet, then each token in each tweet, and store in one list\n",
    "#flat_words = [item for sublist in df['text'] for item in sublist]\n",
    "\n",
    "flat_words = []\n",
    "for sublist in df['text_lemmatized']:\n",
    "    for item in sublist:\n",
    "        flat_words.append(item)\n",
    "\n",
    "word_freq = FreqDist(flat_words)\n",
    "word_freq.most_common(30)"
   ]
  },
  {
   "cell_type": "markdown",
   "metadata": {},
   "source": [
    "It is currently a list of tuples, but we can easily convert it into a dictionary, which we could turn into a wordcloud."
   ]
  },
  {
   "cell_type": "code",
   "execution_count": 15,
   "metadata": {},
   "outputs": [
    {
     "data": {
      "text/plain": [
       "{'museum': 2145,\n",
       " 'today': 2051,\n",
       " 'year': 1467,\n",
       " 'book': 1317,\n",
       " 'exhibition': 1267,\n",
       " 'time': 1213,\n",
       " 'week': 1198,\n",
       " 'open': 1194,\n",
       " 'join': 1183,\n",
       " 'visit': 1167,\n",
       " 'find': 1129,\n",
       " 'great': 1082,\n",
       " 'free': 1024,\n",
       " 'ticket': 970,\n",
       " 'work': 962,\n",
       " 'collection': 920,\n",
       " 'first': 911,\n",
       " 'looking': 861,\n",
       " 'event': 849,\n",
       " 'part': 818,\n",
       " 'look': 812,\n",
       " 'history': 788,\n",
       " 'like': 766,\n",
       " 'come': 735,\n",
       " 'take': 723,\n",
       " 'back': 717,\n",
       " 'last': 710,\n",
       " 'garden': 697,\n",
       " 'next': 677,\n",
       " 'weekend': 674}"
      ]
     },
     "execution_count": 15,
     "metadata": {},
     "output_type": "execute_result"
    }
   ],
   "source": [
    "top_30_words = dict(word_freq.most_common(30))\n",
    "top_30_words"
   ]
  },
  {
   "cell_type": "code",
   "execution_count": 16,
   "metadata": {},
   "outputs": [
    {
     "data": {
      "text/plain": [
       "{'london': 61,\n",
       " 'museum': 57,\n",
       " 'rafmuseum': 55,\n",
       " 'cosford': 53,\n",
       " 'free': 42,\n",
       " 'aircraft': 38,\n",
       " 'story': 29,\n",
       " 'detail': 28,\n",
       " 'ticket': 27,\n",
       " 'year': 27}"
      ]
     },
     "execution_count": 16,
     "metadata": {},
     "output_type": "execute_result"
    }
   ],
   "source": [
    "raf_museums_tweets = df.loc[df['museum_account']=='rafmuseum']\n",
    "horniman_tweets = df.loc[df['museum_account']=='hornimanmuseum']\n",
    "\n",
    "#flat_words_raf = [item for sublist in raf_museums_tweets['text'] for item in sublist]\n",
    "flat_words_raf = []\n",
    "for sublist in raf_museums_tweets['text_lemmatized']:\n",
    "    for item in sublist:\n",
    "        flat_words_raf.append(item)\n",
    "\n",
    "word_freq_raf = FreqDist(flat_words_raf)\n",
    "top_10_words_raf = dict(word_freq_raf.most_common(10))\n",
    "top_10_words_raf"
   ]
  },
  {
   "cell_type": "code",
   "execution_count": 17,
   "metadata": {},
   "outputs": [
    {
     "data": {
      "image/png": "[encoded data removed]",
      "text/plain": [
       "<Figure size 640x480 with 1 Axes>"
      ]
     },
     "metadata": {},
     "output_type": "display_data"
    }
   ],
   "source": [
    "import matplotlib.pyplot as plt\n",
    "\n",
    "plt.bar(range(len(top_10_words_raf)), list(top_10_words_raf.values()), align='center')\n",
    "plt.xticks(range(len(top_10_words_raf)), list(top_10_words_raf.keys()))\n",
    "\n",
    "plt.show()\n"
   ]
  },
  {
   "cell_type": "code",
   "execution_count": 18,
   "metadata": {},
   "outputs": [
    {
     "data": {
      "image/png": "[encoded data removed]",
      "text/plain": [
       "<Figure size 640x480 with 1 Axes>"
      ]
     },
     "metadata": {},
     "output_type": "display_data"
    }
   ],
   "source": [
    "flat_words_horn = [item for sublist in horniman_tweets['text_lemmatized'] for item in sublist]\n",
    "word_freq_horn = FreqDist(flat_words_horn)\n",
    "top_10_words_horn = dict(word_freq_horn.most_common(10))\n",
    "\n",
    "plt.bar(range(len(top_10_words_horn)), list(top_10_words_horn.values()), align='center')\n",
    "plt.xticks(range(len(top_10_words_horn)), list(top_10_words_horn.keys()))\n",
    "\n",
    "plt.show()"
   ]
  },
  {
   "cell_type": "markdown",
   "metadata": {},
   "source": [
    "## Section D) Topic modeling\n",
    "\n",
    "So what is our data about? One interesting thing we can try is topic modeling. \n",
    "\n",
    "For this notebook, we're going to be using LDA (Latent Dirichlet Allocation). This is a white box/transparent box model. With this approach you can specifiy the number of clusters, which can be limiting. However, it means that you can label your data manually to create a test dataset to check your parameters agains, just as we discussed earlier this week. "
   ]
  },
  {
   "cell_type": "code",
   "execution_count": 19,
   "metadata": {},
   "outputs": [],
   "source": [
    "# First we have to create a bag of words\n",
    "\n",
    "#create dictionary\n",
    "text_dict = gensim.corpora.Dictionary(df['text_lemmatized'])\n",
    "\n",
    "#view integer mappings\n",
    "text_dict.token2id\n",
    "\n",
    "tweets_bow = []\n",
    "for tweet in df['text_lemmatized']:\n",
    "    tweets_bow.append(text_dict.doc2bow(tweet))"
   ]
  },
  {
   "cell_type": "code",
   "execution_count": 20,
   "metadata": {},
   "outputs": [
    {
     "name": "stdout",
     "output_type": "stream",
     "text": [
      "327423 words total, with a vocabulary size of 56173\n",
      "Max tweet length is 24\n"
     ]
    }
   ],
   "source": [
    "all_words = []\n",
    "for tokens in df['text_lemmatized']:\n",
    "    for word in tokens:\n",
    "        all_words.append(word)\n",
    "\n",
    "\n",
    "tweet_length_in_lemmas = []\n",
    "for tokens in df['text_lemmatized']:\n",
    "    tweet_length_in_lemmas.append(len(tokens))\n",
    "\n",
    "tweet_length_in_lemmas = [len(tokens) ]\n",
    "vocab = sorted(list(set(all_words)))\n",
    "\n",
    "print('{} words total, with a vocabulary size of {}'.format(len(all_words), len(vocab)))\n",
    "print('Max tweet length is {}'.format(max(tweet_length_in_lemmas)))"
   ]
  },
  {
   "cell_type": "code",
   "execution_count": 21,
   "metadata": {},
   "outputs": [],
   "source": [
    "from gensim.models.ldamodel import LdaModel\n",
    "\n",
    "# When we train a model there are a number of parameters that we can add.\n",
    "\n",
    "# k here represents the number of topics\n",
    "k = 7\n",
    "tweets_lda = LdaModel(tweets_bow,\n",
    "                      num_topics = k,\n",
    "                      id2word = text_dict,\n",
    "                      random_state = 1,\n",
    "                      passes=10)\n",
    "\n",
    "tweets_lda.show_topics()\n",
    "tweets_lda.save(\"lda_museum_tweets_7.model\") # The seven here refers to the number of clusters we chose"
   ]
  },
  {
   "cell_type": "code",
   "execution_count": 22,
   "metadata": {},
   "outputs": [
    {
     "name": "stdout",
     "output_type": "stream",
     "text": [
      "Serving to http://127.0.0.1:8888/    [Ctrl-C to exit]\n"
     ]
    },
    {
     "name": "stderr",
     "output_type": "stream",
     "text": [
      "127.0.0.1 - - [08/Aug/2025 08:15:46] \"GET / HTTP/1.1\" 200 -\n",
      "127.0.0.1 - - [08/Aug/2025 08:15:47] code 404, message Not Found\n",
      "127.0.0.1 - - [08/Aug/2025 08:15:47] \"GET /favicon.ico HTTP/1.1\" 404 -\n"
     ]
    },
    {
     "name": "stdout",
     "output_type": "stream",
     "text": [
      "\n",
      "stopping Server...\n"
     ]
    },
    {
     "data": {
      "text/html": [
       "\n",
       "<link rel=\"stylesheet\" type=\"text/css\" href=\"https://cdn.jsdelivr.net/gh/bmabey/pyLDAvis@3.4.0/pyLDAvis/js/ldavis.v1.0.0.css\">\n",
       "\n",
       "\n",
       "<div id=\"ldavis_el24366129236220482827549030\" style=\"background-color:white;\"></div>\n",
       "<script type=\"text/javascript\">\n",
       "\n",
       "var ldavis_el24366129236220482827549030_data = {\"mdsDat\": {\"x\": [0.28641342672649045, 0.2690405629188939, -0.01503290137051696, -0.06993683847561855, -0.14344226723223016, -0.15927534286584152, -0.1677666397011773], \"y\": [0.031060000893878555, 0.039392537565069795, -0.2741405790380282, 0.08968936733325848, 0.060308169195017615, 0.03715412556171235, 0.016536378489091483], \"topics\": [1, 2, 3, 4, 5, 6, 7], \"cluster\": [1, 1, 1, 1, 1, 1, 1], \"Freq\": [32.62231184401763, 31.043097703838974, 9.956681893562466, 8.907166704212795, 6.535769812316413, 5.55488572275361, 5.380086319298111]}, \"tinfo\": {\"Term\": [\"book\", \"join\", \"ticket\", \"free\", \"event\", \"help\", \"today\", \"saturday\", \"photo\", \"open\", \"talk\", \"woman\", \"tour\", \"visit\", \"onthisday\", \"look\", \"find\", \"exhibition\", \"tomorrow\", \"love\", \"museum\", \"beautiful\", \"next\", \"visitor\", \"half\", \"activity\", \"family\", \"online\", \"happy\", \"week\", \"saturday\", \"talk\", \"tour\", \"event\", \"activity\", \"workshop\", \"session\", \"thursday\", \"wednesday\", \"holiday\", \"ticket\", \"craft\", \"miss\", \"december\", \"virtual\", \"booking\", \"steam\", \"performance\", \"join\", \"featuring\", \"train\", \"theatre\", \"lecture\", \"bank\", \"class\", \"book\", \"hosting\", \"currently\", \"11am\", \"discus\", \"free\", \"10am\", \"entry\", \"february\", \"september\", \"easter\", \"apply\", \"friday\", \"chance\", \"music\", \"tomorrow\", \"next\", \"sunday\", \"open\", \"online\", \"family\", \"october\", \"detail\", \"exhibition\", \"child\", \"weekend\", \"museum\", \"find\", \"week\", \"come\", \"visit\", \"christmas\", \"looking\", \"available\", \"history\", \"great\", \"last\", \"time\", \"year\", \"today\", \"first\", \"part\", \"help\", \"visitor\", \"photo\", \"building\", \"art\", \"think\", \"stay\", \"area\", \"seeing\", \"huge\", \"trip\", \"safe\", \"visited\", \"feel\", \"face\", \"spot\", \"outside\", \"health\", \"nationaltrust\", \"selection\", \"wildlife\", \"covid-19\", \"helping\", \"river\", \"enjoying\", \"list\", \"throwbackthursday\", \"estate\", \"raise\", \"without\", \"photograph\", \"always\", \"city\", \"beautiful\", \"many\", \"staff\", \"love\", \"thanks\", \"tell\", \"amazing\", \"favourite\", \"view\", \"taken\", \"know\", \"look\", \"like\", \"would\", \"lovely\", \"support\", \"thank\", \"people\", \"could\", \"today\", \"collection\", \"volunteer\", \"year\", \"house\", \"time\", \"need\", \"museum\", \"garden\", \"work\", \"great\", \"make\", \"visit\", \"week\", \"happy\", \"take\", \"find\", \"exhibition\", \"half\", \"done\", \"question\", \"proud\", \"coffee\", \"paper\", \"cake\", \"note\", \"guess\", \"flying\", \"vote\", \"copy\", \"included\", \"upcoming\", \"normal\", \"charraig\", \"mh\\u00f3r\", \"dylan\", \"21st\", \"table\", \"exhibit\", \"vehicle\", \"boy\", \"sorry\", \"body\", \"30th\", \"wind\", \"dinosaur\", \"former\", \"though\", \"essential\", \"receive\", \"tweet\", \"match\", \"hold\", \"term\", \"answer\", \"birthday\", \"happy\", \"today\", \"well\", \"round\", \"service\", \"artist\", \"museum\", \"royal\", \"print\", \"first\", \"queen\", \"flower\", \"lockdown\", \"rose\", \"aircraft\", \"natural\", \"died\", \"worked\", \"power\", \"supporting\", \"result\", \"impact\", \"focus\", \"race\", \"helped\", \"stem\", \"bexhillmuseum\", \"bloom\", \"machine\", \"global\", \"reach\", \"staffordshire\", \"brick\", \"largest\", \"gardening\", \"coat\", \"added\", \"moved\", \"success\", \"interest\", \"northern\", \"mary\", \"onthisday\", \"stage\", \"contribution\", \"woman\", \"scotland\", \"bexhill\", \"black\", \"female\", \"plant\", \"britain\", \"known\", \"competition\", \"first\", \"british\", \"george\", \"world\", \"research\", \"collection\", \"garden\", \"made\", \"year\", \"history\", \"tree\", \"recently\", \"fund\", \"manager\", \"island\", \"test\", \"transport\", \"hospital\", \"michael\", \"silver\", \"football\", \"graduate\", \"breakfast\", \"12th\", \"recruiting\", \"recorded\", \"notice\", \"engagement\", \"academy\", \"despite\", \"true\", \"youth\", \"researcher\", \"leader\", \"effect\", \"blossom\", \"speak\", \"distancing\", \"creativity\", \"specimen\", \"product\", \"cumbria\", \"officer\", \"fan\", \"partnership\", \"onthisday\", \"team\", \"training\", \"discovered\", \"army\", \"went\", \"series\", \"hepworth\", \"wakefield\", \"discussion\", \"beach\", \"insight\", \"glasgow\", \"scientist\", \"collaboration\", \"illustration\", \"else\", \"23rd\", \"historical\", \"pandemic\", \"parade\", \"underway\", \"putting\", \"diary\", \"showcase\", \"joseph\", \"barbara\", \"onto\", \"grand\", \"preview\", \"fully\", \"silk\", \"storytelling\", \"passing\", \"returned\", \"museumsfromhome\", \"turner\", \"church\", \"26th\", \"john\", \"wedding\", \"director\", \"film\", \"panel\", \"scene\", \"called\", \"heart\", \"snow\", \"gwflatout\", \"goodwoodrevival\", \"path\", \"system\", \"heading\", \"orkney\", \"palace\", \"gwspeedweek\", \"recipe\", \"sunset\", \"marking\", \"bright\", \"language\", \"beer\", \"double\", \"finest\", \"revealed\", \"campus\", \"peace\", \"wondered\", \"icon\", \"rifle\", \"solo\", \"clean\", \"cafc\", \"wartime\", \"cold\", \"roman\", \"mind\", \"britain\", \"watching\"], \"Freq\": [1284.0, 1147.0, 950.0, 970.0, 806.0, 542.0, 1998.0, 516.0, 479.0, 1116.0, 497.0, 317.0, 473.0, 1167.0, 269.0, 825.0, 1062.0, 1217.0, 540.0, 567.0, 2021.0, 500.0, 666.0, 381.0, 185.0, 390.0, 630.0, 628.0, 471.0, 1150.0, 515.2732353029448, 496.296296368562, 472.7290265393018, 804.9342612026911, 389.9508950111133, 353.15396316820437, 297.1658431268651, 276.6979630863982, 261.3274995466043, 254.7351877166337, 947.8801267087973, 213.83896986783395, 209.09668737651657, 180.7919721403101, 166.98182269813375, 166.6407647286447, 139.5988393799069, 135.39987710584393, 1140.8021510734939, 125.1539376346641, 124.94676369454244, 122.6599916454341, 122.02855939770718, 119.23972534713722, 114.64668369546573, 1275.965558170377, 108.5824471844488, 116.74796785880521, 115.61756984100077, 105.80269043873982, 962.3524841925786, 144.26865264830676, 217.5436542402202, 187.2163911343451, 189.17833245073643, 268.320431387549, 164.4264867717823, 358.5580184878799, 243.84371508853195, 196.01941217255467, 484.00652088261495, 564.7471332054464, 376.68049703756793, 889.7203174354571, 526.3806731787528, 525.329446667866, 217.63651631241444, 295.72309877919355, 846.402622820345, 320.4044896508294, 499.01366840401414, 1092.6437909039682, 679.2869533968363, 682.8853959983566, 490.4647372939269, 681.5278291004079, 423.1639576789363, 513.4243996920542, 356.20428577209157, 470.96758174836043, 534.4526603090485, 423.05184674657113, 549.3157646804345, 591.2835521507411, 682.7020095708364, 461.21079709720976, 432.96859091790213, 542.2140166295462, 380.87178614635707, 478.06177284617075, 238.44568770526212, 178.73963364642896, 208.6121964871349, 167.15514603884304, 158.05026287386175, 139.97508183620997, 134.45908458018275, 132.70828067599953, 127.46600959959473, 125.19325283545719, 117.56188574803602, 112.59631086253987, 111.32435324016014, 103.72686321374529, 101.90816319497803, 95.7181627003967, 89.03214665558016, 88.88715449105317, 87.04085466620933, 86.55979566683403, 86.27891661142458, 85.52182405314073, 85.4507035239132, 85.19309350115094, 99.48695319738427, 81.81111443423542, 79.47187556487121, 133.10162376435852, 149.77637940060666, 219.7277536274906, 461.45072454364873, 392.09592027301875, 179.96052127394202, 503.17315910799, 402.5414144686783, 136.67996672488204, 352.4799691716412, 257.52104075081445, 256.965423818711, 147.9585313372681, 496.8024730662322, 633.659930505433, 554.0272779351747, 371.5368395174758, 326.3796283150663, 367.88218738250947, 384.15595599696866, 417.19746171655044, 245.3205657028281, 1136.4082951704868, 563.5366624380885, 293.9683802893162, 732.098599878622, 391.9618792855652, 598.1855477319696, 269.11710075297395, 807.1087789468767, 412.72526368600336, 476.88489108309443, 502.3611035918388, 376.86253122961045, 484.7606510514182, 445.3099083069286, 313.8526176835906, 361.3921329190152, 380.91012414064994, 336.86554306273337, 185.01786885809662, 131.52271457581864, 127.46228226587874, 107.12745168790343, 89.7964866452542, 84.43762744987782, 79.98707198791831, 78.19185423337109, 76.63836755305718, 69.66683183477977, 69.0201915334615, 63.7818676933407, 58.615254040170605, 58.287664296480536, 57.60536055897408, 57.282875350952104, 56.89523046048734, 56.95000269748509, 52.856848226556096, 52.394521512391094, 52.22765822635449, 49.764178951380345, 48.53273723660699, 47.94198495926523, 47.831176685732565, 47.26943107464453, 48.231281197460056, 47.22300826401838, 45.76525155224876, 46.852244395599485, 77.92540126669023, 55.7208418941887, 58.6105745662087, 51.917678181920905, 57.04626019796832, 85.71760969342067, 64.12614490419257, 79.3589598227574, 108.90600854164549, 163.24286849644534, 87.96882757405949, 58.48776209466995, 70.36591412409935, 78.49061948011008, 88.73527455342273, 65.85875714172795, 62.027596284758616, 65.93930633505114, 58.497754839959235, 147.85893878532073, 134.41069715585778, 98.72531931205549, 98.01823188935423, 87.59151716892347, 73.73746010587318, 69.03935403419814, 66.4896850075029, 63.23468045526631, 56.5343596387733, 55.97987739735914, 54.664504798566824, 52.66602811338658, 49.84519528365142, 45.84804838976746, 45.30986965641908, 44.67497669342434, 43.332650002475795, 42.76170468096772, 42.32980431350502, 42.190576021384764, 41.40189636506484, 41.262834435271785, 41.123276813646655, 39.516474764241615, 38.863940604264414, 38.76678500517855, 38.57260282268913, 37.911594369473235, 37.15713442531387, 98.82651513908769, 190.37427783545021, 68.26243517586653, 46.66382812967362, 172.6397006601835, 84.68657969491396, 60.811779521898856, 81.94116671694331, 46.21223589490948, 61.53925142240664, 66.08592024423453, 58.23790986932004, 64.32222833482956, 121.91491719627021, 71.00373323260108, 60.75290762896662, 86.28138328586326, 61.78295525600965, 85.00663365125399, 77.19700883697918, 66.42652843585783, 71.87224643508067, 66.84676646466872, 60.101215466074024, 101.9740158521524, 72.88588006572576, 72.83213399133719, 72.65422437066485, 59.79037774459918, 57.45148431012208, 55.59895124510504, 47.193826534564245, 44.77911461357831, 44.11682267031087, 42.06806436679888, 38.940642728675286, 38.496772998168204, 36.24999327002824, 35.583710355630245, 35.227385391976256, 34.62664707835527, 34.43833900980595, 34.51888836658752, 34.01975290352105, 33.11115924816617, 32.82829605523481, 32.74815526228933, 32.32479842584526, 32.27179225059887, 31.03810883510737, 30.81383967525375, 30.8123723331839, 30.746080359536002, 30.471575286544095, 35.49793187999535, 68.22504859596914, 40.504774567787685, 45.55860458797284, 71.81194012765818, 59.99451018806813, 38.209261145979916, 35.795032526117154, 35.05161076647175, 34.62979102689881, 36.74242479844282, 73.49808847809535, 62.12506418099626, 57.20225158607634, 56.503819617016724, 51.666162957741136, 48.34965496258933, 42.06125181881535, 41.432489423241265, 39.873960907114274, 39.08412679399243, 38.22234906404919, 37.70179217186086, 37.00626521905526, 36.57776685215272, 35.72281125221709, 35.58910851433363, 35.50653787376667, 32.78987550525228, 32.78959601389256, 32.40752497308464, 32.155834534225384, 32.03301925521812, 32.0157860720611, 31.60513915708102, 31.39601398189121, 30.922792762716565, 30.797985049091942, 29.888302076621645, 29.904042521834732, 29.533420039981234, 70.68000674110347, 35.18191924625064, 55.38510463314319, 42.95141062592246, 36.60180310908829, 50.491100821861856, 33.577784939237894, 105.56803286895216, 71.95442880626027, 63.79714414915758, 55.32266071626026, 50.49303066052516, 49.48253325450995, 48.952645025711846, 47.74878835147064, 45.76798375387572, 43.46510784504894, 42.40572922915088, 39.87676029340746, 38.941545200481684, 36.76843951154865, 35.56076027583649, 35.431174621679006, 34.86300335772008, 33.8712291202831, 33.535098001409146, 33.496523762531126, 32.79071567685304, 32.1590558503516, 28.709559152827776, 27.485498682657475, 27.39664053430103, 27.05767735674071, 26.53659291356213, 26.329748042206845, 26.175623348048592, 25.777640149493617, 40.38180597410517, 68.58867163400733, 32.758609441665676, 31.053470177016024, 27.437905331467622], \"Total\": [1284.0, 1147.0, 950.0, 970.0, 806.0, 542.0, 1998.0, 516.0, 479.0, 1116.0, 497.0, 317.0, 473.0, 1167.0, 269.0, 825.0, 1062.0, 1217.0, 540.0, 567.0, 2021.0, 500.0, 666.0, 381.0, 185.0, 390.0, 630.0, 628.0, 471.0, 1150.0, 516.0326293055073, 497.05067557221975, 473.482801141941, 806.3275654935126, 390.70943101848786, 353.90802789100775, 297.9194974416489, 277.4731263242032, 262.0816177131736, 255.49110974827323, 950.762389866219, 214.59335437312603, 209.8507211007849, 181.54749761834339, 167.73585478401716, 167.40353748120208, 140.3527378363065, 136.15380870274979, 1147.1756255794971, 125.90865857236572, 125.7009235113376, 123.41457355682857, 122.78355294332624, 119.99687307551352, 115.40111298929713, 1284.6272063219253, 109.33630974532616, 117.57068368539845, 116.44193945436967, 106.5576614787165, 970.595808771358, 145.40743322645298, 220.17923596875505, 192.17283579446953, 195.2052436080723, 282.06631937331537, 168.54027976105178, 386.73354907841707, 257.4643674491253, 203.64890542656426, 540.4954205395856, 666.4319222935019, 424.089071621353, 1116.8766571235028, 628.1703597108226, 630.7512214076481, 230.8649911958265, 335.59358585740614, 1217.5566823258075, 374.4514344785775, 659.178447878811, 2021.3377323166912, 1062.656840562584, 1150.380678192854, 717.1250023138235, 1167.6092521105195, 598.6136082457733, 830.3408302121425, 455.57215959366727, 766.3448755722554, 1047.16030875946, 650.1871210156111, 1180.5735855312535, 1407.7761956331774, 1998.6728186789678, 897.2520484740663, 775.6474558852664, 542.9723709328042, 381.63360974015046, 479.0996702068896, 239.20413658784184, 179.49924692600007, 209.5100909726749, 167.9143201952927, 158.80868315393272, 140.73299678044413, 135.2173660921732, 133.46757527883852, 128.2236601798044, 125.9517896504487, 118.32013542679807, 113.35511892180477, 112.08240721931672, 104.48536741182086, 102.66696728522017, 96.47622365627697, 89.79089867653607, 89.64523867129945, 87.80079180106637, 87.31829743096067, 87.03737709686601, 86.2794119294115, 86.20944179779025, 85.95188329453406, 100.3876193092367, 82.57272560466765, 80.23006530015829, 135.82508872024968, 154.06839847810267, 230.1371198783201, 500.4279003175485, 424.6244118242269, 189.47867581100581, 567.3676178468256, 450.1350632600769, 142.15149365039966, 397.7746383783874, 285.89087078881124, 285.2946474949278, 156.44872865797169, 620.3366586218239, 825.0848403490121, 716.4742001046835, 451.09965185679516, 388.33263143682007, 447.5661769674394, 479.2701018080813, 530.3408998966565, 285.23427002542815, 1998.6728186789678, 868.4715488373722, 374.6088772978846, 1407.7761956331774, 593.6734095428158, 1180.5735855312535, 349.8984006421017, 2021.3377323166912, 705.9512707508642, 929.324771139544, 1047.16030875946, 643.420075649893, 1167.6092521105195, 1150.380678192854, 471.11849835597576, 709.0927306345548, 1062.656840562584, 1217.5566823258075, 185.7828224190973, 132.29099373913488, 128.22853727688988, 107.8939111275147, 90.56229923534137, 85.20410058428794, 80.75275536598573, 78.9583016160567, 77.40391955864885, 70.43250348921423, 69.78587812629911, 64.54779641395685, 59.38129906315131, 59.05348205144637, 58.37188984864208, 58.04692652712103, 57.6592783355406, 57.71565143829694, 53.62351616412395, 53.16099963713527, 52.99439589118634, 50.53029897909121, 49.30030378059909, 48.70744522238689, 48.597235935213725, 48.03556596062632, 49.01397613557873, 47.98963987452663, 46.5314474176509, 47.650669389526065, 89.23691190050872, 59.18270407131634, 65.37207677499198, 55.73079530969478, 66.26705272126962, 148.94625963315872, 101.70028191806921, 191.19726484361001, 471.11849835597576, 1998.6728186789678, 369.6996126825313, 90.54405888059547, 283.0616438587967, 608.3133675205955, 2021.3377323166912, 209.33268486624024, 156.38724930096612, 897.2520484740663, 133.07763663101974, 148.62597065269918, 135.17822227256644, 99.49204885573559, 98.78663670824963, 88.35958435118084, 74.5090614830986, 69.8070932509844, 67.25744814568819, 64.00265218568187, 57.301486755863586, 56.747332642974605, 55.43345264378433, 53.43296956273691, 50.61313363037546, 46.61484757863064, 46.07618857269092, 45.44190113366165, 44.10086553499229, 43.52946015981343, 43.09768740173815, 42.95907857940221, 42.16951919451745, 42.03043975310231, 41.891556080070764, 40.28506084698612, 39.6313096179873, 39.53486563785127, 39.34091397598493, 38.680204163570565, 37.92472828428252, 120.66084725193181, 269.86583003012686, 81.25128944494121, 50.18483467393776, 317.22637130198405, 135.4081682599484, 81.2991812684121, 147.01131817972274, 54.54490296767786, 107.98265335273322, 136.33989099861043, 98.34015424745496, 134.2489153301735, 897.2520484740663, 196.52266739799254, 119.68343138068789, 523.3281412861678, 177.1499179766569, 868.4715488373722, 705.9512707508642, 444.94699707862003, 1407.7761956331774, 766.3448755722554, 174.9593312485125, 102.74732486473643, 73.65842043619044, 73.60439658479264, 73.4287333477191, 60.563475378831676, 58.225341603992554, 56.3719113467048, 47.967116016848955, 45.553252333430144, 44.88974968979742, 42.84067306841804, 39.71455405593847, 39.2706753748834, 37.021610408247774, 36.357440310415576, 36.00148905732298, 35.39932240456893, 35.21043806216779, 35.29325332272143, 34.79270550237435, 33.883605995958035, 33.60144077059191, 33.52101496574543, 33.097588378005426, 33.04581743123894, 31.810901300817626, 31.58675651197877, 31.585471733440112, 31.51987298652188, 31.244581085049305, 36.800028359155625, 97.64382358915078, 52.40805889592503, 67.99531407425732, 269.86583003012686, 540.3432505150778, 71.42979754499954, 54.083188140684015, 60.95820984800948, 67.84877403505814, 220.2052996189134, 74.27271834085224, 62.899700720802116, 57.977912824557215, 57.279436931302065, 52.442167211548345, 49.12451222992746, 42.83811530694517, 42.208034689263044, 40.650103869275846, 39.86010354470646, 38.99954540483139, 38.47746850655615, 37.781574489400036, 37.353620836934454, 36.49868762055535, 36.36550673495679, 36.28205959805064, 33.56517414449449, 33.56509185050992, 33.18188425954187, 32.930905720154804, 32.808512940297305, 32.791883436077136, 32.38162715474627, 32.171886608743115, 31.698123518758383, 31.574340573680686, 30.664435375809735, 30.681013594921225, 30.30845332245141, 93.83201558229747, 46.024175104038235, 237.91939533840042, 103.01699010435787, 62.26221636901096, 266.12560237710244, 64.56752392854297, 106.34635540496659, 72.73293828917522, 64.57532950854548, 56.09987907158392, 51.269910339112585, 50.2593333752941, 49.7311111695048, 48.53009313169858, 46.546042763260076, 44.24342415845477, 43.18392768857511, 40.653319559888686, 39.71967825154958, 37.54659280690854, 36.3399692360248, 36.20945754602326, 35.641821576704324, 34.64875821485934, 34.313572523768855, 34.27463330208589, 33.568951182770405, 32.93777098116096, 29.48812103235331, 28.264289912863408, 28.175898541136878, 27.835560867777637, 27.314700272095312, 27.109060543356478, 26.95333803740189, 26.55687572729598, 56.601955648900976, 166.76683820587846, 43.1087350282753, 136.33989099861043, 44.91854665698328], \"Category\": [\"Default\", \"Default\", \"Default\", \"Default\", \"Default\", \"Default\", \"Default\", \"Default\", \"Default\", \"Default\", \"Default\", \"Default\", \"Default\", \"Default\", \"Default\", \"Default\", \"Default\", \"Default\", \"Default\", \"Default\", \"Default\", \"Default\", \"Default\", \"Default\", \"Default\", \"Default\", \"Default\", \"Default\", \"Default\", \"Default\", \"Topic1\", \"Topic1\", \"Topic1\", \"Topic1\", \"Topic1\", \"Topic1\", \"Topic1\", \"Topic1\", \"Topic1\", \"Topic1\", \"Topic1\", \"Topic1\", \"Topic1\", \"Topic1\", \"Topic1\", \"Topic1\", \"Topic1\", \"Topic1\", \"Topic1\", \"Topic1\", \"Topic1\", \"Topic1\", \"Topic1\", \"Topic1\", \"Topic1\", \"Topic1\", \"Topic1\", \"Topic1\", \"Topic1\", \"Topic1\", \"Topic1\", \"Topic1\", \"Topic1\", \"Topic1\", \"Topic1\", \"Topic1\", \"Topic1\", \"Topic1\", \"Topic1\", \"Topic1\", \"Topic1\", \"Topic1\", \"Topic1\", \"Topic1\", \"Topic1\", \"Topic1\", \"Topic1\", \"Topic1\", \"Topic1\", \"Topic1\", \"Topic1\", \"Topic1\", \"Topic1\", \"Topic1\", \"Topic1\", \"Topic1\", \"Topic1\", \"Topic1\", \"Topic1\", \"Topic1\", \"Topic1\", \"Topic1\", \"Topic1\", \"Topic1\", \"Topic1\", \"Topic1\", \"Topic1\", \"Topic2\", \"Topic2\", \"Topic2\", \"Topic2\", \"Topic2\", \"Topic2\", \"Topic2\", \"Topic2\", \"Topic2\", \"Topic2\", \"Topic2\", \"Topic2\", \"Topic2\", \"Topic2\", \"Topic2\", \"Topic2\", \"Topic2\", \"Topic2\", \"Topic2\", \"Topic2\", \"Topic2\", \"Topic2\", \"Topic2\", \"Topic2\", \"Topic2\", \"Topic2\", \"Topic2\", \"Topic2\", \"Topic2\", \"Topic2\", \"Topic2\", \"Topic2\", \"Topic2\", \"Topic2\", \"Topic2\", \"Topic2\", \"Topic2\", \"Topic2\", \"Topic2\", \"Topic2\", \"Topic2\", \"Topic2\", \"Topic2\", \"Topic2\", \"Topic2\", \"Topic2\", \"Topic2\", \"Topic2\", \"Topic2\", \"Topic2\", \"Topic2\", \"Topic2\", \"Topic2\", \"Topic2\", \"Topic2\", \"Topic2\", \"Topic2\", \"Topic2\", \"Topic2\", \"Topic2\", \"Topic2\", \"Topic2\", \"Topic2\", \"Topic2\", \"Topic2\", \"Topic2\", \"Topic2\", \"Topic2\", \"Topic2\", \"Topic2\", \"Topic3\", \"Topic3\", \"Topic3\", \"Topic3\", \"Topic3\", \"Topic3\", \"Topic3\", \"Topic3\", \"Topic3\", \"Topic3\", \"Topic3\", \"Topic3\", \"Topic3\", \"Topic3\", \"Topic3\", \"Topic3\", \"Topic3\", \"Topic3\", \"Topic3\", \"Topic3\", \"Topic3\", \"Topic3\", \"Topic3\", \"Topic3\", \"Topic3\", \"Topic3\", \"Topic3\", \"Topic3\", \"Topic3\", \"Topic3\", \"Topic3\", \"Topic3\", \"Topic3\", \"Topic3\", \"Topic3\", \"Topic3\", \"Topic3\", \"Topic3\", \"Topic3\", \"Topic3\", \"Topic3\", \"Topic3\", \"Topic3\", \"Topic3\", \"Topic3\", \"Topic3\", \"Topic3\", \"Topic3\", \"Topic3\", \"Topic4\", \"Topic4\", \"Topic4\", \"Topic4\", \"Topic4\", \"Topic4\", \"Topic4\", \"Topic4\", \"Topic4\", \"Topic4\", \"Topic4\", \"Topic4\", \"Topic4\", \"Topic4\", \"Topic4\", \"Topic4\", \"Topic4\", \"Topic4\", \"Topic4\", \"Topic4\", \"Topic4\", \"Topic4\", \"Topic4\", \"Topic4\", \"Topic4\", \"Topic4\", \"Topic4\", \"Topic4\", \"Topic4\", \"Topic4\", \"Topic4\", \"Topic4\", \"Topic4\", \"Topic4\", \"Topic4\", \"Topic4\", \"Topic4\", \"Topic4\", \"Topic4\", \"Topic4\", \"Topic4\", \"Topic4\", \"Topic4\", \"Topic4\", \"Topic4\", \"Topic4\", \"Topic4\", \"Topic4\", \"Topic4\", \"Topic4\", \"Topic4\", \"Topic4\", \"Topic4\", \"Topic4\", \"Topic5\", \"Topic5\", \"Topic5\", \"Topic5\", \"Topic5\", \"Topic5\", \"Topic5\", \"Topic5\", \"Topic5\", \"Topic5\", \"Topic5\", \"Topic5\", \"Topic5\", \"Topic5\", \"Topic5\", \"Topic5\", \"Topic5\", \"Topic5\", \"Topic5\", \"Topic5\", \"Topic5\", \"Topic5\", \"Topic5\", \"Topic5\", \"Topic5\", \"Topic5\", \"Topic5\", \"Topic5\", \"Topic5\", \"Topic5\", \"Topic5\", \"Topic5\", \"Topic5\", \"Topic5\", \"Topic5\", \"Topic5\", \"Topic5\", \"Topic5\", \"Topic5\", \"Topic5\", \"Topic5\", \"Topic6\", \"Topic6\", \"Topic6\", \"Topic6\", \"Topic6\", \"Topic6\", \"Topic6\", \"Topic6\", \"Topic6\", \"Topic6\", \"Topic6\", \"Topic6\", \"Topic6\", \"Topic6\", \"Topic6\", \"Topic6\", \"Topic6\", \"Topic6\", \"Topic6\", \"Topic6\", \"Topic6\", \"Topic6\", \"Topic6\", \"Topic6\", \"Topic6\", \"Topic6\", \"Topic6\", \"Topic6\", \"Topic6\", \"Topic6\", \"Topic6\", \"Topic6\", \"Topic6\", \"Topic6\", \"Topic6\", \"Topic6\", \"Topic6\", \"Topic7\", \"Topic7\", \"Topic7\", \"Topic7\", \"Topic7\", \"Topic7\", \"Topic7\", \"Topic7\", \"Topic7\", \"Topic7\", \"Topic7\", \"Topic7\", \"Topic7\", \"Topic7\", \"Topic7\", \"Topic7\", \"Topic7\", \"Topic7\", \"Topic7\", \"Topic7\", \"Topic7\", \"Topic7\", \"Topic7\", \"Topic7\", \"Topic7\", \"Topic7\", \"Topic7\", \"Topic7\", \"Topic7\", \"Topic7\", \"Topic7\", \"Topic7\", \"Topic7\", \"Topic7\", \"Topic7\"], \"logprob\": [30.0, 29.0, 28.0, 27.0, 26.0, 25.0, 24.0, 23.0, 22.0, 21.0, 20.0, 19.0, 18.0, 17.0, 16.0, 15.0, 14.0, 13.0, 12.0, 11.0, 10.0, 9.0, 8.0, 7.0, 6.0, 5.0, 4.0, 3.0, 2.0, 1.0, -5.3341, -5.3717, -5.4203, -4.8881, -5.6128, -5.7119, -5.8845, -5.9559, -6.0131, -6.0386, -4.7246, -6.2136, -6.236, -6.3815, -6.4609, -6.463, -6.6401, -6.6706, -4.5393, -6.7493, -6.7509, -6.7694, -6.7746, -6.7977, -6.837, -4.4274, -6.8913, -6.8188, -6.8285, -6.9173, -4.7095, -6.6072, -6.1964, -6.3466, -6.3361, -5.9867, -6.4764, -5.6967, -6.0823, -6.3006, -5.3967, -5.2425, -5.6474, -4.7879, -5.3128, -5.3148, -6.196, -5.8894, -4.8378, -5.8093, -5.3662, -4.5825, -5.0578, -5.0525, -5.3835, -5.0545, -5.5311, -5.3377, -5.7033, -5.424, -5.2976, -5.5313, -5.2702, -5.1965, -5.0528, -5.445, -5.5082, -5.2336, -5.5868, -5.3595, -6.0551, -6.3433, -6.1887, -6.4103, -6.4663, -6.5878, -6.628, -6.6411, -6.6814, -6.6994, -6.7622, -6.8054, -6.8168, -6.8875, -6.9051, -6.9678, -7.0402, -7.0418, -7.0628, -7.0684, -7.0716, -7.0804, -7.0813, -7.0843, -6.9292, -7.1248, -7.1538, -6.6381, -6.5201, -6.1368, -5.3948, -5.5577, -6.3365, -5.3083, -5.5314, -6.6116, -5.6642, -5.9781, -5.9803, -6.5323, -5.321, -5.0777, -5.212, -5.6116, -5.7412, -5.6215, -5.5782, -5.4957, -6.0266, -4.4936, -5.195, -5.8457, -4.9333, -5.558, -5.1353, -5.9341, -4.8358, -5.5064, -5.3619, -5.3099, -5.5973, -5.3456, -5.4304, -5.7803, -5.6393, -5.5867, -5.7095, -5.1716, -5.5129, -5.5443, -5.7181, -5.8945, -5.9561, -6.0102, -6.0329, -6.053, -6.1484, -6.1577, -6.2366, -6.3211, -6.3267, -6.3385, -6.3441, -6.3509, -6.3499, -6.4245, -6.4333, -6.4365, -6.4848, -6.5098, -6.5221, -6.5244, -6.5362, -6.5161, -6.5372, -6.5686, -6.5451, -6.0363, -6.3717, -6.3212, -6.4424, -6.3482, -5.941, -6.2312, -6.0181, -5.7016, -5.2968, -5.9151, -6.3233, -6.1384, -6.0291, -5.9064, -6.2046, -6.2645, -6.2033, -6.3231, -5.2844, -5.3798, -5.6884, -5.6955, -5.808, -5.9802, -6.046, -6.0836, -6.1338, -6.2458, -6.2557, -6.2795, -6.3167, -6.3718, -6.4554, -6.4672, -6.4813, -6.5118, -6.5251, -6.5352, -6.5385, -6.5574, -6.5607, -6.5641, -6.604, -6.6206, -6.6231, -6.6282, -6.6454, -6.6655, -5.6873, -5.0317, -6.0573, -6.4377, -5.1295, -5.8417, -6.1729, -5.8747, -6.4474, -6.161, -6.0897, -6.2162, -6.1168, -5.4774, -6.018, -6.1739, -5.8231, -6.1571, -5.838, -5.9343, -6.0846, -6.0058, -6.0783, -6.1847, -5.3464, -5.6822, -5.683, -5.6854, -5.8803, -5.9202, -5.953, -6.1169, -6.1694, -6.1843, -6.2318, -6.3091, -6.3206, -6.3807, -6.3992, -6.4093, -6.4265, -6.432, -6.4296, -6.4442, -6.4713, -6.4798, -6.4823, -6.4953, -6.4969, -6.5359, -6.5432, -6.5432, -6.5454, -6.5543, -6.4017, -5.7483, -6.2697, -6.1521, -5.6971, -5.8769, -6.3281, -6.3933, -6.4143, -6.4264, -6.3672, -5.5113, -5.6794, -5.7619, -5.7742, -5.8637, -5.9301, -6.0694, -6.0845, -6.1228, -6.1428, -6.1651, -6.1788, -6.1974, -6.2091, -6.2327, -6.2365, -6.2388, -6.3184, -6.3184, -6.3301, -6.3379, -6.3417, -6.3423, -6.3552, -6.3618, -6.377, -6.3811, -6.411, -6.4105, -6.423, -5.5504, -6.248, -5.7942, -6.0484, -6.2084, -5.8867, -6.2947, -5.1172, -5.5005, -5.6208, -5.7634, -5.8547, -5.8749, -5.8857, -5.9106, -5.953, -6.0046, -6.0293, -6.0907, -6.1145, -6.1719, -6.2053, -6.209, -6.2251, -6.254, -6.2639, -6.2651, -6.2864, -6.3058, -6.4193, -6.4629, -6.4661, -6.4786, -6.498, -6.5058, -6.5117, -6.527, -6.0782, -5.5484, -6.2874, -6.3408, -6.4646], \"loglift\": [30.0, 29.0, 28.0, 27.0, 26.0, 25.0, 24.0, 23.0, 22.0, 21.0, 20.0, 19.0, 18.0, 17.0, 16.0, 15.0, 14.0, 13.0, 12.0, 11.0, 10.0, 9.0, 8.0, 7.0, 6.0, 5.0, 4.0, 3.0, 2.0, 1.0, 1.1187, 1.1187, 1.1186, 1.1184, 1.1182, 1.118, 1.1176, 1.1174, 1.1173, 1.1172, 1.1171, 1.1167, 1.1166, 1.116, 1.1157, 1.1156, 1.1148, 1.1146, 1.1146, 1.1142, 1.1142, 1.114, 1.114, 1.1138, 1.1136, 1.1134, 1.1133, 1.1132, 1.1131, 1.1131, 1.1116, 1.1123, 1.1081, 1.094, 1.0888, 1.0702, 1.0955, 1.0445, 1.0658, 1.082, 1.0098, 0.9546, 1.0016, 0.8928, 0.9434, 0.9373, 1.0612, 0.9937, 0.7566, 0.9643, 0.8418, 0.505, 0.6727, 0.5987, 0.7403, 0.5818, 0.7733, 0.6394, 0.8741, 0.6333, 0.4476, 0.6904, 0.3551, 0.2527, 0.046, 0.4547, 0.5371, 1.1684, 1.1678, 1.1676, 1.1666, 1.1656, 1.1655, 1.1653, 1.165, 1.1644, 1.1642, 1.1641, 1.1639, 1.1638, 1.1634, 1.1631, 1.163, 1.1625, 1.1624, 1.1619, 1.1613, 1.1613, 1.1611, 1.1611, 1.161, 1.161, 1.161, 1.1609, 1.1608, 1.1605, 1.1603, 1.1495, 1.1415, 1.1235, 1.0887, 1.0901, 1.1183, 1.0497, 1.058, 1.1305, 1.0489, 1.0653, 1.0652, 1.114, 0.9477, 0.9058, 0.9127, 0.9758, 0.996, 0.9737, 0.9486, 0.9298, 1.019, 0.6052, 0.7373, 0.9274, 0.5159, 0.7546, 0.4899, 0.9073, 0.2517, 0.633, 0.5026, 0.4353, 0.6349, 0.2907, 0.2207, 0.7636, 0.4958, 0.1438, -0.1151, 2.3028, 2.3011, 2.3009, 2.2998, 2.2984, 2.2979, 2.2974, 2.2972, 2.297, 2.296, 2.2959, 2.295, 2.2939, 2.2939, 2.2937, 2.2937, 2.2936, 2.2936, 2.2925, 2.2924, 2.2924, 2.2916, 2.2912, 2.2911, 2.291, 2.2908, 2.2908, 2.2908, 2.2903, 2.29, 2.1714, 2.2467, 2.1977, 2.2361, 2.1571, 1.7544, 1.8457, 1.4276, 0.8423, -0.1981, 0.8712, 1.8699, 0.915, 0.2592, -0.8189, 1.1505, 1.3822, -0.3037, 1.485, 2.4131, 2.4126, 2.4106, 2.4105, 2.4096, 2.4079, 2.4073, 2.4068, 2.4062, 2.4048, 2.4047, 2.4043, 2.4039, 2.403, 2.4017, 2.4015, 2.4013, 2.4007, 2.4005, 2.4003, 2.4003, 2.3999, 2.3999, 2.3998, 2.3991, 2.3988, 2.3987, 2.3986, 2.3982, 2.3979, 2.2187, 2.0694, 2.2441, 2.3456, 1.8099, 1.949, 2.128, 1.8338, 2.2525, 1.856, 1.6941, 1.8944, 1.6825, 0.4223, 1.4003, 1.7403, 0.6157, 1.3649, 0.0943, 0.2051, 0.5165, -0.5566, -0.0209, 1.3498, 2.7203, 2.7173, 2.7173, 2.7173, 2.715, 2.7145, 2.7141, 2.7116, 2.7107, 2.7105, 2.7097, 2.7082, 2.708, 2.7068, 2.7064, 2.7061, 2.7058, 2.7057, 2.7057, 2.7054, 2.7048, 2.7046, 2.7046, 2.7043, 2.7042, 2.7033, 2.7031, 2.7031, 2.703, 2.7028, 2.6919, 2.3694, 2.4702, 2.3274, 1.404, 0.5299, 2.1022, 2.3152, 2.1745, 2.0553, 0.9373, 2.88, 2.8781, 2.877, 2.8769, 2.8756, 2.8746, 2.8722, 2.8719, 2.8712, 2.8708, 2.8704, 2.8701, 2.8698, 2.8695, 2.869, 2.8689, 2.8689, 2.8671, 2.8671, 2.8669, 2.8667, 2.8666, 2.8665, 2.8662, 2.8661, 2.8657, 2.8656, 2.8649, 2.8648, 2.8646, 2.6071, 2.6219, 1.4329, 2.0157, 2.3592, 1.2283, 2.2366, 2.9151, 2.9117, 2.9103, 2.9085, 2.9072, 2.9069, 2.9067, 2.9062, 2.9056, 2.9047, 2.9043, 2.9032, 2.9027, 2.9015, 2.9008, 2.9007, 2.9004, 2.8998, 2.8995, 2.8995, 2.899, 2.8985, 2.8957, 2.8945, 2.8944, 2.8941, 2.8936, 2.8933, 2.8932, 2.8927, 2.5848, 2.034, 2.6479, 1.443, 2.4295]}, \"token.table\": {\"Topic\": [1, 3, 1, 5, 3, 6, 5, 6, 3, 5, 1, 4, 4, 1, 2, 2, 3, 1, 3, 1, 5, 2, 2, 3, 5, 2, 1, 2, 3, 4, 5, 6, 1, 2, 3, 1, 6, 6, 1, 2, 4, 7, 1, 4, 4, 2, 3, 2, 3, 4, 4, 5, 3, 1, 3, 1, 3, 5, 4, 7, 1, 3, 4, 7, 1, 2, 3, 4, 5, 6, 2, 7, 3, 7, 7, 1, 2, 3, 1, 2, 3, 1, 2, 3, 5, 6, 2, 6, 1, 7, 4, 3, 4, 7, 6, 1, 2, 3, 4, 1, 2, 3, 2, 4, 4, 7, 3, 1, 2, 2, 1, 5, 2, 5, 1, 1, 5, 1, 2, 3, 6, 4, 3, 5, 6, 4, 5, 1, 6, 5, 3, 7, 3, 1, 3, 5, 6, 5, 2, 1, 3, 3, 4, 2, 1, 2, 3, 1, 2, 3, 2, 1, 2, 5, 7, 2, 3, 1, 1, 3, 2, 4, 5, 1, 2, 3, 6, 1, 2, 3, 7, 1, 2, 3, 4, 5, 4, 3, 4, 5, 3, 1, 3, 1, 3, 6, 5, 1, 2, 3, 4, 4, 2, 3, 4, 5, 6, 4, 7, 5, 6, 1, 2, 3, 4, 6, 3, 7, 7, 3, 1, 2, 3, 7, 2, 7, 2, 4, 2, 6, 6, 1, 2, 4, 5, 3, 6, 1, 5, 1, 1, 2, 2, 7, 6, 4, 3, 6, 4, 5, 1, 2, 4, 5, 6, 1, 3, 6, 1, 2, 4, 1, 4, 5, 7, 7, 4, 1, 2, 5, 1, 1, 2, 4, 2, 4, 1, 2, 4, 1, 2, 1, 2, 1, 2, 4, 4, 1, 2, 3, 4, 5, 6, 1, 2, 3, 5, 1, 2, 7, 4, 6, 3, 7, 3, 5, 4, 7, 1, 4, 1, 2, 3, 5, 6, 1, 2, 2, 4, 1, 2, 3, 1, 2, 3, 4, 3, 5, 1, 3, 4, 5, 6, 1, 2, 3, 6, 2, 4, 5, 6, 1, 2, 3, 7, 2, 7, 6, 2, 6, 3, 6, 1, 2, 3, 5, 3, 5, 6, 7, 7, 1, 2, 1, 2, 2, 6, 1, 2, 4, 4, 6, 1, 2, 3, 5, 3, 6, 2, 3, 3, 4, 2, 4, 3, 5, 5, 7, 5, 5, 2, 4, 5, 5, 4, 6, 7, 7, 2, 1, 2, 3, 7, 4, 1, 3, 4, 1, 2, 3, 4, 5, 6, 7, 2, 1, 7, 6, 2, 4, 2, 2, 1, 3, 2, 3, 5, 6, 7, 1, 2, 3, 4, 1, 6, 6, 5, 7, 7, 3, 5, 5, 2, 2, 3, 4, 3, 4, 7, 2, 1, 4, 6, 4, 1, 2, 3, 7, 1, 2, 3, 5, 4, 7, 3, 1, 2, 3, 2, 4, 1, 1, 2, 5, 2, 4, 1, 3, 5, 1, 2, 1, 2, 1, 2, 3, 2, 1, 1, 3, 1, 2, 3, 4, 1, 2, 3, 7, 1, 3, 1, 1, 3, 5, 5, 2, 4, 2, 5, 6, 3, 7, 6, 3, 3, 1, 2, 3, 1, 1, 2, 3, 2, 2, 1, 2, 3, 6, 7, 3, 7, 2, 6, 1, 1, 2, 3, 4, 1, 2, 3, 1, 2, 3, 5, 6, 7, 2, 3, 2, 1, 2, 4, 7, 1, 2, 3, 4, 5, 4, 1, 1, 2, 3, 4, 1, 2, 1, 2, 3, 4, 5], \"Freq\": [0.9903207614960021, 0.0068772275103889035, 0.9962046367791489, 0.9676431494301191, 0.9883723371996799, 0.974370331898598, 0.21727711528549665, 0.7604699034992383, 0.9784416829506047, 0.965622749139598, 0.9981842490552671, 0.984070432593003, 0.9920370129557823, 0.025962494836788412, 0.9735935563795655, 0.8849231852362498, 0.11312938447622511, 0.3638141340631443, 0.6293001237848982, 0.9730611592226572, 0.017799899254073, 0.9949078152537235, 0.24607021822655784, 0.16404681215103856, 0.574163842528635, 0.9972186684092001, 0.6296097052100912, 0.11836004902121819, 0.12822338643965303, 0.07561892020800051, 0.02137056440660884, 0.026302233115826263, 0.7814349329808095, 0.1448727684739703, 0.07243638423698515, 0.9916925078965501, 0.9643816411901924, 0.9951215139974716, 0.0019982898622667644, 0.9212116265049783, 0.07593501476613704, 0.9812761481714194, 0.2460049374171346, 0.7503150591222605, 0.9766432813557681, 0.5805522379767961, 0.4131858270285306, 0.4013296440745599, 0.03401098678597965, 0.5577801832900663, 0.9902754699377155, 0.9683525022973012, 0.9877104957983636, 0.9932842724492608, 0.0062274876015627634, 0.9975894327726056, 0.9939086829579078, 0.982007753255091, 0.9722662430860843, 0.9665982970198875, 0.16869604216006315, 0.11735376845917436, 0.48408429489409427, 0.22737292638965034, 0.20353886159601656, 0.08650401617830704, 0.13738873157731119, 0.3612814793329294, 0.11703484541770953, 0.09668095925810787, 0.9949660712184228, 0.9646300567269632, 0.990678270201752, 0.9899228835460878, 0.9715290090001134, 0.9477039577067462, 0.050492423976179104, 0.9819641350583501, 0.8545834533805406, 0.1281875180070811, 0.013352866459070948, 0.7066327831062746, 0.2923421679517685, 0.07460140290667094, 0.15986014908572346, 0.756671372339091, 0.9559518260953301, 0.04345235573160591, 0.996524184395567, 0.9590889348016056, 0.9929239067537006, 0.99379102297436, 0.2826757453266664, 0.7066893633166661, 0.9713790348648869, 0.18768605628844034, 0.6494167837219653, 0.06563254729104968, 0.09787309683753023, 0.6832839441087698, 0.28168031981626834, 0.033466968691041786, 0.5139706330609861, 0.4767263842884509, 0.936537906428698, 0.059779015303959446, 0.99151332122256, 0.13672971342652204, 0.8589430715255872, 0.9908794467038435, 0.9972349825330828, 0.9814638914251117, 0.027173892102482743, 0.951086223586896, 0.9951460375366574, 0.9969842733966273, 0.9916909523743839, 0.8820192413503711, 0.11621199463737998, 0.0029797947342917945, 0.9922259209875233, 0.993167790964404, 0.9793780516562713, 0.4015276271540336, 0.5942608881879697, 0.3328206161437351, 0.6656412322874702, 0.9947665754768099, 0.9831330108843965, 0.9814239707785049, 0.9978003510979085, 0.9908615599978218, 0.9876003922599396, 0.9501311627543217, 0.046088451924649936, 0.9668378141189642, 0.9784219440438287, 0.9887194901641002, 0.9967615457365415, 0.9901024455863572, 0.009083508675104195, 0.8740777592904954, 0.12326737631019807, 0.9861773860284281, 0.9983535655354905, 0.001240190764640361, 0.9812358292897962, 0.6948341808481141, 0.27678382854115186, 0.027924777953706716, 0.9968671999537159, 0.8323408376893143, 0.16646816753786287, 0.7823224302472294, 0.20989138372486643, 0.9024422475895905, 0.09793946873065322, 0.9927831923342788, 0.9730823777820403, 0.020814596316193375, 0.9972943284281809, 0.8433418614248634, 0.14666814981301973, 0.5373402585947656, 0.255518444646462, 0.015030496743909529, 0.1878812092988691, 0.6389645030097664, 0.3585353102308115, 0.001882075119321845, 0.9628111761006553, 0.5137909696433806, 0.2574527418386571, 0.0735579262396163, 0.1359707121398968, 0.018946738576870865, 0.9957882821558696, 0.9938593196636769, 0.9921806666712663, 0.9801792236324356, 0.9885787473387447, 0.9911437812798315, 0.008242359927483007, 0.9282877083084571, 0.07240126972879331, 0.9882147011043473, 0.9910611654133851, 0.29605442848442404, 0.5850262151390772, 0.009915698561679275, 0.10907268417847202, 0.978717522968909, 0.250661262414647, 0.15039675744878817, 0.5096779002431154, 0.09190912955203721, 0.9771089385139505, 0.9878367395812037, 0.9749432933005604, 0.9803767539535279, 0.9753566112012275, 0.5099505735016009, 0.4793917376363364, 0.003819854483158059, 0.004774818103947574, 0.0009549636207895147, 0.9947816653090442, 0.975230884339117, 0.983929490458307, 0.9957863573773716, 0.1018851948448251, 0.6664989829432308, 0.2313642966267903, 0.9882687607615254, 0.9935035844258723, 0.9910905679781418, 0.9982091705124264, 0.987885878893547, 0.9963547453360239, 0.9828642552839997, 0.9875909584209056, 0.6146057930488391, 0.2792476427015957, 0.08742800028507902, 0.01826853737300159, 0.8601559547208414, 0.13581409811381706, 0.9980777814587869, 0.993402541481742, 0.9969240799684065, 0.3385699894404718, 0.660295700799328, 0.9909969693438389, 0.9582658015530521, 0.9840073257533001, 0.9868305238648583, 0.9935788022632209, 0.991568479430595, 0.9824146697702494, 0.9941612318751455, 0.10928070812814299, 0.3698731659721763, 0.21435831209751124, 0.07145277069917041, 0.23117072873261016, 0.9946166694603736, 0.005230236649221947, 0.9831642989977, 0.1869952361959591, 0.8011778654257903, 0.011284195287687187, 0.25421965413123193, 0.5897895975844581, 0.030506358495747832, 0.11185664781774206, 0.9819924586255204, 0.9754834886535716, 0.6505819422249733, 0.3475922433636973, 0.9844570647315469, 0.9936184209974124, 0.2079628268236731, 0.7732309131564757, 0.018144407709447988, 0.9859708893530819, 0.9912839342553955, 0.22906735254044022, 0.7684058280986196, 0.0012119965742880435, 0.6178185888666157, 0.3805666161439582, 0.11280164391983034, 0.8865504201824166, 0.13648093337894746, 0.8394864958780542, 0.02060089560436943, 0.9750375526276509, 0.07191867842709758, 0.6247935188354102, 0.10787801764064638, 0.14833227425588877, 0.026969504410161594, 0.020227128307621193, 0.41186156607304186, 0.5859313600359879, 0.001554194588954875, 0.9917885803995911, 0.07536071669201719, 0.9231687794772107, 0.9906447571868668, 0.820481558473517, 0.17404154270650363, 0.933056844264238, 0.05383020255370603, 0.988565962763113, 0.9798379369627049, 0.2319715480735154, 0.7655061086426008, 0.9959460653919967, 0.9864710394427348, 0.5407310131925818, 0.39924055594365365, 0.044030247185855236, 0.015831100111768175, 0.977803419277062, 0.9624407240955074, 0.03437288300341098, 0.9950638236217283, 0.9959304431565489, 0.22863779843860754, 0.7687945972498179, 0.0028579724804825945, 0.8477985238995942, 0.151553364449308, 0.9936289565130342, 0.9756167459566014, 0.9878631936548414, 0.9721820101460701, 0.944274828638206, 0.05630996684539761, 0.22530866972772276, 0.6964086155220522, 0.06144781901665167, 0.8373524663630156, 0.11939436307457447, 0.0015919248409943262, 0.04139004586585248, 0.025938815592987614, 0.7040535660953782, 0.26679924609930117, 0.9717315482281115, 0.7968650739752948, 0.17280332503059764, 0.030442036533887665, 0.971895842555008, 0.9953546853129412, 0.9725840665278732, 0.9793133425495724, 0.4646298661413913, 0.5265805149602435, 0.9858680441900001, 0.9905331577230981, 0.5582433059176427, 0.4074015812239609, 0.028363401224452977, 0.00644622755101204, 0.3235517079305482, 0.6765172074911463, 0.9818098948942282, 0.9852987163907747, 0.9834468587599136, 0.21307049865854102, 0.7862867074390408, 0.9915256964623826, 0.997704715166231, 0.9792005383772041, 0.014724820125972994, 0.24077941403300307, 0.18521493387154084, 0.5741662950017765, 0.9813039569541147, 0.9758512365530698, 0.17904272966726464, 0.4220292913585524, 0.39645175854894316, 0.9601664979389068, 0.9917149066321432, 0.9899490817597919, 0.5560663825521452, 0.4358358133516814, 0.9904191586133667, 0.9918969586328428, 0.9930639857110969, 0.9745302481892827, 0.9462223951869263, 0.05069048545644248, 0.9927265759403444, 0.9818810654257627, 0.9901687162967526, 0.9724050251466053, 0.519334138286888, 0.3499860497150767, 0.12418859828599496, 0.9821007445871699, 0.9947385875492535, 0.9783320525009931, 0.9830512672358251, 0.9699822514176504, 0.9880812458800144, 0.2398558396281331, 0.16190269174898983, 0.18588827571180314, 0.41375132335852954, 0.9950543901608754, 0.24297563276915154, 0.6405721227550359, 0.09939912249647109, 0.028662509172105114, 0.2818480068590336, 0.3152876008931562, 0.2054146490667533, 0.03343959403412263, 0.03821667889614015, 0.10031878210236789, 0.9904568300570387, 0.9979989069549787, 0.9967431379886253, 0.9804352899061998, 0.3692539426721512, 0.6277317025426571, 0.99479157839872, 0.9911917723489413, 0.968211696092903, 0.025614066034203783, 0.4087095095156825, 0.249766922481806, 0.16802502057866947, 0.11353041930991181, 0.05903581804115414, 0.47339511695496606, 0.2508287559985268, 0.24729595661826584, 0.024729595661826583, 0.9969136043476678, 0.9831618885079673, 0.9635742030613573, 0.9878548225408676, 0.9803942701876333, 0.9884787213859048, 0.9854756245342605, 0.9745086977212813, 0.9835065012240316, 0.9903427554228138, 0.9499749733291346, 0.04749874866645673, 0.9776746007801466, 0.07384498191952776, 0.8369097950879812, 0.08615247890611571, 0.994554840860331, 0.997486776234334, 0.9868100485023896, 0.9779758723463474, 0.9913343656379453, 0.8889641946175958, 0.05659188506849416, 0.054233889857306906, 0.9854422794174823, 0.11618393586471353, 0.8222247768887418, 0.022343064589367984, 0.03798320980192557, 0.9843342087953947, 0.9890770221631342, 0.9781606883794514, 0.4851269589129201, 0.5091012563010586, 0.004230758362612675, 0.9459968212561043, 0.05113496331114077, 0.9978861801746669, 0.5089357547038081, 0.37938847168829337, 0.11104052829901269, 0.9637605380139798, 0.03517374226328393, 0.4229713465458169, 0.5773894571895278, 0.990696118819023, 0.1961315751710323, 0.8012183496348554, 0.10441310583451387, 0.8952868436448742, 0.996640805499055, 0.9975653154924102, 0.9863450105137644, 0.9889253933939736, 0.9982948751453128, 0.9970945528602496, 0.002103575006034282, 0.4650281919978348, 0.5065334404639439, 0.015246825967142125, 0.01270568830595177, 0.3417267666908244, 0.5683771697815175, 0.08155411855139733, 0.00800531225044391, 0.8954747470696695, 0.10360864842128407, 0.9989803195791345, 0.9944238793816468, 0.461992069615073, 0.5319908680415992, 0.9789551839416167, 0.6515799939705658, 0.3429368389318767, 0.9964967125696135, 0.9772163305230673, 0.9898228616561269, 0.9025260158565191, 0.09178230669727314, 0.9863368341968959, 0.9821605430391286, 0.9895053267088201, 0.09463899949430361, 0.9008230692605936, 0.0035051481294186525, 0.9956130143733153, 0.584099516826581, 0.41537868865233396, 0.000856450904437802, 0.9924432224973525, 0.9983397433455039, 0.21355607100678753, 0.7848185609499442, 0.9887387226843113, 0.9856962638853293, 0.9790308267804406, 0.3784628236042247, 0.601088013959651, 0.572721062227037, 0.4174068758603829, 0.9958729737605735, 0.5937165087585897, 0.3868284720315848, 0.0008692774652395164, 0.018254826770029844, 0.7570029050642452, 0.23665822282569587, 0.006068159559633228, 0.23532618649159553, 0.524750346889305, 0.23803108518690122, 0.5158530938512632, 0.17686391789186168, 0.30951185631075795, 0.9928023096277836, 0.9793125101139735, 0.9846682749720277, 0.43502057988940246, 0.018913938256060976, 0.5453518863830915, 0.955269001387931, 0.4088990327181762, 0.5132758910699211, 0.027977302238612053, 0.031205452496913443, 0.01829285146370788, 0.9884382343770916, 0.997434282866035, 0.32675483412708983, 0.5006419095982312, 0.007643387932797423, 0.1643328405551446, 0.17512760135110705, 0.8246514899064787, 0.4198110479728528, 0.5199690137328735, 0.008524082192342188, 0.05114449315405313, 0.9739223152322265], \"Term\": [\"10am\", \"10am\", \"11am\", \"12th\", \"21st\", \"23rd\", \"26th\", \"26th\", \"30th\", \"academy\", \"activity\", \"added\", \"aircraft\", \"always\", \"always\", \"amazing\", \"amazing\", \"answer\", \"answer\", \"apply\", \"apply\", \"area\", \"army\", \"army\", \"army\", \"art\", \"artist\", \"artist\", \"artist\", \"artist\", \"artist\", \"artist\", \"available\", \"available\", \"available\", \"bank\", \"barbara\", \"beach\", \"beautiful\", \"beautiful\", \"beautiful\", \"beer\", \"bexhill\", \"bexhill\", \"bexhillmuseum\", \"birthday\", \"birthday\", \"black\", \"black\", \"black\", \"bloom\", \"blossom\", \"body\", \"book\", \"book\", \"booking\", \"boy\", \"breakfast\", \"brick\", \"bright\", \"britain\", \"britain\", \"britain\", \"britain\", \"british\", \"british\", \"british\", \"british\", \"british\", \"british\", \"building\", \"cafc\", \"cake\", \"called\", \"campus\", \"chance\", \"chance\", \"charraig\", \"child\", \"child\", \"child\", \"christmas\", \"christmas\", \"church\", \"church\", \"church\", \"city\", \"city\", \"class\", \"clean\", \"coat\", \"coffee\", \"cold\", \"cold\", \"collaboration\", \"collection\", \"collection\", \"collection\", \"collection\", \"come\", \"come\", \"come\", \"competition\", \"competition\", \"contribution\", \"contribution\", \"copy\", \"could\", \"could\", \"covid-19\", \"craft\", \"creativity\", \"cumbria\", \"cumbria\", \"currently\", \"december\", \"despite\", \"detail\", \"detail\", \"detail\", \"diary\", \"died\", \"dinosaur\", \"director\", \"director\", \"discovered\", \"discovered\", \"discus\", \"discussion\", \"distancing\", \"done\", \"double\", \"dylan\", \"easter\", \"easter\", \"effect\", \"else\", \"engagement\", \"enjoying\", \"entry\", \"entry\", \"essential\", \"essential\", \"estate\", \"event\", \"event\", \"exhibit\", \"exhibition\", \"exhibition\", \"exhibition\", \"face\", \"family\", \"family\", \"fan\", \"fan\", \"favourite\", \"favourite\", \"featuring\", \"february\", \"february\", \"feel\", \"female\", \"female\", \"film\", \"film\", \"film\", \"film\", \"find\", \"find\", \"find\", \"finest\", \"first\", \"first\", \"first\", \"first\", \"first\", \"flower\", \"flying\", \"focus\", \"football\", \"former\", \"free\", \"free\", \"friday\", \"friday\", \"fully\", \"fund\", \"garden\", \"garden\", \"garden\", \"garden\", \"gardening\", \"george\", \"george\", \"george\", \"george\", \"glasgow\", \"global\", \"goodwoodrevival\", \"graduate\", \"grand\", \"great\", \"great\", \"great\", \"great\", \"great\", \"guess\", \"gwflatout\", \"gwspeedweek\", \"half\", \"happy\", \"happy\", \"happy\", \"heading\", \"health\", \"heart\", \"help\", \"helped\", \"helping\", \"hepworth\", \"historical\", \"history\", \"history\", \"history\", \"history\", \"hold\", \"hold\", \"holiday\", \"hospital\", \"hosting\", \"house\", \"house\", \"huge\", \"icon\", \"illustration\", \"impact\", \"included\", \"insight\", \"interest\", \"island\", \"john\", \"john\", \"john\", \"john\", \"john\", \"join\", \"join\", \"joseph\", \"know\", \"know\", \"know\", \"known\", \"known\", \"known\", \"known\", \"language\", \"largest\", \"last\", \"last\", \"leader\", \"lecture\", \"like\", \"like\", \"like\", \"list\", \"lockdown\", \"look\", \"look\", \"look\", \"looking\", \"looking\", \"love\", \"love\", \"lovely\", \"lovely\", \"lovely\", \"machine\", \"made\", \"made\", \"made\", \"made\", \"made\", \"made\", \"make\", \"make\", \"make\", \"manager\", \"many\", \"many\", \"marking\", \"mary\", \"mary\", \"match\", \"match\", \"mh\\u00f3r\", \"michael\", \"mind\", \"mind\", \"miss\", \"moved\", \"museum\", \"museum\", \"museum\", \"museum\", \"museumsfromhome\", \"music\", \"music\", \"nationaltrust\", \"natural\", \"need\", \"need\", \"need\", \"next\", \"next\", \"normal\", \"northern\", \"note\", \"notice\", \"october\", \"october\", \"officer\", \"officer\", \"officer\", \"online\", \"online\", \"online\", \"online\", \"onthisday\", \"onthisday\", \"onthisday\", \"onto\", \"open\", \"open\", \"open\", \"orkney\", \"outside\", \"palace\", \"pandemic\", \"panel\", \"panel\", \"paper\", \"parade\", \"part\", \"part\", \"part\", \"part\", \"partnership\", \"partnership\", \"passing\", \"path\", \"peace\", \"people\", \"people\", \"performance\", \"photo\", \"photograph\", \"photograph\", \"plant\", \"plant\", \"plant\", \"power\", \"preview\", \"print\", \"print\", \"print\", \"product\", \"proud\", \"putting\", \"queen\", \"queen\", \"question\", \"race\", \"raise\", \"reach\", \"receive\", \"receive\", \"recently\", \"recipe\", \"recorded\", \"recruiting\", \"research\", \"research\", \"research\", \"researcher\", \"result\", \"returned\", \"revealed\", \"rifle\", \"river\", \"roman\", \"roman\", \"roman\", \"roman\", \"rose\", \"round\", \"round\", \"round\", \"royal\", \"royal\", \"royal\", \"royal\", \"royal\", \"royal\", \"royal\", \"safe\", \"saturday\", \"scene\", \"scientist\", \"scotland\", \"scotland\", \"seeing\", \"selection\", \"september\", \"september\", \"series\", \"series\", \"series\", \"series\", \"series\", \"service\", \"service\", \"service\", \"service\", \"session\", \"showcase\", \"silk\", \"silver\", \"snow\", \"solo\", \"sorry\", \"speak\", \"specimen\", \"spot\", \"staff\", \"staff\", \"staffordshire\", \"stage\", \"stage\", \"stage\", \"stay\", \"steam\", \"stem\", \"storytelling\", \"success\", \"sunday\", \"sunday\", \"sunday\", \"sunset\", \"support\", \"support\", \"support\", \"support\", \"supporting\", \"system\", \"table\", \"take\", \"take\", \"take\", \"taken\", \"taken\", \"talk\", \"team\", \"team\", \"team\", \"tell\", \"tell\", \"term\", \"term\", \"test\", \"thank\", \"thank\", \"thanks\", \"thanks\", \"theatre\", \"think\", \"though\", \"throwbackthursday\", \"thursday\", \"ticket\", \"ticket\", \"time\", \"time\", \"time\", \"time\", \"today\", \"today\", \"today\", \"today\", \"tomorrow\", \"tomorrow\", \"tour\", \"train\", \"training\", \"training\", \"transport\", \"tree\", \"tree\", \"trip\", \"true\", \"turner\", \"tweet\", \"tweet\", \"underway\", \"upcoming\", \"vehicle\", \"view\", \"view\", \"view\", \"virtual\", \"visit\", \"visit\", \"visit\", \"visited\", \"visitor\", \"volunteer\", \"volunteer\", \"vote\", \"wakefield\", \"wartime\", \"watching\", \"watching\", \"wedding\", \"wedding\", \"wednesday\", \"week\", \"week\", \"week\", \"week\", \"weekend\", \"weekend\", \"weekend\", \"well\", \"well\", \"well\", \"went\", \"went\", \"went\", \"wildlife\", \"wind\", \"without\", \"woman\", \"woman\", \"woman\", \"wondered\", \"work\", \"work\", \"work\", \"work\", \"work\", \"worked\", \"workshop\", \"world\", \"world\", \"world\", \"world\", \"would\", \"would\", \"year\", \"year\", \"year\", \"year\", \"youth\"]}, \"R\": 30, \"lambda.step\": 0.01, \"plot.opts\": {\"xlab\": \"PC1\", \"ylab\": \"PC2\"}, \"topic.order\": [3, 7, 6, 5, 1, 4, 2]};\n",
       "\n",
       "function LDAvis_load_lib(url, callback){\n",
       "  var s = document.createElement('script');\n",
       "  s.src = url;\n",
       "  s.async = true;\n",
       "  s.onreadystatechange = s.onload = callback;\n",
       "  s.onerror = function(){console.warn(\"failed to load library \" + url);};\n",
       "  document.getElementsByTagName(\"head\")[0].appendChild(s);\n",
       "}\n",
       "\n",
       "if(typeof(LDAvis) !== \"undefined\"){\n",
       "   // already loaded: just create the visualization\n",
       "   !function(LDAvis){\n",
       "       new LDAvis(\"#\" + \"ldavis_el24366129236220482827549030\", ldavis_el24366129236220482827549030_data);\n",
       "   }(LDAvis);\n",
       "}else if(typeof define === \"function\" && define.amd){\n",
       "   // require.js is available: use it to load d3/LDAvis\n",
       "   require.config({paths: {d3: \"https://d3js.org/d3.v5\"}});\n",
       "   require([\"d3\"], function(d3){\n",
       "      window.d3 = d3;\n",
       "      LDAvis_load_lib(\"https://cdn.jsdelivr.net/gh/bmabey/pyLDAvis@3.4.0/pyLDAvis/js/ldavis.v3.0.0.js\", function(){\n",
       "        new LDAvis(\"#\" + \"ldavis_el24366129236220482827549030\", ldavis_el24366129236220482827549030_data);\n",
       "      });\n",
       "    });\n",
       "}else{\n",
       "    // require.js not available: dynamically load d3 & LDAvis\n",
       "    LDAvis_load_lib(\"https://d3js.org/d3.v5.js\", function(){\n",
       "         LDAvis_load_lib(\"https://cdn.jsdelivr.net/gh/bmabey/pyLDAvis@3.4.0/pyLDAvis/js/ldavis.v3.0.0.js\", function(){\n",
       "                 new LDAvis(\"#\" + \"ldavis_el24366129236220482827549030\", ldavis_el24366129236220482827549030_data);\n",
       "            })\n",
       "         });\n",
       "}\n",
       "</script>"
      ],
      "text/plain": [
       "PreparedData(topic_coordinates=              x         y  topics  cluster       Freq\n",
       "topic                                                \n",
       "2      0.286413  0.031060       1        1  32.622312\n",
       "6      0.269041  0.039393       2        1  31.043098\n",
       "5     -0.015033 -0.274141       3        1   9.956682\n",
       "4     -0.069937  0.089689       4        1   8.907167\n",
       "0     -0.143442  0.060308       5        1   6.535770\n",
       "3     -0.159275  0.037154       6        1   5.554886\n",
       "1     -0.167767  0.016536       7        1   5.380086, topic_info=          Term         Freq        Total Category  logprob  loglift\n",
       "83        book  1284.000000  1284.000000  Default  30.0000  30.0000\n",
       "145       join  1147.000000  1147.000000  Default  29.0000  29.0000\n",
       "136     ticket   950.000000   950.000000  Default  28.0000  28.0000\n",
       "30        free   970.000000   970.000000  Default  27.0000  27.0000\n",
       "29       event   806.000000   806.000000  Default  26.0000  26.0000\n",
       "...        ...          ...          ...      ...      ...      ...\n",
       "5551      cold    40.381806    56.601956   Topic7  -6.0782   2.5848\n",
       "1935     roman    68.588672   166.766838   Topic7  -5.5484   2.0340\n",
       "902       mind    32.758609    43.108735   Topic7  -6.2874   2.6479\n",
       "940    britain    31.053470   136.339891   Topic7  -6.3408   1.4430\n",
       "7661  watching    27.437905    44.918547   Topic7  -6.4646   2.4295\n",
       "\n",
       "[383 rows x 6 columns], token_table=      Topic      Freq   Term\n",
       "term                        \n",
       "1654      1  0.990321   10am\n",
       "1654      3  0.006877   10am\n",
       "1691      1  0.996205   11am\n",
       "5940      5  0.967643   12th\n",
       "946       3  0.988372   21st\n",
       "...     ...       ...    ...\n",
       "18        1  0.419811   year\n",
       "18        2  0.519969   year\n",
       "18        3  0.008524   year\n",
       "18        4  0.051144   year\n",
       "535       5  0.973922  youth\n",
       "\n",
       "[562 rows x 3 columns], R=30, lambda_step=0.01, plot_opts={'xlab': 'PC1', 'ylab': 'PC2'}, topic_order=[3, 7, 6, 5, 1, 4, 2])"
      ]
     },
     "execution_count": 22,
     "metadata": {},
     "output_type": "execute_result"
    }
   ],
   "source": [
    "pyLDAvis.enable_notebook()\n",
    "lda_viz = pyLDAvis.gensim_models.prepare(tweets_lda, tweets_bow, dictionary=tweets_lda.id2word)\n",
    "pyLDAvis.show(lda_viz, local=False)\n",
    "lda_viz"
   ]
  },
  {
   "cell_type": "markdown",
   "metadata": {},
   "source": [
    "What do the topics look like? Do they make sense to you? We'll try to see if there are \n",
    "\n",
    "✏️ [Ex. 2]\n",
    "\n",
    "Let's clean up the datatypes first.\n",
    "- Write a function that takes the text_dict, the number of clusters (k), and the number of passes and trains and saves a model (don't forget to use f strings to change the name of the file you save each time).\n",
    "- Using your function, try changing the number of clusters to 4, 7, 8 and 10. Which one do you think worked best?\n",
    "- What about the number of passes, how does this change your model? "
   ]
  },
  {
   "cell_type": "markdown",
   "metadata": {},
   "source": [
    "## Further resources (natural language processing and beyond...)\n",
    "\n",
    "This has been a brief introduction to some basic nlp tasks, but it only scratches the surface. The below links point you in the direction of some helpful resources. They represent a wide range of approaches including neural networks, so do keep in mind what we talked about regarding black box models!\n",
    "\n",
    "### 1) spaCy\n",
    "For further exploration of syntax and named entity recognition, you can explore the spaCy library. They have visualisers to help you get to grips with what it does.\n",
    "https://demos.explosion.ai/displacy-ent\n",
    "https://demos.explosion.ai/displacy\n",
    "\n",
    "I would encourage you to explore the different examples used in the \"Guides\" section of the spaCy documentation.\n",
    "https://spacy.io/usage/linguistic-features\n",
    "https://spacy.io/usage/rule-based-matching\n",
    "\n",
    "It might be helpful for some of your projects!\n",
    "\n",
    "### 2) berTopic\n",
    "Often the go-to tool these days for neural topic modeling. There is a very helpful quickstart guide!\n",
    "https://maartengr.github.io/BERTopic/index.html\n",
    "\n",
    "### 3) Transkribus\n",
    "For those of you who have not processed your scans of text yet and need to do OCR (Optical Character Recognition), Transkribus is to go-to tool for transcribing texts (free for a while, then talk to your university/send them an email). It's a great team and run by academics for academics. Takes some work to figure out all of the functions and interface but it well worth investing the time!\n",
    "\n",
    "Different models be used to work with either handwritten texts or printed/typed, as well as for a wide selection of languages and time periods. \n",
    "https://www.transkribus.org/\n",
    "\n",
    "### 4) Hugging face\n",
    "Most of the libraries mentioned here have a number of pretrained models avaialble (at different sizes), for everything else, there's hugging face.\n",
    "https://huggingface.co/\n",
    "\n",
    "It's not ideal in many ways, but it is the largest repository of pretrained models and datasets currently out there, have an explore! It will be especially helpful for those of you not working in English.\n",
    "An alternative would be kaggle (more for datasets). \n",
    "\n",
    "### 5) Distant viewing lab\n",
    "Fantastic resource for computer vision (step by step guide)\n",
    "https://distantviewing.org/\n",
    "\n",
    "But they also have a section on sentiment analysis using neural networks.\n",
    "https://distantviewing.org/dvscripts/sentiment.html\n",
    "\n",
    "### 6) GLAM workbench \n",
    "A series of amazing notebooks exploring GLAM data. \n",
    "https://glam-workbench.net/\n",
    "\n",
    "I've added some helpful links based on some of your projects! However, feel free to have an explore of the whole site, there are many more notebooks you may find useful. \n",
    "\n",
    "Here they have a guide on how to run these notebooks:\n",
    "\n",
    "https://glam-workbench.net/trove-newspapers/#data-and-images\n",
    "\n",
    "#### Useful notebooks that have direct relevance to some of your projects include: \n",
    "Finding nouns, verbs, sentences, and cleaning your text:\n",
    "https://glam-workbench.net/trove-books/recipe-generator/\n",
    "\n",
    "Geomapping:\n",
    "https://glam-workbench.net/trove-newspapers/Map-newspaper-results-by-place-of-publication/ OR \n",
    "https://glam-workbench.net/trove-newspapers/Map-newspaper-results-by-place-of-publication-over-time/\n",
    "\n",
    "Topic modeling of parlimentary press releases: \n",
    "https://glam-workbench.net/trove-journals/topic-modelling-parliament-press-releases/?h=topic\n",
    "\n",
    "Topic modeling of books:\n",
    "https://glam-workbench.net/trove-books/exploring-digitised-books-adel-rahmani/?h=topic\n",
    "\n",
    "(Alas, should be noted that the trove notebooks aren't being updated due to issues with the National Library of Australia being weird about their API's terms and conditions, but you can still take and adapt them for yourself!)\n",
    "\n",
    "### 7) Plotly\n",
    "Not nlp related but is a different and really nice plotly library where the visualisations are interactive. Worth an experiment: \n",
    "https://plotly.com/python/\n",
    "\n",
    "## Lastly if you come across any great resources yourself feel free to share! "
   ]
  }
 ],
 "metadata": {
  "kernelspec": {
   "display_name": "berto",
   "language": "python",
   "name": "python3"
  },
  "language_info": {
   "codemirror_mode": {
    "name": "ipython",
    "version": 3
   },
   "file_extension": ".py",
   "mimetype": "text/x-python",
   "name": "python",
   "nbconvert_exporter": "python",
   "pygments_lexer": "ipython3",
   "version": "3.11.6"
  },
  "orig_nbformat": 4
 },
 "nbformat": 4,
 "nbformat_minor": 2
}
