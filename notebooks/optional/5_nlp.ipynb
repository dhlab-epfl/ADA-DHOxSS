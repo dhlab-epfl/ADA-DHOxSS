{
 "cells": [
  {
   "cell_type": "markdown",
   "id": "6ea062c3",
   "metadata": {},
   "source": [
    "# Chapter V - Natural Language Processing"
   ]
  },
  {
   "cell_type": "markdown",
   "id": "26a360c4",
   "metadata": {},
   "source": [
    "In this notebook we will cover:\n",
    "\n",
    "- the basics of Natural language processing\n",
    "- TF/IDF\n",
    "- topic modelling\n",
    "- named entity extraction\n",
    "- relational data (structuring into networks)\n",
    "\n",
    "\n"
   ]
  }
 ],
 "metadata": {
  "language_info": {
   "name": "python"
  }
 },
 "nbformat": 4,
 "nbformat_minor": 5
}
