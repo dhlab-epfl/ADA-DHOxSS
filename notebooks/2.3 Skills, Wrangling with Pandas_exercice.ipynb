{
 "cells": [
  {
   "attachments": {},
   "cell_type": "markdown",
   "metadata": {},
   "source": [
    "# 2.3 Skills/Wrangling with 🐼\n",
    "\n",
    "In this notebook, we will focus on one skill in data analysis, namely the ability to add select, aggregate and transform data in a dataframe."
   ]
  },
  {
   "attachments": {},
   "cell_type": "markdown",
   "metadata": {},
   "source": [
    "### Imports"
   ]
  },
  {
   "cell_type": "code",
   "execution_count": 1,
   "metadata": {
    "ExecuteTime": {
     "end_time": "2024-08-14T06:33:47.596341Z",
     "start_time": "2024-08-14T06:33:47.594288Z"
    }
   },
   "outputs": [],
   "source": [
    "import pandas as pd"
   ]
  },
  {
   "attachments": {},
   "cell_type": "markdown",
   "metadata": {},
   "source": [
    "### Load dataset"
   ]
  },
  {
   "attachments": {},
   "cell_type": "markdown",
   "metadata": {},
   "source": [
    "Let's read in a CSV file containing an export of [Elon Musk's tweets](https://twitter.com/elonmusk), exported from Twitter's API. "
   ]
  },
  {
   "cell_type": "code",
   "execution_count": 2,
   "metadata": {
    "ExecuteTime": {
     "end_time": "2024-08-14T06:33:47.606796Z",
     "start_time": "2024-08-14T06:33:47.597395Z"
    }
   },
   "outputs": [],
   "source": [
    "dataset_path = '../data/musk_tweets/elonmusk_tweets.csv'\n",
    "df = pd.read_csv(dataset_path)"
   ]
  },
  {
   "cell_type": "code",
   "execution_count": 3,
   "metadata": {
    "ExecuteTime": {
     "end_time": "2024-08-14T06:33:47.617975Z",
     "start_time": "2024-08-14T06:33:47.607769Z"
    }
   },
   "outputs": [
    {
     "name": "stdout",
     "output_type": "stream",
     "text": [
      "<class 'pandas.core.frame.DataFrame'>\n",
      "RangeIndex: 2819 entries, 0 to 2818\n",
      "Data columns (total 3 columns):\n",
      " #   Column      Non-Null Count  Dtype \n",
      "---  ------      --------------  ----- \n",
      " 0   id          2819 non-null   int64 \n",
      " 1   created_at  2819 non-null   object\n",
      " 2   text        2819 non-null   object\n",
      "dtypes: int64(1), object(2)\n",
      "memory usage: 66.2+ KB\n"
     ]
    }
   ],
   "source": [
    "df.info()"
   ]
  },
  {
   "cell_type": "markdown",
   "source": [
    "Let's look at the dataframe's first 5 and first 20 elements"
   ],
   "metadata": {
    "collapsed": false
   }
  },
  {
   "cell_type": "code",
   "execution_count": 4,
   "metadata": {
    "ExecuteTime": {
     "end_time": "2024-08-14T06:33:47.618281Z",
     "start_time": "2024-08-14T06:33:47.615616Z"
    }
   },
   "outputs": [],
   "source": [
    "# Your code here"
   ]
  },
  {
   "attachments": {},
   "cell_type": "markdown",
   "metadata": {},
   "source": [
    "Let's give this dataset a bit more structure:\n",
    "- the `id` column can be transformed into the dataframe's index, thus enabling us e.g. to select a tweet by id;\n",
    "- `created_at` contains a timestamp, thus it can easily be converted into a `datetime` value"
   ]
  },
  {
   "cell_type": "code",
   "execution_count": 5,
   "metadata": {
    "ExecuteTime": {
     "end_time": "2024-08-14T06:33:47.667339Z",
     "start_time": "2024-08-14T06:33:47.619682Z"
    }
   },
   "outputs": [],
   "source": [
    "df.set_index('id', drop=True, inplace=True)"
   ]
  },
  {
   "cell_type": "code",
   "execution_count": 6,
   "metadata": {
    "ExecuteTime": {
     "end_time": "2024-08-14T06:33:47.676222Z",
     "start_time": "2024-08-14T06:33:47.625294Z"
    }
   },
   "outputs": [],
   "source": [
    "df['created_at'] = pd.to_datetime(df['created_at'])"
   ]
  },
  {
   "cell_type": "code",
   "execution_count": 7,
   "metadata": {
    "ExecuteTime": {
     "end_time": "2024-08-14T06:33:47.676511Z",
     "start_time": "2024-08-14T06:33:47.630848Z"
    }
   },
   "outputs": [
    {
     "name": "stdout",
     "output_type": "stream",
     "text": [
      "<class 'pandas.core.frame.DataFrame'>\n",
      "Index: 2819 entries, 849636868052275200 to 15434727182\n",
      "Data columns (total 2 columns):\n",
      " #   Column      Non-Null Count  Dtype         \n",
      "---  ------      --------------  -----         \n",
      " 0   created_at  2819 non-null   datetime64[ns]\n",
      " 1   text        2819 non-null   object        \n",
      "dtypes: datetime64[ns](1), object(1)\n",
      "memory usage: 66.1+ KB\n"
     ]
    }
   ],
   "source": [
    "df.info()"
   ]
  },
  {
   "attachments": {},
   "cell_type": "markdown",
   "metadata": {},
   "source": [
    "### Selection"
   ]
  },
  {
   "attachments": {},
   "cell_type": "markdown",
   "metadata": {},
   "source": [
    "#### Renaming columns"
   ]
  },
  {
   "attachments": {},
   "cell_type": "markdown",
   "metadata": {},
   "source": [
    "An operation on dataframes that you'll find yourself doing very often is to rename the columns. The first way of renaming columns is by manipulating directly the dataframe's index via the `columns` property."
   ]
  },
  {
   "attachments": {},
   "cell_type": "markdown",
   "metadata": {},
   "source": []
  },
  {
   "attachments": {},
   "cell_type": "markdown",
   "metadata": {},
   "source": [
    "We can change the column names by assigning to `columns` a list having as values the new column names.\n",
    "\n",
    "**NB**: the size of the list and new number of colums must match!"
   ]
  },
  {
   "cell_type": "code",
   "execution_count": 8,
   "metadata": {
    "ExecuteTime": {
     "end_time": "2024-08-14T06:33:47.676912Z",
     "start_time": "2024-08-14T06:33:47.636095Z"
    }
   },
   "outputs": [
    {
     "data": {
      "text/plain": "Index(['created_at', 'text'], dtype='object')"
     },
     "execution_count": 8,
     "metadata": {},
     "output_type": "execute_result"
    }
   ],
   "source": [
    "df.columns"
   ]
  },
  {
   "cell_type": "code",
   "execution_count": 9,
   "metadata": {
    "ExecuteTime": {
     "end_time": "2024-08-14T06:33:47.677130Z",
     "start_time": "2024-08-14T06:33:47.639733Z"
    }
   },
   "outputs": [],
   "source": [
    "df.columns = ['created_at','text_tweet']"
   ]
  },
  {
   "cell_type": "code",
   "execution_count": 10,
   "metadata": {
    "ExecuteTime": {
     "end_time": "2024-08-14T06:33:47.677710Z",
     "start_time": "2024-08-14T06:33:47.642592Z"
    }
   },
   "outputs": [
    {
     "data": {
      "text/plain": "                            created_at  \\\nid                                       \n849636868052275200 2017-04-05 14:56:29   \n848988730585096192 2017-04-03 20:01:01   \n848943072423497728 2017-04-03 16:59:35   \n848935705057280001 2017-04-03 16:30:19   \n848416049573658624 2017-04-02 06:05:23   \n\n                                                           text_tweet  \nid                                                                     \n849636868052275200  b'And so the robots spared humanity ... https:...  \n848988730585096192  b\"@ForIn2020 @waltmossberg @mims @defcon_5 Exa...  \n848943072423497728      b'@waltmossberg @mims @defcon_5 Et tu, Walt?'  \n848935705057280001                b'Stormy weather in Shortville ...'  \n848416049573658624  b\"@DaveLeeBBC @verge Coal is dying due to nat ...  ",
      "text/html": "<div>\n<style scoped>\n    .dataframe tbody tr th:only-of-type {\n        vertical-align: middle;\n    }\n\n    .dataframe tbody tr th {\n        vertical-align: top;\n    }\n\n    .dataframe thead th {\n        text-align: right;\n    }\n</style>\n<table border=\"1\" class=\"dataframe\">\n  <thead>\n    <tr style=\"text-align: right;\">\n      <th></th>\n      <th>created_at</th>\n      <th>text_tweet</th>\n    </tr>\n    <tr>\n      <th>id</th>\n      <th></th>\n      <th></th>\n    </tr>\n  </thead>\n  <tbody>\n    <tr>\n      <th>849636868052275200</th>\n      <td>2017-04-05 14:56:29</td>\n      <td>b'And so the robots spared humanity ... https:...</td>\n    </tr>\n    <tr>\n      <th>848988730585096192</th>\n      <td>2017-04-03 20:01:01</td>\n      <td>b\"@ForIn2020 @waltmossberg @mims @defcon_5 Exa...</td>\n    </tr>\n    <tr>\n      <th>848943072423497728</th>\n      <td>2017-04-03 16:59:35</td>\n      <td>b'@waltmossberg @mims @defcon_5 Et tu, Walt?'</td>\n    </tr>\n    <tr>\n      <th>848935705057280001</th>\n      <td>2017-04-03 16:30:19</td>\n      <td>b'Stormy weather in Shortville ...'</td>\n    </tr>\n    <tr>\n      <th>848416049573658624</th>\n      <td>2017-04-02 06:05:23</td>\n      <td>b\"@DaveLeeBBC @verge Coal is dying due to nat ...</td>\n    </tr>\n  </tbody>\n</table>\n</div>"
     },
     "execution_count": 10,
     "metadata": {},
     "output_type": "execute_result"
    }
   ],
   "source": [
    "# let's check that the change did take place\n",
    "df.head()"
   ]
  },
  {
   "attachments": {},
   "cell_type": "markdown",
   "metadata": {},
   "source": [
    "The second way of renaming colums is to use the method `rename()` of a dataframe. The `columns` parameter takes a dictionary of mappings between old and new column names.\n",
    "\n",
    "```python\n",
    "mapping_dict = {\n",
    "    \"old_column_name\": \"new_column_name\"\n",
    "}\n",
    "```"
   ]
  },
  {
   "cell_type": "code",
   "execution_count": 11,
   "metadata": {
    "ExecuteTime": {
     "end_time": "2024-08-14T06:33:47.677781Z",
     "start_time": "2024-08-14T06:33:47.649445Z"
    }
   },
   "outputs": [],
   "source": [
    "# let's change column `text` => `tweet`\n",
    "df = df.rename(columns={\"text_tweet\": \"tweet\"})"
   ]
  },
  {
   "cell_type": "code",
   "execution_count": 12,
   "metadata": {
    "ExecuteTime": {
     "end_time": "2024-08-14T06:33:47.677965Z",
     "start_time": "2024-08-14T06:33:47.656772Z"
    }
   },
   "outputs": [
    {
     "data": {
      "text/plain": "                            created_at  \\\nid                                       \n849636868052275200 2017-04-05 14:56:29   \n848988730585096192 2017-04-03 20:01:01   \n848943072423497728 2017-04-03 16:59:35   \n848935705057280001 2017-04-03 16:30:19   \n848416049573658624 2017-04-02 06:05:23   \n\n                                                                tweet  \nid                                                                     \n849636868052275200  b'And so the robots spared humanity ... https:...  \n848988730585096192  b\"@ForIn2020 @waltmossberg @mims @defcon_5 Exa...  \n848943072423497728      b'@waltmossberg @mims @defcon_5 Et tu, Walt?'  \n848935705057280001                b'Stormy weather in Shortville ...'  \n848416049573658624  b\"@DaveLeeBBC @verge Coal is dying due to nat ...  ",
      "text/html": "<div>\n<style scoped>\n    .dataframe tbody tr th:only-of-type {\n        vertical-align: middle;\n    }\n\n    .dataframe tbody tr th {\n        vertical-align: top;\n    }\n\n    .dataframe thead th {\n        text-align: right;\n    }\n</style>\n<table border=\"1\" class=\"dataframe\">\n  <thead>\n    <tr style=\"text-align: right;\">\n      <th></th>\n      <th>created_at</th>\n      <th>tweet</th>\n    </tr>\n    <tr>\n      <th>id</th>\n      <th></th>\n      <th></th>\n    </tr>\n  </thead>\n  <tbody>\n    <tr>\n      <th>849636868052275200</th>\n      <td>2017-04-05 14:56:29</td>\n      <td>b'And so the robots spared humanity ... https:...</td>\n    </tr>\n    <tr>\n      <th>848988730585096192</th>\n      <td>2017-04-03 20:01:01</td>\n      <td>b\"@ForIn2020 @waltmossberg @mims @defcon_5 Exa...</td>\n    </tr>\n    <tr>\n      <th>848943072423497728</th>\n      <td>2017-04-03 16:59:35</td>\n      <td>b'@waltmossberg @mims @defcon_5 Et tu, Walt?'</td>\n    </tr>\n    <tr>\n      <th>848935705057280001</th>\n      <td>2017-04-03 16:30:19</td>\n      <td>b'Stormy weather in Shortville ...'</td>\n    </tr>\n    <tr>\n      <th>848416049573658624</th>\n      <td>2017-04-02 06:05:23</td>\n      <td>b\"@DaveLeeBBC @verge Coal is dying due to nat ...</td>\n    </tr>\n  </tbody>\n</table>\n</div>"
     },
     "execution_count": 12,
     "metadata": {},
     "output_type": "execute_result"
    }
   ],
   "source": [
    "df.head()"
   ]
  },
  {
   "attachments": {},
   "cell_type": "markdown",
   "metadata": {},
   "source": [
    "**Question**: in which cases is it more convenient to use the second method over the first?"
   ]
  },
  {
   "attachments": {},
   "cell_type": "markdown",
   "metadata": {},
   "source": [
    "### Transformation\n",
    "\n",
    "\n",
    "The two main functions used to manipulate and transform values in a dataframe are:\n",
    "- `map()`\n",
    "- `apply()`\n",
    "\n",
    "In this section we'll be using both to enrich our datasets with useful information (useful for exploration, for later visualizations, etc.)."
   ]
  },
  {
   "attachments": {},
   "cell_type": "markdown",
   "metadata": {},
   "source": [
    "#### Add link to original tweet"
   ]
  },
  {
   "cell_type": "code",
   "execution_count": 13,
   "metadata": {
    "ExecuteTime": {
     "end_time": "2024-08-14T06:33:47.678029Z",
     "start_time": "2024-08-14T06:33:47.659422Z"
    }
   },
   "outputs": [],
   "source": [
    "# YOUR ANSWER HERE\n",
    "# df['tweet_link'] = .... \n",
    "# Knowing that the default link is : https://x.com/i/web/status/ + tweet_id\n"
   ]
  },
  {
   "attachments": {},
   "cell_type": "markdown",
   "metadata": {},
   "source": [
    "#### Add columns with mentions and their counts"
   ]
  },
  {
   "cell_type": "code",
   "execution_count": 14,
   "outputs": [],
   "source": [
    "# A little detour through regex\n",
    "sample_tweet = \"As @stephanie__27 mentionned, our last version (v3@main) is out ! Reach out to steph@org.org for more.\"\n",
    "\n",
    "# Try to retrieve mentions using `in`\n",
    "\n"
   ],
   "metadata": {
    "collapsed": false,
    "ExecuteTime": {
     "end_time": "2024-08-14T06:33:47.678084Z",
     "start_time": "2024-08-14T06:33:47.661435Z"
    }
   }
  },
  {
   "cell_type": "code",
   "execution_count": 15,
   "outputs": [],
   "source": [
    "# Regex intro\n",
    "# Re patterns\n",
    "# Re findall, find, match"
   ],
   "metadata": {
    "collapsed": false,
    "ExecuteTime": {
     "end_time": "2024-08-14T06:33:47.678137Z",
     "start_time": "2024-08-14T06:33:47.663732Z"
    }
   }
  },
  {
   "cell_type": "code",
   "execution_count": 16,
   "metadata": {
    "ExecuteTime": {
     "end_time": "2024-08-14T06:33:47.689581Z",
     "start_time": "2024-08-14T06:33:47.666330Z"
    }
   },
   "outputs": [],
   "source": [
    "# Define a function `find_mentions` which given a tweet returns the mentions in the tweet as a string separated by \", \"\n",
    "# Use regex\n",
    "\n",
    "# Your solution here:\n",
    "#def find_mentions(tweet_text):\n",
    "\n",
    "\n"
   ]
  },
  {
   "cell_type": "code",
   "execution_count": 17,
   "metadata": {
    "ExecuteTime": {
     "end_time": "2024-08-14T06:33:47.690236Z",
     "start_time": "2024-08-14T06:33:47.669135Z"
    }
   },
   "outputs": [],
   "source": [
    "# Now create the column `tweet_mentions` that contains the mentions in each tweet"
   ]
  },
  {
   "cell_type": "code",
   "execution_count": 18,
   "metadata": {
    "ExecuteTime": {
     "end_time": "2024-08-14T06:33:47.690313Z",
     "start_time": "2024-08-14T06:33:47.671353Z"
    }
   },
   "outputs": [],
   "source": [
    "# df['tweet_mentions'] = df['tweet'].apply(find_mentions)"
   ]
  },
  {
   "cell_type": "code",
   "execution_count": 19,
   "metadata": {
    "ExecuteTime": {
     "end_time": "2024-08-14T06:33:49.069434Z",
     "start_time": "2024-08-14T06:33:47.673965Z"
    }
   },
   "outputs": [
    {
     "ename": "KeyError",
     "evalue": "'tweet_mentions'",
     "output_type": "error",
     "traceback": [
      "\u001B[0;31m---------------------------------------------------------------------------\u001B[0m",
      "\u001B[0;31mKeyError\u001B[0m                                  Traceback (most recent call last)",
      "File \u001B[0;32m~/opt/anaconda3/envs/ajmc/lib/python3.11/site-packages/pandas/core/indexes/base.py:3653\u001B[0m, in \u001B[0;36mIndex.get_loc\u001B[0;34m(self, key)\u001B[0m\n\u001B[1;32m   3652\u001B[0m \u001B[38;5;28;01mtry\u001B[39;00m:\n\u001B[0;32m-> 3653\u001B[0m     \u001B[38;5;28;01mreturn\u001B[39;00m \u001B[38;5;28mself\u001B[39m\u001B[38;5;241m.\u001B[39m_engine\u001B[38;5;241m.\u001B[39mget_loc(casted_key)\n\u001B[1;32m   3654\u001B[0m \u001B[38;5;28;01mexcept\u001B[39;00m \u001B[38;5;167;01mKeyError\u001B[39;00m \u001B[38;5;28;01mas\u001B[39;00m err:\n",
      "File \u001B[0;32m~/opt/anaconda3/envs/ajmc/lib/python3.11/site-packages/pandas/_libs/index.pyx:147\u001B[0m, in \u001B[0;36mpandas._libs.index.IndexEngine.get_loc\u001B[0;34m()\u001B[0m\n",
      "File \u001B[0;32m~/opt/anaconda3/envs/ajmc/lib/python3.11/site-packages/pandas/_libs/index.pyx:176\u001B[0m, in \u001B[0;36mpandas._libs.index.IndexEngine.get_loc\u001B[0;34m()\u001B[0m\n",
      "File \u001B[0;32mpandas/_libs/hashtable_class_helper.pxi:7080\u001B[0m, in \u001B[0;36mpandas._libs.hashtable.PyObjectHashTable.get_item\u001B[0;34m()\u001B[0m\n",
      "File \u001B[0;32mpandas/_libs/hashtable_class_helper.pxi:7088\u001B[0m, in \u001B[0;36mpandas._libs.hashtable.PyObjectHashTable.get_item\u001B[0;34m()\u001B[0m\n",
      "\u001B[0;31mKeyError\u001B[0m: 'tweet_mentions'",
      "\nThe above exception was the direct cause of the following exception:\n",
      "\u001B[0;31mKeyError\u001B[0m                                  Traceback (most recent call last)",
      "Cell \u001B[0;32mIn[19], line 1\u001B[0m\n\u001B[0;32m----> 1\u001B[0m df[\u001B[38;5;124m'\u001B[39m\u001B[38;5;124mn_mentions\u001B[39m\u001B[38;5;124m'\u001B[39m] \u001B[38;5;241m=\u001B[39m df[\u001B[38;5;124m'\u001B[39m\u001B[38;5;124mtweet_mentions\u001B[39m\u001B[38;5;124m'\u001B[39m]\u001B[38;5;241m.\u001B[39mmap(\u001B[38;5;28;01mlambda\u001B[39;00m x: \u001B[38;5;28mlen\u001B[39m(x\u001B[38;5;241m.\u001B[39msplit(\u001B[38;5;124m'\u001B[39m\u001B[38;5;124m,\u001B[39m\u001B[38;5;124m'\u001B[39m)) \u001B[38;5;28;01mif\u001B[39;00m x \u001B[38;5;129;01mis\u001B[39;00m \u001B[38;5;129;01mnot\u001B[39;00m \u001B[38;5;28;01mNone\u001B[39;00m \u001B[38;5;28;01melse\u001B[39;00m \u001B[38;5;241m0\u001B[39m)\n",
      "File \u001B[0;32m~/opt/anaconda3/envs/ajmc/lib/python3.11/site-packages/pandas/core/frame.py:3761\u001B[0m, in \u001B[0;36mDataFrame.__getitem__\u001B[0;34m(self, key)\u001B[0m\n\u001B[1;32m   3759\u001B[0m \u001B[38;5;28;01mif\u001B[39;00m \u001B[38;5;28mself\u001B[39m\u001B[38;5;241m.\u001B[39mcolumns\u001B[38;5;241m.\u001B[39mnlevels \u001B[38;5;241m>\u001B[39m \u001B[38;5;241m1\u001B[39m:\n\u001B[1;32m   3760\u001B[0m     \u001B[38;5;28;01mreturn\u001B[39;00m \u001B[38;5;28mself\u001B[39m\u001B[38;5;241m.\u001B[39m_getitem_multilevel(key)\n\u001B[0;32m-> 3761\u001B[0m indexer \u001B[38;5;241m=\u001B[39m \u001B[38;5;28mself\u001B[39m\u001B[38;5;241m.\u001B[39mcolumns\u001B[38;5;241m.\u001B[39mget_loc(key)\n\u001B[1;32m   3762\u001B[0m \u001B[38;5;28;01mif\u001B[39;00m is_integer(indexer):\n\u001B[1;32m   3763\u001B[0m     indexer \u001B[38;5;241m=\u001B[39m [indexer]\n",
      "File \u001B[0;32m~/opt/anaconda3/envs/ajmc/lib/python3.11/site-packages/pandas/core/indexes/base.py:3655\u001B[0m, in \u001B[0;36mIndex.get_loc\u001B[0;34m(self, key)\u001B[0m\n\u001B[1;32m   3653\u001B[0m     \u001B[38;5;28;01mreturn\u001B[39;00m \u001B[38;5;28mself\u001B[39m\u001B[38;5;241m.\u001B[39m_engine\u001B[38;5;241m.\u001B[39mget_loc(casted_key)\n\u001B[1;32m   3654\u001B[0m \u001B[38;5;28;01mexcept\u001B[39;00m \u001B[38;5;167;01mKeyError\u001B[39;00m \u001B[38;5;28;01mas\u001B[39;00m err:\n\u001B[0;32m-> 3655\u001B[0m     \u001B[38;5;28;01mraise\u001B[39;00m \u001B[38;5;167;01mKeyError\u001B[39;00m(key) \u001B[38;5;28;01mfrom\u001B[39;00m \u001B[38;5;21;01merr\u001B[39;00m\n\u001B[1;32m   3656\u001B[0m \u001B[38;5;28;01mexcept\u001B[39;00m \u001B[38;5;167;01mTypeError\u001B[39;00m:\n\u001B[1;32m   3657\u001B[0m     \u001B[38;5;66;03m# If we have a listlike key, _check_indexing_error will raise\u001B[39;00m\n\u001B[1;32m   3658\u001B[0m     \u001B[38;5;66;03m#  InvalidIndexError. Otherwise we fall through and re-raise\u001B[39;00m\n\u001B[1;32m   3659\u001B[0m     \u001B[38;5;66;03m#  the TypeError.\u001B[39;00m\n\u001B[1;32m   3660\u001B[0m     \u001B[38;5;28mself\u001B[39m\u001B[38;5;241m.\u001B[39m_check_indexing_error(key)\n",
      "\u001B[0;31mKeyError\u001B[0m: 'tweet_mentions'"
     ]
    }
   ],
   "source": [
    "df['n_mentions'] = df['tweet_mentions'].map(lambda x: len(x.split(',')) if x is not None else 0)"
   ]
  },
  {
   "cell_type": "code",
   "execution_count": null,
   "metadata": {
    "ExecuteTime": {
     "start_time": "2024-08-14T06:33:49.065579Z"
    }
   },
   "outputs": [],
   "source": [
    "df.head()"
   ]
  },
  {
   "attachments": {},
   "cell_type": "markdown",
   "metadata": {},
   "source": [
    "#### Add column with week day"
   ]
  },
  {
   "cell_type": "code",
   "execution_count": null,
   "metadata": {
    "ExecuteTime": {
     "start_time": "2024-08-14T06:33:49.067411Z"
    }
   },
   "outputs": [],
   "source": [
    "df[\"week_day_name\"] = df['created_at'].dt.day_name()"
   ]
  },
  {
   "cell_type": "code",
   "execution_count": null,
   "metadata": {
    "ExecuteTime": {
     "start_time": "2024-08-14T06:33:49.069132Z"
    }
   },
   "outputs": [],
   "source": [
    "df[\"week_day\"] = df['created_at'].dt.weekday"
   ]
  },
  {
   "cell_type": "code",
   "execution_count": null,
   "metadata": {
    "ExecuteTime": {
     "end_time": "2024-08-14T06:33:49.071361Z",
     "start_time": "2024-08-14T06:33:49.070561Z"
    }
   },
   "outputs": [],
   "source": [
    "df.head(3)"
   ]
  },
  {
   "attachments": {},
   "cell_type": "markdown",
   "metadata": {
    "tags": []
   },
   "source": [
    "###  Selecting rows\n",
    "\n",
    "Filtering rows in `pandas` is done by means of `[ ]`, which can contain the row number as well as a condition for the selection."
   ]
  },
  {
   "cell_type": "code",
   "execution_count": null,
   "metadata": {
    "ExecuteTime": {
     "start_time": "2024-08-14T06:33:49.072256Z"
    }
   },
   "outputs": [],
   "source": [
    "# equivalent of `df.query('n_mentions > 0')`\n",
    "\n",
    "len(df[df['n_mentions'] > 0])"
   ]
  },
  {
   "cell_type": "code",
   "execution_count": null,
   "metadata": {
    "ExecuteTime": {
     "end_time": "2024-08-14T06:33:49.075323Z",
     "start_time": "2024-08-14T06:33:49.073778Z"
    }
   },
   "outputs": [],
   "source": [
    "df[df['n_mentions'] >= 0].shape"
   ]
  },
  {
   "attachments": {},
   "cell_type": "markdown",
   "metadata": {},
   "source": [
    "#### Multiple conditions"
   ]
  },
  {
   "cell_type": "code",
   "execution_count": null,
   "metadata": {
    "ExecuteTime": {
     "start_time": "2024-08-14T06:33:49.075206Z"
    }
   },
   "outputs": [],
   "source": [
    "# AND condition with `&`\n",
    "\n",
    "df[\n",
    "    (df['week_day_name'] == 'Saturday') & (df['n_mentions'] == 0)\n",
    "].shape\n",
    "\n",
    "# equivalent to df.query(\"week_day_name == 'Saturday' and n_mentions == 0\")"
   ]
  },
  {
   "cell_type": "code",
   "execution_count": null,
   "metadata": {
    "ExecuteTime": {
     "end_time": "2024-08-14T06:33:49.102008Z",
     "start_time": "2024-08-14T06:33:49.076091Z"
    }
   },
   "outputs": [],
   "source": [
    "# OR condition with `|`\n",
    "\n",
    "df[\n",
    "    (df['week_day_name'] == 'Saturday') | (df['n_mentions'] == 0)\n",
    "].shape"
   ]
  },
  {
   "attachments": {},
   "cell_type": "markdown",
   "metadata": {},
   "source": [
    "#### Add column with day hour"
   ]
  },
  {
   "cell_type": "code",
   "execution_count": null,
   "metadata": {
    "ExecuteTime": {
     "start_time": "2024-08-14T06:33:49.077091Z"
    }
   },
   "outputs": [],
   "source": [
    "# df.created_at.dt?"
   ]
  },
  {
   "cell_type": "code",
   "execution_count": null,
   "metadata": {
    "ExecuteTime": {
     "start_time": "2024-08-14T06:33:49.077876Z"
    }
   },
   "outputs": [],
   "source": [
    "df['created_at'].dt.hour.head()"
   ]
  },
  {
   "cell_type": "code",
   "execution_count": null,
   "metadata": {
    "ExecuteTime": {
     "start_time": "2024-08-14T06:33:49.078742Z"
    }
   },
   "outputs": [],
   "source": [
    "df[\"day_hour\"] = df['created_at'].dt.hour"
   ]
  },
  {
   "cell_type": "code",
   "execution_count": null,
   "metadata": {
    "ExecuteTime": {
     "start_time": "2024-08-14T06:33:49.079548Z"
    }
   },
   "outputs": [],
   "source": [
    "display_cols = ['created_at', 'week_day', 'day_hour']\n",
    "df[display_cols].head(4)"
   ]
  },
  {
   "attachments": {},
   "cell_type": "markdown",
   "metadata": {},
   "source": [
    "### Aggregation\n",
    "\n",
    "(Figure taken from W. Mckinney's *Python for Data Analysis* 2013, p. 252)\n",
    "\n",
    "<img src='figures/groupby-mechanics.png' width='600px'>"
   ]
  },
  {
   "attachments": {},
   "cell_type": "markdown",
   "metadata": {},
   "source": [
    "#### Grouping"
   ]
  },
  {
   "attachments": {},
   "cell_type": "markdown",
   "metadata": {},
   "source": [
    "The object returned by `groupby` is a `DataFrameGroupBy` **not** a normal `DataFrame`.\n",
    "\n",
    "However, some methods of the latter work also on the former, e.g. `head` and `tail`"
   ]
  },
  {
   "attachments": {},
   "cell_type": "markdown",
   "metadata": {},
   "source": [
    "`agg` is used to pass an aggregation function to be applied to each group resulting from `groupby`."
   ]
  },
  {
   "attachments": {},
   "cell_type": "markdown",
   "metadata": {},
   "source": [
    "##### By label (column)"
   ]
  },
  {
   "attachments": {},
   "cell_type": "markdown",
   "metadata": {},
   "source": [
    "Previously we've added a column indicating on which day of the week a given tweet appeared."
   ]
  },
  {
   "cell_type": "code",
   "execution_count": 49,
   "outputs": [],
   "source": [
    "grpby_result_as_series = df.groupby('day_hour')['tweet']#.count()"
   ],
   "metadata": {
    "collapsed": false
   }
  },
  {
   "cell_type": "code",
   "execution_count": 50,
   "outputs": [
    {
     "data": {
      "text/plain": "day_hour\n0     144\n1     183\n2     119\n3     104\n4      98\n5      81\n6      85\n7      94\n8      82\n9      55\n10     34\n11     15\n12     17\n13     23\n14    114\n15    190\n16    198\n17    190\n18    162\n19    154\n20    176\n21    192\n22    168\n23    141\nName: tweet, dtype: int64"
     },
     "execution_count": 50,
     "metadata": {},
     "output_type": "execute_result"
    }
   ],
   "source": [
    "grpby_result_as_series"
   ],
   "metadata": {
    "collapsed": false
   }
  },
  {
   "cell_type": "code",
   "execution_count": 51,
   "outputs": [],
   "source": [
    "grpby_result_as_df = df.groupby('day_hour')[['tweet']]\\\n",
    "    .count()\\\n",
    "    .rename({'tweet': 'count'}, axis='columns')"
   ],
   "metadata": {
    "collapsed": false
   }
  },
  {
   "cell_type": "code",
   "execution_count": 52,
   "outputs": [
    {
     "data": {
      "text/plain": "          count\nday_hour       \n0           144\n1           183\n2           119\n3           104\n4            98",
      "text/html": "<div>\n<style scoped>\n    .dataframe tbody tr th:only-of-type {\n        vertical-align: middle;\n    }\n\n    .dataframe tbody tr th {\n        vertical-align: top;\n    }\n\n    .dataframe thead th {\n        text-align: right;\n    }\n</style>\n<table border=\"1\" class=\"dataframe\">\n  <thead>\n    <tr style=\"text-align: right;\">\n      <th></th>\n      <th>count</th>\n    </tr>\n    <tr>\n      <th>day_hour</th>\n      <th></th>\n    </tr>\n  </thead>\n  <tbody>\n    <tr>\n      <th>0</th>\n      <td>144</td>\n    </tr>\n    <tr>\n      <th>1</th>\n      <td>183</td>\n    </tr>\n    <tr>\n      <th>2</th>\n      <td>119</td>\n    </tr>\n    <tr>\n      <th>3</th>\n      <td>104</td>\n    </tr>\n    <tr>\n      <th>4</th>\n      <td>98</td>\n    </tr>\n  </tbody>\n</table>\n</div>"
     },
     "execution_count": 52,
     "metadata": {},
     "output_type": "execute_result"
    }
   ],
   "source": [
    "grpby_result_as_df.head()"
   ],
   "metadata": {
    "collapsed": false
   }
  },
  {
   "attachments": {},
   "cell_type": "markdown",
   "metadata": {},
   "source": [
    "##### By series or dict"
   ]
  },
  {
   "cell_type": "code",
   "execution_count": 53,
   "outputs": [],
   "source": [
    "# df.groupby?"
   ],
   "metadata": {
    "collapsed": false
   }
  },
  {
   "cell_type": "code",
   "execution_count": 54,
   "outputs": [
    {
     "name": "stdout",
     "output_type": "stream",
     "text": [
      "1 <class 'pandas.core.frame.DataFrame'>\n",
      "2 <class 'pandas.core.frame.DataFrame'>\n",
      "3 <class 'pandas.core.frame.DataFrame'>\n",
      "4 <class 'pandas.core.frame.DataFrame'>\n",
      "5 <class 'pandas.core.frame.DataFrame'>\n",
      "6 <class 'pandas.core.frame.DataFrame'>\n",
      "7 <class 'pandas.core.frame.DataFrame'>\n",
      "8 <class 'pandas.core.frame.DataFrame'>\n",
      "9 <class 'pandas.core.frame.DataFrame'>\n",
      "10 <class 'pandas.core.frame.DataFrame'>\n",
      "11 <class 'pandas.core.frame.DataFrame'>\n",
      "12 <class 'pandas.core.frame.DataFrame'>\n",
      "13 <class 'pandas.core.frame.DataFrame'>\n",
      "14 <class 'pandas.core.frame.DataFrame'>\n",
      "15 <class 'pandas.core.frame.DataFrame'>\n",
      "16 <class 'pandas.core.frame.DataFrame'>\n",
      "17 <class 'pandas.core.frame.DataFrame'>\n",
      "18 <class 'pandas.core.frame.DataFrame'>\n",
      "19 <class 'pandas.core.frame.DataFrame'>\n",
      "20 <class 'pandas.core.frame.DataFrame'>\n",
      "21 <class 'pandas.core.frame.DataFrame'>\n",
      "22 <class 'pandas.core.frame.DataFrame'>\n",
      "23 <class 'pandas.core.frame.DataFrame'>\n",
      "24 <class 'pandas.core.frame.DataFrame'>\n",
      "25 <class 'pandas.core.frame.DataFrame'>\n",
      "26 <class 'pandas.core.frame.DataFrame'>\n",
      "27 <class 'pandas.core.frame.DataFrame'>\n",
      "28 <class 'pandas.core.frame.DataFrame'>\n",
      "29 <class 'pandas.core.frame.DataFrame'>\n",
      "30 <class 'pandas.core.frame.DataFrame'>\n",
      "31 <class 'pandas.core.frame.DataFrame'>\n"
     ]
    }
   ],
   "source": [
    "for group, rows in df.groupby(df['created_at'].dt.day):\n",
    "    print(group, type(rows))"
   ],
   "metadata": {
    "collapsed": false
   }
  },
  {
   "cell_type": "code",
   "execution_count": 55,
   "outputs": [
    {
     "data": {
      "text/plain": "            tweet\ncreated_at       \n1             107\n2             107\n3             114\n4              97\n5             117",
      "text/html": "<div>\n<style scoped>\n    .dataframe tbody tr th:only-of-type {\n        vertical-align: middle;\n    }\n\n    .dataframe tbody tr th {\n        vertical-align: top;\n    }\n\n    .dataframe thead th {\n        text-align: right;\n    }\n</style>\n<table border=\"1\" class=\"dataframe\">\n  <thead>\n    <tr style=\"text-align: right;\">\n      <th></th>\n      <th>tweet</th>\n    </tr>\n    <tr>\n      <th>created_at</th>\n      <th></th>\n    </tr>\n  </thead>\n  <tbody>\n    <tr>\n      <th>1</th>\n      <td>107</td>\n    </tr>\n    <tr>\n      <th>2</th>\n      <td>107</td>\n    </tr>\n    <tr>\n      <th>3</th>\n      <td>114</td>\n    </tr>\n    <tr>\n      <th>4</th>\n      <td>97</td>\n    </tr>\n    <tr>\n      <th>5</th>\n      <td>117</td>\n    </tr>\n  </tbody>\n</table>\n</div>"
     },
     "execution_count": 55,
     "metadata": {},
     "output_type": "execute_result"
    }
   ],
   "source": [
    "# here we pass the groups as a series\n",
    "df.groupby(df['created_at'].dt.day).agg({'tweet':len}).head()"
   ],
   "metadata": {
    "collapsed": false
   }
  },
  {
   "cell_type": "code",
   "execution_count": 56,
   "outputs": [
    {
     "data": {
      "text/plain": "            tweet\ncreated_at       \n1             107\n2             107\n3             114\n4              97\n5             117",
      "text/html": "<div>\n<style scoped>\n    .dataframe tbody tr th:only-of-type {\n        vertical-align: middle;\n    }\n\n    .dataframe tbody tr th {\n        vertical-align: top;\n    }\n\n    .dataframe thead th {\n        text-align: right;\n    }\n</style>\n<table border=\"1\" class=\"dataframe\">\n  <thead>\n    <tr style=\"text-align: right;\">\n      <th></th>\n      <th>tweet</th>\n    </tr>\n    <tr>\n      <th>created_at</th>\n      <th></th>\n    </tr>\n  </thead>\n  <tbody>\n    <tr>\n      <th>1</th>\n      <td>107</td>\n    </tr>\n    <tr>\n      <th>2</th>\n      <td>107</td>\n    </tr>\n    <tr>\n      <th>3</th>\n      <td>114</td>\n    </tr>\n    <tr>\n      <th>4</th>\n      <td>97</td>\n    </tr>\n    <tr>\n      <th>5</th>\n      <td>117</td>\n    </tr>\n  </tbody>\n</table>\n</div>"
     },
     "execution_count": 56,
     "metadata": {},
     "output_type": "execute_result"
    }
   ],
   "source": [
    "# here we pass the groups as a series\n",
    "df.groupby(df['created_at'].dt.day)[['tweet']].count().head()"
   ],
   "metadata": {
    "collapsed": false
   }
  },
  {
   "cell_type": "code",
   "execution_count": null,
   "outputs": [],
   "source": [
    "# Now let us try to get the number of tweets posted at each our \n",
    "\n",
    "# YOUR SOLUTION HERE\n",
    "# x ="
   ],
   "metadata": {
    "collapsed": false
   }
  },
  {
   "cell_type": "code",
   "execution_count": 59,
   "metadata": {
    "ExecuteTime": {
     "end_time": "2024-08-13T11:02:39.987687Z",
     "start_time": "2024-08-13T11:02:39.138442Z"
    }
   },
   "outputs": [
    {
     "data": {
      "text/plain": "<Axes: xlabel='created_at'>"
     },
     "execution_count": 59,
     "metadata": {},
     "output_type": "execute_result"
    },
    {
     "data": {
      "text/plain": "<Figure size 640x480 with 1 Axes>",
      "image/png": "[encoded data removed]"
     },
     "metadata": {},
     "output_type": "display_data"
    }
   ],
   "source": [
    "x.plot(kind='bar')"
   ]
  },
  {
   "attachments": {},
   "cell_type": "markdown",
   "metadata": {},
   "source": [
    "##### By multiple labels (columns)"
   ]
  },
  {
   "cell_type": "code",
   "execution_count": 60,
   "metadata": {
    "ExecuteTime": {
     "end_time": "2024-08-13T11:02:39.988145Z",
     "start_time": "2024-08-13T11:02:39.436760Z"
    }
   },
   "outputs": [
    {
     "data": {
      "text/plain": "                            created_at  \\\nid                                       \n849636868052275200 2017-04-05 14:56:29   \n848988730585096192 2017-04-03 20:01:01   \n848943072423497728 2017-04-03 16:59:35   \n848935705057280001 2017-04-03 16:30:19   \n848416049573658624 2017-04-02 06:05:23   \n\n                                                                                                                                                                         tweet  \\\nid                                                                                                                                                                               \n849636868052275200                                                                                            b'And so the robots spared humanity ... https://t.co/v7JUJQWfCv'   \n848988730585096192  b\"@ForIn2020 @waltmossberg @mims @defcon_5 Exactly. Tesla is absurdly overvalued if based on the past, but that's irr\\xe2\\x80\\xa6 https://t.co/qQcTqkzgMl\"   \n848943072423497728                                                                                                               b'@waltmossberg @mims @defcon_5 Et tu, Walt?'   \n848935705057280001                                                                                                                         b'Stormy weather in Shortville ...'   \n848416049573658624                                                                           b\"@DaveLeeBBC @verge Coal is dying due to nat gas fracking. It's basically dead.\"   \n\n                                                             tweet_link  \\\nid                                                                        \n849636868052275200  https://twitter.com/i/web/status/849636868052275200   \n848988730585096192  https://twitter.com/i/web/status/848988730585096192   \n848943072423497728  https://twitter.com/i/web/status/848943072423497728   \n848935705057280001  https://twitter.com/i/web/status/848935705057280001   \n848416049573658624  https://twitter.com/i/web/status/848416049573658624   \n\n                                                 tweet_mentions  n_mentions  \\\nid                                                                            \n849636868052275200                                         None           0   \n848988730585096192  @ForIn2020, @waltmossberg, @mims, @defcon_5           4   \n848943072423497728              @waltmossberg, @mims, @defcon_5           3   \n848935705057280001                                         None           0   \n848416049573658624                          @DaveLeeBBC, @verge           2   \n\n                   week_day_name  week_day  day_hour  \nid                                                    \n849636868052275200     Wednesday         2        14  \n848988730585096192        Monday         0        20  \n848943072423497728        Monday         0        16  \n848935705057280001        Monday         0        16  \n848416049573658624        Sunday         6         6  ",
      "text/html": "<div>\n<style scoped>\n    .dataframe tbody tr th:only-of-type {\n        vertical-align: middle;\n    }\n\n    .dataframe tbody tr th {\n        vertical-align: top;\n    }\n\n    .dataframe thead th {\n        text-align: right;\n    }\n</style>\n<table border=\"1\" class=\"dataframe\">\n  <thead>\n    <tr style=\"text-align: right;\">\n      <th></th>\n      <th>created_at</th>\n      <th>tweet</th>\n      <th>tweet_link</th>\n      <th>tweet_mentions</th>\n      <th>n_mentions</th>\n      <th>week_day_name</th>\n      <th>week_day</th>\n      <th>day_hour</th>\n    </tr>\n    <tr>\n      <th>id</th>\n      <th></th>\n      <th></th>\n      <th></th>\n      <th></th>\n      <th></th>\n      <th></th>\n      <th></th>\n      <th></th>\n    </tr>\n  </thead>\n  <tbody>\n    <tr>\n      <th>849636868052275200</th>\n      <td>2017-04-05 14:56:29</td>\n      <td>b'And so the robots spared humanity ... https://t.co/v7JUJQWfCv'</td>\n      <td>https://twitter.com/i/web/status/849636868052275200</td>\n      <td>None</td>\n      <td>0</td>\n      <td>Wednesday</td>\n      <td>2</td>\n      <td>14</td>\n    </tr>\n    <tr>\n      <th>848988730585096192</th>\n      <td>2017-04-03 20:01:01</td>\n      <td>b\"@ForIn2020 @waltmossberg @mims @defcon_5 Exactly. Tesla is absurdly overvalued if based on the past, but that's irr\\xe2\\x80\\xa6 https://t.co/qQcTqkzgMl\"</td>\n      <td>https://twitter.com/i/web/status/848988730585096192</td>\n      <td>@ForIn2020, @waltmossberg, @mims, @defcon_5</td>\n      <td>4</td>\n      <td>Monday</td>\n      <td>0</td>\n      <td>20</td>\n    </tr>\n    <tr>\n      <th>848943072423497728</th>\n      <td>2017-04-03 16:59:35</td>\n      <td>b'@waltmossberg @mims @defcon_5 Et tu, Walt?'</td>\n      <td>https://twitter.com/i/web/status/848943072423497728</td>\n      <td>@waltmossberg, @mims, @defcon_5</td>\n      <td>3</td>\n      <td>Monday</td>\n      <td>0</td>\n      <td>16</td>\n    </tr>\n    <tr>\n      <th>848935705057280001</th>\n      <td>2017-04-03 16:30:19</td>\n      <td>b'Stormy weather in Shortville ...'</td>\n      <td>https://twitter.com/i/web/status/848935705057280001</td>\n      <td>None</td>\n      <td>0</td>\n      <td>Monday</td>\n      <td>0</td>\n      <td>16</td>\n    </tr>\n    <tr>\n      <th>848416049573658624</th>\n      <td>2017-04-02 06:05:23</td>\n      <td>b\"@DaveLeeBBC @verge Coal is dying due to nat gas fracking. It's basically dead.\"</td>\n      <td>https://twitter.com/i/web/status/848416049573658624</td>\n      <td>@DaveLeeBBC, @verge</td>\n      <td>2</td>\n      <td>Sunday</td>\n      <td>6</td>\n      <td>6</td>\n    </tr>\n  </tbody>\n</table>\n</div>"
     },
     "execution_count": 60,
     "metadata": {},
     "output_type": "execute_result"
    }
   ],
   "source": [
    "df.head()"
   ]
  },
  {
   "cell_type": "code",
   "execution_count": 61,
   "metadata": {
    "ExecuteTime": {
     "end_time": "2024-08-13T11:02:39.988222Z",
     "start_time": "2024-08-13T11:02:39.443461Z"
    }
   },
   "outputs": [],
   "source": [
    "pd.set_option(\"display.max_rows\", None, \"display.max_columns\", None)"
   ]
  },
  {
   "cell_type": "code",
   "execution_count": 62,
   "metadata": {
    "ExecuteTime": {
     "end_time": "2024-08-13T11:02:39.988434Z",
     "start_time": "2024-08-13T11:02:39.446944Z"
    }
   },
   "outputs": [
    {
     "data": {
      "text/plain": "                   tweet\nweek_day day_hour       \n0        0            11\n         1            23\n         2            17\n         3             7\n         4            12",
      "text/html": "<div>\n<style scoped>\n    .dataframe tbody tr th:only-of-type {\n        vertical-align: middle;\n    }\n\n    .dataframe tbody tr th {\n        vertical-align: top;\n    }\n\n    .dataframe thead th {\n        text-align: right;\n    }\n</style>\n<table border=\"1\" class=\"dataframe\">\n  <thead>\n    <tr style=\"text-align: right;\">\n      <th></th>\n      <th></th>\n      <th>tweet</th>\n    </tr>\n    <tr>\n      <th>week_day</th>\n      <th>day_hour</th>\n      <th></th>\n    </tr>\n  </thead>\n  <tbody>\n    <tr>\n      <th rowspan=\"5\" valign=\"top\">0</th>\n      <th>0</th>\n      <td>11</td>\n    </tr>\n    <tr>\n      <th>1</th>\n      <td>23</td>\n    </tr>\n    <tr>\n      <th>2</th>\n      <td>17</td>\n    </tr>\n    <tr>\n      <th>3</th>\n      <td>7</td>\n    </tr>\n    <tr>\n      <th>4</th>\n      <td>12</td>\n    </tr>\n  </tbody>\n</table>\n</div>"
     },
     "execution_count": 62,
     "metadata": {},
     "output_type": "execute_result"
    }
   ],
   "source": [
    "# here we group based on the values of two columns\n",
    "# instead of one\n",
    "\n",
    "df.groupby(['week_day', 'day_hour'])[['tweet']].count().head()"
   ]
  },
  {
   "attachments": {},
   "cell_type": "markdown",
   "metadata": {},
   "source": [
    "#### Aggregation methods\n",
    "\n",
    "**Summary**:\n",
    "\n",
    "- `count`: Number of non-NA values\n",
    "- `sum`: Sum of non-NA values\n",
    "- `mean`: Mean of non-NA values\n",
    "- `median`: Arithmetic median of non-NA values\n",
    "- `std`, `var`: standard deviation and variance\n",
    "- `min`, `max`: Minimum and maximum of non-NA values"
   ]
  },
  {
   "cell_type": "code",
   "execution_count": 63,
   "metadata": {
    "ExecuteTime": {
     "end_time": "2024-08-13T11:02:39.988584Z",
     "start_time": "2024-08-13T11:02:39.454288Z"
    }
   },
   "outputs": [
    {
     "data": {
      "text/plain": "6"
     },
     "execution_count": 63,
     "metadata": {},
     "output_type": "execute_result"
    }
   ],
   "source": [
    "df['n_mentions'].max()"
   ]
  },
  {
   "attachments": {},
   "cell_type": "markdown",
   "metadata": {},
   "source": [
    "Or also as aggregation functions within a groupby:"
   ]
  },
  {
   "cell_type": "code",
   "execution_count": 64,
   "metadata": {
    "ExecuteTime": {
     "end_time": "2024-08-13T11:02:39.988829Z",
     "start_time": "2024-08-13T11:02:39.457782Z"
    }
   },
   "outputs": [
    {
     "data": {
      "text/plain": "         n_mentions                                      \n              count      mean min max       std       var\nweek_day                                                 \n0               315  0.812698   0   5  0.964248  0.929775\n1               385  0.729870   0   6  0.874861  0.765381\n2               380  0.786842   0   4  0.768328  0.590328\n3               361  0.781163   0   4  0.832853  0.693644\n4               530  0.879245   0   5  0.901869  0.813368\n5               426  0.727700   0   5  0.800607  0.640972\n6               422  0.907583   0   6  0.851707  0.725406",
      "text/html": "<div>\n<style scoped>\n    .dataframe tbody tr th:only-of-type {\n        vertical-align: middle;\n    }\n\n    .dataframe tbody tr th {\n        vertical-align: top;\n    }\n\n    .dataframe thead tr th {\n        text-align: left;\n    }\n\n    .dataframe thead tr:last-of-type th {\n        text-align: right;\n    }\n</style>\n<table border=\"1\" class=\"dataframe\">\n  <thead>\n    <tr>\n      <th></th>\n      <th colspan=\"6\" halign=\"left\">n_mentions</th>\n    </tr>\n    <tr>\n      <th></th>\n      <th>count</th>\n      <th>mean</th>\n      <th>min</th>\n      <th>max</th>\n      <th>std</th>\n      <th>var</th>\n    </tr>\n    <tr>\n      <th>week_day</th>\n      <th></th>\n      <th></th>\n      <th></th>\n      <th></th>\n      <th></th>\n      <th></th>\n    </tr>\n  </thead>\n  <tbody>\n    <tr>\n      <th>0</th>\n      <td>315</td>\n      <td>0.812698</td>\n      <td>0</td>\n      <td>5</td>\n      <td>0.964248</td>\n      <td>0.929775</td>\n    </tr>\n    <tr>\n      <th>1</th>\n      <td>385</td>\n      <td>0.729870</td>\n      <td>0</td>\n      <td>6</td>\n      <td>0.874861</td>\n      <td>0.765381</td>\n    </tr>\n    <tr>\n      <th>2</th>\n      <td>380</td>\n      <td>0.786842</td>\n      <td>0</td>\n      <td>4</td>\n      <td>0.768328</td>\n      <td>0.590328</td>\n    </tr>\n    <tr>\n      <th>3</th>\n      <td>361</td>\n      <td>0.781163</td>\n      <td>0</td>\n      <td>4</td>\n      <td>0.832853</td>\n      <td>0.693644</td>\n    </tr>\n    <tr>\n      <th>4</th>\n      <td>530</td>\n      <td>0.879245</td>\n      <td>0</td>\n      <td>5</td>\n      <td>0.901869</td>\n      <td>0.813368</td>\n    </tr>\n    <tr>\n      <th>5</th>\n      <td>426</td>\n      <td>0.727700</td>\n      <td>0</td>\n      <td>5</td>\n      <td>0.800607</td>\n      <td>0.640972</td>\n    </tr>\n    <tr>\n      <th>6</th>\n      <td>422</td>\n      <td>0.907583</td>\n      <td>0</td>\n      <td>6</td>\n      <td>0.851707</td>\n      <td>0.725406</td>\n    </tr>\n  </tbody>\n</table>\n</div>"
     },
     "execution_count": 64,
     "metadata": {},
     "output_type": "execute_result"
    }
   ],
   "source": [
    "df.groupby('week_day').agg(\n",
    "    {\n",
    "        # each key in this dict specifies\n",
    "        # a given column\n",
    "        'n_mentions':[\n",
    "            # the list contains aggregation functions\n",
    "            # to be applied to this column\n",
    "            'count',\n",
    "            'mean',\n",
    "            'min',\n",
    "            'max',\n",
    "            'std',\n",
    "            'var'\n",
    "        ]\n",
    "    }\n",
    ")"
   ]
  },
  {
   "attachments": {},
   "cell_type": "markdown",
   "metadata": {},
   "source": [
    "#### Sorting"
   ]
  },
  {
   "attachments": {},
   "cell_type": "markdown",
   "metadata": {},
   "source": [
    "To sort the values of  a dataframe we use its `sort_values` method:\n",
    "- `by`: specifies the name of the column to be used for sorting\n",
    "- `ascending` (default = `True`): specifies whether the sorting should be *ascending* (A-Z, 0-9) or `descending` (Z-A, 9-0) "
   ]
  },
  {
   "cell_type": "code",
   "execution_count": 65,
   "metadata": {
    "ExecuteTime": {
     "end_time": "2024-08-13T11:02:39.988892Z",
     "start_time": "2024-08-13T11:02:39.469703Z"
    }
   },
   "outputs": [],
   "source": [
    "# df.sort_values?"
   ]
  },
  {
   "cell_type": "code",
   "execution_count": 66,
   "metadata": {
    "ExecuteTime": {
     "end_time": "2024-08-13T11:02:39.989175Z",
     "start_time": "2024-08-13T11:02:39.472780Z"
    }
   },
   "outputs": [
    {
     "data": {
      "text/plain": "                            created_at  \\\nid                                       \n15434727182        2010-06-04 18:31:57   \n142179928203460608 2011-12-01 09:55:11   \n142188458125963264 2011-12-01 10:29:04   \n142880871391838208 2011-12-03 08:20:28   \n142881284019060736 2011-12-03 08:22:07   \n\n                                                                                                                                                              tweet  \\\nid                                                                                                                                                                    \n15434727182                                                         b'Please ignore prior tweets, as that was someone pretending to be me :)  This is actually me.'   \n142179928203460608  b\"Went to Iceland on Sat to ride bumper cars on ice!  No, not the country, Vlad's rink in Van Nuys. Awesome family fun :) http://t.co/rBQXJ9IT\"   \n142188458125963264                         b'I made the volume on the Model S http://t.co/wMCnT53M go to 11.  Now I just need to work in a miniature Stonehenge...'   \n142880871391838208      b'Great Voltaire quote, arguably better than Twain. Hearing news of his own death, Voltaire replied the reports were true, only premature.'   \n142881284019060736                                                                                                             b'That was a total non sequitur btw'   \n\n                                                             tweet_link  \\\nid                                                                        \n15434727182                https://twitter.com/i/web/status/15434727182   \n142179928203460608  https://twitter.com/i/web/status/142179928203460608   \n142188458125963264  https://twitter.com/i/web/status/142188458125963264   \n142880871391838208  https://twitter.com/i/web/status/142880871391838208   \n142881284019060736  https://twitter.com/i/web/status/142881284019060736   \n\n                   tweet_mentions  n_mentions week_day_name  week_day  \\\nid                                                                      \n15434727182                  None           0        Friday         4   \n142179928203460608           None           0      Thursday         3   \n142188458125963264           None           0      Thursday         3   \n142880871391838208           None           0      Saturday         5   \n142881284019060736           None           0      Saturday         5   \n\n                    day_hour  \nid                            \n15434727182               18  \n142179928203460608         9  \n142188458125963264        10  \n142880871391838208         8  \n142881284019060736         8  ",
      "text/html": "<div>\n<style scoped>\n    .dataframe tbody tr th:only-of-type {\n        vertical-align: middle;\n    }\n\n    .dataframe tbody tr th {\n        vertical-align: top;\n    }\n\n    .dataframe thead th {\n        text-align: right;\n    }\n</style>\n<table border=\"1\" class=\"dataframe\">\n  <thead>\n    <tr style=\"text-align: right;\">\n      <th></th>\n      <th>created_at</th>\n      <th>tweet</th>\n      <th>tweet_link</th>\n      <th>tweet_mentions</th>\n      <th>n_mentions</th>\n      <th>week_day_name</th>\n      <th>week_day</th>\n      <th>day_hour</th>\n    </tr>\n    <tr>\n      <th>id</th>\n      <th></th>\n      <th></th>\n      <th></th>\n      <th></th>\n      <th></th>\n      <th></th>\n      <th></th>\n      <th></th>\n    </tr>\n  </thead>\n  <tbody>\n    <tr>\n      <th>15434727182</th>\n      <td>2010-06-04 18:31:57</td>\n      <td>b'Please ignore prior tweets, as that was someone pretending to be me :)  This is actually me.'</td>\n      <td>https://twitter.com/i/web/status/15434727182</td>\n      <td>None</td>\n      <td>0</td>\n      <td>Friday</td>\n      <td>4</td>\n      <td>18</td>\n    </tr>\n    <tr>\n      <th>142179928203460608</th>\n      <td>2011-12-01 09:55:11</td>\n      <td>b\"Went to Iceland on Sat to ride bumper cars on ice!  No, not the country, Vlad's rink in Van Nuys. Awesome family fun :) http://t.co/rBQXJ9IT\"</td>\n      <td>https://twitter.com/i/web/status/142179928203460608</td>\n      <td>None</td>\n      <td>0</td>\n      <td>Thursday</td>\n      <td>3</td>\n      <td>9</td>\n    </tr>\n    <tr>\n      <th>142188458125963264</th>\n      <td>2011-12-01 10:29:04</td>\n      <td>b'I made the volume on the Model S http://t.co/wMCnT53M go to 11.  Now I just need to work in a miniature Stonehenge...'</td>\n      <td>https://twitter.com/i/web/status/142188458125963264</td>\n      <td>None</td>\n      <td>0</td>\n      <td>Thursday</td>\n      <td>3</td>\n      <td>10</td>\n    </tr>\n    <tr>\n      <th>142880871391838208</th>\n      <td>2011-12-03 08:20:28</td>\n      <td>b'Great Voltaire quote, arguably better than Twain. Hearing news of his own death, Voltaire replied the reports were true, only premature.'</td>\n      <td>https://twitter.com/i/web/status/142880871391838208</td>\n      <td>None</td>\n      <td>0</td>\n      <td>Saturday</td>\n      <td>5</td>\n      <td>8</td>\n    </tr>\n    <tr>\n      <th>142881284019060736</th>\n      <td>2011-12-03 08:22:07</td>\n      <td>b'That was a total non sequitur btw'</td>\n      <td>https://twitter.com/i/web/status/142881284019060736</td>\n      <td>None</td>\n      <td>0</td>\n      <td>Saturday</td>\n      <td>5</td>\n      <td>8</td>\n    </tr>\n  </tbody>\n</table>\n</div>"
     },
     "execution_count": 66,
     "metadata": {},
     "output_type": "execute_result"
    }
   ],
   "source": [
    "df.sort_values(by='created_at', ascending=True).head()"
   ]
  },
  {
   "cell_type": "code",
   "execution_count": 67,
   "metadata": {
    "ExecuteTime": {
     "end_time": "2024-08-13T11:02:39.989560Z",
     "start_time": "2024-08-13T11:02:39.480147Z"
    }
   },
   "outputs": [
    {
     "data": {
      "text/plain": "                            created_at  \\\nid                                       \n752721031735812096 2016-07-12 04:27:33   \n303244501957365760 2013-02-17 20:48:17   \n845289977051148289 2017-03-24 15:03:29   \n672792504895434753 2015-12-04 15:00:07   \n191005784862236672 2012-04-14 03:31:42   \n\n                                                                                                                                                                         tweet  \\\nid                                                                                                                                                                               \n752721031735812096                                               b\"@kumailn @RealDaveBarton @JuddApatow @SiliconHBO @FredericLambert @MikeJudge can't wait to see the costume\"   \n303244501957365760            b'RT @LawrenceChanin: @TeslaRoadTrip @avantgame @TEDchris @elonmusk @nytimes   \\nThe driving public is the winner thanks to the efforts of  ...'   \n845289977051148289                                             b'@faultywarrior @matt_trulli @FredericLambert @TimShelton @JimPengelly Let me just go fetch my magic wand ...'   \n672792504895434753  b\"RT @WSJLife: Supermodel @KarlieKloss blasts off to the future at @elonmusk's @spacex HQ https://t.co/PfE2bWcQwM @wsjmag https://t.co/zc7QM9\\xe2\\x80\\xa6\"   \n191005784862236672  b'RT @SethGreen: My love @ClareGrant & @elonmusk partied with the space cheese on our tour of @SpaceX & @TeslaMotors ...which was AWESO\\xe2\\x80\\xa6 h ...'   \n\n                                                             tweet_link  \\\nid                                                                        \n752721031735812096  https://twitter.com/i/web/status/752721031735812096   \n303244501957365760  https://twitter.com/i/web/status/303244501957365760   \n845289977051148289  https://twitter.com/i/web/status/845289977051148289   \n672792504895434753  https://twitter.com/i/web/status/672792504895434753   \n191005784862236672  https://twitter.com/i/web/status/191005784862236672   \n\n                                                                                       tweet_mentions  \\\nid                                                                                                      \n752721031735812096  @kumailn, @RealDaveBarton, @JuddApatow, @SiliconHBO, @FredericLambert, @MikeJudge   \n303244501957365760        @LawrenceChanin, @TeslaRoadTrip, @avantgame, @TEDchris, @elonmusk, @nytimes   \n845289977051148289          @faultywarrior, @matt_trulli, @FredericLambert, @TimShelton, @JimPengelly   \n672792504895434753                                @WSJLife, @KarlieKloss, @elonmusk, @spacex, @wsjmag   \n191005784862236672                          @SethGreen, @ClareGrant, @elonmusk, @SpaceX, @TeslaMotors   \n\n                    n_mentions week_day_name  week_day  day_hour  \nid                                                                \n752721031735812096           6       Tuesday         1         4  \n303244501957365760           6        Sunday         6        20  \n845289977051148289           5        Friday         4        15  \n672792504895434753           5        Friday         4        15  \n191005784862236672           5      Saturday         5         3  ",
      "text/html": "<div>\n<style scoped>\n    .dataframe tbody tr th:only-of-type {\n        vertical-align: middle;\n    }\n\n    .dataframe tbody tr th {\n        vertical-align: top;\n    }\n\n    .dataframe thead th {\n        text-align: right;\n    }\n</style>\n<table border=\"1\" class=\"dataframe\">\n  <thead>\n    <tr style=\"text-align: right;\">\n      <th></th>\n      <th>created_at</th>\n      <th>tweet</th>\n      <th>tweet_link</th>\n      <th>tweet_mentions</th>\n      <th>n_mentions</th>\n      <th>week_day_name</th>\n      <th>week_day</th>\n      <th>day_hour</th>\n    </tr>\n    <tr>\n      <th>id</th>\n      <th></th>\n      <th></th>\n      <th></th>\n      <th></th>\n      <th></th>\n      <th></th>\n      <th></th>\n      <th></th>\n    </tr>\n  </thead>\n  <tbody>\n    <tr>\n      <th>752721031735812096</th>\n      <td>2016-07-12 04:27:33</td>\n      <td>b\"@kumailn @RealDaveBarton @JuddApatow @SiliconHBO @FredericLambert @MikeJudge can't wait to see the costume\"</td>\n      <td>https://twitter.com/i/web/status/752721031735812096</td>\n      <td>@kumailn, @RealDaveBarton, @JuddApatow, @SiliconHBO, @FredericLambert, @MikeJudge</td>\n      <td>6</td>\n      <td>Tuesday</td>\n      <td>1</td>\n      <td>4</td>\n    </tr>\n    <tr>\n      <th>303244501957365760</th>\n      <td>2013-02-17 20:48:17</td>\n      <td>b'RT @LawrenceChanin: @TeslaRoadTrip @avantgame @TEDchris @elonmusk @nytimes   \\nThe driving public is the winner thanks to the efforts of  ...'</td>\n      <td>https://twitter.com/i/web/status/303244501957365760</td>\n      <td>@LawrenceChanin, @TeslaRoadTrip, @avantgame, @TEDchris, @elonmusk, @nytimes</td>\n      <td>6</td>\n      <td>Sunday</td>\n      <td>6</td>\n      <td>20</td>\n    </tr>\n    <tr>\n      <th>845289977051148289</th>\n      <td>2017-03-24 15:03:29</td>\n      <td>b'@faultywarrior @matt_trulli @FredericLambert @TimShelton @JimPengelly Let me just go fetch my magic wand ...'</td>\n      <td>https://twitter.com/i/web/status/845289977051148289</td>\n      <td>@faultywarrior, @matt_trulli, @FredericLambert, @TimShelton, @JimPengelly</td>\n      <td>5</td>\n      <td>Friday</td>\n      <td>4</td>\n      <td>15</td>\n    </tr>\n    <tr>\n      <th>672792504895434753</th>\n      <td>2015-12-04 15:00:07</td>\n      <td>b\"RT @WSJLife: Supermodel @KarlieKloss blasts off to the future at @elonmusk's @spacex HQ https://t.co/PfE2bWcQwM @wsjmag https://t.co/zc7QM9\\xe2\\x80\\xa6\"</td>\n      <td>https://twitter.com/i/web/status/672792504895434753</td>\n      <td>@WSJLife, @KarlieKloss, @elonmusk, @spacex, @wsjmag</td>\n      <td>5</td>\n      <td>Friday</td>\n      <td>4</td>\n      <td>15</td>\n    </tr>\n    <tr>\n      <th>191005784862236672</th>\n      <td>2012-04-14 03:31:42</td>\n      <td>b'RT @SethGreen: My love @ClareGrant &amp; @elonmusk partied with the space cheese on our tour of @SpaceX &amp; @TeslaMotors ...which was AWESO\\xe2\\x80\\xa6 h ...'</td>\n      <td>https://twitter.com/i/web/status/191005784862236672</td>\n      <td>@SethGreen, @ClareGrant, @elonmusk, @SpaceX, @TeslaMotors</td>\n      <td>5</td>\n      <td>Saturday</td>\n      <td>5</td>\n      <td>3</td>\n    </tr>\n  </tbody>\n</table>\n</div>"
     },
     "execution_count": 67,
     "metadata": {},
     "output_type": "execute_result"
    }
   ],
   "source": [
    "df.sort_values(by='n_mentions', ascending=False).head()"
   ]
  },
  {
   "attachments": {},
   "cell_type": "markdown",
   "metadata": {},
   "source": [
    "### Save\n",
    "\n",
    "Before continuing with the plotting, let's save our enhanced dataframe, so that we can come back to it without having to redo the same manipulations on it.\n",
    "\n",
    "`pandas` provides a number of handy functions to export dataframes in a variety of formats."
   ]
  },
  {
   "attachments": {},
   "cell_type": "markdown",
   "metadata": {},
   "source": [
    "Here we use `to_pickle` to serialize the dataframe into a binary format, by using behind the scenes Python's `pickle` library. "
   ]
  },
  {
   "cell_type": "code",
   "execution_count": 68,
   "metadata": {
    "ExecuteTime": {
     "end_time": "2024-08-13T11:02:39.989637Z",
     "start_time": "2024-08-13T11:02:39.487041Z"
    }
   },
   "outputs": [],
   "source": [
    "df.to_pickle(\"./musk_tweets_enhanced.pkl\")"
   ]
  }
 ],
 "metadata": {
  "kernelspec": {
   "display_name": "Python 3 (ipykernel)",
   "language": "python",
   "name": "python3"
  },
  "language_info": {
   "codemirror_mode": {
    "name": "ipython",
    "version": 3
   },
   "file_extension": ".py",
   "mimetype": "text/x-python",
   "name": "python",
   "nbconvert_exporter": "python",
   "pygments_lexer": "ipython3",
   "version": "3.10.3"
  },
  "toc": {
   "base_numbering": 1,
   "nav_menu": {},
   "number_sections": false,
   "sideBar": true,
   "skip_h1_title": false,
   "title_cell": "Table of Contents",
   "title_sidebar": "Contents",
   "toc_cell": false,
   "toc_position": {
    "height": "calc(100% - 180px)",
    "left": "10px",
    "top": "150px",
    "width": "384px"
   },
   "toc_section_display": true,
   "toc_window_display": true
  }
 },
 "nbformat": 4,
 "nbformat_minor": 4
}
