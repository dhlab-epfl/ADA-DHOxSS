{
 "cells": [
  {
   "cell_type": "markdown",
   "id": "05a77f8c",
   "metadata": {},
   "source": [
    "# Chapter II - Pandas (Wrangling)"
   ]
  },
  {
   "cell_type": "markdown",
   "id": "e3795c91",
   "metadata": {},
   "source": [
    "In this notebook we will cover further essential skills in data manipulation (also called wrangling):\n",
    "\n",
    "- Transforming dataframe columns using `.apply()` and `.map()` functions\n",
    "- Renaming columns\n",
    "- Grouping entries using `.groupby()` and aggregating them using `.agg()`"
   ]
  },
  {
   "cell_type": "code",
   "execution_count": 17,
   "id": "9cd227ed",
   "metadata": {},
   "outputs": [],
   "source": [
    "import pandas as pd"
   ]
  },
  {
   "cell_type": "markdown",
   "id": "6f75cd9c",
   "metadata": {},
   "source": [
    "## Motivation\n",
    "\n",
    "For this we will use a sample of 50,000 tweets from UK museums from my thesis... me here being Ellen :)"
   ]
  },
  {
   "cell_type": "code",
   "execution_count": 18,
   "id": "895ec188",
   "metadata": {},
   "outputs": [
    {
     "data": {
      "text/html": [
       "<div>\n",
       "<style scoped>\n",
       "    .dataframe tbody tr th:only-of-type {\n",
       "        vertical-align: middle;\n",
       "    }\n",
       "\n",
       "    .dataframe tbody tr th {\n",
       "        vertical-align: top;\n",
       "    }\n",
       "\n",
       "    .dataframe thead th {\n",
       "        text-align: right;\n",
       "    }\n",
       "</style>\n",
       "<table border=\"1\" class=\"dataframe\">\n",
       "  <thead>\n",
       "    <tr style=\"text-align: right;\">\n",
       "      <th></th>\n",
       "      <th>id</th>\n",
       "      <th>ts</th>\n",
       "      <th>museum_account</th>\n",
       "      <th>original_text</th>\n",
       "      <th>is_retweet</th>\n",
       "      <th>is_reply</th>\n",
       "      <th>interactions_count</th>\n",
       "    </tr>\n",
       "  </thead>\n",
       "  <tbody>\n",
       "    <tr>\n",
       "      <th>0</th>\n",
       "      <td>5798944681378</td>\n",
       "      <td>2021-07-22 19:38:34+00:00</td>\n",
       "      <td>ancienthousemus</td>\n",
       "      <td>@AncientHouseMus @artukdotorg Ugh, no wonder h...</td>\n",
       "      <td>False</td>\n",
       "      <td>True</td>\n",
       "      <td>0.0</td>\n",
       "    </tr>\n",
       "    <tr>\n",
       "      <th>1</th>\n",
       "      <td>8702741370361</td>\n",
       "      <td>2019-01-02 08:25:06+00:00</td>\n",
       "      <td>livcathedral</td>\n",
       "      <td>Looking for a fun challenge to take as a famil...</td>\n",
       "      <td>False</td>\n",
       "      <td>False</td>\n",
       "      <td>4.0</td>\n",
       "    </tr>\n",
       "    <tr>\n",
       "      <th>2</th>\n",
       "      <td>4436751452541</td>\n",
       "      <td>2020-04-06 10:07:47+00:00</td>\n",
       "      <td>samuseums</td>\n",
       "      <td>@samuseums A great choice to show the beautifu...</td>\n",
       "      <td>False</td>\n",
       "      <td>True</td>\n",
       "      <td>2.0</td>\n",
       "    </tr>\n",
       "    <tr>\n",
       "      <th>3</th>\n",
       "      <td>7789471450859</td>\n",
       "      <td>2019-06-29 07:42:00+00:00</td>\n",
       "      <td>hull_museums</td>\n",
       "      <td>Our Hands on History Museum is open today 12no...</td>\n",
       "      <td>False</td>\n",
       "      <td>True</td>\n",
       "      <td>1.0</td>\n",
       "    </tr>\n",
       "    <tr>\n",
       "      <th>4</th>\n",
       "      <td>1508119645064</td>\n",
       "      <td>2022-05-18 11:12:56+00:00</td>\n",
       "      <td>ecmfcm</td>\n",
       "      <td>@CynthiaTheBaker @BarnsleyMuseums @SMTrust @Da...</td>\n",
       "      <td>False</td>\n",
       "      <td>True</td>\n",
       "      <td>1.0</td>\n",
       "    </tr>\n",
       "    <tr>\n",
       "      <th>...</th>\n",
       "      <td>...</td>\n",
       "      <td>...</td>\n",
       "      <td>...</td>\n",
       "      <td>...</td>\n",
       "      <td>...</td>\n",
       "      <td>...</td>\n",
       "      <td>...</td>\n",
       "    </tr>\n",
       "    <tr>\n",
       "      <th>49995</th>\n",
       "      <td>6273812294446</td>\n",
       "      <td>2022-01-05 15:51:00+00:00</td>\n",
       "      <td>dtcswansea</td>\n",
       "      <td>#OnThisDay 1934 Dylan: ‘my evenings are given ...</td>\n",
       "      <td>False</td>\n",
       "      <td>False</td>\n",
       "      <td>5.0</td>\n",
       "    </tr>\n",
       "    <tr>\n",
       "      <th>49996</th>\n",
       "      <td>2076749205202</td>\n",
       "      <td>2021-10-11 16:31:47+00:00</td>\n",
       "      <td>museumcromwell</td>\n",
       "      <td>@EdeBorrett @joinLordGrey @17thCenturyLady @Ki...</td>\n",
       "      <td>False</td>\n",
       "      <td>True</td>\n",
       "      <td>4.0</td>\n",
       "    </tr>\n",
       "    <tr>\n",
       "      <th>49997</th>\n",
       "      <td>8445227010972</td>\n",
       "      <td>2019-10-02 12:02:10+00:00</td>\n",
       "      <td>hullmaritime</td>\n",
       "      <td>@HullTruck Thank you so much for your continue...</td>\n",
       "      <td>False</td>\n",
       "      <td>True</td>\n",
       "      <td>4.0</td>\n",
       "    </tr>\n",
       "    <tr>\n",
       "      <th>49998</th>\n",
       "      <td>8904441389462</td>\n",
       "      <td>2019-03-16 02:26:52+00:00</td>\n",
       "      <td>museumcromwell</td>\n",
       "      <td>@MuseumCromwell @MirandaMalins @17thCenturyLad...</td>\n",
       "      <td>False</td>\n",
       "      <td>True</td>\n",
       "      <td>1.0</td>\n",
       "    </tr>\n",
       "    <tr>\n",
       "      <th>49999</th>\n",
       "      <td>4774413582770</td>\n",
       "      <td>2019-04-11 09:15:04+00:00</td>\n",
       "      <td>rafmuseum</td>\n",
       "      <td>#London: Currently Solo: A Star Wars Story is ...</td>\n",
       "      <td>False</td>\n",
       "      <td>False</td>\n",
       "      <td>1.0</td>\n",
       "    </tr>\n",
       "  </tbody>\n",
       "</table>\n",
       "<p>50000 rows × 7 columns</p>\n",
       "</div>"
      ],
      "text/plain": [
       "                  id                         ts   museum_account  \\\n",
       "0      5798944681378  2021-07-22 19:38:34+00:00  ancienthousemus   \n",
       "1      8702741370361  2019-01-02 08:25:06+00:00     livcathedral   \n",
       "2      4436751452541  2020-04-06 10:07:47+00:00        samuseums   \n",
       "3      7789471450859  2019-06-29 07:42:00+00:00     hull_museums   \n",
       "4      1508119645064  2022-05-18 11:12:56+00:00           ecmfcm   \n",
       "...              ...                        ...              ...   \n",
       "49995  6273812294446  2022-01-05 15:51:00+00:00       dtcswansea   \n",
       "49996  2076749205202  2021-10-11 16:31:47+00:00   museumcromwell   \n",
       "49997  8445227010972  2019-10-02 12:02:10+00:00     hullmaritime   \n",
       "49998  8904441389462  2019-03-16 02:26:52+00:00   museumcromwell   \n",
       "49999  4774413582770  2019-04-11 09:15:04+00:00        rafmuseum   \n",
       "\n",
       "                                           original_text  is_retweet  \\\n",
       "0      @AncientHouseMus @artukdotorg Ugh, no wonder h...       False   \n",
       "1      Looking for a fun challenge to take as a famil...       False   \n",
       "2      @samuseums A great choice to show the beautifu...       False   \n",
       "3      Our Hands on History Museum is open today 12no...       False   \n",
       "4      @CynthiaTheBaker @BarnsleyMuseums @SMTrust @Da...       False   \n",
       "...                                                  ...         ...   \n",
       "49995  #OnThisDay 1934 Dylan: ‘my evenings are given ...       False   \n",
       "49996  @EdeBorrett @joinLordGrey @17thCenturyLady @Ki...       False   \n",
       "49997  @HullTruck Thank you so much for your continue...       False   \n",
       "49998  @MuseumCromwell @MirandaMalins @17thCenturyLad...       False   \n",
       "49999  #London: Currently Solo: A Star Wars Story is ...       False   \n",
       "\n",
       "       is_reply  interactions_count  \n",
       "0          True                 0.0  \n",
       "1         False                 4.0  \n",
       "2          True                 2.0  \n",
       "3          True                 1.0  \n",
       "4          True                 1.0  \n",
       "...         ...                 ...  \n",
       "49995     False                 5.0  \n",
       "49996      True                 4.0  \n",
       "49997      True                 4.0  \n",
       "49998      True                 1.0  \n",
       "49999     False                 1.0  \n",
       "\n",
       "[50000 rows x 7 columns]"
      ]
     },
     "execution_count": 18,
     "metadata": {},
     "output_type": "execute_result"
    }
   ],
   "source": [
    "df = pd.read_csv('../data/sample_museum_tweets.tsv', sep='\\t')\n",
    "df"
   ]
  },
  {
   "cell_type": "markdown",
   "id": "aedc9ff2",
   "metadata": {},
   "source": [
    "## Section (1): Accessing manipulations"
   ]
  },
  {
   "cell_type": "markdown",
   "id": "c7516660",
   "metadata": {},
   "source": [
    "### A) Setting indexes"
   ]
  },
  {
   "cell_type": "markdown",
   "id": "bfdb57d5",
   "metadata": {},
   "source": [
    "We can give the dataframe a bit more structure:\n",
    "- the `id` column can be transformed into the dataframe's index, thus enabling us e.g. to select a tweet by id.\n",
    "\n",
    "This is done using the `set_index()` method.\n",
    "- Two arguments are important: `drop` (which specifies whether to get rid of the previous index) and `inplace` (which _directly_ modifies the dataframe)\n"
   ]
  },
  {
   "cell_type": "code",
   "execution_count": 19,
   "id": "7691c04d",
   "metadata": {},
   "outputs": [],
   "source": [
    "df.set_index('id', drop=True, inplace=True)"
   ]
  },
  {
   "cell_type": "markdown",
   "id": "a1158f2f",
   "metadata": {},
   "source": [
    "We can now access a row by selecting the identifier and applying the `loc` operator as we saw last time:"
   ]
  },
  {
   "cell_type": "code",
   "execution_count": 20,
   "id": "29b3a34f",
   "metadata": {},
   "outputs": [
    {
     "data": {
      "text/plain": [
       "ts                                            2019-06-29 07:42:00+00:00\n",
       "museum_account                                             hull_museums\n",
       "original_text         Our Hands on History Museum is open today 12no...\n",
       "is_retweet                                                        False\n",
       "is_reply                                                           True\n",
       "interactions_count                                                  1.0\n",
       "Name: 7789471450859, dtype: object"
      ]
     },
     "execution_count": 20,
     "metadata": {},
     "output_type": "execute_result"
    }
   ],
   "source": [
    "df.loc[7789471450859]"
   ]
  },
  {
   "cell_type": "markdown",
   "id": "1e13a959",
   "metadata": {},
   "source": [
    "❓ [Question]\n",
    "- What data type does this return?\n",
    "- What if you want to access more than one tweet?"
   ]
  },
  {
   "cell_type": "code",
   "execution_count": 21,
   "id": "21aa01f1",
   "metadata": {},
   "outputs": [],
   "source": [
    "# your answer here:"
   ]
  },
  {
   "cell_type": "markdown",
   "id": "a8e262cb",
   "metadata": {},
   "source": [
    "The index can be reset done using the `reset_index()` method.\n",
    "- Again the `drop` and `inplace` operators are relevant. \n",
    "- We can also choose the name we want to give to the index using the `names` argument"
   ]
  },
  {
   "cell_type": "code",
   "execution_count": 22,
   "id": "0f6af9b3",
   "metadata": {},
   "outputs": [
    {
     "data": {
      "text/html": [
       "<div>\n",
       "<style scoped>\n",
       "    .dataframe tbody tr th:only-of-type {\n",
       "        vertical-align: middle;\n",
       "    }\n",
       "\n",
       "    .dataframe tbody tr th {\n",
       "        vertical-align: top;\n",
       "    }\n",
       "\n",
       "    .dataframe thead th {\n",
       "        text-align: right;\n",
       "    }\n",
       "</style>\n",
       "<table border=\"1\" class=\"dataframe\">\n",
       "  <thead>\n",
       "    <tr style=\"text-align: right;\">\n",
       "      <th></th>\n",
       "      <th>id</th>\n",
       "      <th>ts</th>\n",
       "      <th>museum_account</th>\n",
       "      <th>original_text</th>\n",
       "      <th>is_retweet</th>\n",
       "      <th>is_reply</th>\n",
       "      <th>interactions_count</th>\n",
       "    </tr>\n",
       "  </thead>\n",
       "  <tbody>\n",
       "    <tr>\n",
       "      <th>0</th>\n",
       "      <td>5798944681378</td>\n",
       "      <td>2021-07-22 19:38:34+00:00</td>\n",
       "      <td>ancienthousemus</td>\n",
       "      <td>@AncientHouseMus @artukdotorg Ugh, no wonder h...</td>\n",
       "      <td>False</td>\n",
       "      <td>True</td>\n",
       "      <td>0.0</td>\n",
       "    </tr>\n",
       "    <tr>\n",
       "      <th>1</th>\n",
       "      <td>8702741370361</td>\n",
       "      <td>2019-01-02 08:25:06+00:00</td>\n",
       "      <td>livcathedral</td>\n",
       "      <td>Looking for a fun challenge to take as a famil...</td>\n",
       "      <td>False</td>\n",
       "      <td>False</td>\n",
       "      <td>4.0</td>\n",
       "    </tr>\n",
       "    <tr>\n",
       "      <th>2</th>\n",
       "      <td>4436751452541</td>\n",
       "      <td>2020-04-06 10:07:47+00:00</td>\n",
       "      <td>samuseums</td>\n",
       "      <td>@samuseums A great choice to show the beautifu...</td>\n",
       "      <td>False</td>\n",
       "      <td>True</td>\n",
       "      <td>2.0</td>\n",
       "    </tr>\n",
       "    <tr>\n",
       "      <th>3</th>\n",
       "      <td>7789471450859</td>\n",
       "      <td>2019-06-29 07:42:00+00:00</td>\n",
       "      <td>hull_museums</td>\n",
       "      <td>Our Hands on History Museum is open today 12no...</td>\n",
       "      <td>False</td>\n",
       "      <td>True</td>\n",
       "      <td>1.0</td>\n",
       "    </tr>\n",
       "    <tr>\n",
       "      <th>4</th>\n",
       "      <td>1508119645064</td>\n",
       "      <td>2022-05-18 11:12:56+00:00</td>\n",
       "      <td>ecmfcm</td>\n",
       "      <td>@CynthiaTheBaker @BarnsleyMuseums @SMTrust @Da...</td>\n",
       "      <td>False</td>\n",
       "      <td>True</td>\n",
       "      <td>1.0</td>\n",
       "    </tr>\n",
       "    <tr>\n",
       "      <th>...</th>\n",
       "      <td>...</td>\n",
       "      <td>...</td>\n",
       "      <td>...</td>\n",
       "      <td>...</td>\n",
       "      <td>...</td>\n",
       "      <td>...</td>\n",
       "      <td>...</td>\n",
       "    </tr>\n",
       "    <tr>\n",
       "      <th>49995</th>\n",
       "      <td>6273812294446</td>\n",
       "      <td>2022-01-05 15:51:00+00:00</td>\n",
       "      <td>dtcswansea</td>\n",
       "      <td>#OnThisDay 1934 Dylan: ‘my evenings are given ...</td>\n",
       "      <td>False</td>\n",
       "      <td>False</td>\n",
       "      <td>5.0</td>\n",
       "    </tr>\n",
       "    <tr>\n",
       "      <th>49996</th>\n",
       "      <td>2076749205202</td>\n",
       "      <td>2021-10-11 16:31:47+00:00</td>\n",
       "      <td>museumcromwell</td>\n",
       "      <td>@EdeBorrett @joinLordGrey @17thCenturyLady @Ki...</td>\n",
       "      <td>False</td>\n",
       "      <td>True</td>\n",
       "      <td>4.0</td>\n",
       "    </tr>\n",
       "    <tr>\n",
       "      <th>49997</th>\n",
       "      <td>8445227010972</td>\n",
       "      <td>2019-10-02 12:02:10+00:00</td>\n",
       "      <td>hullmaritime</td>\n",
       "      <td>@HullTruck Thank you so much for your continue...</td>\n",
       "      <td>False</td>\n",
       "      <td>True</td>\n",
       "      <td>4.0</td>\n",
       "    </tr>\n",
       "    <tr>\n",
       "      <th>49998</th>\n",
       "      <td>8904441389462</td>\n",
       "      <td>2019-03-16 02:26:52+00:00</td>\n",
       "      <td>museumcromwell</td>\n",
       "      <td>@MuseumCromwell @MirandaMalins @17thCenturyLad...</td>\n",
       "      <td>False</td>\n",
       "      <td>True</td>\n",
       "      <td>1.0</td>\n",
       "    </tr>\n",
       "    <tr>\n",
       "      <th>49999</th>\n",
       "      <td>4774413582770</td>\n",
       "      <td>2019-04-11 09:15:04+00:00</td>\n",
       "      <td>rafmuseum</td>\n",
       "      <td>#London: Currently Solo: A Star Wars Story is ...</td>\n",
       "      <td>False</td>\n",
       "      <td>False</td>\n",
       "      <td>1.0</td>\n",
       "    </tr>\n",
       "  </tbody>\n",
       "</table>\n",
       "<p>50000 rows × 7 columns</p>\n",
       "</div>"
      ],
      "text/plain": [
       "                  id                         ts   museum_account  \\\n",
       "0      5798944681378  2021-07-22 19:38:34+00:00  ancienthousemus   \n",
       "1      8702741370361  2019-01-02 08:25:06+00:00     livcathedral   \n",
       "2      4436751452541  2020-04-06 10:07:47+00:00        samuseums   \n",
       "3      7789471450859  2019-06-29 07:42:00+00:00     hull_museums   \n",
       "4      1508119645064  2022-05-18 11:12:56+00:00           ecmfcm   \n",
       "...              ...                        ...              ...   \n",
       "49995  6273812294446  2022-01-05 15:51:00+00:00       dtcswansea   \n",
       "49996  2076749205202  2021-10-11 16:31:47+00:00   museumcromwell   \n",
       "49997  8445227010972  2019-10-02 12:02:10+00:00     hullmaritime   \n",
       "49998  8904441389462  2019-03-16 02:26:52+00:00   museumcromwell   \n",
       "49999  4774413582770  2019-04-11 09:15:04+00:00        rafmuseum   \n",
       "\n",
       "                                           original_text  is_retweet  \\\n",
       "0      @AncientHouseMus @artukdotorg Ugh, no wonder h...       False   \n",
       "1      Looking for a fun challenge to take as a famil...       False   \n",
       "2      @samuseums A great choice to show the beautifu...       False   \n",
       "3      Our Hands on History Museum is open today 12no...       False   \n",
       "4      @CynthiaTheBaker @BarnsleyMuseums @SMTrust @Da...       False   \n",
       "...                                                  ...         ...   \n",
       "49995  #OnThisDay 1934 Dylan: ‘my evenings are given ...       False   \n",
       "49996  @EdeBorrett @joinLordGrey @17thCenturyLady @Ki...       False   \n",
       "49997  @HullTruck Thank you so much for your continue...       False   \n",
       "49998  @MuseumCromwell @MirandaMalins @17thCenturyLad...       False   \n",
       "49999  #London: Currently Solo: A Star Wars Story is ...       False   \n",
       "\n",
       "       is_reply  interactions_count  \n",
       "0          True                 0.0  \n",
       "1         False                 4.0  \n",
       "2          True                 2.0  \n",
       "3          True                 1.0  \n",
       "4          True                 1.0  \n",
       "...         ...                 ...  \n",
       "49995     False                 5.0  \n",
       "49996      True                 4.0  \n",
       "49997      True                 4.0  \n",
       "49998      True                 1.0  \n",
       "49999     False                 1.0  \n",
       "\n",
       "[50000 rows x 7 columns]"
      ]
     },
     "execution_count": 22,
     "metadata": {},
     "output_type": "execute_result"
    }
   ],
   "source": [
    "df.reset_index(drop=False, inplace=True, names='id')\n",
    "df"
   ]
  },
  {
   "cell_type": "markdown",
   "id": "c7e6b1cb",
   "metadata": {},
   "source": [
    "✏️ [Ex.1] \n",
    "- ✏️ Display the first 10 elements of the dataframe.\n",
    "- ✏️ Using functions seen in the previous notebook, convert the `ts` column into a `datetime` value.\n",
    "- ✏️ Again, using functions we have already seen, create the columns `year`, `month`, `day`, and `hour` that record when the tweet was published."
   ]
  },
  {
   "cell_type": "code",
   "execution_count": 23,
   "id": "5c12da15",
   "metadata": {},
   "outputs": [],
   "source": [
    "# your solution here:"
   ]
  },
  {
   "cell_type": "markdown",
   "id": "34cd97e8",
   "metadata": {},
   "source": [
    "### B) Setting column names\n",
    "\n",
    "An operation on dataframes that you'll find yourself doing very often is to rename the columns. The first way of renaming columns is by manipulating directly the dataframe's index via the `columns` property.\n",
    "We can change the column names by assigning to `columns` a list having as values the new column names.\n",
    "\n",
    "**NB**: the size of the list and new number of colums must match!"
   ]
  },
  {
   "cell_type": "code",
   "execution_count": 24,
   "id": "05541bd3",
   "metadata": {},
   "outputs": [
    {
     "data": {
      "text/plain": [
       "Index(['id', 'ts', 'museum_account', 'original_text', 'is_retweet', 'is_reply',\n",
       "       'interactions_count'],\n",
       "      dtype='object')"
      ]
     },
     "execution_count": 24,
     "metadata": {},
     "output_type": "execute_result"
    }
   ],
   "source": [
    "df.columns"
   ]
  },
  {
   "cell_type": "code",
   "execution_count": 25,
   "id": "cf9e8af2",
   "metadata": {},
   "outputs": [
    {
     "ename": "ValueError",
     "evalue": "Length mismatch: Expected axis has 7 elements, new values have 11 elements",
     "output_type": "error",
     "traceback": [
      "\u001b[0;31m---------------------------------------------------------------------------\u001b[0m",
      "\u001b[0;31mValueError\u001b[0m                                Traceback (most recent call last)",
      "Cell \u001b[0;32mIn[25], line 1\u001b[0m\n\u001b[0;32m----> 1\u001b[0m df\u001b[38;5;241m.\u001b[39mcolumns \u001b[38;5;241m=\u001b[39m [\u001b[38;5;124m'\u001b[39m\u001b[38;5;124mid\u001b[39m\u001b[38;5;124m'\u001b[39m, \u001b[38;5;124m'\u001b[39m\u001b[38;5;124mts\u001b[39m\u001b[38;5;124m'\u001b[39m, \u001b[38;5;124m'\u001b[39m\u001b[38;5;124mmuseum_account\u001b[39m\u001b[38;5;124m'\u001b[39m, \u001b[38;5;124m'\u001b[39m\u001b[38;5;124mtweet_text\u001b[39m\u001b[38;5;124m'\u001b[39m, \u001b[38;5;124m'\u001b[39m\u001b[38;5;124mis_retweet\u001b[39m\u001b[38;5;124m'\u001b[39m, \u001b[38;5;124m'\u001b[39m\u001b[38;5;124mis_reply\u001b[39m\u001b[38;5;124m'\u001b[39m,\n\u001b[1;32m      2\u001b[0m        \u001b[38;5;124m'\u001b[39m\u001b[38;5;124minteractions_count\u001b[39m\u001b[38;5;124m'\u001b[39m, \u001b[38;5;124m'\u001b[39m\u001b[38;5;124myear\u001b[39m\u001b[38;5;124m'\u001b[39m, \u001b[38;5;124m'\u001b[39m\u001b[38;5;124mmonth\u001b[39m\u001b[38;5;124m'\u001b[39m, \u001b[38;5;124m'\u001b[39m\u001b[38;5;124mday\u001b[39m\u001b[38;5;124m'\u001b[39m, \u001b[38;5;124m'\u001b[39m\u001b[38;5;124mhour\u001b[39m\u001b[38;5;124m'\u001b[39m]\n",
      "File \u001b[0;32m~/miniconda3/envs/dhoxss/lib/python3.12/site-packages/pandas/core/generic.py:6313\u001b[0m, in \u001b[0;36mNDFrame.__setattr__\u001b[0;34m(self, name, value)\u001b[0m\n\u001b[1;32m   6311\u001b[0m \u001b[38;5;28;01mtry\u001b[39;00m:\n\u001b[1;32m   6312\u001b[0m     \u001b[38;5;28mobject\u001b[39m\u001b[38;5;241m.\u001b[39m\u001b[38;5;21m__getattribute__\u001b[39m(\u001b[38;5;28mself\u001b[39m, name)\n\u001b[0;32m-> 6313\u001b[0m     \u001b[38;5;28;01mreturn\u001b[39;00m \u001b[38;5;28mobject\u001b[39m\u001b[38;5;241m.\u001b[39m\u001b[38;5;21m__setattr__\u001b[39m(\u001b[38;5;28mself\u001b[39m, name, value)\n\u001b[1;32m   6314\u001b[0m \u001b[38;5;28;01mexcept\u001b[39;00m \u001b[38;5;167;01mAttributeError\u001b[39;00m:\n\u001b[1;32m   6315\u001b[0m     \u001b[38;5;28;01mpass\u001b[39;00m\n",
      "File \u001b[0;32mproperties.pyx:69\u001b[0m, in \u001b[0;36mpandas._libs.properties.AxisProperty.__set__\u001b[0;34m()\u001b[0m\n",
      "File \u001b[0;32m~/miniconda3/envs/dhoxss/lib/python3.12/site-packages/pandas/core/generic.py:814\u001b[0m, in \u001b[0;36mNDFrame._set_axis\u001b[0;34m(self, axis, labels)\u001b[0m\n\u001b[1;32m    809\u001b[0m \u001b[38;5;250m\u001b[39m\u001b[38;5;124;03m\"\"\"\u001b[39;00m\n\u001b[1;32m    810\u001b[0m \u001b[38;5;124;03mThis is called from the cython code when we set the `index` attribute\u001b[39;00m\n\u001b[1;32m    811\u001b[0m \u001b[38;5;124;03mdirectly, e.g. `series.index = [1, 2, 3]`.\u001b[39;00m\n\u001b[1;32m    812\u001b[0m \u001b[38;5;124;03m\"\"\"\u001b[39;00m\n\u001b[1;32m    813\u001b[0m labels \u001b[38;5;241m=\u001b[39m ensure_index(labels)\n\u001b[0;32m--> 814\u001b[0m \u001b[38;5;28mself\u001b[39m\u001b[38;5;241m.\u001b[39m_mgr\u001b[38;5;241m.\u001b[39mset_axis(axis, labels)\n\u001b[1;32m    815\u001b[0m \u001b[38;5;28mself\u001b[39m\u001b[38;5;241m.\u001b[39m_clear_item_cache()\n",
      "File \u001b[0;32m~/miniconda3/envs/dhoxss/lib/python3.12/site-packages/pandas/core/internals/managers.py:238\u001b[0m, in \u001b[0;36mBaseBlockManager.set_axis\u001b[0;34m(self, axis, new_labels)\u001b[0m\n\u001b[1;32m    236\u001b[0m \u001b[38;5;28;01mdef\u001b[39;00m \u001b[38;5;21mset_axis\u001b[39m(\u001b[38;5;28mself\u001b[39m, axis: AxisInt, new_labels: Index) \u001b[38;5;241m-\u001b[39m\u001b[38;5;241m>\u001b[39m \u001b[38;5;28;01mNone\u001b[39;00m:\n\u001b[1;32m    237\u001b[0m     \u001b[38;5;66;03m# Caller is responsible for ensuring we have an Index object.\u001b[39;00m\n\u001b[0;32m--> 238\u001b[0m     \u001b[38;5;28mself\u001b[39m\u001b[38;5;241m.\u001b[39m_validate_set_axis(axis, new_labels)\n\u001b[1;32m    239\u001b[0m     \u001b[38;5;28mself\u001b[39m\u001b[38;5;241m.\u001b[39maxes[axis] \u001b[38;5;241m=\u001b[39m new_labels\n",
      "File \u001b[0;32m~/miniconda3/envs/dhoxss/lib/python3.12/site-packages/pandas/core/internals/base.py:98\u001b[0m, in \u001b[0;36mDataManager._validate_set_axis\u001b[0;34m(self, axis, new_labels)\u001b[0m\n\u001b[1;32m     95\u001b[0m     \u001b[38;5;28;01mpass\u001b[39;00m\n\u001b[1;32m     97\u001b[0m \u001b[38;5;28;01melif\u001b[39;00m new_len \u001b[38;5;241m!=\u001b[39m old_len:\n\u001b[0;32m---> 98\u001b[0m     \u001b[38;5;28;01mraise\u001b[39;00m \u001b[38;5;167;01mValueError\u001b[39;00m(\n\u001b[1;32m     99\u001b[0m         \u001b[38;5;124mf\u001b[39m\u001b[38;5;124m\"\u001b[39m\u001b[38;5;124mLength mismatch: Expected axis has \u001b[39m\u001b[38;5;132;01m{\u001b[39;00mold_len\u001b[38;5;132;01m}\u001b[39;00m\u001b[38;5;124m elements, new \u001b[39m\u001b[38;5;124m\"\u001b[39m\n\u001b[1;32m    100\u001b[0m         \u001b[38;5;124mf\u001b[39m\u001b[38;5;124m\"\u001b[39m\u001b[38;5;124mvalues have \u001b[39m\u001b[38;5;132;01m{\u001b[39;00mnew_len\u001b[38;5;132;01m}\u001b[39;00m\u001b[38;5;124m elements\u001b[39m\u001b[38;5;124m\"\u001b[39m\n\u001b[1;32m    101\u001b[0m     )\n",
      "\u001b[0;31mValueError\u001b[0m: Length mismatch: Expected axis has 7 elements, new values have 11 elements"
     ]
    }
   ],
   "source": [
    "df.columns = ['id', 'ts', 'museum_account', 'tweet_text', 'is_retweet', 'is_reply',\n",
    "       'interactions_count', 'year', 'month', 'day', 'hour']"
   ]
  },
  {
   "cell_type": "code",
   "execution_count": 26,
   "id": "c3711b68",
   "metadata": {},
   "outputs": [
    {
     "data": {
      "text/html": [
       "<div>\n",
       "<style scoped>\n",
       "    .dataframe tbody tr th:only-of-type {\n",
       "        vertical-align: middle;\n",
       "    }\n",
       "\n",
       "    .dataframe tbody tr th {\n",
       "        vertical-align: top;\n",
       "    }\n",
       "\n",
       "    .dataframe thead th {\n",
       "        text-align: right;\n",
       "    }\n",
       "</style>\n",
       "<table border=\"1\" class=\"dataframe\">\n",
       "  <thead>\n",
       "    <tr style=\"text-align: right;\">\n",
       "      <th></th>\n",
       "      <th>id</th>\n",
       "      <th>ts</th>\n",
       "      <th>museum_account</th>\n",
       "      <th>original_text</th>\n",
       "      <th>is_retweet</th>\n",
       "      <th>is_reply</th>\n",
       "      <th>interactions_count</th>\n",
       "    </tr>\n",
       "  </thead>\n",
       "  <tbody>\n",
       "    <tr>\n",
       "      <th>0</th>\n",
       "      <td>5798944681378</td>\n",
       "      <td>2021-07-22 19:38:34+00:00</td>\n",
       "      <td>ancienthousemus</td>\n",
       "      <td>@AncientHouseMus @artukdotorg Ugh, no wonder h...</td>\n",
       "      <td>False</td>\n",
       "      <td>True</td>\n",
       "      <td>0.0</td>\n",
       "    </tr>\n",
       "    <tr>\n",
       "      <th>1</th>\n",
       "      <td>8702741370361</td>\n",
       "      <td>2019-01-02 08:25:06+00:00</td>\n",
       "      <td>livcathedral</td>\n",
       "      <td>Looking for a fun challenge to take as a famil...</td>\n",
       "      <td>False</td>\n",
       "      <td>False</td>\n",
       "      <td>4.0</td>\n",
       "    </tr>\n",
       "    <tr>\n",
       "      <th>2</th>\n",
       "      <td>4436751452541</td>\n",
       "      <td>2020-04-06 10:07:47+00:00</td>\n",
       "      <td>samuseums</td>\n",
       "      <td>@samuseums A great choice to show the beautifu...</td>\n",
       "      <td>False</td>\n",
       "      <td>True</td>\n",
       "      <td>2.0</td>\n",
       "    </tr>\n",
       "    <tr>\n",
       "      <th>3</th>\n",
       "      <td>7789471450859</td>\n",
       "      <td>2019-06-29 07:42:00+00:00</td>\n",
       "      <td>hull_museums</td>\n",
       "      <td>Our Hands on History Museum is open today 12no...</td>\n",
       "      <td>False</td>\n",
       "      <td>True</td>\n",
       "      <td>1.0</td>\n",
       "    </tr>\n",
       "    <tr>\n",
       "      <th>4</th>\n",
       "      <td>1508119645064</td>\n",
       "      <td>2022-05-18 11:12:56+00:00</td>\n",
       "      <td>ecmfcm</td>\n",
       "      <td>@CynthiaTheBaker @BarnsleyMuseums @SMTrust @Da...</td>\n",
       "      <td>False</td>\n",
       "      <td>True</td>\n",
       "      <td>1.0</td>\n",
       "    </tr>\n",
       "  </tbody>\n",
       "</table>\n",
       "</div>"
      ],
      "text/plain": [
       "              id                         ts   museum_account  \\\n",
       "0  5798944681378  2021-07-22 19:38:34+00:00  ancienthousemus   \n",
       "1  8702741370361  2019-01-02 08:25:06+00:00     livcathedral   \n",
       "2  4436751452541  2020-04-06 10:07:47+00:00        samuseums   \n",
       "3  7789471450859  2019-06-29 07:42:00+00:00     hull_museums   \n",
       "4  1508119645064  2022-05-18 11:12:56+00:00           ecmfcm   \n",
       "\n",
       "                                       original_text  is_retweet  is_reply  \\\n",
       "0  @AncientHouseMus @artukdotorg Ugh, no wonder h...       False      True   \n",
       "1  Looking for a fun challenge to take as a famil...       False     False   \n",
       "2  @samuseums A great choice to show the beautifu...       False      True   \n",
       "3  Our Hands on History Museum is open today 12no...       False      True   \n",
       "4  @CynthiaTheBaker @BarnsleyMuseums @SMTrust @Da...       False      True   \n",
       "\n",
       "   interactions_count  \n",
       "0                 0.0  \n",
       "1                 4.0  \n",
       "2                 2.0  \n",
       "3                 1.0  \n",
       "4                 1.0  "
      ]
     },
     "execution_count": 26,
     "metadata": {},
     "output_type": "execute_result"
    }
   ],
   "source": [
    "# let's check that the change did take place\n",
    "df.head()"
   ]
  },
  {
   "cell_type": "markdown",
   "id": "00a63c05",
   "metadata": {},
   "source": [
    "The second way of renaming colums is to use the method `rename()` of a dataframe. The `columns` parameter takes a dictionary of mappings between old and new column names.\n",
    "\n",
    "```python\n",
    "mapping_dict = {\n",
    "    \"old_column1_name\": \"new_column1_name\",\n",
    "    \"old_column2_name\": \"new_column2_name\",\n",
    "}\n",
    "```"
   ]
  },
  {
   "cell_type": "code",
   "execution_count": null,
   "id": "79309f9b",
   "metadata": {},
   "outputs": [
    {
     "data": {
      "text/html": [
       "<div>\n",
       "<style scoped>\n",
       "    .dataframe tbody tr th:only-of-type {\n",
       "        vertical-align: middle;\n",
       "    }\n",
       "\n",
       "    .dataframe tbody tr th {\n",
       "        vertical-align: top;\n",
       "    }\n",
       "\n",
       "    .dataframe thead th {\n",
       "        text-align: right;\n",
       "    }\n",
       "</style>\n",
       "<table border=\"1\" class=\"dataframe\">\n",
       "  <thead>\n",
       "    <tr style=\"text-align: right;\">\n",
       "      <th></th>\n",
       "      <th>id</th>\n",
       "      <th>ts</th>\n",
       "      <th>museum_account</th>\n",
       "      <th>tweet</th>\n",
       "      <th>is_retweet</th>\n",
       "      <th>is_reply</th>\n",
       "      <th>interactions_count</th>\n",
       "    </tr>\n",
       "  </thead>\n",
       "  <tbody>\n",
       "    <tr>\n",
       "      <th>0</th>\n",
       "      <td>5798944681378</td>\n",
       "      <td>2021-07-22 19:38:34+00:00</td>\n",
       "      <td>ancienthousemus</td>\n",
       "      <td>@AncientHouseMus @artukdotorg Ugh, no wonder h...</td>\n",
       "      <td>False</td>\n",
       "      <td>True</td>\n",
       "      <td>0.0</td>\n",
       "    </tr>\n",
       "    <tr>\n",
       "      <th>1</th>\n",
       "      <td>8702741370361</td>\n",
       "      <td>2019-01-02 08:25:06+00:00</td>\n",
       "      <td>livcathedral</td>\n",
       "      <td>Looking for a fun challenge to take as a famil...</td>\n",
       "      <td>False</td>\n",
       "      <td>False</td>\n",
       "      <td>4.0</td>\n",
       "    </tr>\n",
       "    <tr>\n",
       "      <th>2</th>\n",
       "      <td>4436751452541</td>\n",
       "      <td>2020-04-06 10:07:47+00:00</td>\n",
       "      <td>samuseums</td>\n",
       "      <td>@samuseums A great choice to show the beautifu...</td>\n",
       "      <td>False</td>\n",
       "      <td>True</td>\n",
       "      <td>2.0</td>\n",
       "    </tr>\n",
       "    <tr>\n",
       "      <th>3</th>\n",
       "      <td>7789471450859</td>\n",
       "      <td>2019-06-29 07:42:00+00:00</td>\n",
       "      <td>hull_museums</td>\n",
       "      <td>Our Hands on History Museum is open today 12no...</td>\n",
       "      <td>False</td>\n",
       "      <td>True</td>\n",
       "      <td>1.0</td>\n",
       "    </tr>\n",
       "    <tr>\n",
       "      <th>4</th>\n",
       "      <td>1508119645064</td>\n",
       "      <td>2022-05-18 11:12:56+00:00</td>\n",
       "      <td>ecmfcm</td>\n",
       "      <td>@CynthiaTheBaker @BarnsleyMuseums @SMTrust @Da...</td>\n",
       "      <td>False</td>\n",
       "      <td>True</td>\n",
       "      <td>1.0</td>\n",
       "    </tr>\n",
       "    <tr>\n",
       "      <th>...</th>\n",
       "      <td>...</td>\n",
       "      <td>...</td>\n",
       "      <td>...</td>\n",
       "      <td>...</td>\n",
       "      <td>...</td>\n",
       "      <td>...</td>\n",
       "      <td>...</td>\n",
       "    </tr>\n",
       "    <tr>\n",
       "      <th>49995</th>\n",
       "      <td>6273812294446</td>\n",
       "      <td>2022-01-05 15:51:00+00:00</td>\n",
       "      <td>dtcswansea</td>\n",
       "      <td>#OnThisDay 1934 Dylan: ‘my evenings are given ...</td>\n",
       "      <td>False</td>\n",
       "      <td>False</td>\n",
       "      <td>5.0</td>\n",
       "    </tr>\n",
       "    <tr>\n",
       "      <th>49996</th>\n",
       "      <td>2076749205202</td>\n",
       "      <td>2021-10-11 16:31:47+00:00</td>\n",
       "      <td>museumcromwell</td>\n",
       "      <td>@EdeBorrett @joinLordGrey @17thCenturyLady @Ki...</td>\n",
       "      <td>False</td>\n",
       "      <td>True</td>\n",
       "      <td>4.0</td>\n",
       "    </tr>\n",
       "    <tr>\n",
       "      <th>49997</th>\n",
       "      <td>8445227010972</td>\n",
       "      <td>2019-10-02 12:02:10+00:00</td>\n",
       "      <td>hullmaritime</td>\n",
       "      <td>@HullTruck Thank you so much for your continue...</td>\n",
       "      <td>False</td>\n",
       "      <td>True</td>\n",
       "      <td>4.0</td>\n",
       "    </tr>\n",
       "    <tr>\n",
       "      <th>49998</th>\n",
       "      <td>8904441389462</td>\n",
       "      <td>2019-03-16 02:26:52+00:00</td>\n",
       "      <td>museumcromwell</td>\n",
       "      <td>@MuseumCromwell @MirandaMalins @17thCenturyLad...</td>\n",
       "      <td>False</td>\n",
       "      <td>True</td>\n",
       "      <td>1.0</td>\n",
       "    </tr>\n",
       "    <tr>\n",
       "      <th>49999</th>\n",
       "      <td>4774413582770</td>\n",
       "      <td>2019-04-11 09:15:04+00:00</td>\n",
       "      <td>rafmuseum</td>\n",
       "      <td>#London: Currently Solo: A Star Wars Story is ...</td>\n",
       "      <td>False</td>\n",
       "      <td>False</td>\n",
       "      <td>1.0</td>\n",
       "    </tr>\n",
       "  </tbody>\n",
       "</table>\n",
       "<p>50000 rows × 7 columns</p>\n",
       "</div>"
      ],
      "text/plain": [
       "                  id                         ts   museum_account  \\\n",
       "0      5798944681378  2021-07-22 19:38:34+00:00  ancienthousemus   \n",
       "1      8702741370361  2019-01-02 08:25:06+00:00     livcathedral   \n",
       "2      4436751452541  2020-04-06 10:07:47+00:00        samuseums   \n",
       "3      7789471450859  2019-06-29 07:42:00+00:00     hull_museums   \n",
       "4      1508119645064  2022-05-18 11:12:56+00:00           ecmfcm   \n",
       "...              ...                        ...              ...   \n",
       "49995  6273812294446  2022-01-05 15:51:00+00:00       dtcswansea   \n",
       "49996  2076749205202  2021-10-11 16:31:47+00:00   museumcromwell   \n",
       "49997  8445227010972  2019-10-02 12:02:10+00:00     hullmaritime   \n",
       "49998  8904441389462  2019-03-16 02:26:52+00:00   museumcromwell   \n",
       "49999  4774413582770  2019-04-11 09:15:04+00:00        rafmuseum   \n",
       "\n",
       "                                                   tweet  is_retweet  \\\n",
       "0      @AncientHouseMus @artukdotorg Ugh, no wonder h...       False   \n",
       "1      Looking for a fun challenge to take as a famil...       False   \n",
       "2      @samuseums A great choice to show the beautifu...       False   \n",
       "3      Our Hands on History Museum is open today 12no...       False   \n",
       "4      @CynthiaTheBaker @BarnsleyMuseums @SMTrust @Da...       False   \n",
       "...                                                  ...         ...   \n",
       "49995  #OnThisDay 1934 Dylan: ‘my evenings are given ...       False   \n",
       "49996  @EdeBorrett @joinLordGrey @17thCenturyLady @Ki...       False   \n",
       "49997  @HullTruck Thank you so much for your continue...       False   \n",
       "49998  @MuseumCromwell @MirandaMalins @17thCenturyLad...       False   \n",
       "49999  #London: Currently Solo: A Star Wars Story is ...       False   \n",
       "\n",
       "       is_reply  interactions_count  \n",
       "0          True                 0.0  \n",
       "1         False                 4.0  \n",
       "2          True                 2.0  \n",
       "3          True                 1.0  \n",
       "4          True                 1.0  \n",
       "...         ...                 ...  \n",
       "49995     False                 5.0  \n",
       "49996      True                 4.0  \n",
       "49997      True                 4.0  \n",
       "49998      True                 1.0  \n",
       "49999     False                 1.0  \n",
       "\n",
       "[50000 rows x 7 columns]"
      ]
     },
     "execution_count": 27,
     "metadata": {},
     "output_type": "execute_result"
    }
   ],
   "source": [
    "# Let's change the column name back: `tweet_text` => `tweet`\n",
    "df = df.rename(columns={\"tweet_text\": \"tweet\"})\n",
    "df"
   ]
  },
  {
   "cell_type": "markdown",
   "id": "ec353566",
   "metadata": {},
   "source": [
    "Note that, here too the `inplace` parameter exists. The above cell is identical to \n",
    "```python\n",
    "df.rename(columns={\"original_text\": \"tweet\"}, inplace=True)\n",
    "```"
   ]
  },
  {
   "cell_type": "markdown",
   "id": "6cfd3300",
   "metadata": {},
   "source": [
    "❓ [Question]\n",
    "- In which cases is it more convenient to use the second method over the first?"
   ]
  },
  {
   "cell_type": "markdown",
   "id": "234b74fd",
   "metadata": {},
   "source": [
    "_Your answer here:_\n"
   ]
  },
  {
   "cell_type": "markdown",
   "id": "304d3850",
   "metadata": {},
   "source": [
    "## Section (2): Transformation\n",
    "\n",
    "A typical problem you will face in data wrangling is the necessity to transform some data you have been given according into another form. If that transformation is regular enough, you may want to write a function that does such conversion.\n",
    "It is possible to effectively apply that function to your `pandas` data.\n",
    "\n",
    "The two main methods used to manipulate and transform values in a dataframe are:\n",
    "- `map()`: an element-wise method for simple conversions, applied to _one_ column\n",
    "- `apply()`: suited for more complex operations, which can be applied to a _whole row_.\n",
    "\n",
    "In this section we'll be using both to enrich our datasets with useful information (useful for exploration, for later visualizations, etc.).\n",
    "\n",
    "The structure is the following:\n",
    "- the `map()` or `apply()` methods are applied to a `pd.Series` or `pd.DataFrame`\n",
    "- they return a `pd.Series` which you will typically want to use to create a new column\n",
    "\n",
    "Typically:\n",
    "\n",
    "```python\n",
    "df['NewColumn'] = df['OldColumn'].apply(some_function)\n",
    "```\n",
    "which is equivalent to\n",
    "```python\n",
    "df['NewColumn'] = df['OldColumn'].map(some_function)\n",
    "```"
   ]
  },
  {
   "cell_type": "markdown",
   "id": "1fab51cf",
   "metadata": {},
   "source": [
    "For example, say we want to extract the length of the tweet:\n",
    "- (1) We can take the `text` column and apply the `len()` native Python function:\n",
    "\n",
    "    ❗ Note that you call the function **WITHOUT** any argument: just `len`"
   ]
  },
  {
   "cell_type": "code",
   "execution_count": 28,
   "id": "9ecbe056",
   "metadata": {},
   "outputs": [
    {
     "data": {
      "text/html": [
       "<div>\n",
       "<style scoped>\n",
       "    .dataframe tbody tr th:only-of-type {\n",
       "        vertical-align: middle;\n",
       "    }\n",
       "\n",
       "    .dataframe tbody tr th {\n",
       "        vertical-align: top;\n",
       "    }\n",
       "\n",
       "    .dataframe thead th {\n",
       "        text-align: right;\n",
       "    }\n",
       "</style>\n",
       "<table border=\"1\" class=\"dataframe\">\n",
       "  <thead>\n",
       "    <tr style=\"text-align: right;\">\n",
       "      <th></th>\n",
       "      <th>id</th>\n",
       "      <th>ts</th>\n",
       "      <th>museum_account</th>\n",
       "      <th>tweet</th>\n",
       "      <th>is_retweet</th>\n",
       "      <th>is_reply</th>\n",
       "      <th>interactions_count</th>\n",
       "      <th>tweet_length</th>\n",
       "    </tr>\n",
       "  </thead>\n",
       "  <tbody>\n",
       "    <tr>\n",
       "      <th>0</th>\n",
       "      <td>5798944681378</td>\n",
       "      <td>2021-07-22 19:38:34+00:00</td>\n",
       "      <td>ancienthousemus</td>\n",
       "      <td>@AncientHouseMus @artukdotorg Ugh, no wonder h...</td>\n",
       "      <td>False</td>\n",
       "      <td>True</td>\n",
       "      <td>0.0</td>\n",
       "      <td>61</td>\n",
       "    </tr>\n",
       "    <tr>\n",
       "      <th>1</th>\n",
       "      <td>8702741370361</td>\n",
       "      <td>2019-01-02 08:25:06+00:00</td>\n",
       "      <td>livcathedral</td>\n",
       "      <td>Looking for a fun challenge to take as a famil...</td>\n",
       "      <td>False</td>\n",
       "      <td>False</td>\n",
       "      <td>4.0</td>\n",
       "      <td>246</td>\n",
       "    </tr>\n",
       "    <tr>\n",
       "      <th>2</th>\n",
       "      <td>4436751452541</td>\n",
       "      <td>2020-04-06 10:07:47+00:00</td>\n",
       "      <td>samuseums</td>\n",
       "      <td>@samuseums A great choice to show the beautifu...</td>\n",
       "      <td>False</td>\n",
       "      <td>True</td>\n",
       "      <td>2.0</td>\n",
       "      <td>118</td>\n",
       "    </tr>\n",
       "    <tr>\n",
       "      <th>3</th>\n",
       "      <td>7789471450859</td>\n",
       "      <td>2019-06-29 07:42:00+00:00</td>\n",
       "      <td>hull_museums</td>\n",
       "      <td>Our Hands on History Museum is open today 12no...</td>\n",
       "      <td>False</td>\n",
       "      <td>True</td>\n",
       "      <td>1.0</td>\n",
       "      <td>144</td>\n",
       "    </tr>\n",
       "    <tr>\n",
       "      <th>4</th>\n",
       "      <td>1508119645064</td>\n",
       "      <td>2022-05-18 11:12:56+00:00</td>\n",
       "      <td>ecmfcm</td>\n",
       "      <td>@CynthiaTheBaker @BarnsleyMuseums @SMTrust @Da...</td>\n",
       "      <td>False</td>\n",
       "      <td>True</td>\n",
       "      <td>1.0</td>\n",
       "      <td>128</td>\n",
       "    </tr>\n",
       "  </tbody>\n",
       "</table>\n",
       "</div>"
      ],
      "text/plain": [
       "              id                         ts   museum_account  \\\n",
       "0  5798944681378  2021-07-22 19:38:34+00:00  ancienthousemus   \n",
       "1  8702741370361  2019-01-02 08:25:06+00:00     livcathedral   \n",
       "2  4436751452541  2020-04-06 10:07:47+00:00        samuseums   \n",
       "3  7789471450859  2019-06-29 07:42:00+00:00     hull_museums   \n",
       "4  1508119645064  2022-05-18 11:12:56+00:00           ecmfcm   \n",
       "\n",
       "                                               tweet  is_retweet  is_reply  \\\n",
       "0  @AncientHouseMus @artukdotorg Ugh, no wonder h...       False      True   \n",
       "1  Looking for a fun challenge to take as a famil...       False     False   \n",
       "2  @samuseums A great choice to show the beautifu...       False      True   \n",
       "3  Our Hands on History Museum is open today 12no...       False      True   \n",
       "4  @CynthiaTheBaker @BarnsleyMuseums @SMTrust @Da...       False      True   \n",
       "\n",
       "   interactions_count  tweet_length  \n",
       "0                 0.0            61  \n",
       "1                 4.0           246  \n",
       "2                 2.0           118  \n",
       "3                 1.0           144  \n",
       "4                 1.0           128  "
      ]
     },
     "execution_count": 28,
     "metadata": {},
     "output_type": "execute_result"
    }
   ],
   "source": [
    "df['tweet_length'] = df['tweet'].apply(len)\n",
    "df.head()"
   ]
  },
  {
   "cell_type": "markdown",
   "id": "29b1494f",
   "metadata": {},
   "source": [
    "- (2) which is equivalent to:"
   ]
  },
  {
   "cell_type": "code",
   "execution_count": null,
   "id": "dda247be",
   "metadata": {},
   "outputs": [],
   "source": [
    "df['tweet_length'] = df['tweet'].map(len)\n",
    "df.head()"
   ]
  },
  {
   "cell_type": "markdown",
   "id": "984138c4",
   "metadata": {},
   "source": [
    "Here, we used an existing function. But we could have used one we wrote specifically —-- which can be useful to deal with exceptions/rare cases/errors, etc.\n",
    "\n",
    "- (3) By defining a function explicitely:"
   ]
  },
  {
   "cell_type": "code",
   "execution_count": null,
   "id": "58d3f742",
   "metadata": {},
   "outputs": [],
   "source": [
    "def extractTweetLength(tweet_text):\n",
    "    return(len(tweet_text))\n",
    "\n",
    "\n",
    "df['tweet_length'] = df['tweet'].map(extractTweetLength)\n",
    "df.head()"
   ]
  },
  {
   "cell_type": "markdown",
   "id": "f97df9f2",
   "metadata": {},
   "source": [
    "- (4) Or by using an anonymous `lambda` function:"
   ]
  },
  {
   "cell_type": "code",
   "execution_count": null,
   "id": "1eae1608",
   "metadata": {},
   "outputs": [],
   "source": [
    "df['tweet_length'] = df['tweet'].map(lambda x: len(x))\n",
    "df.head()"
   ]
  },
  {
   "cell_type": "markdown",
   "id": "50857096",
   "metadata": {},
   "source": [
    "✏️ [Ex.2] \n",
    "To see this in action, use `apply()` or `map()` to create new columns called:\n",
    "- ✏️ `tweet_link`, knowing that the default link is : `https://x.com/i/web/status/ + tweet_id\n",
    "- ✏️ `tweet_nbwords`, which counts the number of words in the tweet\n",
    "- ✏️ `tweet_mentions`, which lists the number of mentions (ie. words that start with @) separated by commas\n",
    "\n",
    "    For this last question, be careful about things that are not mentions, as in this sample tweet:\n",
    "    ```\n",
    "    \"As @stephanie__27 mentionned, our last version (v3@main) is out ! Reach out to steph@org.org for more\"\n",
    "    ```\n",
    "\n",
    "    There are several ways you could tackle this problem. Feel free to use any!\n",
    "\n",
    "- ✏️ `tweet_nbmentions`, which counts the number of mentions\n",
    "- ❗ Export the created dataframe into a `.csv` that we will reuse later. "
   ]
  },
  {
   "cell_type": "code",
   "execution_count": null,
   "id": "4a3f80e7",
   "metadata": {},
   "outputs": [],
   "source": [
    "# Your solution here:\n",
    "\n"
   ]
  },
  {
   "cell_type": "markdown",
   "id": "ce8d19f5",
   "metadata": {},
   "source": [
    "## Section (3): Aggregation"
   ]
  },
  {
   "cell_type": "markdown",
   "id": "b977237a",
   "metadata": {},
   "source": [
    "<img src='../data/png.png' width='600px'>"
   ]
  },
  {
   "cell_type": "markdown",
   "id": "58600c77",
   "metadata": {},
   "source": [
    "### A) Grouping\n",
    "\n",
    "To group a `DataFrame`, one uses the `.groupby()` method:\n",
    "\n",
    "`df.groupby('columnName')`"
   ]
  },
  {
   "cell_type": "markdown",
   "id": "ead66863",
   "metadata": {},
   "source": [
    "❗ Important: The object returned by `groupby` is a `DataFrameGroupBy` **not** a normal `DataFrame`:"
   ]
  },
  {
   "cell_type": "code",
   "execution_count": null,
   "id": "fc2fc1d1",
   "metadata": {},
   "outputs": [],
   "source": [
    "grouped = df.groupby('year')\n",
    "grouped"
   ]
  },
  {
   "cell_type": "markdown",
   "id": "3400e63d",
   "metadata": {},
   "source": [
    "❗ To make is usable, we need to specify _what_ to do to each group of entries.\n",
    "\n",
    "This is the point of **aggregation**.\n"
   ]
  },
  {
   "cell_type": "markdown",
   "id": "e9a26e7a",
   "metadata": {},
   "source": [
    "### B) Aggregating"
   ]
  },
  {
   "cell_type": "markdown",
   "id": "f4aa023b",
   "metadata": {},
   "source": [
    "\n",
    "- `agg` is used to pass an aggregation function to be applied to each group resulting from `groupby`.\n",
    "\n",
    "\n",
    "For example, if we want to count how many tweets there are by year, we can pass the `count` argument:\n",
    "\n"
   ]
  },
  {
   "cell_type": "code",
   "execution_count": null,
   "id": "2fbd8911",
   "metadata": {},
   "outputs": [],
   "source": [
    "grouped.agg('count')"
   ]
  },
  {
   "cell_type": "markdown",
   "id": "d73617d1",
   "metadata": {},
   "source": [
    "- Note that this a bit redundent: all columns have the same number of tweets, regardless of the tweet length / mentions / etc.\n",
    "- Furthermore, this is similar to the `.value_counts()` method we have already seen:"
   ]
  },
  {
   "cell_type": "code",
   "execution_count": null,
   "id": "634e21f9",
   "metadata": {},
   "outputs": [],
   "source": [
    "df.value_counts('year')"
   ]
  },
  {
   "cell_type": "markdown",
   "id": "5d9f2e31",
   "metadata": {},
   "source": [
    "- This is because we need to _tune_ which operation we want for each column.\n",
    "- Some will benefit from counting, some from averaging, some from summing, etc.\n",
    "\n",
    "\n",
    "The way we specify this is by using a dictionary and passing it as the argument of the `.agg()` method.\n",
    "This has the double advantage of:\n",
    "- tuning the aggregation function to each column;\n",
    "- removing all un-necessary columns.\n"
   ]
  },
  {
   "cell_type": "code",
   "execution_count": null,
   "id": "b988c77a",
   "metadata": {},
   "outputs": [],
   "source": [
    "df.groupby('year').agg({'id':'count',\n",
    "                       'tweet_length':'mean'})"
   ]
  },
  {
   "cell_type": "markdown",
   "id": "e688d9b8",
   "metadata": {},
   "source": [
    "- To make this more readable and keep track of what the values are, it is recommended to `.rename()` your columns.\n",
    "\n",
    "Recalling what we have seen earlier, this is how you can do it:\n"
   ]
  },
  {
   "cell_type": "code",
   "execution_count": null,
   "id": "d6d6a4c6",
   "metadata": {},
   "outputs": [],
   "source": [
    "df.groupby('year').agg({'id':'count',\n",
    "                       'tweet_length':'mean'}).rename(columns={'id':'nb_tweets',\n",
    "                                                       'tweet_length':'tweet_length_mean'}\n",
    "                       )"
   ]
  },
  {
   "cell_type": "markdown",
   "id": "77a6baaa",
   "metadata": {},
   "source": [
    "❓ Now that you have aggregated the columns using some function, what data type do you end up with?"
   ]
  },
  {
   "cell_type": "markdown",
   "id": "9a10c620",
   "metadata": {},
   "source": [
    "_Your answer here:_"
   ]
  },
  {
   "cell_type": "markdown",
   "id": "8584d291",
   "metadata": {},
   "source": [
    "---\n",
    "\n",
    "❗ The pre-existing functions you can use in the aggregation are:\n",
    "\n",
    "- `count`: Number of non-NA values\n",
    "- `sum`: Sum of non-NA values\n",
    "- `mean`: Mean of non-NA values\n",
    "- `median`: Arithmetic median of non-NA values\n",
    "- `std`, `var`: standard deviation and variance\n",
    "- `min`, `max`: Minimum and maximum of non-NA values\n",
    "\n",
    "\n",
    "❗Just like with `apply()` and `map()`, you can use any function you define:\n",
    "\n",
    "```python\n",
    "df.groupby('groupingColumn').agg({'columnName':some_function})\n",
    "```"
   ]
  },
  {
   "cell_type": "markdown",
   "id": "573c8f4b",
   "metadata": {},
   "source": [
    "✏️ [Ex.3] Use the aggregation method to determine, after a grouping by year:\n",
    "- ✏️ The average number of mentions\n",
    "- ✏️ The total number of tweeted characters\n",
    "- ✏️ The standard deviation of tweeting hours\n",
    "- ✏️ (Difficult) The number of tweets that have more than 20 interactions.\n",
    "- ✏️ Change the aggregated column names to keep track of what was done.\n"
   ]
  },
  {
   "cell_type": "code",
   "execution_count": null,
   "id": "46d6e229",
   "metadata": {},
   "outputs": [],
   "source": [
    "# Your solution here:"
   ]
  },
  {
   "cell_type": "markdown",
   "id": "1172d2d7",
   "metadata": {},
   "source": [
    "### C) Multiple grouping and aggregation\n",
    "\n",
    "As a final remark, note that we can do the **grouping** and the **aggregation** on multiple conditions.\n",
    "\n",
    "Say for example that I want to regroup all tweets that are done on the same weekday _and_ the same hour.\n",
    "- Simply pass the two columns as a list in the `groupby()`function:"
   ]
  },
  {
   "cell_type": "code",
   "execution_count": null,
   "id": "ea562c04",
   "metadata": {},
   "outputs": [],
   "source": [
    "df.groupby(['year', 'month']).agg({'id':'count',\n",
    "                       'tweet_length':'mean'}).rename(columns={'id':'nb_tweets',\n",
    "                                                       'tweet_length':'tweet_length_mean'}\n",
    "                       )"
   ]
  },
  {
   "cell_type": "markdown",
   "id": "79428fa9",
   "metadata": {},
   "source": [
    "- You can also choose different aggregation functions within a `.groupby()`:"
   ]
  },
  {
   "cell_type": "code",
   "execution_count": null,
   "id": "815c8fb2",
   "metadata": {},
   "outputs": [],
   "source": [
    "df.groupby('year').agg(\n",
    "    {'interactions_count':[\n",
    "            'count',\n",
    "            'mean',\n",
    "            'min',\n",
    "            'max',\n",
    "            'std',\n",
    "            'var'\n",
    "        ]\n",
    "    }\n",
    ")"
   ]
  },
  {
   "cell_type": "markdown",
   "id": "1b4d3c81",
   "metadata": {},
   "source": [
    "✏️ [Ex.4] Expanding what was done in [Ex.3], calculate for each month of 2020:\n",
    "- ✏️ The mean number of mentions\n",
    "- ✏️ The total number of mentions\n",
    "- ✏️ The mean number of tweet interactions\n",
    "- ✏️ The standard deviation number of tweet interactions"
   ]
  },
  {
   "cell_type": "code",
   "execution_count": null,
   "id": "7f6b4b1c",
   "metadata": {},
   "outputs": [],
   "source": [
    "# Your solution here:"
   ]
  }
 ],
 "metadata": {
  "kernelspec": {
   "display_name": "dhoxss",
   "language": "python",
   "name": "python3"
  },
  "language_info": {
   "codemirror_mode": {
    "name": "ipython",
    "version": 3
   },
   "file_extension": ".py",
   "mimetype": "text/x-python",
   "name": "python",
   "nbconvert_exporter": "python",
   "pygments_lexer": "ipython3",
   "version": "3.12.4"
  }
 },
 "nbformat": 4,
 "nbformat_minor": 5
}
