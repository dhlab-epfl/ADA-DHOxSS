{
 "cells": [
  {
   "cell_type": "markdown",
   "id": "05a77f8c",
   "metadata": {},
   "source": [
    "# Chapter II - Pandas (Wrangling)"
   ]
  },
  {
   "cell_type": "markdown",
   "id": "e3795c91",
   "metadata": {},
   "source": [
    "In this notebook we will cover further essential skills in data manipulation (also called wrangling):\n",
    "\n",
    "- Transforming dataframe columns using `.apply()` and `.map()` functions\n",
    "- Renaming columns\n",
    "- Grouping entries using `.groupby()` and aggregating them using `.agg()`"
   ]
  },
  {
   "cell_type": "code",
   "execution_count": null,
   "id": "9cd227ed",
   "metadata": {},
   "outputs": [],
   "source": [
    "import pandas as pd"
   ]
  },
  {
   "cell_type": "markdown",
   "id": "6f75cd9c",
   "metadata": {},
   "source": [
    "## Motivation"
   ]
  },
  {
   "cell_type": "code",
   "execution_count": null,
   "id": "895ec188",
   "metadata": {},
   "outputs": [],
   "source": [
    "#df = pd.read_csv('../data/elonmusk_tweets.csv')\n",
    "\n",
    "df = pd.read_csv('../data/sample_museum_tweets.tsv', sep='\\t')\n",
    "df"
   ]
  },
  {
   "cell_type": "markdown",
   "id": "aedc9ff2",
   "metadata": {},
   "source": [
    "## Section (1): Accessing manipulations"
   ]
  },
  {
   "cell_type": "markdown",
   "id": "c7516660",
   "metadata": {},
   "source": [
    "### A) Setting indexes"
   ]
  },
  {
   "cell_type": "markdown",
   "id": "bfdb57d5",
   "metadata": {},
   "source": [
    "We can give the dataframe a bit more structure:\n",
    "- the `id` column can be transformed into the dataframe's index, thus enabling us e.g. to select a tweet by id.\n",
    "\n",
    "This is done using the `set_index()` method.\n",
    "- Two arguments are important: `drop` (which specifies whether to get rid of the previous index) and `inplace` (which _directly_ modifies the dataframe)\n"
   ]
  },
  {
   "cell_type": "code",
   "execution_count": null,
   "id": "7691c04d",
   "metadata": {},
   "outputs": [],
   "source": [
    "df.set_index('id', drop=True, inplace=True)"
   ]
  },
  {
   "cell_type": "markdown",
   "id": "a1158f2f",
   "metadata": {},
   "source": [
    "We can now access a row by selecting the identifier and applying the `loc` operator as we saw last time:"
   ]
  },
  {
   "cell_type": "code",
   "execution_count": null,
   "id": "29b3a34f",
   "metadata": {},
   "outputs": [],
   "source": [
    "df.loc[7789471450859]"
   ]
  },
  {
   "cell_type": "markdown",
   "id": "1e13a959",
   "metadata": {},
   "source": [
    "❓ [Question]\n",
    "- What data type does this return?\n",
    "- What if you want to access more than one tweet?"
   ]
  },
  {
   "cell_type": "code",
   "execution_count": null,
   "id": "21aa01f1",
   "metadata": {},
   "outputs": [],
   "source": [
    "# your answer here:"
   ]
  },
  {
   "cell_type": "markdown",
   "id": "a8e262cb",
   "metadata": {},
   "source": [
    "The index can be reset done using the `reset_index()` method.\n",
    "- Again the `drop` and `inplace` operators are relevant. \n",
    "- We can also choose the name we want to give to the index using the `names` argument"
   ]
  },
  {
   "cell_type": "code",
   "execution_count": null,
   "id": "0f6af9b3",
   "metadata": {},
   "outputs": [],
   "source": [
    "df.reset_index(drop=False, inplace=True, names='id')\n",
    "df"
   ]
  },
  {
   "cell_type": "markdown",
   "id": "c7e6b1cb",
   "metadata": {},
   "source": [
    "✏️ [Ex.1] \n",
    "- ✏️ Display the first 10 elements of the dataframe.\n",
    "- ✏️ Using functions seen in the previous notebook, convert the `ts` column into a `datetime` value.\n",
    "- ✏️ Again, using functions we have already seen, create the columns `year`, `month`, `day`, and `hour` that record when the tweet was published."
   ]
  },
  {
   "cell_type": "code",
   "execution_count": null,
   "id": "5c12da15",
   "metadata": {},
   "outputs": [],
   "source": [
    "# your solution here:"
   ]
  },
  {
   "cell_type": "markdown",
   "id": "34cd97e8",
   "metadata": {},
   "source": [
    "### B) Setting column names\n",
    "\n",
    "An operation on dataframes that you'll find yourself doing very often is to rename the columns. The first way of renaming columns is by manipulating directly the dataframe's index via the `columns` property.\n",
    "We can change the column names by assigning to `columns` a list having as values the new column names.\n",
    "\n",
    "**NB**: the size of the list and new number of colums must match!"
   ]
  },
  {
   "cell_type": "code",
   "execution_count": null,
   "id": "05541bd3",
   "metadata": {},
   "outputs": [],
   "source": [
    "df.columns"
   ]
  },
  {
   "cell_type": "code",
   "execution_count": null,
   "id": "cf9e8af2",
   "metadata": {},
   "outputs": [],
   "source": [
    "df.columns = ['id', 'ts', 'museum_account', 'tweet_text', 'is_retweet', 'is_reply',\n",
    "       'interactions_count', 'year', 'month', 'day', 'hour']"
   ]
  },
  {
   "cell_type": "code",
   "execution_count": null,
   "id": "c3711b68",
   "metadata": {},
   "outputs": [],
   "source": [
    "# let's check that the change did take place\n",
    "df.head()"
   ]
  },
  {
   "cell_type": "markdown",
   "id": "00a63c05",
   "metadata": {},
   "source": [
    "The second way of renaming colums is to use the method `rename()` of a dataframe. The `columns` parameter takes a dictionary of mappings between old and new column names.\n",
    "\n",
    "```python\n",
    "mapping_dict = {\n",
    "    \"old_column1_name\": \"new_column1_name\",\n",
    "    \"old_column2_name\": \"new_column2_name\",\n",
    "}\n",
    "```"
   ]
  },
  {
   "cell_type": "code",
   "execution_count": null,
   "id": "79309f9b",
   "metadata": {},
   "outputs": [],
   "source": [
    "# Let's change the column name back: `tweet_text` => `tweet`\n",
    "df = df.rename(columns={\"tweet_text\": \"tweet\"})\n",
    "df"
   ]
  },
  {
   "cell_type": "markdown",
   "id": "ec353566",
   "metadata": {},
   "source": [
    "Note that, here too the `inplace` parameter exists. The above cell is identical to \n",
    "```python\n",
    "df.rename(columns={\"original_text\": \"tweet\"}, inplace=True)\n",
    "```"
   ]
  },
  {
   "cell_type": "markdown",
   "id": "6cfd3300",
   "metadata": {},
   "source": [
    "❓ [Question]\n",
    "- In which cases is it more convenient to use the second method over the first?"
   ]
  },
  {
   "cell_type": "markdown",
   "id": "234b74fd",
   "metadata": {},
   "source": [
    "_Your answer here:_\n"
   ]
  },
  {
   "cell_type": "markdown",
   "id": "304d3850",
   "metadata": {},
   "source": [
    "## Section (2): Transformation\n",
    "\n",
    "A typical problem you will face in data wrangling is the necessity to transform some data you have been given according into another form. If that transformation is regular enough, you may want to write a function that does such conversion.\n",
    "It is possible to effectively apply that function to your `pandas` data.\n",
    "\n",
    "The two main methods used to manipulate and transform values in a dataframe are:\n",
    "- `map()`: an element-wise method for simple conversions, applied to _one_ column\n",
    "- `apply()`: suited for more complex operations, which can be applied to a _whole row_.\n",
    "\n",
    "In this section we'll be using both to enrich our datasets with useful information (useful for exploration, for later visualizations, etc.).\n",
    "\n",
    "The structure is the following:\n",
    "- the `map()` or `apply()` methods are applied to a `pd.Series` or `pd.DataFrame`\n",
    "- they return a `pd.Series` which you will typically want to use to create a new column\n",
    "\n",
    "Typically:\n",
    "\n",
    "```python\n",
    "df['NewColumn'] = df['OldColumn'].apply(some_function)\n",
    "```\n",
    "which is equivalent to\n",
    "```python\n",
    "df['NewColumn'] = df['OldColumn'].map(some_function)\n",
    "```"
   ]
  },
  {
   "cell_type": "markdown",
   "id": "1fab51cf",
   "metadata": {},
   "source": [
    "For example, say we want to extract the length of the tweet:\n",
    "- (1) We can take the `text` column and apply the `len()` native Python function:\n",
    "\n",
    "    ❗ Note that you call the function **WITHOUT** any argument: just `len`"
   ]
  },
  {
   "cell_type": "code",
   "execution_count": null,
   "id": "9ecbe056",
   "metadata": {},
   "outputs": [],
   "source": [
    "df['tweet_length'] = df['tweet'].apply(len)\n",
    "df.head()"
   ]
  },
  {
   "cell_type": "markdown",
   "id": "29b1494f",
   "metadata": {},
   "source": [
    "- (2) which is equivalent to:"
   ]
  },
  {
   "cell_type": "code",
   "execution_count": null,
   "id": "dda247be",
   "metadata": {},
   "outputs": [],
   "source": [
    "df['tweet_length'] = df['tweet'].map(len)\n",
    "df.head()"
   ]
  },
  {
   "cell_type": "markdown",
   "id": "984138c4",
   "metadata": {},
   "source": [
    "Here, we used an existing function. But we could have used one we wrote specifically —-- which can be useful to deal with exceptions/rare cases/errors, etc.\n",
    "\n",
    "- (3) By defining a function explicitely:"
   ]
  },
  {
   "cell_type": "code",
   "execution_count": null,
   "id": "58d3f742",
   "metadata": {},
   "outputs": [],
   "source": [
    "def extractTweetLength(tweet_text):\n",
    "    return(len(tweet_text))\n",
    "\n",
    "\n",
    "df['tweet_length'] = df['tweet'].map(extractTweetLength)\n",
    "df.head()"
   ]
  },
  {
   "cell_type": "markdown",
   "id": "f97df9f2",
   "metadata": {},
   "source": [
    "- (4) Or by using an anonymous `lambda` function:"
   ]
  },
  {
   "cell_type": "code",
   "execution_count": null,
   "id": "1eae1608",
   "metadata": {},
   "outputs": [],
   "source": [
    "df['tweet_length'] = df['tweet'].map(lambda x: len(x))\n",
    "df.head()"
   ]
  },
  {
   "cell_type": "markdown",
   "id": "50857096",
   "metadata": {},
   "source": [
    "✏️ [Ex.2] \n",
    "To see this in action, use `apply()` or `map()` to create new columns called:\n",
    "- ✏️ `tweet_link`, knowing that the default link is : `https://x.com/i/web/status/ + tweet_id\n",
    "- ✏️ `tweet_nbwords`, which counts the number of words in the tweet\n",
    "- ✏️ `tweet_mentions`, which lists the number of mentions (ie. words that start with @) separated by commas\n",
    "\n",
    "    For this last question, be careful about things that are not mentions, as in this sample tweet:\n",
    "    ```\n",
    "    \"As @stephanie__27 mentionned, our last version (v3@main) is out ! Reach out to steph@org.org for more\"\n",
    "    ```\n",
    "\n",
    "    There are several ways you could tackle this problem. Feel free to use any!\n",
    "\n",
    "- ✏️ `tweet_nbmentions`, which counts the number of mentions\n",
    "- ❗ Export the created dataframe into a `.csv` that we will reuse later. "
   ]
  },
  {
   "cell_type": "code",
   "execution_count": null,
   "id": "4a3f80e7",
   "metadata": {},
   "outputs": [],
   "source": [
    "# Your solution here:\n",
    "\n"
   ]
  },
  {
   "cell_type": "markdown",
   "id": "ce8d19f5",
   "metadata": {},
   "source": [
    "## Section (3): Aggregation"
   ]
  },
  {
   "cell_type": "markdown",
   "id": "b977237a",
   "metadata": {},
   "source": [
    "<img src='../data/png.png' width='600px'>"
   ]
  },
  {
   "cell_type": "markdown",
   "id": "58600c77",
   "metadata": {},
   "source": [
    "### A) Grouping\n",
    "\n",
    "To group a `DataFrame`, one uses the `.groupby()` method:\n",
    "\n",
    "`df.groupby('columnName')`"
   ]
  },
  {
   "cell_type": "markdown",
   "id": "ead66863",
   "metadata": {},
   "source": [
    "❗ Important: The object returned by `groupby` is a `DataFrameGroupBy` **not** a normal `DataFrame`:"
   ]
  },
  {
   "cell_type": "code",
   "execution_count": null,
   "id": "fc2fc1d1",
   "metadata": {},
   "outputs": [],
   "source": [
    "grouped = df.groupby('year')\n",
    "grouped"
   ]
  },
  {
   "cell_type": "markdown",
   "id": "3400e63d",
   "metadata": {},
   "source": [
    "❗ To make is usable, we need to specify _what_ to do to each group of entries.\n",
    "\n",
    "This is the point of **aggregation**.\n"
   ]
  },
  {
   "cell_type": "markdown",
   "id": "e9a26e7a",
   "metadata": {},
   "source": [
    "### B) Aggregating"
   ]
  },
  {
   "cell_type": "markdown",
   "id": "f4aa023b",
   "metadata": {},
   "source": [
    "\n",
    "- `agg` is used to pass an aggregation function to be applied to each group resulting from `groupby`.\n",
    "\n",
    "\n",
    "For example, if we want to count how many tweets there are by year, we can pass the `count` argument:\n",
    "\n"
   ]
  },
  {
   "cell_type": "code",
   "execution_count": null,
   "id": "2fbd8911",
   "metadata": {},
   "outputs": [],
   "source": [
    "grouped.agg('count')"
   ]
  },
  {
   "cell_type": "markdown",
   "id": "d73617d1",
   "metadata": {},
   "source": [
    "- Note that this a bit redundent: all columns have the same number of tweets, regardless of the tweet length / mentions / etc.\n",
    "- Furthermore, this is similar to the `.value_counts()` method we have already seen:"
   ]
  },
  {
   "cell_type": "code",
   "execution_count": null,
   "id": "634e21f9",
   "metadata": {},
   "outputs": [],
   "source": [
    "df.value_counts('year')"
   ]
  },
  {
   "cell_type": "markdown",
   "id": "5d9f2e31",
   "metadata": {},
   "source": [
    "- This is because we need to _tune_ which operation we want for each column.\n",
    "- Some will benefit from counting, some from averaging, some from summing, etc.\n",
    "\n",
    "\n",
    "The way we specify this is by using a dictionary and passing it as the argument of the `.agg()` method.\n",
    "This has the double advantage of:\n",
    "- tuning the aggregation function to each column;\n",
    "- removing all un-necessary columns.\n"
   ]
  },
  {
   "cell_type": "code",
   "execution_count": null,
   "id": "b988c77a",
   "metadata": {},
   "outputs": [],
   "source": [
    "df.groupby('year').agg({'id':'count',\n",
    "                       'tweet_length':'mean'})"
   ]
  },
  {
   "cell_type": "markdown",
   "id": "e688d9b8",
   "metadata": {},
   "source": [
    "- To make this more readable and keep track of what the values are, it is recommended to `.rename()` your columns.\n",
    "\n",
    "Recalling what we have seen earlier, this is how you can do it:\n"
   ]
  },
  {
   "cell_type": "code",
   "execution_count": null,
   "id": "d6d6a4c6",
   "metadata": {},
   "outputs": [],
   "source": [
    "df.groupby('year').agg({'id':'count',\n",
    "                       'tweet_length':'mean'}).rename(columns={'id':'nb_tweets',\n",
    "                                                       'tweet_length':'tweet_length_mean'}\n",
    "                       )"
   ]
  },
  {
   "cell_type": "markdown",
   "id": "77a6baaa",
   "metadata": {},
   "source": [
    "❓ Now that you have aggregated the columns using some function, what data type do you end up with?"
   ]
  },
  {
   "cell_type": "markdown",
   "id": "9a10c620",
   "metadata": {},
   "source": [
    "_Your answer here:_"
   ]
  },
  {
   "cell_type": "markdown",
   "id": "8584d291",
   "metadata": {},
   "source": [
    "---\n",
    "\n",
    "❗ The pre-existing functions you can use in the aggregation are:\n",
    "\n",
    "- `count`: Number of non-NA values\n",
    "- `sum`: Sum of non-NA values\n",
    "- `mean`: Mean of non-NA values\n",
    "- `median`: Arithmetic median of non-NA values\n",
    "- `std`, `var`: standard deviation and variance\n",
    "- `min`, `max`: Minimum and maximum of non-NA values\n",
    "\n",
    "\n",
    "❗Just like with `apply()` and `map()`, you can use any function you define:\n",
    "\n",
    "```python\n",
    "df.groupby('groupingColumn').agg({'columnName':some_function})\n",
    "```"
   ]
  },
  {
   "cell_type": "markdown",
   "id": "573c8f4b",
   "metadata": {},
   "source": [
    "✏️ [Ex.3] Use the aggregation method to determine, after a grouping by year:\n",
    "- ✏️ The average number of mentions\n",
    "- ✏️ The total number of tweeted characters\n",
    "- ✏️ The standard deviation of tweeting hours\n",
    "- ✏️ (Difficult) The number of tweets that have more than 20 interactions.\n",
    "- ✏️ Change the aggregated column names to keep track of what was done.\n"
   ]
  },
  {
   "cell_type": "code",
   "execution_count": null,
   "id": "46d6e229",
   "metadata": {},
   "outputs": [],
   "source": [
    "# Your solution here:"
   ]
  },
  {
   "cell_type": "markdown",
   "id": "1172d2d7",
   "metadata": {},
   "source": [
    "### C) Multiple grouping and aggregation\n",
    "\n",
    "As a final remark, note that we can do the **grouping** and the **aggregation** on multiple conditions.\n",
    "\n",
    "Say for example that I want to regroup all tweets that are done on the same weekday _and_ the same hour.\n",
    "- Simply pass the two columns as a list in the `groupby()`function:"
   ]
  },
  {
   "cell_type": "code",
   "execution_count": null,
   "id": "ea562c04",
   "metadata": {},
   "outputs": [],
   "source": [
    "df.groupby(['year', 'month']).agg({'id':'count',\n",
    "                       'tweet_length':'mean'}).rename(columns={'id':'nb_tweets',\n",
    "                                                       'tweet_length':'tweet_length_mean'}\n",
    "                       )"
   ]
  },
  {
   "cell_type": "markdown",
   "id": "79428fa9",
   "metadata": {},
   "source": [
    "- You can also choose different aggregation functions within a `.groupby()`:"
   ]
  },
  {
   "cell_type": "code",
   "execution_count": null,
   "id": "815c8fb2",
   "metadata": {},
   "outputs": [],
   "source": [
    "df.groupby('year').agg(\n",
    "    {'interactions_count':[\n",
    "            'count',\n",
    "            'mean',\n",
    "            'min',\n",
    "            'max',\n",
    "            'std',\n",
    "            'var'\n",
    "        ]\n",
    "    }\n",
    ")"
   ]
  },
  {
   "cell_type": "markdown",
   "id": "1b4d3c81",
   "metadata": {},
   "source": [
    "✏️ [Ex.4] Expanding what was done in [Ex.3], calculate for each month of 2020:\n",
    "- ✏️ The mean number of mentions\n",
    "- ✏️ The total number of mentions\n",
    "- ✏️ The mean number of tweet interactions\n",
    "- ✏️ The standard deviation number of tweet interactions"
   ]
  },
  {
   "cell_type": "code",
   "execution_count": null,
   "id": "7f6b4b1c",
   "metadata": {},
   "outputs": [],
   "source": [
    "# Your solution here:"
   ]
  }
 ],
 "metadata": {
  "kernelspec": {
   "display_name": "dhoxss",
   "language": "python",
   "name": "python3"
  },
  "language_info": {
   "codemirror_mode": {
    "name": "ipython",
    "version": 3
   },
   "file_extension": ".py",
   "mimetype": "text/x-python",
   "name": "python",
   "nbconvert_exporter": "python",
   "pygments_lexer": "ipython3",
   "version": "3.12.4"
  }
 },
 "nbformat": 4,
 "nbformat_minor": 5
}
