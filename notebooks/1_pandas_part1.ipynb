{
 "cells": [
  {
   "cell_type": "markdown",
   "metadata": {},
   "source": [
    "# Chapter I - Pandas\n",
    "## Part 1: Introduction\n",
    "\n",
    "In this notebook we will cover how to:\n",
    "- work with the two main data types in `pandas`: `DataFrame` and `Series`\n",
    "- work with data types in `pandas`, especially strings and dates\n",
    "- load data from JSON and CSV into a `DataFrame`\n",
    "- manipulate the columns of a `DataFrame`\n",
    "- access data in a `DataFrame` by means of indexes and slicing"
   ]
  },
  {
   "cell_type": "code",
   "execution_count": 2,
   "metadata": {},
   "outputs": [],
   "source": [
    "from random import random\n",
    "import pandas as pd\n",
    "import numpy as np"
   ]
  },
  {
   "cell_type": "markdown",
   "metadata": {},
   "source": [
    "### Section (1): Creating a first dataframe from scratch\n",
    "\n",
    "This section will take you through the steps needed to create a `pandas` DataFrame from scratch.\n",
    "\n",
    "To create a DataFrame from scratch, you need the values for at least two columns.\n",
    "Those values are stored in a data type called a `Series`. They can be thought of as the `pandas` version of lists.\n",
    "\n",
    "A pandas `Series` can be created as follows:"
   ]
  },
  {
   "cell_type": "markdown",
   "metadata": {},
   "source": [
    "#### A) Pandas Series"
   ]
  },
  {
   "cell_type": "code",
   "execution_count": 8,
   "metadata": {},
   "outputs": [
    {
     "name": "stdout",
     "output_type": "stream",
     "text": [
      "0    1\n",
      "1    2\n",
      "2    3\n",
      "dtype: int64\n",
      " > The type of s is: <class 'pandas.core.series.Series'>\n"
     ]
    }
   ],
   "source": [
    "s = pd.Series([1,2,3])\n",
    "\n",
    "print(s)\n",
    "print(' > The type of s is:', type(s))"
   ]
  },
  {
   "cell_type": "markdown",
   "metadata": {},
   "source": [
    "✏️ [Ex.1] \n",
    "- ✏️ Create a series called `s` containing 100 random numbers ranging between 0 and 1"
   ]
  },
  {
   "cell_type": "code",
   "execution_count": 9,
   "metadata": {},
   "outputs": [],
   "source": [
    "## SOLUTION:\n",
    "# s = pd.Series([random() for n in range(0, 100)])"
   ]
  },
  {
   "cell_type": "markdown",
   "metadata": {},
   "source": [
    "Each observation in the series has an **index** as well as a set of **values**: they can be accessed via the omonymous properties.\n",
    "- The data type of the **index** is a `pandas RangeIndex`, akin to a Python `range`.\n",
    "- The data type of the **values** is a `numpy array`."
   ]
  },
  {
   "cell_type": "markdown",
   "metadata": {},
   "source": [
    "✏️ [Ex.2] \n",
    "- ✏️ Using the series **index**, print the length of the `Series`\n",
    "- ✏️ Print the first three elements of the **values** of series `s`."
   ]
  },
  {
   "cell_type": "code",
   "execution_count": 16,
   "metadata": {},
   "outputs": [],
   "source": [
    "## SOLUTION:\n",
    "# print(len(s.index))\n",
    "# print(s.values[:3])"
   ]
  },
  {
   "cell_type": "markdown",
   "metadata": {},
   "source": [
    "Pandas `Series` have got useful properties that you can call to easily access information on the data in the Series.\n",
    "Some of them include:\n",
    "- `head(n)` and `tail(n)` to access the beginning and end of the series — where `n` is the number of values to get.\n",
    "- `value_counts()` to show the occurrences of all values in the series. Calling this property returns a `Counter` object, itself contains an `.index` and some `.values` which you can call to access the occurrences' count.\n",
    "- `min()`, `max()`, `mean()`, `median()` give some basic statistics on the series' data."
   ]
  },
  {
   "cell_type": "markdown",
   "metadata": {},
   "source": [
    "✏️ [Ex.3] \n",
    "- ✏️ Calculate the range of values in `s`\n",
    "- ✏️ Find if there are some duplicate values in `s`\n",
    "- ✏️ Calculate the mean of the first 50 values in `s`"
   ]
  },
  {
   "cell_type": "code",
   "execution_count": 27,
   "metadata": {},
   "outputs": [],
   "source": [
    "## SOLUTION:\n",
    "# print(s.max()-s.min())\n",
    "# print(max(s.value_counts().values)==1)\n",
    "# print(s.head(50).mean())"
   ]
  },
  {
   "cell_type": "markdown",
   "metadata": {},
   "source": [
    "- Some of you might want to manipulate time data in the form of dates. Pandas is very convenient for the manipulation of dates. \n",
    "\n",
    "To do that, you should use pandas appropriate date type, called `Timestamp`.\n",
    "\n",
    "For example, VE-day can be encoded as such:"
   ]
  },
  {
   "cell_type": "code",
   "execution_count": 50,
   "metadata": {},
   "outputs": [
    {
     "name": "stdout",
     "output_type": "stream",
     "text": [
      "1945-05-08 00:00:00\n"
     ]
    }
   ],
   "source": [
    "print(pd.Timestamp(1945, 5, 8))"
   ]
  },
  {
   "cell_type": "markdown",
   "metadata": {},
   "source": [
    "A date can also be encoded as a string, and pandas will do its best to convert it to a timestamp.\n",
    "\n",
    "Note that it flexibly supports both 'YYYYMMDD' and 'YYYMMDDHHMMSS' "
   ]
  },
  {
   "cell_type": "code",
   "execution_count": 82,
   "metadata": {},
   "outputs": [
    {
     "name": "stdout",
     "output_type": "stream",
     "text": [
      "1945-05-08 00:00:00\n",
      "1969-07-11 02:56:15\n"
     ]
    }
   ],
   "source": [
    "print(pd.Timestamp('19450508'))\n",
    "print(pd.Timestamp('19690711025615'))\n",
    "\n",
    "# What happens if you try to create a Timestamp with a date that doesn't exist? Try it out."
   ]
  },
  {
   "cell_type": "markdown",
   "metadata": {},
   "source": [
    "The difference between two `Timestamps` is a `Timedelta` object. The number of days contained in the time difference can be accessed through the eponymous property:"
   ]
  },
  {
   "cell_type": "code",
   "execution_count": 65,
   "metadata": {},
   "outputs": [
    {
     "data": {
      "text/plain": [
       "8830"
      ]
     },
     "execution_count": 65,
     "metadata": {},
     "output_type": "execute_result"
    }
   ],
   "source": [
    "print((pd.Timestamp('19690711025615') - pd.Timestamp('19450508')).days)"
   ]
  },
  {
   "cell_type": "markdown",
   "metadata": {},
   "source": [
    "A date can be shifted simply by adding to it a `Timedelta`:"
   ]
  },
  {
   "cell_type": "code",
   "execution_count": 73,
   "metadata": {},
   "outputs": [
    {
     "name": "stdout",
     "output_type": "stream",
     "text": [
      "1945-07-02 02:15:10\n"
     ]
    }
   ],
   "source": [
    "print(pd.Timestamp('19450508')+pd.Timedelta('55 days 2 hours 15 minutes 10 seconds'))"
   ]
  },
  {
   "cell_type": "markdown",
   "metadata": {},
   "source": [
    "✏️ [Ex.4] \n",
    "- ✏️ Create a list of pandas `Timestamps` of all the days between the 24th May 1819 and the 22nd January 1901.\n",
    "- ✏️ By converting this list into a pandas `Series`, get the median day of this time interval.\n"
   ]
  },
  {
   "cell_type": "code",
   "execution_count": 107,
   "metadata": {},
   "outputs": [],
   "source": [
    "## SOLUTION \n",
    "# start = pd.Timestamp('18190524')\n",
    "# end = pd.Timestamp('19010122')\n",
    "# all_dates = [start]\n",
    "# max_date = start\n",
    "# while max_date < end:\n",
    "#     max_date = max_date + pd.Timedelta('1 day')\n",
    "#     all_dates.append(max_date)\n",
    "\n",
    "# all_dates_series = pd.Series(all_dates)\n",
    "\n",
    "# print(all_dates_series.median())"
   ]
  },
  {
   "cell_type": "markdown",
   "metadata": {},
   "source": [
    "#### B) Pandas DataFrames"
   ]
  },
  {
   "cell_type": "markdown",
   "metadata": {},
   "source": [
    "What is a `pandas.DataFrame`? Think of it as an in-memory spreadsheet that you can analyse and manipulate programmatically.\n",
    "\n",
    "A `DataFrame` is a collection of `Series` having the same length and whose indexes are in sync. A *collection* means that each column of a dataframe is a series\n",
    "\n",
    "Let's create a toy `DataFrame` by hand. "
   ]
  },
  {
   "cell_type": "code",
   "execution_count": 94,
   "metadata": {},
   "outputs": [],
   "source": [
    "dates = [pd.Timestamp(1970, 5, 23), pd.Timestamp(1978, 7, 14), pd.Timestamp(1986, 3, 14), pd.Timestamp(1993, 1, 1), pd.Timestamp(1998, 7, 14)]\n",
    "events = ['birth', 'anniversary', 'wedding', 'wedding', 'anniversary']\n"
   ]
  },
  {
   "cell_type": "markdown",
   "metadata": {},
   "source": [
    "From those two lists, you can create a `DataFrame` by passing to `pd.DataFrame` a dictionary:"
   ]
  },
  {
   "cell_type": "code",
   "execution_count": 97,
   "metadata": {},
   "outputs": [],
   "source": [
    "toy_df = pd.DataFrame({\n",
    "    \"date\": dates,\n",
    "    \"event\": events\n",
    "})\n",
    "\n",
    "# What do you expect when dates and events are changed from lists to Series? Try it out.\n",
    "# What will happen if the lists are of different lengths?"
   ]
  },
  {
   "cell_type": "markdown",
   "metadata": {},
   "source": [
    "You can check that the `DataFrame` has been properly constructed. Notice how it is indeed of a tabular shape."
   ]
  },
  {
   "cell_type": "code",
   "execution_count": 96,
   "metadata": {},
   "outputs": [
    {
     "data": {
      "text/html": [
       "<div>\n",
       "<style scoped>\n",
       "    .dataframe tbody tr th:only-of-type {\n",
       "        vertical-align: middle;\n",
       "    }\n",
       "\n",
       "    .dataframe tbody tr th {\n",
       "        vertical-align: top;\n",
       "    }\n",
       "\n",
       "    .dataframe thead th {\n",
       "        text-align: right;\n",
       "    }\n",
       "</style>\n",
       "<table border=\"1\" class=\"dataframe\">\n",
       "  <thead>\n",
       "    <tr style=\"text-align: right;\">\n",
       "      <th></th>\n",
       "      <th>date</th>\n",
       "      <th>event</th>\n",
       "    </tr>\n",
       "  </thead>\n",
       "  <tbody>\n",
       "    <tr>\n",
       "      <th>0</th>\n",
       "      <td>1970-05-23</td>\n",
       "      <td>birth</td>\n",
       "    </tr>\n",
       "    <tr>\n",
       "      <th>1</th>\n",
       "      <td>1978-07-14</td>\n",
       "      <td>anniversary</td>\n",
       "    </tr>\n",
       "    <tr>\n",
       "      <th>2</th>\n",
       "      <td>1986-03-14</td>\n",
       "      <td>wedding</td>\n",
       "    </tr>\n",
       "    <tr>\n",
       "      <th>3</th>\n",
       "      <td>1993-01-01</td>\n",
       "      <td>wedding</td>\n",
       "    </tr>\n",
       "    <tr>\n",
       "      <th>4</th>\n",
       "      <td>1998-07-14</td>\n",
       "      <td>anniversary</td>\n",
       "    </tr>\n",
       "  </tbody>\n",
       "</table>\n",
       "</div>"
      ],
      "text/plain": [
       "        date        event\n",
       "0 1970-05-23        birth\n",
       "1 1978-07-14  anniversary\n",
       "2 1986-03-14      wedding\n",
       "3 1993-01-01      wedding\n",
       "4 1998-07-14  anniversary"
      ]
     },
     "metadata": {},
     "output_type": "display_data"
    }
   ],
   "source": [
    "display(toy_df)"
   ]
  },
  {
   "cell_type": "markdown",
   "metadata": {},
   "source": [
    "✏️ [Ex.5] \n",
    "- ✏️ Create a list of pandas `Timestamps` of 200 random dates between the 1900 and 2000.\n",
    "- ✏️ Create a list of 200 events taken *at random* among ['birth', 'anniversary', 'wedding']. The numpy function `np.random.choice()` might help.\n",
    "- ✏️ Combine those two lists to create a dataframe\n",
    "- ✏️ Get the count of occurrences of all **events** in the dataframe\n"
   ]
  },
  {
   "cell_type": "code",
   "execution_count": 104,
   "metadata": {},
   "outputs": [],
   "source": [
    "## SOLUTION\n",
    "# dates = [pd.Timestamp(int(random()*100)+1900, int(random()*12)+1, int(random()*28)+1) for n in range(0, 200)]\n",
    "# events = [np.random.choice(['birth', 'anniversary', 'wedding']) for n in range(0, 200)]\n",
    "\n",
    "# df = pd.DataFrame({\n",
    "#     \"date\": dates,\n",
    "#     \"event\": events\n",
    "# })\n",
    "\n",
    "# print(df.event.value_counts())"
   ]
  },
  {
   "cell_type": "markdown",
   "metadata": {},
   "source": [
    "### Section (2): First manipulations of the dataframe"
   ]
  },
  {
   "cell_type": "markdown",
   "metadata": {},
   "source": [
    "The columns of a `pandas.DataFrame` can be accessed as follows:"
   ]
  },
  {
   "cell_type": "code",
   "execution_count": 115,
   "metadata": {},
   "outputs": [
    {
     "data": {
      "text/plain": [
       "0   1970-05-23\n",
       "1   1978-07-14\n",
       "2   1986-03-14\n",
       "3   1993-01-01\n",
       "4   1998-07-14\n",
       "Name: date, dtype: datetime64[ns]"
      ]
     },
     "execution_count": 115,
     "metadata": {},
     "output_type": "execute_result"
    }
   ],
   "source": [
    "toy_df['date']"
   ]
  },
  {
   "cell_type": "markdown",
   "metadata": {},
   "source": [
    " It returns a `pandas.Series`, the type we've seen in the introductory section of this notebook. To access its **values** the property keyword is used:"
   ]
  },
  {
   "cell_type": "code",
   "execution_count": 119,
   "metadata": {},
   "outputs": [
    {
     "name": "stdout",
     "output_type": "stream",
     "text": [
      "<class 'pandas.core.series.Series'>\n",
      "['1970-05-23T00:00:00.000000000' '1978-07-14T00:00:00.000000000'\n",
      " '1986-03-14T00:00:00.000000000' '1993-01-01T00:00:00.000000000'\n",
      " '1998-07-14T00:00:00.000000000']\n"
     ]
    }
   ],
   "source": [
    "print(type(toy_df['date']))\n",
    "print(toy_df['date'].values)"
   ]
  },
  {
   "cell_type": "markdown",
   "metadata": {},
   "source": [
    "Each column in a `pandas.DataFrame` has a data type. Being sure that the right datatype is used is essential.\n",
    "\n",
    "Depending on the nature of the data, its type can be changed using the method `.astype()`. \n",
    "\n",
    "For example, changing from a `pandas.Timestamp` to a `str` is possible:"
   ]
  },
  {
   "cell_type": "code",
   "execution_count": 125,
   "metadata": {},
   "outputs": [
    {
     "name": "stdout",
     "output_type": "stream",
     "text": [
      "0    1970-05-23\n",
      "1    1978-07-14\n",
      "2    1986-03-14\n",
      "3    1993-01-01\n",
      "4    1998-07-14\n",
      "Name: date, dtype: object\n"
     ]
    }
   ],
   "source": [
    "print(toy_df['date'].astype(str))"
   ]
  },
  {
   "cell_type": "markdown",
   "metadata": {},
   "source": [
    "But changing from a `pandas.Timestamp` to a `float` is not possible:"
   ]
  },
  {
   "cell_type": "code",
   "execution_count": 126,
   "metadata": {},
   "outputs": [],
   "source": [
    "## What do you expect when you run the following?\n",
    "# print(toy_df['date'].astype(float))"
   ]
  },
  {
   "cell_type": "markdown",
   "metadata": {},
   "source": [
    "#### A) Accessor properties\n",
    "\n",
    "For certain data types (string, datetime), `pandas` provides a number of common methods that can be called on any series containing values of that type. These methods become available as methods of the series itself within a property — called *accessor* — named after the data type:\n",
    "\n",
    "- the `.dt.*` accessor contains methods to operate on `datetime` series\n",
    "- the `str.` accessor contains methods to operate on `str` (string) series.\n",
    "\n",
    "As you will see in a moment, these methods are very convenient when filtering rows of a dataset based on the value of a certain column."
   ]
  },
  {
   "cell_type": "code",
   "execution_count": 111,
   "metadata": {},
   "outputs": [
    {
     "data": {
      "text/plain": [
       "0    1970-05-23\n",
       "1    1978-07-14\n",
       "2    1986-03-14\n",
       "3    1993-01-01\n",
       "4    1998-07-14\n",
       "Name: date, dtype: object"
      ]
     },
     "execution_count": 111,
     "metadata": {},
     "output_type": "execute_result"
    }
   ],
   "source": [
    "toy_df.date.astype(str)"
   ]
  },
  {
   "cell_type": "code",
   "execution_count": 83,
   "metadata": {},
   "outputs": [
    {
     "ename": "SyntaxError",
     "evalue": "invalid character '—' (U+2014) (570942135.py, line 79)",
     "output_type": "error",
     "traceback": [
      "\u001b[0;36m  Cell \u001b[0;32mIn[83], line 79\u001b[0;36m\u001b[0m\n\u001b[0;31m    For certain data types (string, datetime), `pandas` provides a number of common methods that can be called on any series containing values of that type. These methods become available as methods of the series itself within a property — called *accessor* — named after the data type:\u001b[0m\n\u001b[0m                                                                                                                                                                                                                                              ^\u001b[0m\n\u001b[0;31mSyntaxError\u001b[0m\u001b[0;31m:\u001b[0m invalid character '—' (U+2014)\n"
     ]
    }
   ],
   "source": [
    "\n",
    "# ### Accessor properties\n",
    "\n",
    "# For certain data types (string, datetime), `pandas` provides a number of common methods that can be called on any series containing values of that type. These methods become available as methods of the series itself within a property — called *accessor* — named after the data type:\n",
    "\n",
    "# - the `.dt.*` accessor contains methods to operate on `datetime` series\n",
    "# - the `str.` accessor contains methods to operate on `str` (string) series.\n",
    "\n",
    "# As you will see in a moment, these methods are very convenient when filtering rows of a dataset based on the value of a certain column.\n",
    "# #### `datetime` accessor\n",
    "# To work with datetime series `pandas` provide a bunch of useful methods to operate on a series: they can be called from the `.dt` property of a datetime series.\n",
    "\n",
    "# They can be used to:\n",
    "# - convert from one timezone to another\n",
    "# - get the day/day name/month/year information from each date\n",
    "# - and much more (see the [documentation]())\n",
    "# s1.head()\n",
    "# s1.dt.day_of_week.head()\n",
    "# #### `str` accessor\n",
    "# s = Series([\"One\", \"TWO\", \"tHrEE\"])\n",
    "# Accessors can be used to apply filters to a series by verifying whether a certain condition is verified or not, such is the case with `contains()`. Such methods will output a boolean value (`True` or `False`).\n",
    "# s.str.contains('o')\n",
    "# s.str.contains('O')\n",
    "# Other methods can be used, instead, to manipulate an entire series, e.g. `lower()` and `upper()`.\n",
    "# s.str.lower()\n",
    "# ### Exploring a dataframe\n",
    "\n",
    "# Exploring a dataframe: `df.head()`, `df.tail()`, `df.info()`.\n",
    "# The method `info()` gives you information about a dataframe:\n",
    "# - how much space does it take in memory?\n",
    "# - what is the datatype of each column?\n",
    "# - how many records are there?\n",
    "# - how many `null` values does each column contain (!)?\n",
    "# toy_df.info()\n",
    "# Alternatively, if you need to know only the number of columns and rows you can use the `.shape` property.\n",
    "\n",
    "# It returns a tuple with 1) number of rows, 2) number of columns.\n",
    "# toy_df.shape\n",
    "# `head()` prints by first five rows of a dataframe:\n",
    "# toy_df.head()\n",
    "# But the number of lines displayed is a parameter that can be changed:\n",
    "# toy_df.head(2)\n",
    "# `tail()` does the opposite, i.e. prints the last n rows in the dataframe:\n",
    "# toy_df.tail()"
   ]
  }
 ],
 "metadata": {
  "kernelspec": {
   "display_name": "dhoxss",
   "language": "python",
   "name": "python3"
  },
  "language_info": {
   "codemirror_mode": {
    "name": "ipython",
    "version": 3
   },
   "file_extension": ".py",
   "mimetype": "text/x-python",
   "name": "python",
   "nbconvert_exporter": "python",
   "pygments_lexer": "ipython3",
   "version": "3.12.4"
  }
 },
 "nbformat": 4,
 "nbformat_minor": 2
}
