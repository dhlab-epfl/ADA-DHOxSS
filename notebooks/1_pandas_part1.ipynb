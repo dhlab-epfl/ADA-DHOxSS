{
 "cells": [
  {
   "cell_type": "markdown",
   "metadata": {},
   "source": [
    "# Chapter I - Pandas I\n",
    "\n",
    "In this notebook we will cover how to:\n",
    "- work with the two main data types in `pandas`: `DataFrame` and `Series`\n",
    "- work with data types in `pandas`, especially strings and dates\n",
    "- load data from JSON and CSV into a `DataFrame`\n",
    "- manipulate the columns of a `DataFrame`\n",
    "- access data in a `DataFrame` by means of indexes and slicing"
   ]
  },
  {
   "cell_type": "code",
   "execution_count": 2,
   "metadata": {},
   "outputs": [],
   "source": [
    "from random import random\n",
    "import pandas as pd\n",
    "import numpy as np"
   ]
  },
  {
   "cell_type": "markdown",
   "metadata": {},
   "source": [
    "## Section (1): Creating a first dataframe from scratch\n",
    "\n",
    "This section will take you through the steps needed to create a `pandas` DataFrame from scratch.\n",
    "\n",
    "To create a DataFrame from scratch, you need the values for at least two columns.\n",
    "Those values are stored in a data type called a `Series`. They can be thought of as the `pandas` version of lists.\n",
    "\n",
    "A pandas `Series` can be created as follows:"
   ]
  },
  {
   "cell_type": "markdown",
   "metadata": {},
   "source": [
    "### A) Pandas Series"
   ]
  },
  {
   "cell_type": "code",
   "execution_count": 8,
   "metadata": {},
   "outputs": [
    {
     "name": "stdout",
     "output_type": "stream",
     "text": [
      "0    1\n",
      "1    2\n",
      "2    3\n",
      "dtype: int64\n",
      " > The type of s is: <class 'pandas.core.series.Series'>\n"
     ]
    }
   ],
   "source": [
    "s = pd.Series([1,2,3])\n",
    "\n",
    "print(s)\n",
    "print(' > The type of s is:', type(s))"
   ]
  },
  {
   "cell_type": "markdown",
   "metadata": {},
   "source": [
    "✏️ [Ex.1] \n",
    "- ✏️ Create a series called `s` containing 100 random numbers ranging between 0 and 1\n",
    "- ✏️ Print the first value of the `Series` you just created."
   ]
  },
  {
   "cell_type": "code",
   "execution_count": 152,
   "metadata": {},
   "outputs": [
    {
     "name": "stdout",
     "output_type": "stream",
     "text": [
      "0.5527028611138213\n"
     ]
    }
   ],
   "source": [
    "# your solution"
   ]
  },
  {
   "cell_type": "markdown",
   "metadata": {},
   "source": [
    "Each observation in the series has an **index** as well as a set of **values**: they can be accessed via the omonymous properties.\n",
    "- The data type of the **index** is a `pandas RangeIndex`, akin to a Python `range`.\n",
    "- The data type of the **values** is a `numpy array`."
   ]
  },
  {
   "cell_type": "markdown",
   "metadata": {},
   "source": [
    "✏️ [Ex.2] \n",
    "- ✏️ Using the series **index**, print the length of the `Series`\n",
    "- ✏️ Print the first three elements of the **values** of series `s`."
   ]
  },
  {
   "cell_type": "code",
   "execution_count": 16,
   "metadata": {},
   "outputs": [],
   "source": [
    "# your solution"
   ]
  },
  {
   "cell_type": "markdown",
   "metadata": {},
   "source": [
    "Pandas `Series` have got useful properties that you can call to easily access information on the data in the Series.\n",
    "Some of them include:\n",
    "- `head(n)` and `tail(n)` to access the beginning and end of the series — where `n` is the number of values to get.\n",
    "- `value_counts()` to show the occurrences of all values in the series. Calling this property returns a `Counter` object, itself contains an `.index` and some `.values` which you can call to access the occurrences' count.\n",
    "- `min()`, `max()`, `mean()`, `median()` give some basic statistics on the series' data."
   ]
  },
  {
   "cell_type": "markdown",
   "metadata": {},
   "source": [
    "✏️ [Ex.3] \n",
    "- ✏️ Calculate the range of values in `s`\n",
    "- ✏️ Find if there are some duplicate values in `s`\n",
    "- ✏️ Calculate the mean of the first 50 values in `s`"
   ]
  },
  {
   "cell_type": "code",
   "execution_count": 27,
   "metadata": {},
   "outputs": [],
   "source": [
    "# your solution"
   ]
  },
  {
   "cell_type": "markdown",
   "metadata": {},
   "source": [
    "- Some of you might want to manipulate time data in the form of dates. Pandas is very convenient for the manipulation of dates. \n",
    "\n",
    "To do that, you should use pandas appropriate date type, called `Timestamp`.\n",
    "\n",
    "For example, VE-day can be encoded as such:"
   ]
  },
  {
   "cell_type": "code",
   "execution_count": 50,
   "metadata": {},
   "outputs": [
    {
     "name": "stdout",
     "output_type": "stream",
     "text": [
      "1945-05-08 00:00:00\n"
     ]
    }
   ],
   "source": [
    "print(pd.Timestamp(1945, 5, 8))"
   ]
  },
  {
   "cell_type": "markdown",
   "metadata": {},
   "source": [
    "A date can also be encoded as a string, and pandas will do its best to convert it to a timestamp.\n",
    "\n",
    "Note that it flexibly supports both 'YYYYMMDD' and 'YYYMMDDHHMMSS' "
   ]
  },
  {
   "cell_type": "code",
   "execution_count": 82,
   "metadata": {},
   "outputs": [
    {
     "name": "stdout",
     "output_type": "stream",
     "text": [
      "1945-05-08 00:00:00\n",
      "1969-07-11 02:56:15\n"
     ]
    }
   ],
   "source": [
    "print(pd.Timestamp('19450508'))\n",
    "print(pd.Timestamp('19690711025615'))\n",
    "\n",
    "# What happens if you try to create a Timestamp with a date that doesn't exist? Try it out."
   ]
  },
  {
   "cell_type": "markdown",
   "metadata": {},
   "source": [
    "The difference between two `Timestamps` is a `Timedelta` object. The number of days contained in the time difference can be accessed through the eponymous property:"
   ]
  },
  {
   "cell_type": "code",
   "execution_count": 65,
   "metadata": {},
   "outputs": [
    {
     "data": {
      "text/plain": [
       "8830"
      ]
     },
     "execution_count": 65,
     "metadata": {},
     "output_type": "execute_result"
    }
   ],
   "source": [
    "print((pd.Timestamp('19690711025615') - pd.Timestamp('19450508')).days)"
   ]
  },
  {
   "cell_type": "markdown",
   "metadata": {},
   "source": [
    "A date can be shifted simply by adding to it a `Timedelta`:"
   ]
  },
  {
   "cell_type": "code",
   "execution_count": 73,
   "metadata": {},
   "outputs": [
    {
     "name": "stdout",
     "output_type": "stream",
     "text": [
      "1945-07-02 02:15:10\n"
     ]
    }
   ],
   "source": [
    "print(pd.Timestamp('19450508')+pd.Timedelta('55 days 2 hours 15 minutes 10 seconds'))"
   ]
  },
  {
   "cell_type": "markdown",
   "metadata": {},
   "source": [
    "✏️ [Ex.4] \n",
    "- ✏️ Create a list of pandas `Timestamps` of all the days between the 24th May 1819 and the 22nd January 1901.\n",
    "- ✏️ By converting this list into a pandas `Series`, get the median day of this time interval.\n"
   ]
  },
  {
   "cell_type": "code",
   "execution_count": 107,
   "metadata": {},
   "outputs": [],
   "source": [
    "# your solution"
   ]
  },
  {
   "cell_type": "markdown",
   "metadata": {},
   "source": [
    "### B) Pandas DataFrames"
   ]
  },
  {
   "cell_type": "markdown",
   "metadata": {},
   "source": [
    "What is a `pandas.DataFrame`? Think of it as an in-memory spreadsheet that you can analyse and manipulate programmatically.\n",
    "\n",
    "A `DataFrame` is a collection of `Series` having the same length and whose indexes are in sync. A *collection* means that each column of a dataframe is a series\n",
    "\n",
    "Let's create a toy `DataFrame` by hand. "
   ]
  },
  {
   "cell_type": "code",
   "execution_count": 243,
   "metadata": {},
   "outputs": [],
   "source": [
    "dates = [pd.Timestamp(1970, 5, 23), pd.Timestamp(1978, 7, 14), pd.Timestamp(1986, 3, 14), pd.Timestamp(1993, 1, 1), pd.Timestamp(1998, 7, 14)]\n",
    "events = ['birth', 'anniversary', 'wedding', 'wedding', 'anniversary']\n"
   ]
  },
  {
   "cell_type": "markdown",
   "metadata": {},
   "source": [
    "From those two lists, you can create a `DataFrame` by passing to `pd.DataFrame` a dictionary:"
   ]
  },
  {
   "cell_type": "code",
   "execution_count": 244,
   "metadata": {},
   "outputs": [],
   "source": [
    "toy_df = pd.DataFrame({\n",
    "    \"date\": dates,\n",
    "    \"event\": events\n",
    "})\n",
    "\n",
    "# What do you expect when dates and events are changed from lists to Series? Try it out.\n",
    "# What will happen if the lists are of different lengths?"
   ]
  },
  {
   "cell_type": "markdown",
   "metadata": {},
   "source": [
    "You can check that the `DataFrame` has been properly constructed. Notice how it is indeed of a tabular shape. To extract its length, you can use `len(DataFrame)`. "
   ]
  },
  {
   "cell_type": "code",
   "execution_count": 245,
   "metadata": {},
   "outputs": [
    {
     "name": "stdout",
     "output_type": "stream",
     "text": [
      "> This DataFrame has length: 5\n"
     ]
    },
    {
     "data": {
      "text/html": [
       "<div>\n",
       "<style scoped>\n",
       "    .dataframe tbody tr th:only-of-type {\n",
       "        vertical-align: middle;\n",
       "    }\n",
       "\n",
       "    .dataframe tbody tr th {\n",
       "        vertical-align: top;\n",
       "    }\n",
       "\n",
       "    .dataframe thead th {\n",
       "        text-align: right;\n",
       "    }\n",
       "</style>\n",
       "<table border=\"1\" class=\"dataframe\">\n",
       "  <thead>\n",
       "    <tr style=\"text-align: right;\">\n",
       "      <th></th>\n",
       "      <th>date</th>\n",
       "      <th>event</th>\n",
       "    </tr>\n",
       "  </thead>\n",
       "  <tbody>\n",
       "    <tr>\n",
       "      <th>0</th>\n",
       "      <td>1970-05-23</td>\n",
       "      <td>birth</td>\n",
       "    </tr>\n",
       "    <tr>\n",
       "      <th>1</th>\n",
       "      <td>1978-07-14</td>\n",
       "      <td>anniversary</td>\n",
       "    </tr>\n",
       "    <tr>\n",
       "      <th>2</th>\n",
       "      <td>1986-03-14</td>\n",
       "      <td>wedding</td>\n",
       "    </tr>\n",
       "    <tr>\n",
       "      <th>3</th>\n",
       "      <td>1993-01-01</td>\n",
       "      <td>wedding</td>\n",
       "    </tr>\n",
       "    <tr>\n",
       "      <th>4</th>\n",
       "      <td>1998-07-14</td>\n",
       "      <td>anniversary</td>\n",
       "    </tr>\n",
       "  </tbody>\n",
       "</table>\n",
       "</div>"
      ],
      "text/plain": [
       "        date        event\n",
       "0 1970-05-23        birth\n",
       "1 1978-07-14  anniversary\n",
       "2 1986-03-14      wedding\n",
       "3 1993-01-01      wedding\n",
       "4 1998-07-14  anniversary"
      ]
     },
     "metadata": {},
     "output_type": "display_data"
    }
   ],
   "source": [
    "print('> This DataFrame has length:', len(toy_df))\n",
    "display(toy_df)"
   ]
  },
  {
   "cell_type": "markdown",
   "metadata": {},
   "source": [
    "✏️ [Ex.5] \n",
    "- ✏️ Create a list of pandas `Timestamps` of 200 random dates between the 1900 and 2000.\n",
    "- ✏️ Create a list of 200 events taken *at random* among ['birth', 'anniversary', 'wedding']. The numpy function `np.random.choice()` might help.\n",
    "- ✏️ Combine those two lists to create a dataframe\n",
    "- ✏️ Get the count of occurrences of all **events** in the dataframe\n"
   ]
  },
  {
   "cell_type": "code",
   "execution_count": 104,
   "metadata": {},
   "outputs": [],
   "source": [
    "# your solution"
   ]
  },
  {
   "cell_type": "markdown",
   "metadata": {},
   "source": [
    "Once the `DataFrame` exists, you can add a column in exactly the same way you would define a new key/value pair in a dictionnary:\n",
    "\n",
    "`dataframe_name['new_column'] = values`\n",
    "\n",
    "\n",
    "Here, the datatype of `values` is quite flexible as `Pandas` allows many inputs: `pandas.Series` as we've seen before, but also `numpy.array` or even simple `lists`.\n",
    "\n",
    "The only condition is that the length of the new column should be of the same length as the `DataFrame`.\n",
    "\n",
    "There is one exception to that rule: if all rows of the new column have the same value, you can just pass that value as input."
   ]
  },
  {
   "cell_type": "markdown",
   "metadata": {},
   "source": [
    "✏️ [Ex.6] \n",
    "- ✏️ Add a new column named `author_firstname` to the dataframe created in [Ex.5]. \n",
    "- ✏️ This new column be input using a list-like variable, containing your first name as many times as there are rows.\n",
    "- ✏️ Add a new column named `author_lastname` to the dataframe, this time containing your last name, and without using a list-like input.\n",
    "\n"
   ]
  },
  {
   "cell_type": "code",
   "execution_count": 186,
   "metadata": {},
   "outputs": [],
   "source": [
    "# your solution"
   ]
  },
  {
   "cell_type": "markdown",
   "metadata": {},
   "source": [
    "## Section (2): First manipulations of the dataframe"
   ]
  },
  {
   "cell_type": "markdown",
   "metadata": {},
   "source": [
    "### A) General information on the dataframe"
   ]
  },
  {
   "cell_type": "markdown",
   "metadata": {},
   "source": [
    "Some first pieces of information on a dataframe are given by the following useful functions: `df.head()`, `df.tail()`, `df.info()`.\n",
    "\n",
    "The method `info()` gives you information about a dataframe:\n",
    "- how much space does it take in memory?\n",
    "- what is the datatype of each column?\n",
    "- how many records are there?\n",
    "- how many `null` values does each column contain (!)?\n"
   ]
  },
  {
   "cell_type": "code",
   "execution_count": 174,
   "metadata": {},
   "outputs": [
    {
     "name": "stdout",
     "output_type": "stream",
     "text": [
      "<class 'pandas.core.frame.DataFrame'>\n",
      "RangeIndex: 5 entries, 0 to 4\n",
      "Data columns (total 2 columns):\n",
      " #   Column  Non-Null Count  Dtype         \n",
      "---  ------  --------------  -----         \n",
      " 0   date    5 non-null      datetime64[ns]\n",
      " 1   event   5 non-null      object        \n",
      "dtypes: datetime64[ns](1), object(1)\n",
      "memory usage: 212.0+ bytes\n"
     ]
    }
   ],
   "source": [
    "toy_df.info()"
   ]
  },
  {
   "cell_type": "markdown",
   "metadata": {},
   "source": [
    "Alternatively, if you need to know only the number of columns and rows you can use the `.shape` property. \n",
    "\n",
    "It is a property, not a method — therefore it should be called without brackets.\n",
    "\n",
    "Calling the property returns a tuple with 1) number of rows, 2) number of columns.\n",
    "\n"
   ]
  },
  {
   "cell_type": "code",
   "execution_count": 176,
   "metadata": {},
   "outputs": [
    {
     "data": {
      "text/plain": [
       "(5, 2)"
      ]
     },
     "execution_count": 176,
     "metadata": {},
     "output_type": "execute_result"
    }
   ],
   "source": [
    "toy_df.shape"
   ]
  },
  {
   "cell_type": "markdown",
   "metadata": {},
   "source": [
    "`head()` prints by first five rows of a dataframe:\n"
   ]
  },
  {
   "cell_type": "code",
   "execution_count": 177,
   "metadata": {},
   "outputs": [
    {
     "data": {
      "text/html": [
       "<div>\n",
       "<style scoped>\n",
       "    .dataframe tbody tr th:only-of-type {\n",
       "        vertical-align: middle;\n",
       "    }\n",
       "\n",
       "    .dataframe tbody tr th {\n",
       "        vertical-align: top;\n",
       "    }\n",
       "\n",
       "    .dataframe thead th {\n",
       "        text-align: right;\n",
       "    }\n",
       "</style>\n",
       "<table border=\"1\" class=\"dataframe\">\n",
       "  <thead>\n",
       "    <tr style=\"text-align: right;\">\n",
       "      <th></th>\n",
       "      <th>date</th>\n",
       "      <th>event</th>\n",
       "    </tr>\n",
       "  </thead>\n",
       "  <tbody>\n",
       "    <tr>\n",
       "      <th>0</th>\n",
       "      <td>1970-05-23</td>\n",
       "      <td>birth</td>\n",
       "    </tr>\n",
       "    <tr>\n",
       "      <th>1</th>\n",
       "      <td>1978-07-14</td>\n",
       "      <td>anniversary</td>\n",
       "    </tr>\n",
       "    <tr>\n",
       "      <th>2</th>\n",
       "      <td>1986-03-14</td>\n",
       "      <td>wedding</td>\n",
       "    </tr>\n",
       "    <tr>\n",
       "      <th>3</th>\n",
       "      <td>1993-01-01</td>\n",
       "      <td>wedding</td>\n",
       "    </tr>\n",
       "    <tr>\n",
       "      <th>4</th>\n",
       "      <td>1998-07-14</td>\n",
       "      <td>anniversary</td>\n",
       "    </tr>\n",
       "  </tbody>\n",
       "</table>\n",
       "</div>"
      ],
      "text/plain": [
       "        date        event\n",
       "0 1970-05-23        birth\n",
       "1 1978-07-14  anniversary\n",
       "2 1986-03-14      wedding\n",
       "3 1993-01-01      wedding\n",
       "4 1998-07-14  anniversary"
      ]
     },
     "execution_count": 177,
     "metadata": {},
     "output_type": "execute_result"
    }
   ],
   "source": [
    "toy_df.head()\n"
   ]
  },
  {
   "cell_type": "markdown",
   "metadata": {},
   "source": [
    "But the number of lines displayed is a parameter that can be changed:\n"
   ]
  },
  {
   "cell_type": "code",
   "execution_count": 178,
   "metadata": {},
   "outputs": [
    {
     "data": {
      "text/html": [
       "<div>\n",
       "<style scoped>\n",
       "    .dataframe tbody tr th:only-of-type {\n",
       "        vertical-align: middle;\n",
       "    }\n",
       "\n",
       "    .dataframe tbody tr th {\n",
       "        vertical-align: top;\n",
       "    }\n",
       "\n",
       "    .dataframe thead th {\n",
       "        text-align: right;\n",
       "    }\n",
       "</style>\n",
       "<table border=\"1\" class=\"dataframe\">\n",
       "  <thead>\n",
       "    <tr style=\"text-align: right;\">\n",
       "      <th></th>\n",
       "      <th>date</th>\n",
       "      <th>event</th>\n",
       "    </tr>\n",
       "  </thead>\n",
       "  <tbody>\n",
       "    <tr>\n",
       "      <th>0</th>\n",
       "      <td>1970-05-23</td>\n",
       "      <td>birth</td>\n",
       "    </tr>\n",
       "    <tr>\n",
       "      <th>1</th>\n",
       "      <td>1978-07-14</td>\n",
       "      <td>anniversary</td>\n",
       "    </tr>\n",
       "  </tbody>\n",
       "</table>\n",
       "</div>"
      ],
      "text/plain": [
       "        date        event\n",
       "0 1970-05-23        birth\n",
       "1 1978-07-14  anniversary"
      ]
     },
     "execution_count": 178,
     "metadata": {},
     "output_type": "execute_result"
    }
   ],
   "source": [
    "toy_df.head(2)\n"
   ]
  },
  {
   "cell_type": "markdown",
   "metadata": {},
   "source": [
    "`tail()` does the opposite, i.e. prints the last n rows in the dataframe:"
   ]
  },
  {
   "cell_type": "code",
   "execution_count": 179,
   "metadata": {},
   "outputs": [
    {
     "data": {
      "text/html": [
       "<div>\n",
       "<style scoped>\n",
       "    .dataframe tbody tr th:only-of-type {\n",
       "        vertical-align: middle;\n",
       "    }\n",
       "\n",
       "    .dataframe tbody tr th {\n",
       "        vertical-align: top;\n",
       "    }\n",
       "\n",
       "    .dataframe thead th {\n",
       "        text-align: right;\n",
       "    }\n",
       "</style>\n",
       "<table border=\"1\" class=\"dataframe\">\n",
       "  <thead>\n",
       "    <tr style=\"text-align: right;\">\n",
       "      <th></th>\n",
       "      <th>date</th>\n",
       "      <th>event</th>\n",
       "    </tr>\n",
       "  </thead>\n",
       "  <tbody>\n",
       "    <tr>\n",
       "      <th>0</th>\n",
       "      <td>1970-05-23</td>\n",
       "      <td>birth</td>\n",
       "    </tr>\n",
       "    <tr>\n",
       "      <th>1</th>\n",
       "      <td>1978-07-14</td>\n",
       "      <td>anniversary</td>\n",
       "    </tr>\n",
       "    <tr>\n",
       "      <th>2</th>\n",
       "      <td>1986-03-14</td>\n",
       "      <td>wedding</td>\n",
       "    </tr>\n",
       "    <tr>\n",
       "      <th>3</th>\n",
       "      <td>1993-01-01</td>\n",
       "      <td>wedding</td>\n",
       "    </tr>\n",
       "    <tr>\n",
       "      <th>4</th>\n",
       "      <td>1998-07-14</td>\n",
       "      <td>anniversary</td>\n",
       "    </tr>\n",
       "  </tbody>\n",
       "</table>\n",
       "</div>"
      ],
      "text/plain": [
       "        date        event\n",
       "0 1970-05-23        birth\n",
       "1 1978-07-14  anniversary\n",
       "2 1986-03-14      wedding\n",
       "3 1993-01-01      wedding\n",
       "4 1998-07-14  anniversary"
      ]
     },
     "execution_count": 179,
     "metadata": {},
     "output_type": "execute_result"
    }
   ],
   "source": [
    "toy_df.tail()"
   ]
  },
  {
   "cell_type": "markdown",
   "metadata": {},
   "source": [
    "You may sometimes want to sort the dataframe based on the values in one column.\n",
    "\n",
    "To do this, you may use the `.sort_values(<column>)` method. \n",
    "\n",
    "The column will then be sorted depending on the datatype:\n",
    "- numerically (float, integers);\n",
    "- chronologically (datetimes);\n",
    "- alphabetically (strings)."
   ]
  },
  {
   "cell_type": "code",
   "execution_count": 270,
   "metadata": {},
   "outputs": [
    {
     "data": {
      "text/html": [
       "<div>\n",
       "<style scoped>\n",
       "    .dataframe tbody tr th:only-of-type {\n",
       "        vertical-align: middle;\n",
       "    }\n",
       "\n",
       "    .dataframe tbody tr th {\n",
       "        vertical-align: top;\n",
       "    }\n",
       "\n",
       "    .dataframe thead th {\n",
       "        text-align: right;\n",
       "    }\n",
       "</style>\n",
       "<table border=\"1\" class=\"dataframe\">\n",
       "  <thead>\n",
       "    <tr style=\"text-align: right;\">\n",
       "      <th></th>\n",
       "      <th>date</th>\n",
       "      <th>event</th>\n",
       "    </tr>\n",
       "  </thead>\n",
       "  <tbody>\n",
       "    <tr>\n",
       "      <th>1</th>\n",
       "      <td>1978-07-14</td>\n",
       "      <td>anniversary</td>\n",
       "    </tr>\n",
       "    <tr>\n",
       "      <th>4</th>\n",
       "      <td>1998-07-14</td>\n",
       "      <td>anniversary</td>\n",
       "    </tr>\n",
       "    <tr>\n",
       "      <th>0</th>\n",
       "      <td>1970-05-23</td>\n",
       "      <td>birth</td>\n",
       "    </tr>\n",
       "    <tr>\n",
       "      <th>3</th>\n",
       "      <td>1993-01-01</td>\n",
       "      <td>marriage</td>\n",
       "    </tr>\n",
       "    <tr>\n",
       "      <th>2</th>\n",
       "      <td>1986-03-14</td>\n",
       "      <td>unknown</td>\n",
       "    </tr>\n",
       "  </tbody>\n",
       "</table>\n",
       "</div>"
      ],
      "text/plain": [
       "        date        event\n",
       "1 1978-07-14  anniversary\n",
       "4 1998-07-14  anniversary\n",
       "0 1970-05-23        birth\n",
       "3 1993-01-01     marriage\n",
       "2 1986-03-14      unknown"
      ]
     },
     "execution_count": 270,
     "metadata": {},
     "output_type": "execute_result"
    }
   ],
   "source": [
    "toy_df.sort_values('event')"
   ]
  },
  {
   "cell_type": "markdown",
   "metadata": {},
   "source": [
    "If you want to invert the sorting (z-to-a, 9-to-1, etc.), use the `ascending=True` argument."
   ]
  },
  {
   "cell_type": "code",
   "execution_count": 271,
   "metadata": {},
   "outputs": [
    {
     "data": {
      "text/html": [
       "<div>\n",
       "<style scoped>\n",
       "    .dataframe tbody tr th:only-of-type {\n",
       "        vertical-align: middle;\n",
       "    }\n",
       "\n",
       "    .dataframe tbody tr th {\n",
       "        vertical-align: top;\n",
       "    }\n",
       "\n",
       "    .dataframe thead th {\n",
       "        text-align: right;\n",
       "    }\n",
       "</style>\n",
       "<table border=\"1\" class=\"dataframe\">\n",
       "  <thead>\n",
       "    <tr style=\"text-align: right;\">\n",
       "      <th></th>\n",
       "      <th>date</th>\n",
       "      <th>event</th>\n",
       "    </tr>\n",
       "  </thead>\n",
       "  <tbody>\n",
       "    <tr>\n",
       "      <th>2</th>\n",
       "      <td>1986-03-14</td>\n",
       "      <td>unknown</td>\n",
       "    </tr>\n",
       "    <tr>\n",
       "      <th>3</th>\n",
       "      <td>1993-01-01</td>\n",
       "      <td>marriage</td>\n",
       "    </tr>\n",
       "    <tr>\n",
       "      <th>0</th>\n",
       "      <td>1970-05-23</td>\n",
       "      <td>birth</td>\n",
       "    </tr>\n",
       "    <tr>\n",
       "      <th>1</th>\n",
       "      <td>1978-07-14</td>\n",
       "      <td>anniversary</td>\n",
       "    </tr>\n",
       "    <tr>\n",
       "      <th>4</th>\n",
       "      <td>1998-07-14</td>\n",
       "      <td>anniversary</td>\n",
       "    </tr>\n",
       "  </tbody>\n",
       "</table>\n",
       "</div>"
      ],
      "text/plain": [
       "        date        event\n",
       "2 1986-03-14      unknown\n",
       "3 1993-01-01     marriage\n",
       "0 1970-05-23        birth\n",
       "1 1978-07-14  anniversary\n",
       "4 1998-07-14  anniversary"
      ]
     },
     "execution_count": 271,
     "metadata": {},
     "output_type": "execute_result"
    }
   ],
   "source": [
    "toy_df.sort_values('event', ascending=False)"
   ]
  },
  {
   "cell_type": "markdown",
   "metadata": {},
   "source": [
    "### B) Columns and datatype"
   ]
  },
  {
   "cell_type": "markdown",
   "metadata": {},
   "source": [
    "The columns of a `pandas.DataFrame` can be accessed as follows:"
   ]
  },
  {
   "cell_type": "code",
   "execution_count": 115,
   "metadata": {},
   "outputs": [
    {
     "data": {
      "text/plain": [
       "0   1970-05-23\n",
       "1   1978-07-14\n",
       "2   1986-03-14\n",
       "3   1993-01-01\n",
       "4   1998-07-14\n",
       "Name: date, dtype: datetime64[ns]"
      ]
     },
     "execution_count": 115,
     "metadata": {},
     "output_type": "execute_result"
    }
   ],
   "source": [
    "toy_df['date']"
   ]
  },
  {
   "cell_type": "markdown",
   "metadata": {},
   "source": [
    " It returns a `pandas.Series`, the type we've seen in the introductory section of this notebook. To access its **values** the property keyword is used:"
   ]
  },
  {
   "cell_type": "code",
   "execution_count": 119,
   "metadata": {},
   "outputs": [
    {
     "name": "stdout",
     "output_type": "stream",
     "text": [
      "<class 'pandas.core.series.Series'>\n",
      "['1970-05-23T00:00:00.000000000' '1978-07-14T00:00:00.000000000'\n",
      " '1986-03-14T00:00:00.000000000' '1993-01-01T00:00:00.000000000'\n",
      " '1998-07-14T00:00:00.000000000']\n"
     ]
    }
   ],
   "source": [
    "print(type(toy_df['date']))\n",
    "print(toy_df['date'].values)"
   ]
  },
  {
   "cell_type": "markdown",
   "metadata": {},
   "source": [
    "Each column in a `pandas.DataFrame` has a data type. Being sure that the right datatype is used is essential.\n",
    "\n",
    "Depending on the nature of the data, its type can be changed using the method `.astype()`. \n",
    "\n",
    "For example, changing from a `pandas.Timestamp` to a `str` is possible:"
   ]
  },
  {
   "cell_type": "code",
   "execution_count": 125,
   "metadata": {},
   "outputs": [
    {
     "name": "stdout",
     "output_type": "stream",
     "text": [
      "0    1970-05-23\n",
      "1    1978-07-14\n",
      "2    1986-03-14\n",
      "3    1993-01-01\n",
      "4    1998-07-14\n",
      "Name: date, dtype: object\n"
     ]
    }
   ],
   "source": [
    "print(toy_df['date'].astype(str))"
   ]
  },
  {
   "cell_type": "markdown",
   "metadata": {},
   "source": [
    "But changing from a `pandas.Timestamp` to a `float` is not possible:"
   ]
  },
  {
   "cell_type": "code",
   "execution_count": 126,
   "metadata": {},
   "outputs": [],
   "source": [
    "## What do you expect when you run the following?\n",
    "# print(toy_df['date'].astype(float))"
   ]
  },
  {
   "cell_type": "markdown",
   "metadata": {},
   "source": [
    "### C) Accessor properties\n",
    "\n",
    "For certain data types (string, datetime), `pandas` provides a number of common methods that can be called on any series containing values of that type. These methods become available as methods of the series itself within a property — called *accessor* — named after the data type:\n",
    "\n",
    "- the `.dt.*` accessor contains methods to operate on `datetime` series\n",
    "- the `str.` accessor contains methods to operate on `str` (string) series.\n",
    "\n",
    "Accessors are amongst the most convenient features of data manipulation in `pandas`.\n",
    "\n",
    "They act on a `pandas.Series`, typically the column of a `DataFrame` and return a `pandas.Series` of the same length. The output new series is the result of the element-wise operation on the input series.\n",
    "\n",
    "Let's start with temporal manipulation:"
   ]
  },
  {
   "cell_type": "markdown",
   "metadata": {},
   "source": [
    "#### `datetime` accessor"
   ]
  },
  {
   "cell_type": "markdown",
   "metadata": {},
   "source": [
    "To work with datetime series `pandas` provide a bunch of useful methods to operate on a series: they can be called from the `.dt` property of a datetime series.\n",
    "\n",
    "They can be used to:\n",
    "- convert from one timezone to another\n",
    "- get the day/day name/month/year information from each date\n",
    "- and much more (see the [documentation]())\n",
    "\n"
   ]
  },
  {
   "cell_type": "code",
   "execution_count": 139,
   "metadata": {},
   "outputs": [
    {
     "data": {
      "text/plain": [
       "pandas.core.series.Series"
      ]
     },
     "execution_count": 139,
     "metadata": {},
     "output_type": "execute_result"
    }
   ],
   "source": [
    "type(toy_df['date'].dt.day_name())"
   ]
  },
  {
   "cell_type": "markdown",
   "metadata": {},
   "source": [
    "✏️ [Ex.7] \n",
    "To see this in action: \n",
    "- ✏️ Access your dataframe's `date` column\n",
    "- ✏️ Print for each the corresponding day of the week. To do this, you should use the `datetime` accessor, and use the method `day_name`. This will return a `pandas.Series`.\n",
    "- ✏️ Add the day of the week as a new column.\n",
    "- ✏️ Try to do this again in a one-liner."
   ]
  },
  {
   "cell_type": "code",
   "execution_count": null,
   "metadata": {},
   "outputs": [],
   "source": [
    "# your solution"
   ]
  },
  {
   "cell_type": "markdown",
   "metadata": {},
   "source": [
    "#### `str` accessor"
   ]
  },
  {
   "cell_type": "markdown",
   "metadata": {},
   "source": [
    "Much like the `datetime` accessor, the `str` one is the entry door to many very useful methods that you may need to tidy, process, or analyse your data.\n",
    "\n",
    "Among other things, you can easily:\n",
    "- test if the string starts with another string, \n",
    "- convert between lower and upper case, \n",
    "- determine if the string matches a regular expression,\n",
    "- replace one substring with one another.\n",
    "\n",
    "For example, if you want to check if the first three letters of the `event` column are those of \"wedding\", you can use:"
   ]
  },
  {
   "cell_type": "code",
   "execution_count": 164,
   "metadata": {},
   "outputs": [
    {
     "data": {
      "text/plain": [
       "0    False\n",
       "1    False\n",
       "2     True\n",
       "3     True\n",
       "4    False\n",
       "Name: event, dtype: bool"
      ]
     },
     "execution_count": 164,
     "metadata": {},
     "output_type": "execute_result"
    }
   ],
   "source": [
    "toy_df['event'].str.startswith('wed')"
   ]
  },
  {
   "cell_type": "markdown",
   "metadata": {},
   "source": [
    "You can also chain the accessors. However, remember than the output of an accessor method is a `pandas.Series`. You will therefore need to access `str` again!\n",
    "\n",
    "For example, if you want first to capitalise a column, before checking whether it starts with the first letters of \"wedding\", you can do:"
   ]
  },
  {
   "cell_type": "code",
   "execution_count": 169,
   "metadata": {},
   "outputs": [
    {
     "data": {
      "text/plain": [
       "0    False\n",
       "1    False\n",
       "2     True\n",
       "3     True\n",
       "4    False\n",
       "Name: event, dtype: bool"
      ]
     },
     "execution_count": 169,
     "metadata": {},
     "output_type": "execute_result"
    }
   ],
   "source": [
    "#This time, we match with \"Wed\"\n",
    "\n",
    "toy_df['event'].str.capitalize().str.startswith('Wed')"
   ]
  },
  {
   "cell_type": "markdown",
   "metadata": {},
   "source": [
    "✏️ [Ex.8] \n",
    "- ✏️ Using the `str` accessors, create a new column `is_weekend` that states if the date fell during a weekend.\n",
    "- ✏️ The new column should be a boolean (True/False).\n",
    "\n",
    "- ✏️ Again, using accessors, replace the first three letters of your last name with the first three letters of your first name, and vice-versa. This time the new last name should be lower case.\n",
    "- ✏️ (Advanced) Try to write an expression where the letters are not manually entered, and that would work for any dataframe with columns 'author_firstname' and 'author_lastname'."
   ]
  },
  {
   "cell_type": "code",
   "execution_count": null,
   "metadata": {},
   "outputs": [],
   "source": [
    "# your solution"
   ]
  },
  {
   "cell_type": "markdown",
   "metadata": {},
   "source": [
    "## Section (3): Input/Output\n",
    "\n",
    "Up until now, we have created and manipulated data from scratch.\n",
    "\n",
    "However most often, they are created by loading existing data into a dataframe by means of `pandas`' input/output methods:\n",
    "\n",
    "- Either by loading a complete dataframe, for example if you want to manipulate a CSV file;\n",
    "- Or by loading the data columns independantly, and combining them into one dataframe."
   ]
  },
  {
   "cell_type": "markdown",
   "metadata": {},
   "source": [
    "#### From JSON\n",
    "\n",
    "A very common data format is JSON, explicit, efficient, and widely used over the internet.\n",
    "\n",
    "We will take here the example of some data on books from the British Library. We extracted it from the BL as a JSON file. You may face such a scenario in your research.\n",
    "\n",
    "Loading data from a JSON file is very similar to creating a `DataFrame` from a `dict`, like we've done in Section (1).\n",
    "\n",
    "This is how one would do it in pure Python:"
   ]
  },
  {
   "cell_type": "code",
   "execution_count": 181,
   "metadata": {},
   "outputs": [],
   "source": [
    "import json\n",
    "json_file_path = '../data/bl_books/sample/book_data_sample.json'\n",
    "\n",
    "# JSON data gets read into a dictionary\n",
    "\n",
    "with open(json_file_path, 'r') as jsonfile:\n",
    "    json_data = json.load(jsonfile)\n",
    "    \n",
    "books_df = pd.DataFrame(json_data)"
   ]
  },
  {
   "cell_type": "code",
   "execution_count": 183,
   "metadata": {},
   "outputs": [
    {
     "data": {
      "text/html": [
       "<div>\n",
       "<style scoped>\n",
       "    .dataframe tbody tr th:only-of-type {\n",
       "        vertical-align: middle;\n",
       "    }\n",
       "\n",
       "    .dataframe tbody tr th {\n",
       "        vertical-align: top;\n",
       "    }\n",
       "\n",
       "    .dataframe thead th {\n",
       "        text-align: right;\n",
       "    }\n",
       "</style>\n",
       "<table border=\"1\" class=\"dataframe\">\n",
       "  <thead>\n",
       "    <tr style=\"text-align: right;\">\n",
       "      <th></th>\n",
       "      <th>datefield</th>\n",
       "      <th>shelfmarks</th>\n",
       "      <th>publisher</th>\n",
       "      <th>title</th>\n",
       "      <th>edition</th>\n",
       "      <th>flickr_url_to_book_images</th>\n",
       "      <th>place</th>\n",
       "      <th>issuance</th>\n",
       "      <th>authors</th>\n",
       "      <th>date</th>\n",
       "      <th>pdf</th>\n",
       "      <th>identifier</th>\n",
       "      <th>corporate</th>\n",
       "      <th>fulltext_filename</th>\n",
       "      <th>imgs</th>\n",
       "    </tr>\n",
       "  </thead>\n",
       "  <tbody>\n",
       "    <tr>\n",
       "      <th>0</th>\n",
       "      <td>1841</td>\n",
       "      <td>[British Library HMNTS 11601.ddd.2.]</td>\n",
       "      <td>Privately printed</td>\n",
       "      <td>[The Poetical Aviary, with a bird's-eye view o...</td>\n",
       "      <td></td>\n",
       "      <td>http://www.flickr.com/photos/britishlibrary/ta...</td>\n",
       "      <td>Calcutta</td>\n",
       "      <td>monographic</td>\n",
       "      <td>{'creator': ['A. A.']}</td>\n",
       "      <td>1841</td>\n",
       "      <td>{'1': 'lsidyv35c55757'}</td>\n",
       "      <td>000000196</td>\n",
       "      <td>{}</td>\n",
       "      <td>sample/full_texts/000000196_01_text.json</td>\n",
       "      <td>NaN</td>\n",
       "    </tr>\n",
       "    <tr>\n",
       "      <th>1</th>\n",
       "      <td>1888</td>\n",
       "      <td>[British Library HMNTS 9025.cc.14.]</td>\n",
       "      <td>Rivingtons</td>\n",
       "      <td>[A History of Greece. Part I. From the earlies...</td>\n",
       "      <td></td>\n",
       "      <td>http://www.flickr.com/photos/britishlibrary/ta...</td>\n",
       "      <td>London</td>\n",
       "      <td>monographic</td>\n",
       "      <td>{'creator': ['Abbott, Evelyn']}</td>\n",
       "      <td>1888</td>\n",
       "      <td>{'1': 'lsidyv376da437'}</td>\n",
       "      <td>000004047</td>\n",
       "      <td>{}</td>\n",
       "      <td>sample/full_texts/000004047_01_text.json</td>\n",
       "      <td>{'0': {'000257': ['11104648374']}}</td>\n",
       "    </tr>\n",
       "    <tr>\n",
       "      <th>2</th>\n",
       "      <td>1847, 48 [1846-48]</td>\n",
       "      <td>[British Library HMNTS C.131.d.16., British Li...</td>\n",
       "      <td>Punch Office</td>\n",
       "      <td>[The Comic History of England ... With ... col...</td>\n",
       "      <td></td>\n",
       "      <td>http://www.flickr.com/photos/britishlibrary/ta...</td>\n",
       "      <td>London</td>\n",
       "      <td>monographic</td>\n",
       "      <td>{'contributor': ['LEECH, John - Artist'], 'cre...</td>\n",
       "      <td>1847</td>\n",
       "      <td>{'1': 'lsidyv38b27a31'}</td>\n",
       "      <td>000005382</td>\n",
       "      <td>{}</td>\n",
       "      <td>sample/full_texts/000005382_01_text.json</td>\n",
       "      <td>{'0': {'000410': ['11026944866'], '000412': ['...</td>\n",
       "    </tr>\n",
       "    <tr>\n",
       "      <th>3</th>\n",
       "      <td>1892</td>\n",
       "      <td>[British Library HMNTS 10351.cc.60.]</td>\n",
       "      <td>Eden, Remington &amp; Co.</td>\n",
       "      <td>[The Cruise of “The Tomahawk”: the story of a ...</td>\n",
       "      <td></td>\n",
       "      <td>http://www.flickr.com/photos/britishlibrary/ta...</td>\n",
       "      <td>London</td>\n",
       "      <td>monographic</td>\n",
       "      <td>{'creator': ['Laffan, De Courcy - Mrs']}</td>\n",
       "      <td>1892</td>\n",
       "      <td>{'1': 'lsidyv3c4a946a'}</td>\n",
       "      <td>000014627</td>\n",
       "      <td>{}</td>\n",
       "      <td>sample/full_texts/000014627_01_text.json</td>\n",
       "      <td>{'0': {'000134': ['11300364604'], '000039': ['...</td>\n",
       "    </tr>\n",
       "    <tr>\n",
       "      <th>4</th>\n",
       "      <td>1863</td>\n",
       "      <td>[British Library HMNTS 9078.c.10.]</td>\n",
       "      <td>Virtue Bros. &amp; Co.</td>\n",
       "      <td>[Scenes from the Drama of European History]</td>\n",
       "      <td></td>\n",
       "      <td>http://www.flickr.com/photos/britishlibrary/ta...</td>\n",
       "      <td>London</td>\n",
       "      <td>monographic</td>\n",
       "      <td>{'creator': ['Adams, W. H. Davenport (William ...</td>\n",
       "      <td>1863</td>\n",
       "      <td>{'1': 'lsidyv32c34c22'}</td>\n",
       "      <td>000017057</td>\n",
       "      <td>{}</td>\n",
       "      <td>sample/full_texts/000017057_01_text.json</td>\n",
       "      <td>{'0': {'000005': ['11046098454']}}</td>\n",
       "    </tr>\n",
       "  </tbody>\n",
       "</table>\n",
       "</div>"
      ],
      "text/plain": [
       "            datefield                                         shelfmarks  \\\n",
       "0                1841               [British Library HMNTS 11601.ddd.2.]   \n",
       "1                1888                [British Library HMNTS 9025.cc.14.]   \n",
       "2  1847, 48 [1846-48]  [British Library HMNTS C.131.d.16., British Li...   \n",
       "3                1892               [British Library HMNTS 10351.cc.60.]   \n",
       "4                1863                 [British Library HMNTS 9078.c.10.]   \n",
       "\n",
       "               publisher                                              title  \\\n",
       "0      Privately printed  [The Poetical Aviary, with a bird's-eye view o...   \n",
       "1             Rivingtons  [A History of Greece. Part I. From the earlies...   \n",
       "2           Punch Office  [The Comic History of England ... With ... col...   \n",
       "3  Eden, Remington & Co.  [The Cruise of “The Tomahawk”: the story of a ...   \n",
       "4     Virtue Bros. & Co.        [Scenes from the Drama of European History]   \n",
       "\n",
       "  edition                          flickr_url_to_book_images     place  \\\n",
       "0          http://www.flickr.com/photos/britishlibrary/ta...  Calcutta   \n",
       "1          http://www.flickr.com/photos/britishlibrary/ta...    London   \n",
       "2          http://www.flickr.com/photos/britishlibrary/ta...    London   \n",
       "3          http://www.flickr.com/photos/britishlibrary/ta...    London   \n",
       "4          http://www.flickr.com/photos/britishlibrary/ta...    London   \n",
       "\n",
       "      issuance                                            authors  date  \\\n",
       "0  monographic                             {'creator': ['A. A.']}  1841   \n",
       "1  monographic                    {'creator': ['Abbott, Evelyn']}  1888   \n",
       "2  monographic  {'contributor': ['LEECH, John - Artist'], 'cre...  1847   \n",
       "3  monographic           {'creator': ['Laffan, De Courcy - Mrs']}  1892   \n",
       "4  monographic  {'creator': ['Adams, W. H. Davenport (William ...  1863   \n",
       "\n",
       "                       pdf identifier corporate  \\\n",
       "0  {'1': 'lsidyv35c55757'}  000000196        {}   \n",
       "1  {'1': 'lsidyv376da437'}  000004047        {}   \n",
       "2  {'1': 'lsidyv38b27a31'}  000005382        {}   \n",
       "3  {'1': 'lsidyv3c4a946a'}  000014627        {}   \n",
       "4  {'1': 'lsidyv32c34c22'}  000017057        {}   \n",
       "\n",
       "                          fulltext_filename  \\\n",
       "0  sample/full_texts/000000196_01_text.json   \n",
       "1  sample/full_texts/000004047_01_text.json   \n",
       "2  sample/full_texts/000005382_01_text.json   \n",
       "3  sample/full_texts/000014627_01_text.json   \n",
       "4  sample/full_texts/000017057_01_text.json   \n",
       "\n",
       "                                                imgs  \n",
       "0                                                NaN  \n",
       "1                 {'0': {'000257': ['11104648374']}}  \n",
       "2  {'0': {'000410': ['11026944866'], '000412': ['...  \n",
       "3  {'0': {'000134': ['11300364604'], '000039': ['...  \n",
       "4                 {'0': {'000005': ['11046098454']}}  "
      ]
     },
     "execution_count": 183,
     "metadata": {},
     "output_type": "execute_result"
    }
   ],
   "source": [
    "books_df.head()"
   ]
  },
  {
   "cell_type": "markdown",
   "metadata": {},
   "source": [
    "Since reading from files is a very common operation in any data analysis workflow, `pandas` provides methods to read from a variety of formats (JSON, CSV, clipboard, etc.)\n",
    "\n",
    "The block of code above can be replaced by the following one-liner:"
   ]
  },
  {
   "cell_type": "code",
   "execution_count": 184,
   "metadata": {},
   "outputs": [
    {
     "name": "stderr",
     "output_type": "stream",
     "text": [
      "/var/folders/h0/0v0s48pj41zdnzdy7333vb4m0000gn/T/ipykernel_15985/3298360895.py:1: FutureWarning: The behavior of 'to_datetime' with 'unit' when parsing strings is deprecated. In a future version, strings will be parsed as datetime strings, matching the behavior without a 'unit'. To retain the old behavior, explicitly cast ints or floats to numeric type before calling to_datetime.\n",
      "  books_df = pd.read_json(json_file_path)\n"
     ]
    }
   ],
   "source": [
    "books_df = pd.read_json(json_file_path)"
   ]
  },
  {
   "cell_type": "code",
   "execution_count": 185,
   "metadata": {},
   "outputs": [
    {
     "data": {
      "text/html": [
       "<div>\n",
       "<style scoped>\n",
       "    .dataframe tbody tr th:only-of-type {\n",
       "        vertical-align: middle;\n",
       "    }\n",
       "\n",
       "    .dataframe tbody tr th {\n",
       "        vertical-align: top;\n",
       "    }\n",
       "\n",
       "    .dataframe thead th {\n",
       "        text-align: right;\n",
       "    }\n",
       "</style>\n",
       "<table border=\"1\" class=\"dataframe\">\n",
       "  <thead>\n",
       "    <tr style=\"text-align: right;\">\n",
       "      <th></th>\n",
       "      <th>datefield</th>\n",
       "      <th>shelfmarks</th>\n",
       "      <th>publisher</th>\n",
       "      <th>title</th>\n",
       "      <th>edition</th>\n",
       "      <th>flickr_url_to_book_images</th>\n",
       "      <th>place</th>\n",
       "      <th>issuance</th>\n",
       "      <th>authors</th>\n",
       "      <th>date</th>\n",
       "      <th>pdf</th>\n",
       "      <th>identifier</th>\n",
       "      <th>corporate</th>\n",
       "      <th>fulltext_filename</th>\n",
       "      <th>imgs</th>\n",
       "    </tr>\n",
       "  </thead>\n",
       "  <tbody>\n",
       "    <tr>\n",
       "      <th>0</th>\n",
       "      <td>1841</td>\n",
       "      <td>[British Library HMNTS 11601.ddd.2.]</td>\n",
       "      <td>Privately printed</td>\n",
       "      <td>[The Poetical Aviary, with a bird's-eye view o...</td>\n",
       "      <td></td>\n",
       "      <td>http://www.flickr.com/photos/britishlibrary/ta...</td>\n",
       "      <td>Calcutta</td>\n",
       "      <td>monographic</td>\n",
       "      <td>{'creator': ['A. A.']}</td>\n",
       "      <td>1970-01-01 00:30:41</td>\n",
       "      <td>{'1': 'lsidyv35c55757'}</td>\n",
       "      <td>196</td>\n",
       "      <td>{}</td>\n",
       "      <td>sample/full_texts/000000196_01_text.json</td>\n",
       "      <td>NaN</td>\n",
       "    </tr>\n",
       "    <tr>\n",
       "      <th>1</th>\n",
       "      <td>1888</td>\n",
       "      <td>[British Library HMNTS 9025.cc.14.]</td>\n",
       "      <td>Rivingtons</td>\n",
       "      <td>[A History of Greece. Part I. From the earlies...</td>\n",
       "      <td></td>\n",
       "      <td>http://www.flickr.com/photos/britishlibrary/ta...</td>\n",
       "      <td>London</td>\n",
       "      <td>monographic</td>\n",
       "      <td>{'creator': ['Abbott, Evelyn']}</td>\n",
       "      <td>1970-01-01 00:31:28</td>\n",
       "      <td>{'1': 'lsidyv376da437'}</td>\n",
       "      <td>4047</td>\n",
       "      <td>{}</td>\n",
       "      <td>sample/full_texts/000004047_01_text.json</td>\n",
       "      <td>{'0': {'000257': ['11104648374']}}</td>\n",
       "    </tr>\n",
       "    <tr>\n",
       "      <th>2</th>\n",
       "      <td>1847, 48 [1846-48]</td>\n",
       "      <td>[British Library HMNTS C.131.d.16., British Li...</td>\n",
       "      <td>Punch Office</td>\n",
       "      <td>[The Comic History of England ... With ... col...</td>\n",
       "      <td></td>\n",
       "      <td>http://www.flickr.com/photos/britishlibrary/ta...</td>\n",
       "      <td>London</td>\n",
       "      <td>monographic</td>\n",
       "      <td>{'contributor': ['LEECH, John - Artist'], 'cre...</td>\n",
       "      <td>1970-01-01 00:30:47</td>\n",
       "      <td>{'1': 'lsidyv38b27a31'}</td>\n",
       "      <td>5382</td>\n",
       "      <td>{}</td>\n",
       "      <td>sample/full_texts/000005382_01_text.json</td>\n",
       "      <td>{'0': {'000410': ['11026944866'], '000412': ['...</td>\n",
       "    </tr>\n",
       "    <tr>\n",
       "      <th>3</th>\n",
       "      <td>1892</td>\n",
       "      <td>[British Library HMNTS 10351.cc.60.]</td>\n",
       "      <td>Eden, Remington &amp; Co.</td>\n",
       "      <td>[The Cruise of “The Tomahawk”: the story of a ...</td>\n",
       "      <td></td>\n",
       "      <td>http://www.flickr.com/photos/britishlibrary/ta...</td>\n",
       "      <td>London</td>\n",
       "      <td>monographic</td>\n",
       "      <td>{'creator': ['Laffan, De Courcy - Mrs']}</td>\n",
       "      <td>1970-01-01 00:31:32</td>\n",
       "      <td>{'1': 'lsidyv3c4a946a'}</td>\n",
       "      <td>14627</td>\n",
       "      <td>{}</td>\n",
       "      <td>sample/full_texts/000014627_01_text.json</td>\n",
       "      <td>{'0': {'000134': ['11300364604'], '000039': ['...</td>\n",
       "    </tr>\n",
       "    <tr>\n",
       "      <th>4</th>\n",
       "      <td>1863</td>\n",
       "      <td>[British Library HMNTS 9078.c.10.]</td>\n",
       "      <td>Virtue Bros. &amp; Co.</td>\n",
       "      <td>[Scenes from the Drama of European History]</td>\n",
       "      <td></td>\n",
       "      <td>http://www.flickr.com/photos/britishlibrary/ta...</td>\n",
       "      <td>London</td>\n",
       "      <td>monographic</td>\n",
       "      <td>{'creator': ['Adams, W. H. Davenport (William ...</td>\n",
       "      <td>1970-01-01 00:31:03</td>\n",
       "      <td>{'1': 'lsidyv32c34c22'}</td>\n",
       "      <td>17057</td>\n",
       "      <td>{}</td>\n",
       "      <td>sample/full_texts/000017057_01_text.json</td>\n",
       "      <td>{'0': {'000005': ['11046098454']}}</td>\n",
       "    </tr>\n",
       "  </tbody>\n",
       "</table>\n",
       "</div>"
      ],
      "text/plain": [
       "            datefield                                         shelfmarks  \\\n",
       "0                1841               [British Library HMNTS 11601.ddd.2.]   \n",
       "1                1888                [British Library HMNTS 9025.cc.14.]   \n",
       "2  1847, 48 [1846-48]  [British Library HMNTS C.131.d.16., British Li...   \n",
       "3                1892               [British Library HMNTS 10351.cc.60.]   \n",
       "4                1863                 [British Library HMNTS 9078.c.10.]   \n",
       "\n",
       "               publisher                                              title  \\\n",
       "0      Privately printed  [The Poetical Aviary, with a bird's-eye view o...   \n",
       "1             Rivingtons  [A History of Greece. Part I. From the earlies...   \n",
       "2           Punch Office  [The Comic History of England ... With ... col...   \n",
       "3  Eden, Remington & Co.  [The Cruise of “The Tomahawk”: the story of a ...   \n",
       "4     Virtue Bros. & Co.        [Scenes from the Drama of European History]   \n",
       "\n",
       "  edition                          flickr_url_to_book_images     place  \\\n",
       "0          http://www.flickr.com/photos/britishlibrary/ta...  Calcutta   \n",
       "1          http://www.flickr.com/photos/britishlibrary/ta...    London   \n",
       "2          http://www.flickr.com/photos/britishlibrary/ta...    London   \n",
       "3          http://www.flickr.com/photos/britishlibrary/ta...    London   \n",
       "4          http://www.flickr.com/photos/britishlibrary/ta...    London   \n",
       "\n",
       "      issuance                                            authors  \\\n",
       "0  monographic                             {'creator': ['A. A.']}   \n",
       "1  monographic                    {'creator': ['Abbott, Evelyn']}   \n",
       "2  monographic  {'contributor': ['LEECH, John - Artist'], 'cre...   \n",
       "3  monographic           {'creator': ['Laffan, De Courcy - Mrs']}   \n",
       "4  monographic  {'creator': ['Adams, W. H. Davenport (William ...   \n",
       "\n",
       "                 date                      pdf  identifier corporate  \\\n",
       "0 1970-01-01 00:30:41  {'1': 'lsidyv35c55757'}         196        {}   \n",
       "1 1970-01-01 00:31:28  {'1': 'lsidyv376da437'}        4047        {}   \n",
       "2 1970-01-01 00:30:47  {'1': 'lsidyv38b27a31'}        5382        {}   \n",
       "3 1970-01-01 00:31:32  {'1': 'lsidyv3c4a946a'}       14627        {}   \n",
       "4 1970-01-01 00:31:03  {'1': 'lsidyv32c34c22'}       17057        {}   \n",
       "\n",
       "                          fulltext_filename  \\\n",
       "0  sample/full_texts/000000196_01_text.json   \n",
       "1  sample/full_texts/000004047_01_text.json   \n",
       "2  sample/full_texts/000005382_01_text.json   \n",
       "3  sample/full_texts/000014627_01_text.json   \n",
       "4  sample/full_texts/000017057_01_text.json   \n",
       "\n",
       "                                                imgs  \n",
       "0                                                NaN  \n",
       "1                 {'0': {'000257': ['11104648374']}}  \n",
       "2  {'0': {'000410': ['11026944866'], '000412': ['...  \n",
       "3  {'0': {'000134': ['11300364604'], '000039': ['...  \n",
       "4                 {'0': {'000005': ['11046098454']}}  "
      ]
     },
     "execution_count": 185,
     "metadata": {},
     "output_type": "execute_result"
    }
   ],
   "source": [
    "books_df.head()"
   ]
  },
  {
   "cell_type": "markdown",
   "metadata": {},
   "source": [
    "#### From CSV\n",
    "\n",
    "Similarly to `pandas.read_json()`, `pandas.read_csv()` is there to make your life easier when it comes to loading CSV data into a dataframe (and that happens very often!).\n",
    "\n",
    "This is particularly useful if you want to export dataframes into files compatible with Excel or other tabular data software. \n",
    "\n",
    "Let's see how to import one of the CSV files from the \"Venice Apprenticeship\" dataset (`../data/apprenticeship_venice/`). \n",
    "\n",
    "They contain information extracted from ~10,000 work contracts in 17th-century Venice, in particular master-apprentice relationships in the glass-industry. The apprentices were nick-named *garzoni*, hence the name of the dataset."
   ]
  },
  {
   "cell_type": "code",
   "execution_count": 192,
   "metadata": {},
   "outputs": [],
   "source": [
    "csv_file_path = '../data/apprenticeship_venice/professions_data.csv'"
   ]
  },
  {
   "cell_type": "markdown",
   "metadata": {},
   "source": [
    "Try the following. Does it work? Before going to the next cell, can you guess why?"
   ]
  },
  {
   "cell_type": "code",
   "execution_count": null,
   "metadata": {},
   "outputs": [],
   "source": [
    "garzoni_df = pd.read_csv(csv_file_path)"
   ]
  },
  {
   "cell_type": "markdown",
   "metadata": {},
   "source": [
    "Let's have a look at the file first:"
   ]
  },
  {
   "cell_type": "code",
   "execution_count": 193,
   "metadata": {},
   "outputs": [
    {
     "name": "stdout",
     "output_type": "stream",
     "text": [
      "page_title;register;annual_salary;a_profession;profession_code_strict;profession_code_gen;profession_cat;corporation;keep_profession_a;complete_profession_a;enrolmentY;enrolmentM;startY;startM;length;has_fled;m_profession;m_profession_code_strict;m_profession_code_gen;m_profession_cat;m_corporation;keep_profession_m;complete_profession_m;m_gender;m_name;m_surname;m_patronimic;m_atelier;m_coords;a_name;a_age;a_gender;a_geo_origins;a_geo_origins_std;a_coords;a_quondam;accommodation_master;personal_care_master;clothes_master;generic_expenses_master;salary_in_kind_master;pledge_goods_master;pledge_money_master;salary_master;female_guarantor;period_cat;incremental_salary\n",
      "Carlo Della sosta (Orese) 1592-08-03;asv, giustizia vecchia, accordi dei garzoni, 114, 155;NA;orese;orese;orefice;orefice;Oresi;1;1;1592;08;1592;08;3;0;orese;orese;orefice;orefice;Oresi;1;1;1;Zuan Battista;Amigoni;;;0, 0;Carlo Della sosta;17;1;;;0, 0;1;0;1;1;1;0;0;0;0;0;NA;0\n"
     ]
    }
   ],
   "source": [
    "!head -n 2 ../data/apprenticeship_venice/professions_data.csv"
   ]
  },
  {
   "cell_type": "markdown",
   "metadata": {},
   "source": [
    "More than a comma-separated value, it looks like semicolon-separated values...\n",
    "We thus need to adjust the `sep` parameter to specify which character is used to separate column values."
   ]
  },
  {
   "cell_type": "code",
   "execution_count": 194,
   "metadata": {},
   "outputs": [],
   "source": [
    "garzoni_df = pd.read_csv(\n",
    "    csv_file_path,\n",
    "    sep=';'\n",
    ")"
   ]
  },
  {
   "cell_type": "markdown",
   "metadata": {},
   "source": [
    "### Export\n",
    "\n",
    "Once you have a `DataFrame` to play with in you python environment, exporting it is quite straightforward. \n",
    "\n",
    "Each export format has its own method: `.to_csv()`, `.to_json()`, `.to_htmm()`, etc.\n",
    "\n",
    "The argument of the function is simply the `<path name>`, and sometime optional arguments, like which value separator you want to use for `.csv` files:\n",
    "\n",
    "`<your_dataframe>.to_csv(<export_path>, sep=<which_separator>)`"
   ]
  },
  {
   "cell_type": "code",
   "execution_count": 221,
   "metadata": {},
   "outputs": [],
   "source": [
    "toy_df.to_csv('example_dataframe.csv', sep=';')"
   ]
  },
  {
   "cell_type": "markdown",
   "metadata": {},
   "source": [
    "## Section (4): Accessing and manipulating data.\n",
    "\n",
    "We now have learned to get our hands on larger dataframes, with thousands of rows and dozens of columns, akin to the sort you may manipulate in a typical DH project.\n",
    "\n",
    "It is now time to learn how to access the data stored in those dataframes."
   ]
  },
  {
   "cell_type": "markdown",
   "metadata": {},
   "source": [
    "### Indexing\n",
    "\n",
    "There are two main ways to find information contained in a dataframe cell:\n",
    "- either you know exactly where it is in the dataframe, for example if your frame is in a specific order;\n",
    "- or, you want to access one or more cells based on conditions.\n",
    "\n",
    "Let's take our books dataframe for the first of those cases. If you want to know the 'title' of the n-th row, you can get it using the `.at` keyword. The structure is:\n",
    "\n",
    "`<dataframe>.at[<row_number>, <column_name>]`"
   ]
  },
  {
   "cell_type": "markdown",
   "metadata": {},
   "source": [
    "✏️ [Ex.9]\n",
    "- ✏️ What is the 'title' of the 26th row?"
   ]
  },
  {
   "cell_type": "markdown",
   "metadata": {},
   "source": [
    "\n",
    "If we take the example of the `books_df` again, we might want to find all books that have been printed in 1841, or perhaps do we want all books printed privately, or perhaps still do we want all books privately printed in 1841:"
   ]
  },
  {
   "cell_type": "code",
   "execution_count": null,
   "metadata": {},
   "outputs": [],
   "source": [
    "# your solution"
   ]
  },
  {
   "cell_type": "code",
   "execution_count": 200,
   "metadata": {},
   "outputs": [
    {
     "data": {
      "text/html": [
       "<div>\n",
       "<style scoped>\n",
       "    .dataframe tbody tr th:only-of-type {\n",
       "        vertical-align: middle;\n",
       "    }\n",
       "\n",
       "    .dataframe tbody tr th {\n",
       "        vertical-align: top;\n",
       "    }\n",
       "\n",
       "    .dataframe thead th {\n",
       "        text-align: right;\n",
       "    }\n",
       "</style>\n",
       "<table border=\"1\" class=\"dataframe\">\n",
       "  <thead>\n",
       "    <tr style=\"text-align: right;\">\n",
       "      <th></th>\n",
       "      <th>datefield</th>\n",
       "      <th>shelfmarks</th>\n",
       "      <th>publisher</th>\n",
       "      <th>title</th>\n",
       "      <th>edition</th>\n",
       "      <th>flickr_url_to_book_images</th>\n",
       "      <th>place</th>\n",
       "      <th>issuance</th>\n",
       "      <th>authors</th>\n",
       "      <th>date</th>\n",
       "      <th>pdf</th>\n",
       "      <th>identifier</th>\n",
       "      <th>corporate</th>\n",
       "      <th>fulltext_filename</th>\n",
       "      <th>imgs</th>\n",
       "    </tr>\n",
       "  </thead>\n",
       "  <tbody>\n",
       "    <tr>\n",
       "      <th>0</th>\n",
       "      <td>1841</td>\n",
       "      <td>[British Library HMNTS 11601.ddd.2.]</td>\n",
       "      <td>Privately printed</td>\n",
       "      <td>[The Poetical Aviary, with a bird's-eye view o...</td>\n",
       "      <td></td>\n",
       "      <td>http://www.flickr.com/photos/britishlibrary/ta...</td>\n",
       "      <td>Calcutta</td>\n",
       "      <td>monographic</td>\n",
       "      <td>{'creator': ['A. A.']}</td>\n",
       "      <td>1970-01-01 00:30:41</td>\n",
       "      <td>{'1': 'lsidyv35c55757'}</td>\n",
       "      <td>196</td>\n",
       "      <td>{}</td>\n",
       "      <td>sample/full_texts/000000196_01_text.json</td>\n",
       "      <td>NaN</td>\n",
       "    </tr>\n",
       "    <tr>\n",
       "      <th>1</th>\n",
       "      <td>1888</td>\n",
       "      <td>[British Library HMNTS 9025.cc.14.]</td>\n",
       "      <td>Rivingtons</td>\n",
       "      <td>[A History of Greece. Part I. From the earlies...</td>\n",
       "      <td></td>\n",
       "      <td>http://www.flickr.com/photos/britishlibrary/ta...</td>\n",
       "      <td>London</td>\n",
       "      <td>monographic</td>\n",
       "      <td>{'creator': ['Abbott, Evelyn']}</td>\n",
       "      <td>1970-01-01 00:31:28</td>\n",
       "      <td>{'1': 'lsidyv376da437'}</td>\n",
       "      <td>4047</td>\n",
       "      <td>{}</td>\n",
       "      <td>sample/full_texts/000004047_01_text.json</td>\n",
       "      <td>{'0': {'000257': ['11104648374']}}</td>\n",
       "    </tr>\n",
       "  </tbody>\n",
       "</table>\n",
       "</div>"
      ],
      "text/plain": [
       "  datefield                            shelfmarks          publisher  \\\n",
       "0      1841  [British Library HMNTS 11601.ddd.2.]  Privately printed   \n",
       "1      1888   [British Library HMNTS 9025.cc.14.]         Rivingtons   \n",
       "\n",
       "                                               title edition  \\\n",
       "0  [The Poetical Aviary, with a bird's-eye view o...           \n",
       "1  [A History of Greece. Part I. From the earlies...           \n",
       "\n",
       "                           flickr_url_to_book_images     place     issuance  \\\n",
       "0  http://www.flickr.com/photos/britishlibrary/ta...  Calcutta  monographic   \n",
       "1  http://www.flickr.com/photos/britishlibrary/ta...    London  monographic   \n",
       "\n",
       "                           authors                date  \\\n",
       "0           {'creator': ['A. A.']} 1970-01-01 00:30:41   \n",
       "1  {'creator': ['Abbott, Evelyn']} 1970-01-01 00:31:28   \n",
       "\n",
       "                       pdf  identifier corporate  \\\n",
       "0  {'1': 'lsidyv35c55757'}         196        {}   \n",
       "1  {'1': 'lsidyv376da437'}        4047        {}   \n",
       "\n",
       "                          fulltext_filename  \\\n",
       "0  sample/full_texts/000000196_01_text.json   \n",
       "1  sample/full_texts/000004047_01_text.json   \n",
       "\n",
       "                                 imgs  \n",
       "0                                 NaN  \n",
       "1  {'0': {'000257': ['11104648374']}}  "
      ]
     },
     "execution_count": 200,
     "metadata": {},
     "output_type": "execute_result"
    }
   ],
   "source": [
    "books_df.head(2)"
   ]
  },
  {
   "cell_type": "markdown",
   "metadata": {},
   "source": [
    "The property to use to do this is called `.loc`. This is perhaps the most important `pandas` function.\n",
    "\n",
    "It is applied to a `pandas.DataFrame` and returns a subset of that dataframe that matches the conditions given.\n",
    "\n",
    "What is the structure? Retaking the examples phrased earlier, this is what it looks like? Is that structure clear to you?"
   ]
  },
  {
   "cell_type": "code",
   "execution_count": 202,
   "metadata": {},
   "outputs": [
    {
     "data": {
      "text/html": [
       "<div>\n",
       "<style scoped>\n",
       "    .dataframe tbody tr th:only-of-type {\n",
       "        vertical-align: middle;\n",
       "    }\n",
       "\n",
       "    .dataframe tbody tr th {\n",
       "        vertical-align: top;\n",
       "    }\n",
       "\n",
       "    .dataframe thead th {\n",
       "        text-align: right;\n",
       "    }\n",
       "</style>\n",
       "<table border=\"1\" class=\"dataframe\">\n",
       "  <thead>\n",
       "    <tr style=\"text-align: right;\">\n",
       "      <th></th>\n",
       "      <th>datefield</th>\n",
       "      <th>shelfmarks</th>\n",
       "      <th>publisher</th>\n",
       "      <th>title</th>\n",
       "      <th>edition</th>\n",
       "      <th>flickr_url_to_book_images</th>\n",
       "      <th>place</th>\n",
       "      <th>issuance</th>\n",
       "      <th>authors</th>\n",
       "      <th>date</th>\n",
       "      <th>pdf</th>\n",
       "      <th>identifier</th>\n",
       "      <th>corporate</th>\n",
       "      <th>fulltext_filename</th>\n",
       "      <th>imgs</th>\n",
       "    </tr>\n",
       "  </thead>\n",
       "  <tbody>\n",
       "    <tr>\n",
       "      <th>0</th>\n",
       "      <td>1841</td>\n",
       "      <td>[British Library HMNTS 11601.ddd.2.]</td>\n",
       "      <td>Privately printed</td>\n",
       "      <td>[The Poetical Aviary, with a bird's-eye view o...</td>\n",
       "      <td></td>\n",
       "      <td>http://www.flickr.com/photos/britishlibrary/ta...</td>\n",
       "      <td>Calcutta</td>\n",
       "      <td>monographic</td>\n",
       "      <td>{'creator': ['A. A.']}</td>\n",
       "      <td>1970-01-01 00:30:41</td>\n",
       "      <td>{'1': 'lsidyv35c55757'}</td>\n",
       "      <td>196</td>\n",
       "      <td>{}</td>\n",
       "      <td>sample/full_texts/000000196_01_text.json</td>\n",
       "      <td>NaN</td>\n",
       "    </tr>\n",
       "    <tr>\n",
       "      <th>33</th>\n",
       "      <td>1841</td>\n",
       "      <td>[British Library HMNTS 793.f.25., British Libr...</td>\n",
       "      <td>John Mason</td>\n",
       "      <td>[Ashantee and the Gold Coast: being a sketch o...</td>\n",
       "      <td></td>\n",
       "      <td>http://www.flickr.com/photos/britishlibrary/ta...</td>\n",
       "      <td>London</td>\n",
       "      <td>monographic</td>\n",
       "      <td>{'contributor': ['METCALFE, George Edgar.'], '...</td>\n",
       "      <td>1970-01-01 00:30:41</td>\n",
       "      <td>{'1': 'lsidyv38fa87d5'}</td>\n",
       "      <td>249060</td>\n",
       "      <td>{}</td>\n",
       "      <td>sample/full_texts/000249060_01_text.json</td>\n",
       "      <td>{'0': {'000027': ['11019234505']}}</td>\n",
       "    </tr>\n",
       "    <tr>\n",
       "      <th>138</th>\n",
       "      <td>1841</td>\n",
       "      <td>[British Library HMNTS RB.23.a.16334., British...</td>\n",
       "      <td>Longman &amp; Co.</td>\n",
       "      <td>[The History of Guernsey; with occasional noti...</td>\n",
       "      <td></td>\n",
       "      <td>http://www.flickr.com/photos/britishlibrary/ta...</td>\n",
       "      <td>London</td>\n",
       "      <td>monographic</td>\n",
       "      <td>{'creator': ['DUNCAN, Jonathan - B.A']}</td>\n",
       "      <td>1970-01-01 00:30:41</td>\n",
       "      <td>{'1': 'lsidyv3c4bbd67'}</td>\n",
       "      <td>1005994</td>\n",
       "      <td>{}</td>\n",
       "      <td>sample/full_texts/001005994_01_text.json</td>\n",
       "      <td>NaN</td>\n",
       "    </tr>\n",
       "    <tr>\n",
       "      <th>141</th>\n",
       "      <td>1841</td>\n",
       "      <td>[British Library HMNTS 1295.c.36.]</td>\n",
       "      <td></td>\n",
       "      <td>[The Tragedy of the Seas; or sorrow on the oce...</td>\n",
       "      <td></td>\n",
       "      <td>http://www.flickr.com/photos/britishlibrary/ta...</td>\n",
       "      <td>New York</td>\n",
       "      <td>monographic</td>\n",
       "      <td>{'creator': ['ELLMS, Charles.']}</td>\n",
       "      <td>1970-01-01 00:30:41</td>\n",
       "      <td>{'1': 'lsidyv3cb7f1da'}</td>\n",
       "      <td>1061079</td>\n",
       "      <td>{}</td>\n",
       "      <td>sample/full_texts/001061079_01_text.json</td>\n",
       "      <td>{'0': {'000415': ['11224532573'], '000012': ['...</td>\n",
       "    </tr>\n",
       "    <tr>\n",
       "      <th>233</th>\n",
       "      <td>1841</td>\n",
       "      <td>[British Library HMNTS 10347.ee.19.(12.)]</td>\n",
       "      <td>Hobson and Smiles</td>\n",
       "      <td>[An Abstract of Accounts for fourteen years en...</td>\n",
       "      <td></td>\n",
       "      <td>http://www.flickr.com/photos/britishlibrary/ta...</td>\n",
       "      <td>Leeds</td>\n",
       "      <td>monographic</td>\n",
       "      <td>{}</td>\n",
       "      <td>1970-01-01 00:30:41</td>\n",
       "      <td>{'1': 'lsidyv3c347a87'}</td>\n",
       "      <td>2112441</td>\n",
       "      <td>{}</td>\n",
       "      <td>sample/full_texts/002112441_01_text.json</td>\n",
       "      <td>NaN</td>\n",
       "    </tr>\n",
       "  </tbody>\n",
       "</table>\n",
       "</div>"
      ],
      "text/plain": [
       "    datefield                                         shelfmarks  \\\n",
       "0        1841               [British Library HMNTS 11601.ddd.2.]   \n",
       "33       1841  [British Library HMNTS 793.f.25., British Libr...   \n",
       "138      1841  [British Library HMNTS RB.23.a.16334., British...   \n",
       "141      1841                 [British Library HMNTS 1295.c.36.]   \n",
       "233      1841          [British Library HMNTS 10347.ee.19.(12.)]   \n",
       "\n",
       "             publisher                                              title  \\\n",
       "0    Privately printed  [The Poetical Aviary, with a bird's-eye view o...   \n",
       "33          John Mason  [Ashantee and the Gold Coast: being a sketch o...   \n",
       "138      Longman & Co.  [The History of Guernsey; with occasional noti...   \n",
       "141                     [The Tragedy of the Seas; or sorrow on the oce...   \n",
       "233  Hobson and Smiles  [An Abstract of Accounts for fourteen years en...   \n",
       "\n",
       "    edition                          flickr_url_to_book_images     place  \\\n",
       "0            http://www.flickr.com/photos/britishlibrary/ta...  Calcutta   \n",
       "33           http://www.flickr.com/photos/britishlibrary/ta...    London   \n",
       "138          http://www.flickr.com/photos/britishlibrary/ta...    London   \n",
       "141          http://www.flickr.com/photos/britishlibrary/ta...  New York   \n",
       "233          http://www.flickr.com/photos/britishlibrary/ta...     Leeds   \n",
       "\n",
       "        issuance                                            authors  \\\n",
       "0    monographic                             {'creator': ['A. A.']}   \n",
       "33   monographic  {'contributor': ['METCALFE, George Edgar.'], '...   \n",
       "138  monographic            {'creator': ['DUNCAN, Jonathan - B.A']}   \n",
       "141  monographic                   {'creator': ['ELLMS, Charles.']}   \n",
       "233  monographic                                                 {}   \n",
       "\n",
       "                   date                      pdf  identifier corporate  \\\n",
       "0   1970-01-01 00:30:41  {'1': 'lsidyv35c55757'}         196        {}   \n",
       "33  1970-01-01 00:30:41  {'1': 'lsidyv38fa87d5'}      249060        {}   \n",
       "138 1970-01-01 00:30:41  {'1': 'lsidyv3c4bbd67'}     1005994        {}   \n",
       "141 1970-01-01 00:30:41  {'1': 'lsidyv3cb7f1da'}     1061079        {}   \n",
       "233 1970-01-01 00:30:41  {'1': 'lsidyv3c347a87'}     2112441        {}   \n",
       "\n",
       "                            fulltext_filename  \\\n",
       "0    sample/full_texts/000000196_01_text.json   \n",
       "33   sample/full_texts/000249060_01_text.json   \n",
       "138  sample/full_texts/001005994_01_text.json   \n",
       "141  sample/full_texts/001061079_01_text.json   \n",
       "233  sample/full_texts/002112441_01_text.json   \n",
       "\n",
       "                                                  imgs  \n",
       "0                                                  NaN  \n",
       "33                  {'0': {'000027': ['11019234505']}}  \n",
       "138                                                NaN  \n",
       "141  {'0': {'000415': ['11224532573'], '000012': ['...  \n",
       "233                                                NaN  "
      ]
     },
     "execution_count": 202,
     "metadata": {},
     "output_type": "execute_result"
    }
   ],
   "source": [
    "# One condition\n",
    "books_df.loc[(books_df['datefield']=='1841')]"
   ]
  },
  {
   "cell_type": "code",
   "execution_count": 203,
   "metadata": {},
   "outputs": [
    {
     "data": {
      "text/html": [
       "<div>\n",
       "<style scoped>\n",
       "    .dataframe tbody tr th:only-of-type {\n",
       "        vertical-align: middle;\n",
       "    }\n",
       "\n",
       "    .dataframe tbody tr th {\n",
       "        vertical-align: top;\n",
       "    }\n",
       "\n",
       "    .dataframe thead th {\n",
       "        text-align: right;\n",
       "    }\n",
       "</style>\n",
       "<table border=\"1\" class=\"dataframe\">\n",
       "  <thead>\n",
       "    <tr style=\"text-align: right;\">\n",
       "      <th></th>\n",
       "      <th>datefield</th>\n",
       "      <th>shelfmarks</th>\n",
       "      <th>publisher</th>\n",
       "      <th>title</th>\n",
       "      <th>edition</th>\n",
       "      <th>flickr_url_to_book_images</th>\n",
       "      <th>place</th>\n",
       "      <th>issuance</th>\n",
       "      <th>authors</th>\n",
       "      <th>date</th>\n",
       "      <th>pdf</th>\n",
       "      <th>identifier</th>\n",
       "      <th>corporate</th>\n",
       "      <th>fulltext_filename</th>\n",
       "      <th>imgs</th>\n",
       "    </tr>\n",
       "  </thead>\n",
       "  <tbody>\n",
       "    <tr>\n",
       "      <th>0</th>\n",
       "      <td>1841</td>\n",
       "      <td>[British Library HMNTS 11601.ddd.2.]</td>\n",
       "      <td>Privately printed</td>\n",
       "      <td>[The Poetical Aviary, with a bird's-eye view o...</td>\n",
       "      <td></td>\n",
       "      <td>http://www.flickr.com/photos/britishlibrary/ta...</td>\n",
       "      <td>Calcutta</td>\n",
       "      <td>monographic</td>\n",
       "      <td>{'creator': ['A. A.']}</td>\n",
       "      <td>1970-01-01 00:30:41</td>\n",
       "      <td>{'1': 'lsidyv35c55757'}</td>\n",
       "      <td>196</td>\n",
       "      <td>{}</td>\n",
       "      <td>sample/full_texts/000000196_01_text.json</td>\n",
       "      <td>NaN</td>\n",
       "    </tr>\n",
       "    <tr>\n",
       "      <th>284</th>\n",
       "      <td>1899</td>\n",
       "      <td>[British Library HMNTS 11601.ddd.11.(6.)]</td>\n",
       "      <td>Privately printed</td>\n",
       "      <td>[Nightshades. [Poems.]]</td>\n",
       "      <td></td>\n",
       "      <td>http://www.flickr.com/photos/britishlibrary/ta...</td>\n",
       "      <td>Paris</td>\n",
       "      <td>monographic</td>\n",
       "      <td>{'creator': ['MONKSHOOD, G. F. - pseud. [i.e. ...</td>\n",
       "      <td>1970-01-01 00:31:39</td>\n",
       "      <td>{'1': 'lsidyv37212e0a'}</td>\n",
       "      <td>2527441</td>\n",
       "      <td>{}</td>\n",
       "      <td>sample/full_texts/002527441_01_text.json</td>\n",
       "      <td>NaN</td>\n",
       "    </tr>\n",
       "  </tbody>\n",
       "</table>\n",
       "</div>"
      ],
      "text/plain": [
       "    datefield                                 shelfmarks          publisher  \\\n",
       "0        1841       [British Library HMNTS 11601.ddd.2.]  Privately printed   \n",
       "284      1899  [British Library HMNTS 11601.ddd.11.(6.)]  Privately printed   \n",
       "\n",
       "                                                 title edition  \\\n",
       "0    [The Poetical Aviary, with a bird's-eye view o...           \n",
       "284                            [Nightshades. [Poems.]]           \n",
       "\n",
       "                             flickr_url_to_book_images     place     issuance  \\\n",
       "0    http://www.flickr.com/photos/britishlibrary/ta...  Calcutta  monographic   \n",
       "284  http://www.flickr.com/photos/britishlibrary/ta...     Paris  monographic   \n",
       "\n",
       "                                               authors                date  \\\n",
       "0                               {'creator': ['A. A.']} 1970-01-01 00:30:41   \n",
       "284  {'creator': ['MONKSHOOD, G. F. - pseud. [i.e. ... 1970-01-01 00:31:39   \n",
       "\n",
       "                         pdf  identifier corporate  \\\n",
       "0    {'1': 'lsidyv35c55757'}         196        {}   \n",
       "284  {'1': 'lsidyv37212e0a'}     2527441        {}   \n",
       "\n",
       "                            fulltext_filename imgs  \n",
       "0    sample/full_texts/000000196_01_text.json  NaN  \n",
       "284  sample/full_texts/002527441_01_text.json  NaN  "
      ]
     },
     "execution_count": 203,
     "metadata": {},
     "output_type": "execute_result"
    }
   ],
   "source": [
    "# Another condition\n",
    "books_df.loc[books_df['publisher']=='Privately printed']"
   ]
  },
  {
   "cell_type": "code",
   "execution_count": 204,
   "metadata": {},
   "outputs": [
    {
     "data": {
      "text/html": [
       "<div>\n",
       "<style scoped>\n",
       "    .dataframe tbody tr th:only-of-type {\n",
       "        vertical-align: middle;\n",
       "    }\n",
       "\n",
       "    .dataframe tbody tr th {\n",
       "        vertical-align: top;\n",
       "    }\n",
       "\n",
       "    .dataframe thead th {\n",
       "        text-align: right;\n",
       "    }\n",
       "</style>\n",
       "<table border=\"1\" class=\"dataframe\">\n",
       "  <thead>\n",
       "    <tr style=\"text-align: right;\">\n",
       "      <th></th>\n",
       "      <th>datefield</th>\n",
       "      <th>shelfmarks</th>\n",
       "      <th>publisher</th>\n",
       "      <th>title</th>\n",
       "      <th>edition</th>\n",
       "      <th>flickr_url_to_book_images</th>\n",
       "      <th>place</th>\n",
       "      <th>issuance</th>\n",
       "      <th>authors</th>\n",
       "      <th>date</th>\n",
       "      <th>pdf</th>\n",
       "      <th>identifier</th>\n",
       "      <th>corporate</th>\n",
       "      <th>fulltext_filename</th>\n",
       "      <th>imgs</th>\n",
       "    </tr>\n",
       "  </thead>\n",
       "  <tbody>\n",
       "    <tr>\n",
       "      <th>0</th>\n",
       "      <td>1841</td>\n",
       "      <td>[British Library HMNTS 11601.ddd.2.]</td>\n",
       "      <td>Privately printed</td>\n",
       "      <td>[The Poetical Aviary, with a bird's-eye view o...</td>\n",
       "      <td></td>\n",
       "      <td>http://www.flickr.com/photos/britishlibrary/ta...</td>\n",
       "      <td>Calcutta</td>\n",
       "      <td>monographic</td>\n",
       "      <td>{'creator': ['A. A.']}</td>\n",
       "      <td>1970-01-01 00:30:41</td>\n",
       "      <td>{'1': 'lsidyv35c55757'}</td>\n",
       "      <td>196</td>\n",
       "      <td>{}</td>\n",
       "      <td>sample/full_texts/000000196_01_text.json</td>\n",
       "      <td>NaN</td>\n",
       "    </tr>\n",
       "  </tbody>\n",
       "</table>\n",
       "</div>"
      ],
      "text/plain": [
       "  datefield                            shelfmarks          publisher  \\\n",
       "0      1841  [British Library HMNTS 11601.ddd.2.]  Privately printed   \n",
       "\n",
       "                                               title edition  \\\n",
       "0  [The Poetical Aviary, with a bird's-eye view o...           \n",
       "\n",
       "                           flickr_url_to_book_images     place     issuance  \\\n",
       "0  http://www.flickr.com/photos/britishlibrary/ta...  Calcutta  monographic   \n",
       "\n",
       "                  authors                date                      pdf  \\\n",
       "0  {'creator': ['A. A.']} 1970-01-01 00:30:41  {'1': 'lsidyv35c55757'}   \n",
       "\n",
       "   identifier corporate                         fulltext_filename imgs  \n",
       "0         196        {}  sample/full_texts/000000196_01_text.json  NaN  "
      ]
     },
     "execution_count": 204,
     "metadata": {},
     "output_type": "execute_result"
    }
   ],
   "source": [
    "# Both conditions\n",
    "books_df.loc[(books_df['datefield']=='1841')&(books_df['publisher']=='Privately printed')]"
   ]
  },
  {
   "cell_type": "markdown",
   "metadata": {},
   "source": [
    "Conditions can be combined using Boolean logic. We can thus for example search for:\n",
    "- Condition A **and** Condition B\n",
    "- Condition A **or** Condition B\n",
    "- Condition A **and not** Condition C\n",
    "- etc.\n",
    "\n",
    "The boolean operators are the same as in traditional Python: `&`, `|`, `not`, etc."
   ]
  },
  {
   "cell_type": "markdown",
   "metadata": {},
   "source": [
    "✏️ [Ex.10]\n",
    "\n",
    "Using the indexing structure we've just seen, try to find which book(s) obey the following conditions:\n",
    "\n",
    "- ✏️ 1° Published by 'John Murray' in 1856\n",
    "- ✏️ 2° Printed in London in 1818\n",
    "- ✏️ 3° Published between 1830 and 1848\n",
    "- ✏️ 4° Published by 'Longmans & Co.' or 'Henry Colburn'\n",
    "- ✏️ 5° Published in 1894 but not by 'W. Blackwood & Sons'"
   ]
  },
  {
   "cell_type": "code",
   "execution_count": null,
   "metadata": {},
   "outputs": [],
   "source": [
    "# your solution"
   ]
  },
  {
   "cell_type": "markdown",
   "metadata": {},
   "source": [
    "### NaN values\n",
    "\n",
    "Throughout your own research, you will most likely stumble upon instances where your data is incomplete: incomplete metadata from an external source, data manipulation exceptions that don't return a value, missing record. \n",
    "\n",
    "This will take the form of a cell containing a `None` or `numpy.nan` value.\n",
    "\n",
    "It is important to know how to filter them out (or in) in `pandas`, especially as they can mess up some functions you might want to apply to the whole dataframe.\n",
    "\n",
    "For example, let's take our earlier toy dataframe and remove one cell;"
   ]
  },
  {
   "cell_type": "code",
   "execution_count": 246,
   "metadata": {},
   "outputs": [],
   "source": [
    "toy_df.at[2, 'event'] = np.nan"
   ]
  },
  {
   "cell_type": "markdown",
   "metadata": {},
   "source": [
    "To find which rows are NA in a specific **column**, we use the following `.isna()` method.\n",
    "\n",
    "It returns a `series` of booleans telling whether the matching row has a nan value."
   ]
  },
  {
   "cell_type": "code",
   "execution_count": 249,
   "metadata": {},
   "outputs": [
    {
     "data": {
      "text/plain": [
       "0    False\n",
       "1    False\n",
       "2    False\n",
       "3    False\n",
       "4    False\n",
       "Name: event, dtype: bool"
      ]
     },
     "execution_count": 249,
     "metadata": {},
     "output_type": "execute_result"
    }
   ],
   "source": [
    "toy_df['event'].isna()"
   ]
  },
  {
   "cell_type": "markdown",
   "metadata": {},
   "source": [
    "Using our `.loc` operator, we can convert that to a subset of the dataframe:"
   ]
  },
  {
   "cell_type": "code",
   "execution_count": 250,
   "metadata": {},
   "outputs": [
    {
     "data": {
      "text/html": [
       "<div>\n",
       "<style scoped>\n",
       "    .dataframe tbody tr th:only-of-type {\n",
       "        vertical-align: middle;\n",
       "    }\n",
       "\n",
       "    .dataframe tbody tr th {\n",
       "        vertical-align: top;\n",
       "    }\n",
       "\n",
       "    .dataframe thead th {\n",
       "        text-align: right;\n",
       "    }\n",
       "</style>\n",
       "<table border=\"1\" class=\"dataframe\">\n",
       "  <thead>\n",
       "    <tr style=\"text-align: right;\">\n",
       "      <th></th>\n",
       "      <th>date</th>\n",
       "      <th>event</th>\n",
       "    </tr>\n",
       "  </thead>\n",
       "  <tbody>\n",
       "  </tbody>\n",
       "</table>\n",
       "</div>"
      ],
      "text/plain": [
       "Empty DataFrame\n",
       "Columns: [date, event]\n",
       "Index: []"
      ]
     },
     "execution_count": 250,
     "metadata": {},
     "output_type": "execute_result"
    }
   ],
   "source": [
    "toy_df.loc[toy_df['event'].isna()]"
   ]
  },
  {
   "cell_type": "markdown",
   "metadata": {},
   "source": [
    "Empty cells can be filled with one replacement value. For example here, we might want to prefer \"unknown\" to a NaN value.\n",
    "\n",
    "Be careful, `.fillna()` returns a `pandas.Series`, not a full dataframe. Therefore we use its output to recreate a column:"
   ]
  },
  {
   "cell_type": "code",
   "execution_count": 248,
   "metadata": {},
   "outputs": [
    {
     "data": {
      "text/html": [
       "<div>\n",
       "<style scoped>\n",
       "    .dataframe tbody tr th:only-of-type {\n",
       "        vertical-align: middle;\n",
       "    }\n",
       "\n",
       "    .dataframe tbody tr th {\n",
       "        vertical-align: top;\n",
       "    }\n",
       "\n",
       "    .dataframe thead th {\n",
       "        text-align: right;\n",
       "    }\n",
       "</style>\n",
       "<table border=\"1\" class=\"dataframe\">\n",
       "  <thead>\n",
       "    <tr style=\"text-align: right;\">\n",
       "      <th></th>\n",
       "      <th>date</th>\n",
       "      <th>event</th>\n",
       "    </tr>\n",
       "  </thead>\n",
       "  <tbody>\n",
       "    <tr>\n",
       "      <th>0</th>\n",
       "      <td>1970-05-23</td>\n",
       "      <td>birth</td>\n",
       "    </tr>\n",
       "    <tr>\n",
       "      <th>1</th>\n",
       "      <td>1978-07-14</td>\n",
       "      <td>anniversary</td>\n",
       "    </tr>\n",
       "    <tr>\n",
       "      <th>2</th>\n",
       "      <td>1986-03-14</td>\n",
       "      <td>unknown</td>\n",
       "    </tr>\n",
       "    <tr>\n",
       "      <th>3</th>\n",
       "      <td>1993-01-01</td>\n",
       "      <td>wedding</td>\n",
       "    </tr>\n",
       "    <tr>\n",
       "      <th>4</th>\n",
       "      <td>1998-07-14</td>\n",
       "      <td>anniversary</td>\n",
       "    </tr>\n",
       "  </tbody>\n",
       "</table>\n",
       "</div>"
      ],
      "text/plain": [
       "        date        event\n",
       "0 1970-05-23        birth\n",
       "1 1978-07-14  anniversary\n",
       "2 1986-03-14      unknown\n",
       "3 1993-01-01      wedding\n",
       "4 1998-07-14  anniversary"
      ]
     },
     "metadata": {},
     "output_type": "display_data"
    }
   ],
   "source": [
    "toy_df['event'] = toy_df['event'].fillna('unknown')\n",
    "\n",
    "display(toy_df)"
   ]
  },
  {
   "cell_type": "markdown",
   "metadata": {},
   "source": [
    "### Reindexing\n",
    "\n",
    "To change the value of one or more cells, you should know which rows are concerned by the change.\n",
    "Like earlier, this can come either:\n",
    "- from the precise row number (if you know beforehand which row/column cell you want to change)\n",
    "- from a certain condition being met (let's change all cells that start with 'unk', for example)\n",
    "\n",
    "The reindexing can be thought of as two distinct parts:\n",
    "- 1° knowing which rows to change;\n",
    "- 2° modifying the values of these rows for a specific column.\n",
    "\n",
    "To do this, use the following structure:\n",
    "\n",
    "`<dataframe>.loc[<dataframe>[<column_to_test>]==<value_to_check_for>, <column_to_change>] = <new_value>`"
   ]
  },
  {
   "cell_type": "markdown",
   "metadata": {},
   "source": [
    "Continuing with our toy dataframe, this expression selects all rows whose 'event' is 'birth':"
   ]
  },
  {
   "cell_type": "code",
   "execution_count": 252,
   "metadata": {},
   "outputs": [
    {
     "data": {
      "text/html": [
       "<div>\n",
       "<style scoped>\n",
       "    .dataframe tbody tr th:only-of-type {\n",
       "        vertical-align: middle;\n",
       "    }\n",
       "\n",
       "    .dataframe tbody tr th {\n",
       "        vertical-align: top;\n",
       "    }\n",
       "\n",
       "    .dataframe thead th {\n",
       "        text-align: right;\n",
       "    }\n",
       "</style>\n",
       "<table border=\"1\" class=\"dataframe\">\n",
       "  <thead>\n",
       "    <tr style=\"text-align: right;\">\n",
       "      <th></th>\n",
       "      <th>date</th>\n",
       "      <th>event</th>\n",
       "    </tr>\n",
       "  </thead>\n",
       "  <tbody>\n",
       "    <tr>\n",
       "      <th>3</th>\n",
       "      <td>1993-01-01</td>\n",
       "      <td>wedding</td>\n",
       "    </tr>\n",
       "  </tbody>\n",
       "</table>\n",
       "</div>"
      ],
      "text/plain": [
       "        date    event\n",
       "3 1993-01-01  wedding"
      ]
     },
     "execution_count": 252,
     "metadata": {},
     "output_type": "execute_result"
    }
   ],
   "source": [
    "toy_df.loc[toy_df['event']=='wedding']"
   ]
  },
  {
   "cell_type": "markdown",
   "metadata": {},
   "source": [
    "Let's say you may want to change that into 'marriage':"
   ]
  },
  {
   "cell_type": "code",
   "execution_count": 253,
   "metadata": {},
   "outputs": [],
   "source": [
    "toy_df.loc[toy_df['event']=='wedding', 'event'] = 'marriage'"
   ]
  },
  {
   "cell_type": "markdown",
   "metadata": {},
   "source": [
    "But again, the testing column doesn't have to be the one you change.\n",
    "\n",
    "More generally, this is:\n",
    "`<dataframe>.loc[<condition>, <column_to_change>] = <new_value>`\n",
    "\n",
    "For example, say I want to change my last name in our earlier dataframe:"
   ]
  },
  {
   "cell_type": "code",
   "execution_count": 257,
   "metadata": {},
   "outputs": [
    {
     "data": {
      "text/html": [
       "<div>\n",
       "<style scoped>\n",
       "    .dataframe tbody tr th:only-of-type {\n",
       "        vertical-align: middle;\n",
       "    }\n",
       "\n",
       "    .dataframe tbody tr th {\n",
       "        vertical-align: top;\n",
       "    }\n",
       "\n",
       "    .dataframe thead th {\n",
       "        text-align: right;\n",
       "    }\n",
       "</style>\n",
       "<table border=\"1\" class=\"dataframe\">\n",
       "  <thead>\n",
       "    <tr style=\"text-align: right;\">\n",
       "      <th></th>\n",
       "      <th>date</th>\n",
       "      <th>event</th>\n",
       "      <th>author_firstname</th>\n",
       "      <th>author_lastname</th>\n",
       "      <th>day_name</th>\n",
       "    </tr>\n",
       "  </thead>\n",
       "  <tbody>\n",
       "    <tr>\n",
       "      <th>0</th>\n",
       "      <td>1925-10-22</td>\n",
       "      <td>wedding</td>\n",
       "      <td>paul</td>\n",
       "      <td>Robert</td>\n",
       "      <td>Thursday</td>\n",
       "    </tr>\n",
       "    <tr>\n",
       "      <th>1</th>\n",
       "      <td>1900-11-20</td>\n",
       "      <td>anniversary</td>\n",
       "      <td>paul</td>\n",
       "      <td>Robert</td>\n",
       "      <td>Tuesday</td>\n",
       "    </tr>\n",
       "    <tr>\n",
       "      <th>2</th>\n",
       "      <td>1998-01-08</td>\n",
       "      <td>birth</td>\n",
       "      <td>paul</td>\n",
       "      <td>Robert</td>\n",
       "      <td>Thursday</td>\n",
       "    </tr>\n",
       "    <tr>\n",
       "      <th>3</th>\n",
       "      <td>1905-08-22</td>\n",
       "      <td>wedding</td>\n",
       "      <td>paul</td>\n",
       "      <td>Robert</td>\n",
       "      <td>Tuesday</td>\n",
       "    </tr>\n",
       "    <tr>\n",
       "      <th>4</th>\n",
       "      <td>1978-09-17</td>\n",
       "      <td>anniversary</td>\n",
       "      <td>paul</td>\n",
       "      <td>Robert</td>\n",
       "      <td>Sunday</td>\n",
       "    </tr>\n",
       "    <tr>\n",
       "      <th>...</th>\n",
       "      <td>...</td>\n",
       "      <td>...</td>\n",
       "      <td>...</td>\n",
       "      <td>...</td>\n",
       "      <td>...</td>\n",
       "    </tr>\n",
       "    <tr>\n",
       "      <th>195</th>\n",
       "      <td>1904-02-19</td>\n",
       "      <td>anniversary</td>\n",
       "      <td>paul</td>\n",
       "      <td>Robert</td>\n",
       "      <td>Friday</td>\n",
       "    </tr>\n",
       "    <tr>\n",
       "      <th>196</th>\n",
       "      <td>1956-01-04</td>\n",
       "      <td>anniversary</td>\n",
       "      <td>paul</td>\n",
       "      <td>Robert</td>\n",
       "      <td>Wednesday</td>\n",
       "    </tr>\n",
       "    <tr>\n",
       "      <th>197</th>\n",
       "      <td>1908-04-04</td>\n",
       "      <td>anniversary</td>\n",
       "      <td>paul</td>\n",
       "      <td>Robert</td>\n",
       "      <td>Saturday</td>\n",
       "    </tr>\n",
       "    <tr>\n",
       "      <th>198</th>\n",
       "      <td>1929-07-07</td>\n",
       "      <td>anniversary</td>\n",
       "      <td>paul</td>\n",
       "      <td>Robert</td>\n",
       "      <td>Sunday</td>\n",
       "    </tr>\n",
       "    <tr>\n",
       "      <th>199</th>\n",
       "      <td>1993-06-28</td>\n",
       "      <td>wedding</td>\n",
       "      <td>paul</td>\n",
       "      <td>Robert</td>\n",
       "      <td>Monday</td>\n",
       "    </tr>\n",
       "  </tbody>\n",
       "</table>\n",
       "<p>200 rows × 5 columns</p>\n",
       "</div>"
      ],
      "text/plain": [
       "          date        event author_firstname author_lastname   day_name\n",
       "0   1925-10-22      wedding             paul          Robert   Thursday\n",
       "1   1900-11-20  anniversary             paul          Robert    Tuesday\n",
       "2   1998-01-08        birth             paul          Robert   Thursday\n",
       "3   1905-08-22      wedding             paul          Robert    Tuesday\n",
       "4   1978-09-17  anniversary             paul          Robert     Sunday\n",
       "..         ...          ...              ...             ...        ...\n",
       "195 1904-02-19  anniversary             paul          Robert     Friday\n",
       "196 1956-01-04  anniversary             paul          Robert  Wednesday\n",
       "197 1908-04-04  anniversary             paul          Robert   Saturday\n",
       "198 1929-07-07  anniversary             paul          Robert     Sunday\n",
       "199 1993-06-28      wedding             paul          Robert     Monday\n",
       "\n",
       "[200 rows x 5 columns]"
      ]
     },
     "metadata": {},
     "output_type": "display_data"
    }
   ],
   "source": [
    "df.loc[df.author_firstname=='paul', 'author_lastname'] = 'Robert'\n",
    "\n",
    "display(df)"
   ]
  },
  {
   "cell_type": "markdown",
   "metadata": {},
   "source": [
    "✏️ [Ex. 11]\n",
    "\n",
    "In this exercise, we will combine what we've seen on Indexing, Detecting NA values, and Reindexing.\n",
    "\n",
    "The dataframe of books that was opened from a JSON earlier `books_df` contains information on which is the identifier to a first page scan. This information is in the column `imgs`.\n",
    "In some cases however, the image does not exist and the cell is empty.\n",
    "\n",
    "- ✏️ Find how many books do not have an image (column `imgs`)\n",
    "- ✏️ Find which books do not have an image\n",
    "- ✏️ (Advanced) Find which are the top four geographical origin for books without an image."
   ]
  },
  {
   "cell_type": "code",
   "execution_count": null,
   "metadata": {},
   "outputs": [],
   "source": [
    "# your solution"
   ]
  },
  {
   "cell_type": "markdown",
   "metadata": {},
   "source": [
    "### Iterating\n",
    "\n",
    "As a rule of thumb, one should prioritise any data manipulation that can be performed in one shot. `pandas.DataFrame` are ineffecient objects for frequent modification. \n",
    "\n",
    "However, there are scenarios where you may want to iterate over the rows of the dataframe. For example, to perform row-wise tests or manipulation that require access to more than one column.\n",
    "\n",
    "To do that, the `.iterrows()` method (for \"iterration over rows\") should be used. \n",
    "\n",
    "Just like an `enumerate` in traditional python, the `.iterrows()` method will return two elements at each iteration:\n",
    "- the index of the row (between 0 and the length of the dataframe);\n",
    "- the row corresponding to that iteration.\n",
    "\n",
    "That row is a `pandas.Series`. It acts a bit like a python `dictionary` and the value for a specific column is accessed through:\n",
    "`row[<column>]`\n",
    "\n"
   ]
  },
  {
   "cell_type": "code",
   "execution_count": 264,
   "metadata": {},
   "outputs": [
    {
     "name": "stdout",
     "output_type": "stream",
     "text": [
      "The event at index 0 is: birth\n",
      "The event at index 1 is: anniversary\n",
      "The event at index 2 is: unknown\n",
      "The event at index 3 is: marriage\n",
      "The event at index 4 is: anniversary\n"
     ]
    }
   ],
   "source": [
    "for index, row in toy_df.iterrows():\n",
    "    print('The event at index', index, 'is:', row['event'])"
   ]
  },
  {
   "cell_type": "markdown",
   "metadata": {},
   "source": [
    "✏️ [Ex. 12]\n",
    "\n",
    "Here we will combine iteration, and `datetime` and `str` accessors. By iterating over the `toy_df` dataframe:\n",
    "\n",
    "- ✏️ Print the date of each row as well\n",
    "- ✏️ Print the day of the week that each date corresponds to\n",
    "- ✏️ Print whether the event starts with 'bir'"
   ]
  },
  {
   "cell_type": "code",
   "execution_count": null,
   "metadata": {},
   "outputs": [],
   "source": [
    "# your solution"
   ]
  },
  {
   "cell_type": "markdown",
   "metadata": {},
   "source": [
    "**Dataset**\n",
    "\n",
    "For this excercise, we will be working with an open-access data from a DH research project: the [*Shakespeare and Company project*](https://shakespeareandco.princeton.edu/).\n",
    "\n",
    "The dataset we'll be using contains the list of books that were lent out in the 20th century by the celebrated *Shakespeare and Company* library in Paris.\n",
    "\n",
    "The dataset can be downloaded from the following address:https://dataspace.princeton.edu/handle/88435/dsp01jm214s28p (file size = ~2MB).\n",
    "\n",
    "You may use CSV or JSON:\n",
    "- the CSV file will only contain `str`, `float` and `int`;\n",
    "- whereas the JSON file will contain `lists`.\n",
    "\n",
    "The choice will be one of comfort. Pick whichever yields the datatypes you are more comfortable with.\n",
    " \n",
    "**Steps**\n",
    "\n",
    "Start by loading the file it into a `pandas.DataFrame` called \"SCo\"\n",
    "\n",
    "**Try to answer the following questions**\n",
    "- 1° How many records does it contain?\n",
    "\n",
    "\n",
    "- 2° What's the format(s) of the **most purchased** document(s)? How many times was it/where they purchased?\n",
    "- 3° What's the format(s) of the **least borrowed** document(s)? How many times was it/where they borrowed?\n",
    "\n",
    "- 4° Which is the most borrowed **book**? How many times was it borrowed?\n",
    "\n",
    "- 5° How many 'Poems' are there in collection? What is the earliest one? How many don't have a date?\n",
    "\n",
    "- 6° Replace the empty cells in the `circulation_year` column with \"unknown\".\n",
    "- 7° Find which books were in circulation in 1951\n",
    "- 8° (Advanced) By iterating over the rows of the dataframe, create a dictionnary of dates that gives how many books from the datafram were in circulation that year."
   ]
  },
  {
   "cell_type": "code",
   "execution_count": null,
   "metadata": {},
   "outputs": [],
   "source": [
    "# your solution"
   ]
  }
 ],
 "metadata": {
  "kernelspec": {
   "display_name": "dhoxss",
   "language": "python",
   "name": "python3"
  },
  "language_info": {
   "codemirror_mode": {
    "name": "ipython",
    "version": 3
   },
   "file_extension": ".py",
   "mimetype": "text/x-python",
   "name": "python",
   "nbconvert_exporter": "python",
   "pygments_lexer": "ipython3",
   "version": "3.12.4"
  }
 },
 "nbformat": 4,
 "nbformat_minor": 2
}
