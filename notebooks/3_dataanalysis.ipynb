{
 "cells": [
  {
   "cell_type": "markdown",
   "id": "ae127746",
   "metadata": {},
   "source": [
    "# Chapter III - Pandas (Data Analysis)"
   ]
  },
  {
   "cell_type": "markdown",
   "id": "6cca023a",
   "metadata": {},
   "source": [
    "In this notebook we will cover how to leverage other inbuilt methods of `pandas`, to perform:\n",
    "- statistical description\n",
    "- data analysis\n",
    "- plotting (hist/scatter/boxplot)"
   ]
  },
  {
   "cell_type": "code",
   "execution_count": null,
   "id": "6c21a839",
   "metadata": {},
   "outputs": [],
   "source": [
    "import pandas as pd\n",
    "import matplotlib.pyplot as plt"
   ]
  },
  {
   "cell_type": "markdown",
   "id": "d5cc9342",
   "metadata": {},
   "source": [
    "Let's resume things from where we've left them. We load back the dataframe that we had exported at the end of the previous notebook."
   ]
  },
  {
   "cell_type": "code",
   "execution_count": null,
   "id": "fbc13695",
   "metadata": {},
   "outputs": [],
   "source": [
    "df = pd.read_csv('df_museum_tweets.csv')"
   ]
  },
  {
   "cell_type": "markdown",
   "id": "2204bdf1",
   "metadata": {},
   "source": [
    "## Section (1): The `.describe()` method\n",
    "\n",
    "The `.describe()` method is a very handy tool, that provides summary statistics at a glance:"
   ]
  },
  {
   "cell_type": "code",
   "execution_count": null,
   "id": "12b63638",
   "metadata": {},
   "outputs": [],
   "source": [
    "df.describe()"
   ]
  },
  {
   "cell_type": "markdown",
   "id": "4241199c",
   "metadata": {},
   "source": [
    "❓ Why are some columns missing in the summary table?"
   ]
  },
  {
   "cell_type": "markdown",
   "id": "a27a1b3c",
   "metadata": {},
   "source": [
    "- To include all columns, you may use:"
   ]
  },
  {
   "cell_type": "code",
   "execution_count": null,
   "id": "cc3f4104",
   "metadata": {},
   "outputs": [],
   "source": [
    "df.describe(include='all')"
   ]
  },
  {
   "cell_type": "markdown",
   "id": "fad3a72c",
   "metadata": {},
   "source": [
    "- ❓ How would you access the descriptive statistics of _one_ column?\n",
    "- ❓ What is the datatype of such stats for _one_ column?"
   ]
  },
  {
   "cell_type": "code",
   "execution_count": null,
   "id": "d6cc95a7",
   "metadata": {},
   "outputs": [],
   "source": [
    "# your answer here:"
   ]
  },
  {
   "cell_type": "markdown",
   "id": "5b7ac342",
   "metadata": {},
   "source": [
    "## Section (2): `pandas` plotting"
   ]
  },
  {
   "cell_type": "markdown",
   "id": "e8d3b2bb",
   "metadata": {},
   "source": [
    "A properly structured `DataFrame`, with adequate datatypes, makes plotting really easy and fast.\n",
    "\n",
    "There are two ways to tackle plotting the data in a dataframe column:\n",
    "\n",
    "- (1) Extract the column and plot it using embedded methods.\n",
    "    ```python\n",
    "        df['ColumnToPlot'].plot()\n",
    "    ```\n",
    "- (2) Plot the dataframe using embedded methods, specifying in the arguments which columns you want to represent.\n",
    "    ```python\n",
    "        df.plot(column='ColumnToPlot')\n",
    "    ```\n",
    "These two possibilities are equivalent most of the time. (As your plot becomes more complex, you might however want to prefer the second option which allows to leverage other columns as well.)\n",
    "\n",
    "❗ Generally, unless all your columns are numerical values of comparable meaning, you will need to specify which kind of plot you want: \n",
    "- bar\n",
    "- scatter\n",
    "- hist\n",
    "- box\n",
    "- etc.\n",
    "\n",
    "<img src='../data//pandas_plot.png' width='1200px'>"
   ]
  },
  {
   "cell_type": "markdown",
   "id": "ce3a4b99",
   "metadata": {},
   "source": [
    "### A) Basic plotting"
   ]
  },
  {
   "cell_type": "markdown",
   "id": "b7c3c5ad",
   "metadata": {},
   "source": [
    "As a first example, to plot a histogram of the number of words in the tweets, you can use:\n",
    "- method (1)\n",
    "    ``` python\n",
    "    df['tweet_nbwords'].plot.hist()\n",
    "    ```\n",
    "- method (2)\n",
    "    ``` python\n",
    "    df.plot.hist(column='tweet_nbwords')\n",
    "    ```\n",
    "\n",
    "Try both methods! \n",
    "\n",
    "- ❓ Where would you specify the number of bins, by passing the argument `bins=100` in the method?\n",
    "- ❓ What if you wanted to do a scatter plot? For example comparing the number of words to the number of mentions? You might need the arguments `x=` and `y=`."
   ]
  },
  {
   "cell_type": "code",
   "execution_count": null,
   "id": "111d799e",
   "metadata": {},
   "outputs": [],
   "source": [
    "# Your answer here:"
   ]
  },
  {
   "cell_type": "markdown",
   "id": "845fbd82",
   "metadata": {},
   "source": [
    "✏️ [Ex.1] Using different elements from past notebooks:\n",
    "- Convert the \"created_at\" column into a `pd.datetime` datatype\n",
    "- Produce a scatter plot of the tweet length vs. date\n",
    "- Plot a histogram of the tweet length.\n",
    "- Use the graph to investigate which tweets are the longest, and why?\n",
    "- ❓ What about the 140-character limit? Is this applicable here? Why not?\n"
   ]
  },
  {
   "cell_type": "code",
   "execution_count": null,
   "id": "23ed3fcd",
   "metadata": {},
   "outputs": [],
   "source": [
    "# your answer here:"
   ]
  },
  {
   "cell_type": "markdown",
   "id": "c2cb64fe",
   "metadata": {},
   "source": [
    "---"
   ]
  },
  {
   "cell_type": "markdown",
   "id": "a01c6639",
   "metadata": {},
   "source": [
    "### B) Multi-variable plotting"
   ]
  },
  {
   "cell_type": "markdown",
   "id": "3db43577",
   "metadata": {},
   "source": [
    "Like the `.groupby()` logic, you might want to compare at once the evolution of one variable accoring to another one. This can be easily done in `pandas`.\n",
    "\n",
    "For example, to plot a histogram of the hour at which tweets are published is done by:\n",
    "    \n",
    "```python\n",
    "    df.hist(column='hour')\n",
    "```"
   ]
  },
  {
   "cell_type": "code",
   "execution_count": null,
   "id": "f359598f",
   "metadata": {},
   "outputs": [],
   "source": [
    "df.hist(column='hour')"
   ]
  },
  {
   "cell_type": "markdown",
   "id": "a1ef41f5",
   "metadata": {},
   "source": [
    "But if you modify the arguments of method, and specify the `by=` parameter:\n",
    "    \n",
    "```python\n",
    "    df.hist(column='hour', by='day')\n",
    "```\n",
    "\n",
    "You plot as many histograms as there are values of `day`."
   ]
  },
  {
   "cell_type": "code",
   "execution_count": null,
   "id": "e3bafbd8",
   "metadata": {},
   "outputs": [],
   "source": [
    "df.hist(column='hour', by='day')"
   ]
  },
  {
   "cell_type": "markdown",
   "id": "deb8413b",
   "metadata": {},
   "source": [
    "### C) Boxplots\n",
    "\n",
    "For scenarios which require a finer statistical analysis of the data, boxplots are often a good choice as they represent:\n",
    "- median\n",
    "- 25th and 75th percentiles\n",
    "- upper and lower whisker ends\n",
    "- outliers\n",
    "\n",
    "To show the boxplot (or whisker plot) of one variable, you can do the following:\n",
    "```python\n",
    "    df[['Variable']].boxplot()\n",
    "```"
   ]
  },
  {
   "cell_type": "code",
   "execution_count": null,
   "id": "e227bcfd",
   "metadata": {},
   "outputs": [],
   "source": [
    "df[['tweet_length']].boxplot()"
   ]
  },
  {
   "cell_type": "markdown",
   "id": "76cfdb8e",
   "metadata": {},
   "source": [
    "But you can have that same multi-variable logic, and thus get as many whisker plots of variable A as there values of variable B.\n",
    "\n",
    "For example, if we want to show the statistics of the tweet length by day of the week, we can do:\n",
    "```python\n",
    "    df[['tweet_length', 'day']].boxplot(by='day')\n",
    "```"
   ]
  },
  {
   "cell_type": "code",
   "execution_count": null,
   "id": "9590415d",
   "metadata": {},
   "outputs": [],
   "source": [
    "df[['tweet_length', 'day']].boxplot(by='day')"
   ]
  }
 ],
 "metadata": {
  "kernelspec": {
   "display_name": "dhoxss",
   "language": "python",
   "name": "python3"
  },
  "language_info": {
   "codemirror_mode": {
    "name": "ipython",
    "version": 3
   },
   "file_extension": ".py",
   "mimetype": "text/x-python",
   "name": "python",
   "nbconvert_exporter": "python",
   "pygments_lexer": "ipython3",
   "version": "3.12.4"
  }
 },
 "nbformat": 4,
 "nbformat_minor": 5
}
