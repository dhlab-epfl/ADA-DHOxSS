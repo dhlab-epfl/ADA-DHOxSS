{
 "cells": [
  {
   "cell_type": "markdown",
   "id": "ae127746",
   "metadata": {},
   "source": [
    "# Chapter III - Pandas (Data Analysis)"
   ]
  },
  {
   "cell_type": "markdown",
   "id": "6cca023a",
   "metadata": {},
   "source": [
    "In this notebook we will cover how to leverage other inbuilt methods of `pandas`, to perform:\n",
    "- statistical description\n",
    "- data analysis\n",
    "- plotting (hist/scatter/boxplot)"
   ]
  },
  {
   "cell_type": "code",
   "execution_count": 36,
   "id": "6c21a839",
   "metadata": {},
   "outputs": [],
   "source": [
    "import pandas as pd\n",
    "import matplotlib.pyplot as plt"
   ]
  },
  {
   "cell_type": "markdown",
   "id": "d5cc9342",
   "metadata": {},
   "source": [
    "Let's resume things from where we've left them. We load back the dataframe that we had exported at the end of the previous notebook."
   ]
  },
  {
   "cell_type": "code",
   "execution_count": 2,
   "id": "fbc13695",
   "metadata": {},
   "outputs": [],
   "source": [
    "df = pd.read_csv('df_musk_final.csv')"
   ]
  },
  {
   "cell_type": "markdown",
   "id": "2204bdf1",
   "metadata": {},
   "source": [
    "## Section (1): The `.describe()` method\n",
    "\n",
    "The `.describe()` method is a very handy tool, that provides summary statistics at a glance:"
   ]
  },
  {
   "cell_type": "code",
   "execution_count": 4,
   "id": "12b63638",
   "metadata": {},
   "outputs": [
    {
     "data": {
      "text/html": [
       "<div>\n",
       "<style scoped>\n",
       "    .dataframe tbody tr th:only-of-type {\n",
       "        vertical-align: middle;\n",
       "    }\n",
       "\n",
       "    .dataframe tbody tr th {\n",
       "        vertical-align: top;\n",
       "    }\n",
       "\n",
       "    .dataframe thead th {\n",
       "        text-align: right;\n",
       "    }\n",
       "</style>\n",
       "<table border=\"1\" class=\"dataframe\">\n",
       "  <thead>\n",
       "    <tr style=\"text-align: right;\">\n",
       "      <th></th>\n",
       "      <th>id</th>\n",
       "      <th>hour</th>\n",
       "      <th>tweet_length</th>\n",
       "      <th>tweet_nbwords</th>\n",
       "      <th>tweet_nbmentions</th>\n",
       "    </tr>\n",
       "  </thead>\n",
       "  <tbody>\n",
       "    <tr>\n",
       "      <th>count</th>\n",
       "      <td>2.819000e+03</td>\n",
       "      <td>2819.000000</td>\n",
       "      <td>2819.000000</td>\n",
       "      <td>2819.000000</td>\n",
       "      <td>2819.000000</td>\n",
       "    </tr>\n",
       "    <tr>\n",
       "      <th>mean</th>\n",
       "      <td>5.804848e+17</td>\n",
       "      <td>12.782547</td>\n",
       "      <td>100.408301</td>\n",
       "      <td>14.739979</td>\n",
       "      <td>0.789287</td>\n",
       "    </tr>\n",
       "    <tr>\n",
       "      <th>std</th>\n",
       "      <td>2.186404e+17</td>\n",
       "      <td>7.611198</td>\n",
       "      <td>40.551604</td>\n",
       "      <td>6.788773</td>\n",
       "      <td>0.849338</td>\n",
       "    </tr>\n",
       "    <tr>\n",
       "      <th>min</th>\n",
       "      <td>1.543473e+10</td>\n",
       "      <td>0.000000</td>\n",
       "      <td>4.000000</td>\n",
       "      <td>1.000000</td>\n",
       "      <td>0.000000</td>\n",
       "    </tr>\n",
       "    <tr>\n",
       "      <th>25%</th>\n",
       "      <td>3.506818e+17</td>\n",
       "      <td>5.000000</td>\n",
       "      <td>68.000000</td>\n",
       "      <td>9.000000</td>\n",
       "      <td>0.000000</td>\n",
       "    </tr>\n",
       "    <tr>\n",
       "      <th>50%</th>\n",
       "      <td>6.569719e+17</td>\n",
       "      <td>15.000000</td>\n",
       "      <td>111.000000</td>\n",
       "      <td>16.000000</td>\n",
       "      <td>1.000000</td>\n",
       "    </tr>\n",
       "    <tr>\n",
       "      <th>75%</th>\n",
       "      <td>7.704732e+17</td>\n",
       "      <td>19.000000</td>\n",
       "      <td>132.000000</td>\n",
       "      <td>20.000000</td>\n",
       "      <td>1.000000</td>\n",
       "    </tr>\n",
       "    <tr>\n",
       "      <th>max</th>\n",
       "      <td>8.496369e+17</td>\n",
       "      <td>23.000000</td>\n",
       "      <td>262.000000</td>\n",
       "      <td>31.000000</td>\n",
       "      <td>6.000000</td>\n",
       "    </tr>\n",
       "  </tbody>\n",
       "</table>\n",
       "</div>"
      ],
      "text/plain": [
       "                 id         hour  tweet_length  tweet_nbwords  \\\n",
       "count  2.819000e+03  2819.000000   2819.000000    2819.000000   \n",
       "mean   5.804848e+17    12.782547    100.408301      14.739979   \n",
       "std    2.186404e+17     7.611198     40.551604       6.788773   \n",
       "min    1.543473e+10     0.000000      4.000000       1.000000   \n",
       "25%    3.506818e+17     5.000000     68.000000       9.000000   \n",
       "50%    6.569719e+17    15.000000    111.000000      16.000000   \n",
       "75%    7.704732e+17    19.000000    132.000000      20.000000   \n",
       "max    8.496369e+17    23.000000    262.000000      31.000000   \n",
       "\n",
       "       tweet_nbmentions  \n",
       "count       2819.000000  \n",
       "mean           0.789287  \n",
       "std            0.849338  \n",
       "min            0.000000  \n",
       "25%            0.000000  \n",
       "50%            1.000000  \n",
       "75%            1.000000  \n",
       "max            6.000000  "
      ]
     },
     "execution_count": 4,
     "metadata": {},
     "output_type": "execute_result"
    }
   ],
   "source": [
    "df.describe()"
   ]
  },
  {
   "cell_type": "markdown",
   "id": "4241199c",
   "metadata": {},
   "source": [
    "❓ Why are some columns missing in the summary table?"
   ]
  },
  {
   "cell_type": "markdown",
   "id": "a27a1b3c",
   "metadata": {},
   "source": [
    "- To include all columns, you may use:"
   ]
  },
  {
   "cell_type": "code",
   "execution_count": 5,
   "id": "cc3f4104",
   "metadata": {},
   "outputs": [
    {
     "data": {
      "text/html": [
       "<div>\n",
       "<style scoped>\n",
       "    .dataframe tbody tr th:only-of-type {\n",
       "        vertical-align: middle;\n",
       "    }\n",
       "\n",
       "    .dataframe tbody tr th {\n",
       "        vertical-align: top;\n",
       "    }\n",
       "\n",
       "    .dataframe thead th {\n",
       "        text-align: right;\n",
       "    }\n",
       "</style>\n",
       "<table border=\"1\" class=\"dataframe\">\n",
       "  <thead>\n",
       "    <tr style=\"text-align: right;\">\n",
       "      <th></th>\n",
       "      <th>id</th>\n",
       "      <th>created_at</th>\n",
       "      <th>tweet</th>\n",
       "      <th>day</th>\n",
       "      <th>hour</th>\n",
       "      <th>tweet_length</th>\n",
       "      <th>tweet_link</th>\n",
       "      <th>tweet_nbwords</th>\n",
       "      <th>tweet_mentions</th>\n",
       "      <th>tweet_nbmentions</th>\n",
       "    </tr>\n",
       "  </thead>\n",
       "  <tbody>\n",
       "    <tr>\n",
       "      <th>count</th>\n",
       "      <td>2.819000e+03</td>\n",
       "      <td>2819</td>\n",
       "      <td>2819</td>\n",
       "      <td>2819</td>\n",
       "      <td>2819.000000</td>\n",
       "      <td>2819.000000</td>\n",
       "      <td>2819</td>\n",
       "      <td>2819.000000</td>\n",
       "      <td>1645</td>\n",
       "      <td>2819.000000</td>\n",
       "    </tr>\n",
       "    <tr>\n",
       "      <th>unique</th>\n",
       "      <td>NaN</td>\n",
       "      <td>2819</td>\n",
       "      <td>2819</td>\n",
       "      <td>7</td>\n",
       "      <td>NaN</td>\n",
       "      <td>NaN</td>\n",
       "      <td>2819</td>\n",
       "      <td>NaN</td>\n",
       "      <td>1217</td>\n",
       "      <td>NaN</td>\n",
       "    </tr>\n",
       "    <tr>\n",
       "      <th>top</th>\n",
       "      <td>NaN</td>\n",
       "      <td>2017-04-05 14:56:29</td>\n",
       "      <td>b'And so the robots spared humanity ... https:...</td>\n",
       "      <td>Friday</td>\n",
       "      <td>NaN</td>\n",
       "      <td>NaN</td>\n",
       "      <td>https://x.com/i/web/status/849636868052275200</td>\n",
       "      <td>NaN</td>\n",
       "      <td>@SpaceX:</td>\n",
       "      <td>NaN</td>\n",
       "    </tr>\n",
       "    <tr>\n",
       "      <th>freq</th>\n",
       "      <td>NaN</td>\n",
       "      <td>1</td>\n",
       "      <td>1</td>\n",
       "      <td>530</td>\n",
       "      <td>NaN</td>\n",
       "      <td>NaN</td>\n",
       "      <td>1</td>\n",
       "      <td>NaN</td>\n",
       "      <td>75</td>\n",
       "      <td>NaN</td>\n",
       "    </tr>\n",
       "    <tr>\n",
       "      <th>mean</th>\n",
       "      <td>5.804848e+17</td>\n",
       "      <td>NaN</td>\n",
       "      <td>NaN</td>\n",
       "      <td>NaN</td>\n",
       "      <td>12.782547</td>\n",
       "      <td>100.408301</td>\n",
       "      <td>NaN</td>\n",
       "      <td>14.739979</td>\n",
       "      <td>NaN</td>\n",
       "      <td>0.789287</td>\n",
       "    </tr>\n",
       "    <tr>\n",
       "      <th>std</th>\n",
       "      <td>2.186404e+17</td>\n",
       "      <td>NaN</td>\n",
       "      <td>NaN</td>\n",
       "      <td>NaN</td>\n",
       "      <td>7.611198</td>\n",
       "      <td>40.551604</td>\n",
       "      <td>NaN</td>\n",
       "      <td>6.788773</td>\n",
       "      <td>NaN</td>\n",
       "      <td>0.849338</td>\n",
       "    </tr>\n",
       "    <tr>\n",
       "      <th>min</th>\n",
       "      <td>1.543473e+10</td>\n",
       "      <td>NaN</td>\n",
       "      <td>NaN</td>\n",
       "      <td>NaN</td>\n",
       "      <td>0.000000</td>\n",
       "      <td>4.000000</td>\n",
       "      <td>NaN</td>\n",
       "      <td>1.000000</td>\n",
       "      <td>NaN</td>\n",
       "      <td>0.000000</td>\n",
       "    </tr>\n",
       "    <tr>\n",
       "      <th>25%</th>\n",
       "      <td>3.506818e+17</td>\n",
       "      <td>NaN</td>\n",
       "      <td>NaN</td>\n",
       "      <td>NaN</td>\n",
       "      <td>5.000000</td>\n",
       "      <td>68.000000</td>\n",
       "      <td>NaN</td>\n",
       "      <td>9.000000</td>\n",
       "      <td>NaN</td>\n",
       "      <td>0.000000</td>\n",
       "    </tr>\n",
       "    <tr>\n",
       "      <th>50%</th>\n",
       "      <td>6.569719e+17</td>\n",
       "      <td>NaN</td>\n",
       "      <td>NaN</td>\n",
       "      <td>NaN</td>\n",
       "      <td>15.000000</td>\n",
       "      <td>111.000000</td>\n",
       "      <td>NaN</td>\n",
       "      <td>16.000000</td>\n",
       "      <td>NaN</td>\n",
       "      <td>1.000000</td>\n",
       "    </tr>\n",
       "    <tr>\n",
       "      <th>75%</th>\n",
       "      <td>7.704732e+17</td>\n",
       "      <td>NaN</td>\n",
       "      <td>NaN</td>\n",
       "      <td>NaN</td>\n",
       "      <td>19.000000</td>\n",
       "      <td>132.000000</td>\n",
       "      <td>NaN</td>\n",
       "      <td>20.000000</td>\n",
       "      <td>NaN</td>\n",
       "      <td>1.000000</td>\n",
       "    </tr>\n",
       "    <tr>\n",
       "      <th>max</th>\n",
       "      <td>8.496369e+17</td>\n",
       "      <td>NaN</td>\n",
       "      <td>NaN</td>\n",
       "      <td>NaN</td>\n",
       "      <td>23.000000</td>\n",
       "      <td>262.000000</td>\n",
       "      <td>NaN</td>\n",
       "      <td>31.000000</td>\n",
       "      <td>NaN</td>\n",
       "      <td>6.000000</td>\n",
       "    </tr>\n",
       "  </tbody>\n",
       "</table>\n",
       "</div>"
      ],
      "text/plain": [
       "                  id           created_at  \\\n",
       "count   2.819000e+03                 2819   \n",
       "unique           NaN                 2819   \n",
       "top              NaN  2017-04-05 14:56:29   \n",
       "freq             NaN                    1   \n",
       "mean    5.804848e+17                  NaN   \n",
       "std     2.186404e+17                  NaN   \n",
       "min     1.543473e+10                  NaN   \n",
       "25%     3.506818e+17                  NaN   \n",
       "50%     6.569719e+17                  NaN   \n",
       "75%     7.704732e+17                  NaN   \n",
       "max     8.496369e+17                  NaN   \n",
       "\n",
       "                                                    tweet     day  \\\n",
       "count                                                2819    2819   \n",
       "unique                                               2819       7   \n",
       "top     b'And so the robots spared humanity ... https:...  Friday   \n",
       "freq                                                    1     530   \n",
       "mean                                                  NaN     NaN   \n",
       "std                                                   NaN     NaN   \n",
       "min                                                   NaN     NaN   \n",
       "25%                                                   NaN     NaN   \n",
       "50%                                                   NaN     NaN   \n",
       "75%                                                   NaN     NaN   \n",
       "max                                                   NaN     NaN   \n",
       "\n",
       "               hour  tweet_length  \\\n",
       "count   2819.000000   2819.000000   \n",
       "unique          NaN           NaN   \n",
       "top             NaN           NaN   \n",
       "freq            NaN           NaN   \n",
       "mean      12.782547    100.408301   \n",
       "std        7.611198     40.551604   \n",
       "min        0.000000      4.000000   \n",
       "25%        5.000000     68.000000   \n",
       "50%       15.000000    111.000000   \n",
       "75%       19.000000    132.000000   \n",
       "max       23.000000    262.000000   \n",
       "\n",
       "                                           tweet_link  tweet_nbwords  \\\n",
       "count                                            2819    2819.000000   \n",
       "unique                                           2819            NaN   \n",
       "top     https://x.com/i/web/status/849636868052275200            NaN   \n",
       "freq                                                1            NaN   \n",
       "mean                                              NaN      14.739979   \n",
       "std                                               NaN       6.788773   \n",
       "min                                               NaN       1.000000   \n",
       "25%                                               NaN       9.000000   \n",
       "50%                                               NaN      16.000000   \n",
       "75%                                               NaN      20.000000   \n",
       "max                                               NaN      31.000000   \n",
       "\n",
       "       tweet_mentions  tweet_nbmentions  \n",
       "count            1645       2819.000000  \n",
       "unique           1217               NaN  \n",
       "top          @SpaceX:               NaN  \n",
       "freq               75               NaN  \n",
       "mean              NaN          0.789287  \n",
       "std               NaN          0.849338  \n",
       "min               NaN          0.000000  \n",
       "25%               NaN          0.000000  \n",
       "50%               NaN          1.000000  \n",
       "75%               NaN          1.000000  \n",
       "max               NaN          6.000000  "
      ]
     },
     "execution_count": 5,
     "metadata": {},
     "output_type": "execute_result"
    }
   ],
   "source": [
    "df.describe(include='all')"
   ]
  },
  {
   "cell_type": "markdown",
   "id": "fad3a72c",
   "metadata": {},
   "source": [
    "- ❓ How would you access the descriptive statistics of _one_ column?\n",
    "- ❓ What is the datatype of such stats for _one_ column?"
   ]
  },
  {
   "cell_type": "code",
   "execution_count": 6,
   "id": "d6cc95a7",
   "metadata": {},
   "outputs": [],
   "source": [
    "# your answer here:"
   ]
  },
  {
   "cell_type": "markdown",
   "id": "5b7ac342",
   "metadata": {},
   "source": [
    "## Section (2): `pandas` plotting"
   ]
  },
  {
   "cell_type": "markdown",
   "id": "e8d3b2bb",
   "metadata": {},
   "source": [
    "A properly structured `DataFrame`, with adequate datatypes, makes plotting really easy and fast.\n",
    "\n",
    "There are two ways to tackle plotting the data in a dataframe column:\n",
    "\n",
    "- (1) Extract the column and plot it using embedded methods.\n",
    "    ```python\n",
    "        df['ColumnToPlot'].plot()\n",
    "    ```\n",
    "- (2) Plot the dataframe using embedded methods, specifying in the arguments which columns you want to represent.\n",
    "    ```python\n",
    "        df.plot(column='ColumnToPlot')\n",
    "    ```\n",
    "These two possibilities are equivalent most of the time. (As your plot becomes more complex, you might however want to prefer the second option which allows to leverage other columns as well.)\n",
    "\n",
    "❗ Generally, unless all your columns are numerical values of comparable meaning, you will need to specify which kind of plot you want: \n",
    "- bar\n",
    "- scatter\n",
    "- hist\n",
    "- box\n",
    "- etc.\n",
    "\n",
    "<img src='../data//pandas_plot.png' width='1200px'>"
   ]
  },
  {
   "cell_type": "markdown",
   "id": "ce3a4b99",
   "metadata": {},
   "source": [
    "### A) Basic plotting"
   ]
  },
  {
   "cell_type": "markdown",
   "id": "b7c3c5ad",
   "metadata": {},
   "source": [
    "As a first example, to plot a histogram of the number of words in the tweets, you can use:\n",
    "- method (1)\n",
    "    ``` python\n",
    "    df['tweet_nbwords'].plot.hist()\n",
    "    ```\n",
    "- method (2)\n",
    "    ``` python\n",
    "    df.plot.hist(column='tweet_nbwords')\n",
    "    ```\n",
    "\n",
    "Try both methods! \n",
    "\n",
    "- ❓ Where would you specify the number of bins, by passing the argument `bins=100` in the method?\n",
    "- ❓ What if you wanted to do a scatter plot? For example comparing the number of words to the number of mentions? You might need the arguments `x=` and `y=`."
   ]
  },
  {
   "cell_type": "code",
   "execution_count": 49,
   "id": "111d799e",
   "metadata": {},
   "outputs": [],
   "source": [
    "# Your answer here:"
   ]
  },
  {
   "cell_type": "markdown",
   "id": "845fbd82",
   "metadata": {},
   "source": [
    "✏️ [Ex.1] Using different elements from past notebooks:\n",
    "- Convert the \"created_at\" column into a `pd.datetime` datatype\n",
    "- Produce a scatter plot of the tweet length vs. date\n",
    "- Plot a histogram of the tweet length.\n",
    "- Use the graph to investigate which tweets are the longest, and why?\n",
    "- ❓ What about the 140-character limit? Is this applicable here? Why not?\n"
   ]
  },
  {
   "cell_type": "code",
   "execution_count": 40,
   "id": "23ed3fcd",
   "metadata": {},
   "outputs": [],
   "source": [
    "# your answer here:"
   ]
  },
  {
   "cell_type": "markdown",
   "id": "c2cb64fe",
   "metadata": {},
   "source": [
    "---"
   ]
  },
  {
   "cell_type": "markdown",
   "id": "a01c6639",
   "metadata": {},
   "source": [
    "### B) Multi-variable plotting"
   ]
  },
  {
   "cell_type": "markdown",
   "id": "3db43577",
   "metadata": {},
   "source": [
    "Like the `.groupby()` logic, you might want to compare at once the evolution of one variable accoring to another one. This can be easily done in `pandas`.\n",
    "\n",
    "For example, to plot a histogram of the hour at which tweets are published is done by:\n",
    "    \n",
    "```python\n",
    "    df.hist(column='hour')\n",
    "```"
   ]
  },
  {
   "cell_type": "code",
   "execution_count": 58,
   "id": "f359598f",
   "metadata": {},
   "outputs": [
    {
     "data": {
      "text/plain": [
       "array([[<Axes: title={'center': 'hour'}>]], dtype=object)"
      ]
     },
     "execution_count": 58,
     "metadata": {},
     "output_type": "execute_result"
    },
    {
     "data": {
      "image/png": "[encoded data removed]",
      "text/plain": [
       "<Figure size 640x480 with 1 Axes>"
      ]
     },
     "metadata": {},
     "output_type": "display_data"
    }
   ],
   "source": [
    "df.hist(column='hour')"
   ]
  },
  {
   "cell_type": "markdown",
   "id": "a1ef41f5",
   "metadata": {},
   "source": [
    "But if you modify the arguments of method, and specify the `by=` parameter:\n",
    "    \n",
    "```python\n",
    "    df.hist(column='hour', by='day')\n",
    "```\n",
    "\n",
    "You plot as many histograms as there are values of `day`."
   ]
  },
  {
   "cell_type": "code",
   "execution_count": 61,
   "id": "e3bafbd8",
   "metadata": {},
   "outputs": [
    {
     "data": {
      "text/plain": [
       "array([[<Axes: title={'center': 'Friday'}>,\n",
       "        <Axes: title={'center': 'Monday'}>,\n",
       "        <Axes: title={'center': 'Saturday'}>],\n",
       "       [<Axes: title={'center': 'Sunday'}>,\n",
       "        <Axes: title={'center': 'Thursday'}>,\n",
       "        <Axes: title={'center': 'Tuesday'}>],\n",
       "       [<Axes: title={'center': 'Wednesday'}>, <Axes: >, <Axes: >]],\n",
       "      dtype=object)"
      ]
     },
     "execution_count": 61,
     "metadata": {},
     "output_type": "execute_result"
    },
    {
     "data": {
      "image/png": "[encoded data removed]",
      "text/plain": [
       "<Figure size 640x480 with 9 Axes>"
      ]
     },
     "metadata": {},
     "output_type": "display_data"
    }
   ],
   "source": [
    "df.hist(column='hour', by='day')"
   ]
  },
  {
   "cell_type": "markdown",
   "id": "deb8413b",
   "metadata": {},
   "source": [
    "### C) Boxplots\n",
    "\n",
    "For scenarios which require a finer statistical analysis of the data, boxplots are often a good choice as they represent:\n",
    "- median\n",
    "- 25th and 75th percentiles\n",
    "- upper and lower whisker ends\n",
    "- outliers\n",
    "\n",
    "To show the boxplot (or whisker plot) of one variable, you can do the following:\n",
    "```python\n",
    "    df[['Variable']].boxplot()\n",
    "```"
   ]
  },
  {
   "cell_type": "code",
   "execution_count": 63,
   "id": "e227bcfd",
   "metadata": {},
   "outputs": [
    {
     "data": {
      "text/plain": [
       "<Axes: >"
      ]
     },
     "execution_count": 63,
     "metadata": {},
     "output_type": "execute_result"
    },
    {
     "data": {
      "image/png": "[encoded data removed]",
      "text/plain": [
       "<Figure size 640x480 with 1 Axes>"
      ]
     },
     "metadata": {},
     "output_type": "display_data"
    }
   ],
   "source": [
    "df[['tweet_length']].boxplot()"
   ]
  },
  {
   "cell_type": "markdown",
   "id": "76cfdb8e",
   "metadata": {},
   "source": [
    "But you can have that same multi-variable logic, and thus get as many whisker plots of variable A as there values of variable B.\n",
    "\n",
    "For example, if we want to show the statistics of the tweet length by day of the week, we can do:\n",
    "```python\n",
    "    df[['tweet_length', 'day']].boxplot(by='day')\n",
    "```"
   ]
  },
  {
   "cell_type": "code",
   "execution_count": 64,
   "id": "9590415d",
   "metadata": {},
   "outputs": [
    {
     "data": {
      "text/plain": [
       "<Axes: title={'center': 'tweet_length'}, xlabel='[day]'>"
      ]
     },
     "execution_count": 64,
     "metadata": {},
     "output_type": "execute_result"
    },
    {
     "data": {
      "image/png": "[encoded data removed]",
      "text/plain": [
       "<Figure size 640x480 with 1 Axes>"
      ]
     },
     "metadata": {},
     "output_type": "display_data"
    }
   ],
   "source": [
    "df[['tweet_length', 'day']].boxplot(by='day')"
   ]
  }
 ],
 "metadata": {
  "kernelspec": {
   "display_name": "dhoxss",
   "language": "python",
   "name": "python3"
  },
  "language_info": {
   "codemirror_mode": {
    "name": "ipython",
    "version": 3
   },
   "file_extension": ".py",
   "mimetype": "text/x-python",
   "name": "python",
   "nbconvert_exporter": "python",
   "pygments_lexer": "ipython3",
   "version": "3.12.4"
  }
 },
 "nbformat": 4,
 "nbformat_minor": 5
}
