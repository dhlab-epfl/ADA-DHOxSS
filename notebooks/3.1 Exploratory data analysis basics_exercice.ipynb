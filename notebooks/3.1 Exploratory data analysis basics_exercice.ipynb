{
 "cells": [
  {
   "attachments": {},
   "cell_type": "markdown",
   "metadata": {},
   "source": [
    "# 3.1 Basic of exploratory data analysis with 🐼\n",
    "\n",
    "In this notebook, we will focus on another essential skill in data analysis, namely the ability to get insights about a dataset by means of plotting and summary statistics."
   ]
  },
  {
   "cell_type": "code",
   "execution_count": 1,
   "metadata": {
    "ExecuteTime": {
     "end_time": "2024-08-14T06:54:40.583984Z",
     "start_time": "2024-08-14T06:54:40.582079Z"
    }
   },
   "outputs": [],
   "source": [
    "import pandas as pd"
   ]
  },
  {
   "attachments": {},
   "cell_type": "markdown",
   "metadata": {},
   "source": [
    "Let's resume things from where we've left them. We load back the dataframe that we had picled at the end of the previous notebook. "
   ]
  },
  {
   "cell_type": "code",
   "execution_count": 2,
   "metadata": {
    "ExecuteTime": {
     "end_time": "2024-08-14T06:54:40.590728Z",
     "start_time": "2024-08-14T06:54:40.585051Z"
    }
   },
   "outputs": [],
   "source": [
    "df = pd.read_pickle(\"./musk_tweets_enhanced.pkl\")"
   ]
  },
  {
   "cell_type": "code",
   "execution_count": 3,
   "metadata": {
    "ExecuteTime": {
     "end_time": "2024-08-14T06:54:40.599626Z",
     "start_time": "2024-08-14T06:54:40.592413Z"
    }
   },
   "outputs": [
    {
     "name": "stdout",
     "output_type": "stream",
     "text": [
      "<class 'pandas.core.frame.DataFrame'>\n",
      "Index: 2819 entries, 849636868052275200 to 15434727182\n",
      "Data columns (total 8 columns):\n",
      " #   Column          Non-Null Count  Dtype         \n",
      "---  ------          --------------  -----         \n",
      " 0   created_at      2819 non-null   datetime64[ns]\n",
      " 1   tweet           2819 non-null   object        \n",
      " 2   tweet_link      2819 non-null   object        \n",
      " 3   tweet_mentions  1674 non-null   object        \n",
      " 4   n_mentions      2819 non-null   int64         \n",
      " 5   week_day_name   2819 non-null   object        \n",
      " 6   week_day        2819 non-null   int32         \n",
      " 7   day_hour        2819 non-null   int32         \n",
      "dtypes: datetime64[ns](1), int32(2), int64(1), object(4)\n",
      "memory usage: 176.2+ KB\n"
     ]
    }
   ],
   "source": [
    "df.info()"
   ]
  },
  {
   "cell_type": "code",
   "execution_count": 4,
   "metadata": {
    "ExecuteTime": {
     "end_time": "2024-08-14T06:54:40.636347Z",
     "start_time": "2024-08-14T06:54:40.601779Z"
    }
   },
   "outputs": [
    {
     "data": {
      "text/plain": "                            created_at  \\\nid                                       \n849636868052275200 2017-04-05 14:56:29   \n848988730585096192 2017-04-03 20:01:01   \n848943072423497728 2017-04-03 16:59:35   \n848935705057280001 2017-04-03 16:30:19   \n848416049573658624 2017-04-02 06:05:23   \n\n                                                                tweet  \\\nid                                                                      \n849636868052275200  b'And so the robots spared humanity ... https:...   \n848988730585096192  b\"@ForIn2020 @waltmossberg @mims @defcon_5 Exa...   \n848943072423497728      b'@waltmossberg @mims @defcon_5 Et tu, Walt?'   \n848935705057280001                b'Stormy weather in Shortville ...'   \n848416049573658624  b\"@DaveLeeBBC @verge Coal is dying due to nat ...   \n\n                                                           tweet_link  \\\nid                                                                      \n849636868052275200  https://twitter.com/i/web/status/8496368680522...   \n848988730585096192  https://twitter.com/i/web/status/8489887305850...   \n848943072423497728  https://twitter.com/i/web/status/8489430724234...   \n848935705057280001  https://twitter.com/i/web/status/8489357050572...   \n848416049573658624  https://twitter.com/i/web/status/8484160495736...   \n\n                                                 tweet_mentions  n_mentions  \\\nid                                                                            \n849636868052275200                                         None           0   \n848988730585096192  @ForIn2020, @waltmossberg, @mims, @defcon_5           4   \n848943072423497728              @waltmossberg, @mims, @defcon_5           3   \n848935705057280001                                         None           0   \n848416049573658624                          @DaveLeeBBC, @verge           2   \n\n                   week_day_name  week_day  day_hour  \nid                                                    \n849636868052275200     Wednesday         2        14  \n848988730585096192        Monday         0        20  \n848943072423497728        Monday         0        16  \n848935705057280001        Monday         0        16  \n848416049573658624        Sunday         6         6  ",
      "text/html": "<div>\n<style scoped>\n    .dataframe tbody tr th:only-of-type {\n        vertical-align: middle;\n    }\n\n    .dataframe tbody tr th {\n        vertical-align: top;\n    }\n\n    .dataframe thead th {\n        text-align: right;\n    }\n</style>\n<table border=\"1\" class=\"dataframe\">\n  <thead>\n    <tr style=\"text-align: right;\">\n      <th></th>\n      <th>created_at</th>\n      <th>tweet</th>\n      <th>tweet_link</th>\n      <th>tweet_mentions</th>\n      <th>n_mentions</th>\n      <th>week_day_name</th>\n      <th>week_day</th>\n      <th>day_hour</th>\n    </tr>\n    <tr>\n      <th>id</th>\n      <th></th>\n      <th></th>\n      <th></th>\n      <th></th>\n      <th></th>\n      <th></th>\n      <th></th>\n      <th></th>\n    </tr>\n  </thead>\n  <tbody>\n    <tr>\n      <th>849636868052275200</th>\n      <td>2017-04-05 14:56:29</td>\n      <td>b'And so the robots spared humanity ... https:...</td>\n      <td>https://twitter.com/i/web/status/8496368680522...</td>\n      <td>None</td>\n      <td>0</td>\n      <td>Wednesday</td>\n      <td>2</td>\n      <td>14</td>\n    </tr>\n    <tr>\n      <th>848988730585096192</th>\n      <td>2017-04-03 20:01:01</td>\n      <td>b\"@ForIn2020 @waltmossberg @mims @defcon_5 Exa...</td>\n      <td>https://twitter.com/i/web/status/8489887305850...</td>\n      <td>@ForIn2020, @waltmossberg, @mims, @defcon_5</td>\n      <td>4</td>\n      <td>Monday</td>\n      <td>0</td>\n      <td>20</td>\n    </tr>\n    <tr>\n      <th>848943072423497728</th>\n      <td>2017-04-03 16:59:35</td>\n      <td>b'@waltmossberg @mims @defcon_5 Et tu, Walt?'</td>\n      <td>https://twitter.com/i/web/status/8489430724234...</td>\n      <td>@waltmossberg, @mims, @defcon_5</td>\n      <td>3</td>\n      <td>Monday</td>\n      <td>0</td>\n      <td>16</td>\n    </tr>\n    <tr>\n      <th>848935705057280001</th>\n      <td>2017-04-03 16:30:19</td>\n      <td>b'Stormy weather in Shortville ...'</td>\n      <td>https://twitter.com/i/web/status/8489357050572...</td>\n      <td>None</td>\n      <td>0</td>\n      <td>Monday</td>\n      <td>0</td>\n      <td>16</td>\n    </tr>\n    <tr>\n      <th>848416049573658624</th>\n      <td>2017-04-02 06:05:23</td>\n      <td>b\"@DaveLeeBBC @verge Coal is dying due to nat ...</td>\n      <td>https://twitter.com/i/web/status/8484160495736...</td>\n      <td>@DaveLeeBBC, @verge</td>\n      <td>2</td>\n      <td>Sunday</td>\n      <td>6</td>\n      <td>6</td>\n    </tr>\n  </tbody>\n</table>\n</div>"
     },
     "execution_count": 4,
     "metadata": {},
     "output_type": "execute_result"
    }
   ],
   "source": [
    "df.head()"
   ]
  },
  {
   "attachments": {},
   "cell_type": "markdown",
   "metadata": {},
   "source": [
    "### `describe()`"
   ]
  },
  {
   "cell_type": "code",
   "execution_count": 5,
   "metadata": {
    "ExecuteTime": {
     "end_time": "2024-08-14T06:54:40.637299Z",
     "start_time": "2024-08-14T06:54:40.608645Z"
    }
   },
   "outputs": [
    {
     "data": {
      "text/plain": "                          created_at   n_mentions     week_day     day_hour\ncount                           2819  2819.000000  2819.000000  2819.000000\nmean   2015-03-24 20:24:24.578928896     0.807733     3.196169    12.782547\nmin              2010-06-04 18:31:57     0.000000     0.000000     0.000000\n25%              2013-06-28 18:27:19     0.000000     2.000000     5.000000\n50%              2015-10-21 23:14:33     1.000000     3.000000    15.000000\n75%              2016-08-30 04:08:30     1.000000     5.000000    19.000000\nmax              2017-04-05 14:56:29     6.000000     6.000000    23.000000\nstd                              NaN     0.859091     1.946637     7.611198",
      "text/html": "<div>\n<style scoped>\n    .dataframe tbody tr th:only-of-type {\n        vertical-align: middle;\n    }\n\n    .dataframe tbody tr th {\n        vertical-align: top;\n    }\n\n    .dataframe thead th {\n        text-align: right;\n    }\n</style>\n<table border=\"1\" class=\"dataframe\">\n  <thead>\n    <tr style=\"text-align: right;\">\n      <th></th>\n      <th>created_at</th>\n      <th>n_mentions</th>\n      <th>week_day</th>\n      <th>day_hour</th>\n    </tr>\n  </thead>\n  <tbody>\n    <tr>\n      <th>count</th>\n      <td>2819</td>\n      <td>2819.000000</td>\n      <td>2819.000000</td>\n      <td>2819.000000</td>\n    </tr>\n    <tr>\n      <th>mean</th>\n      <td>2015-03-24 20:24:24.578928896</td>\n      <td>0.807733</td>\n      <td>3.196169</td>\n      <td>12.782547</td>\n    </tr>\n    <tr>\n      <th>min</th>\n      <td>2010-06-04 18:31:57</td>\n      <td>0.000000</td>\n      <td>0.000000</td>\n      <td>0.000000</td>\n    </tr>\n    <tr>\n      <th>25%</th>\n      <td>2013-06-28 18:27:19</td>\n      <td>0.000000</td>\n      <td>2.000000</td>\n      <td>5.000000</td>\n    </tr>\n    <tr>\n      <th>50%</th>\n      <td>2015-10-21 23:14:33</td>\n      <td>1.000000</td>\n      <td>3.000000</td>\n      <td>15.000000</td>\n    </tr>\n    <tr>\n      <th>75%</th>\n      <td>2016-08-30 04:08:30</td>\n      <td>1.000000</td>\n      <td>5.000000</td>\n      <td>19.000000</td>\n    </tr>\n    <tr>\n      <th>max</th>\n      <td>2017-04-05 14:56:29</td>\n      <td>6.000000</td>\n      <td>6.000000</td>\n      <td>23.000000</td>\n    </tr>\n    <tr>\n      <th>std</th>\n      <td>NaN</td>\n      <td>0.859091</td>\n      <td>1.946637</td>\n      <td>7.611198</td>\n    </tr>\n  </tbody>\n</table>\n</div>"
     },
     "execution_count": 5,
     "metadata": {},
     "output_type": "execute_result"
    }
   ],
   "source": [
    "# the default behavior is to include only\n",
    "# column with numerical values\n",
    "\n",
    "\n",
    "df.describe()"
   ]
  },
  {
   "cell_type": "code",
   "execution_count": 6,
   "metadata": {
    "ExecuteTime": {
     "end_time": "2024-08-14T06:54:40.656593Z",
     "start_time": "2024-08-14T06:54:40.621676Z"
    }
   },
   "outputs": [
    {
     "data": {
      "text/plain": "                           created_at  \\\ncount                            2819   \nunique                            NaN   \ntop                               NaN   \nfreq                              NaN   \nmean    2015-03-24 20:24:24.578928896   \nmin               2010-06-04 18:31:57   \n25%               2013-06-28 18:27:19   \n50%               2015-10-21 23:14:33   \n75%               2016-08-30 04:08:30   \nmax               2017-04-05 14:56:29   \nstd                               NaN   \n\n                                                    tweet  \\\ncount                                                2819   \nunique                                               2819   \ntop     b'And so the robots spared humanity ... https:...   \nfreq                                                    1   \nmean                                                  NaN   \nmin                                                   NaN   \n25%                                                   NaN   \n50%                                                   NaN   \n75%                                                   NaN   \nmax                                                   NaN   \nstd                                                   NaN   \n\n                                               tweet_link tweet_mentions  \\\ncount                                                2819           1674   \nunique                                               2819           1180   \ntop     https://twitter.com/i/web/status/8496368680522...        @SpaceX   \nfreq                                                    1             91   \nmean                                                  NaN            NaN   \nmin                                                   NaN            NaN   \n25%                                                   NaN            NaN   \n50%                                                   NaN            NaN   \n75%                                                   NaN            NaN   \nmax                                                   NaN            NaN   \nstd                                                   NaN            NaN   \n\n         n_mentions week_day_name     week_day     day_hour  \ncount   2819.000000          2819  2819.000000  2819.000000  \nunique          NaN             7          NaN          NaN  \ntop             NaN        Friday          NaN          NaN  \nfreq            NaN           530          NaN          NaN  \nmean       0.807733           NaN     3.196169    12.782547  \nmin        0.000000           NaN     0.000000     0.000000  \n25%        0.000000           NaN     2.000000     5.000000  \n50%        1.000000           NaN     3.000000    15.000000  \n75%        1.000000           NaN     5.000000    19.000000  \nmax        6.000000           NaN     6.000000    23.000000  \nstd        0.859091           NaN     1.946637     7.611198  ",
      "text/html": "<div>\n<style scoped>\n    .dataframe tbody tr th:only-of-type {\n        vertical-align: middle;\n    }\n\n    .dataframe tbody tr th {\n        vertical-align: top;\n    }\n\n    .dataframe thead th {\n        text-align: right;\n    }\n</style>\n<table border=\"1\" class=\"dataframe\">\n  <thead>\n    <tr style=\"text-align: right;\">\n      <th></th>\n      <th>created_at</th>\n      <th>tweet</th>\n      <th>tweet_link</th>\n      <th>tweet_mentions</th>\n      <th>n_mentions</th>\n      <th>week_day_name</th>\n      <th>week_day</th>\n      <th>day_hour</th>\n    </tr>\n  </thead>\n  <tbody>\n    <tr>\n      <th>count</th>\n      <td>2819</td>\n      <td>2819</td>\n      <td>2819</td>\n      <td>1674</td>\n      <td>2819.000000</td>\n      <td>2819</td>\n      <td>2819.000000</td>\n      <td>2819.000000</td>\n    </tr>\n    <tr>\n      <th>unique</th>\n      <td>NaN</td>\n      <td>2819</td>\n      <td>2819</td>\n      <td>1180</td>\n      <td>NaN</td>\n      <td>7</td>\n      <td>NaN</td>\n      <td>NaN</td>\n    </tr>\n    <tr>\n      <th>top</th>\n      <td>NaN</td>\n      <td>b'And so the robots spared humanity ... https:...</td>\n      <td>https://twitter.com/i/web/status/8496368680522...</td>\n      <td>@SpaceX</td>\n      <td>NaN</td>\n      <td>Friday</td>\n      <td>NaN</td>\n      <td>NaN</td>\n    </tr>\n    <tr>\n      <th>freq</th>\n      <td>NaN</td>\n      <td>1</td>\n      <td>1</td>\n      <td>91</td>\n      <td>NaN</td>\n      <td>530</td>\n      <td>NaN</td>\n      <td>NaN</td>\n    </tr>\n    <tr>\n      <th>mean</th>\n      <td>2015-03-24 20:24:24.578928896</td>\n      <td>NaN</td>\n      <td>NaN</td>\n      <td>NaN</td>\n      <td>0.807733</td>\n      <td>NaN</td>\n      <td>3.196169</td>\n      <td>12.782547</td>\n    </tr>\n    <tr>\n      <th>min</th>\n      <td>2010-06-04 18:31:57</td>\n      <td>NaN</td>\n      <td>NaN</td>\n      <td>NaN</td>\n      <td>0.000000</td>\n      <td>NaN</td>\n      <td>0.000000</td>\n      <td>0.000000</td>\n    </tr>\n    <tr>\n      <th>25%</th>\n      <td>2013-06-28 18:27:19</td>\n      <td>NaN</td>\n      <td>NaN</td>\n      <td>NaN</td>\n      <td>0.000000</td>\n      <td>NaN</td>\n      <td>2.000000</td>\n      <td>5.000000</td>\n    </tr>\n    <tr>\n      <th>50%</th>\n      <td>2015-10-21 23:14:33</td>\n      <td>NaN</td>\n      <td>NaN</td>\n      <td>NaN</td>\n      <td>1.000000</td>\n      <td>NaN</td>\n      <td>3.000000</td>\n      <td>15.000000</td>\n    </tr>\n    <tr>\n      <th>75%</th>\n      <td>2016-08-30 04:08:30</td>\n      <td>NaN</td>\n      <td>NaN</td>\n      <td>NaN</td>\n      <td>1.000000</td>\n      <td>NaN</td>\n      <td>5.000000</td>\n      <td>19.000000</td>\n    </tr>\n    <tr>\n      <th>max</th>\n      <td>2017-04-05 14:56:29</td>\n      <td>NaN</td>\n      <td>NaN</td>\n      <td>NaN</td>\n      <td>6.000000</td>\n      <td>NaN</td>\n      <td>6.000000</td>\n      <td>23.000000</td>\n    </tr>\n    <tr>\n      <th>std</th>\n      <td>NaN</td>\n      <td>NaN</td>\n      <td>NaN</td>\n      <td>NaN</td>\n      <td>0.859091</td>\n      <td>NaN</td>\n      <td>1.946637</td>\n      <td>7.611198</td>\n    </tr>\n  </tbody>\n</table>\n</div>"
     },
     "execution_count": 6,
     "metadata": {},
     "output_type": "execute_result"
    }
   ],
   "source": [
    "df.describe(include='all')"
   ]
  },
  {
   "cell_type": "code",
   "execution_count": 7,
   "metadata": {
    "ExecuteTime": {
     "end_time": "2024-08-14T06:54:40.663028Z",
     "start_time": "2024-08-14T06:54:40.638597Z"
    }
   },
   "outputs": [
    {
     "data": {
      "text/plain": "count                             2819\nmean     2015-03-24 20:24:24.578928896\nmin                2010-06-04 18:31:57\n25%                2013-06-28 18:27:19\n50%                2015-10-21 23:14:33\n75%                2016-08-30 04:08:30\nmax                2017-04-05 14:56:29\nName: created_at, dtype: object"
     },
     "execution_count": 7,
     "metadata": {},
     "output_type": "execute_result"
    }
   ],
   "source": [
    "df.created_at.describe()"
   ]
  },
  {
   "cell_type": "code",
   "execution_count": 8,
   "metadata": {
    "ExecuteTime": {
     "end_time": "2024-08-14T06:54:40.669611Z",
     "start_time": "2024-08-14T06:54:40.644915Z"
    }
   },
   "outputs": [],
   "source": [
    "df['week_day_name'] = df['week_day_name'].astype('category')"
   ]
  },
  {
   "cell_type": "code",
   "execution_count": 9,
   "metadata": {
    "ExecuteTime": {
     "end_time": "2024-08-14T06:54:40.683188Z",
     "start_time": "2024-08-14T06:54:40.647856Z"
    }
   },
   "outputs": [
    {
     "data": {
      "text/plain": "                          created_at   n_mentions     week_day     day_hour\ncount                           2819  2819.000000  2819.000000  2819.000000\nmean   2015-03-24 20:24:24.578928896     0.807733     3.196169    12.782547\nmin              2010-06-04 18:31:57     0.000000     0.000000     0.000000\n25%              2013-06-28 18:27:19     0.000000     2.000000     5.000000\n50%              2015-10-21 23:14:33     1.000000     3.000000    15.000000\n75%              2016-08-30 04:08:30     1.000000     5.000000    19.000000\nmax              2017-04-05 14:56:29     6.000000     6.000000    23.000000\nstd                              NaN     0.859091     1.946637     7.611198",
      "text/html": "<div>\n<style scoped>\n    .dataframe tbody tr th:only-of-type {\n        vertical-align: middle;\n    }\n\n    .dataframe tbody tr th {\n        vertical-align: top;\n    }\n\n    .dataframe thead th {\n        text-align: right;\n    }\n</style>\n<table border=\"1\" class=\"dataframe\">\n  <thead>\n    <tr style=\"text-align: right;\">\n      <th></th>\n      <th>created_at</th>\n      <th>n_mentions</th>\n      <th>week_day</th>\n      <th>day_hour</th>\n    </tr>\n  </thead>\n  <tbody>\n    <tr>\n      <th>count</th>\n      <td>2819</td>\n      <td>2819.000000</td>\n      <td>2819.000000</td>\n      <td>2819.000000</td>\n    </tr>\n    <tr>\n      <th>mean</th>\n      <td>2015-03-24 20:24:24.578928896</td>\n      <td>0.807733</td>\n      <td>3.196169</td>\n      <td>12.782547</td>\n    </tr>\n    <tr>\n      <th>min</th>\n      <td>2010-06-04 18:31:57</td>\n      <td>0.000000</td>\n      <td>0.000000</td>\n      <td>0.000000</td>\n    </tr>\n    <tr>\n      <th>25%</th>\n      <td>2013-06-28 18:27:19</td>\n      <td>0.000000</td>\n      <td>2.000000</td>\n      <td>5.000000</td>\n    </tr>\n    <tr>\n      <th>50%</th>\n      <td>2015-10-21 23:14:33</td>\n      <td>1.000000</td>\n      <td>3.000000</td>\n      <td>15.000000</td>\n    </tr>\n    <tr>\n      <th>75%</th>\n      <td>2016-08-30 04:08:30</td>\n      <td>1.000000</td>\n      <td>5.000000</td>\n      <td>19.000000</td>\n    </tr>\n    <tr>\n      <th>max</th>\n      <td>2017-04-05 14:56:29</td>\n      <td>6.000000</td>\n      <td>6.000000</td>\n      <td>23.000000</td>\n    </tr>\n    <tr>\n      <th>std</th>\n      <td>NaN</td>\n      <td>0.859091</td>\n      <td>1.946637</td>\n      <td>7.611198</td>\n    </tr>\n  </tbody>\n</table>\n</div>"
     },
     "execution_count": 9,
     "metadata": {},
     "output_type": "execute_result"
    }
   ],
   "source": [
    "df.describe()#exclude=['object'])"
   ]
  },
  {
   "attachments": {},
   "cell_type": "markdown",
   "metadata": {},
   "source": [
    "### Plotting"
   ]
  },
  {
   "cell_type": "code",
   "execution_count": 10,
   "metadata": {
    "ExecuteTime": {
     "end_time": "2024-08-14T06:54:40.683336Z",
     "start_time": "2024-08-14T06:54:40.658408Z"
    }
   },
   "outputs": [],
   "source": [
    "import matplotlib.pyplot as plt"
   ]
  },
  {
   "attachments": {},
   "cell_type": "markdown",
   "metadata": {},
   "source": [
    "#### Histograms\n",
    "\n",
    "They are useful to see the distribution of a certain variable in your dataset."
   ]
  },
  {
   "cell_type": "code",
   "execution_count": 11,
   "metadata": {
    "ExecuteTime": {
     "end_time": "2024-08-14T06:54:41.301370Z",
     "start_time": "2024-08-14T06:54:40.661738Z"
    }
   },
   "outputs": [
    {
     "ename": "KeyError",
     "evalue": "\"Columns not found: 'text'\"",
     "output_type": "error",
     "traceback": [
      "\u001B[0;31m---------------------------------------------------------------------------\u001B[0m",
      "\u001B[0;31mKeyError\u001B[0m                                  Traceback (most recent call last)",
      "Cell \u001B[0;32mIn[11], line 1\u001B[0m\n\u001B[0;32m----> 1\u001B[0m df\u001B[38;5;241m.\u001B[39mgroupby([\u001B[38;5;124m'\u001B[39m\u001B[38;5;124mn_mentions\u001B[39m\u001B[38;5;124m'\u001B[39m])[[\u001B[38;5;124m'\u001B[39m\u001B[38;5;124mtext\u001B[39m\u001B[38;5;124m'\u001B[39m]]\u001B[38;5;241m.\u001B[39mcount()\n",
      "File \u001B[0;32m~/opt/anaconda3/envs/ajmc/lib/python3.11/site-packages/pandas/core/groupby/generic.py:1771\u001B[0m, in \u001B[0;36mDataFrameGroupBy.__getitem__\u001B[0;34m(self, key)\u001B[0m\n\u001B[1;32m   1764\u001B[0m \u001B[38;5;28;01mif\u001B[39;00m \u001B[38;5;28misinstance\u001B[39m(key, \u001B[38;5;28mtuple\u001B[39m) \u001B[38;5;129;01mand\u001B[39;00m \u001B[38;5;28mlen\u001B[39m(key) \u001B[38;5;241m>\u001B[39m \u001B[38;5;241m1\u001B[39m:\n\u001B[1;32m   1765\u001B[0m     \u001B[38;5;66;03m# if len == 1, then it becomes a SeriesGroupBy and this is actually\u001B[39;00m\n\u001B[1;32m   1766\u001B[0m     \u001B[38;5;66;03m# valid syntax, so don't raise\u001B[39;00m\n\u001B[1;32m   1767\u001B[0m     \u001B[38;5;28;01mraise\u001B[39;00m \u001B[38;5;167;01mValueError\u001B[39;00m(\n\u001B[1;32m   1768\u001B[0m         \u001B[38;5;124m\"\u001B[39m\u001B[38;5;124mCannot subset columns with a tuple with more than one element. \u001B[39m\u001B[38;5;124m\"\u001B[39m\n\u001B[1;32m   1769\u001B[0m         \u001B[38;5;124m\"\u001B[39m\u001B[38;5;124mUse a list instead.\u001B[39m\u001B[38;5;124m\"\u001B[39m\n\u001B[1;32m   1770\u001B[0m     )\n\u001B[0;32m-> 1771\u001B[0m \u001B[38;5;28;01mreturn\u001B[39;00m \u001B[38;5;28msuper\u001B[39m()\u001B[38;5;241m.\u001B[39m\u001B[38;5;21m__getitem__\u001B[39m(key)\n",
      "File \u001B[0;32m~/opt/anaconda3/envs/ajmc/lib/python3.11/site-packages/pandas/core/base.py:239\u001B[0m, in \u001B[0;36mSelectionMixin.__getitem__\u001B[0;34m(self, key)\u001B[0m\n\u001B[1;32m    237\u001B[0m     \u001B[38;5;28;01mif\u001B[39;00m \u001B[38;5;28mlen\u001B[39m(\u001B[38;5;28mself\u001B[39m\u001B[38;5;241m.\u001B[39mobj\u001B[38;5;241m.\u001B[39mcolumns\u001B[38;5;241m.\u001B[39mintersection(key)) \u001B[38;5;241m!=\u001B[39m \u001B[38;5;28mlen\u001B[39m(\u001B[38;5;28mset\u001B[39m(key)):\n\u001B[1;32m    238\u001B[0m         bad_keys \u001B[38;5;241m=\u001B[39m \u001B[38;5;28mlist\u001B[39m(\u001B[38;5;28mset\u001B[39m(key)\u001B[38;5;241m.\u001B[39mdifference(\u001B[38;5;28mself\u001B[39m\u001B[38;5;241m.\u001B[39mobj\u001B[38;5;241m.\u001B[39mcolumns))\n\u001B[0;32m--> 239\u001B[0m         \u001B[38;5;28;01mraise\u001B[39;00m \u001B[38;5;167;01mKeyError\u001B[39;00m(\u001B[38;5;124mf\u001B[39m\u001B[38;5;124m\"\u001B[39m\u001B[38;5;124mColumns not found: \u001B[39m\u001B[38;5;132;01m{\u001B[39;00m\u001B[38;5;28mstr\u001B[39m(bad_keys)[\u001B[38;5;241m1\u001B[39m:\u001B[38;5;241m-\u001B[39m\u001B[38;5;241m1\u001B[39m]\u001B[38;5;132;01m}\u001B[39;00m\u001B[38;5;124m\"\u001B[39m)\n\u001B[1;32m    240\u001B[0m     \u001B[38;5;28;01mreturn\u001B[39;00m \u001B[38;5;28mself\u001B[39m\u001B[38;5;241m.\u001B[39m_gotitem(\u001B[38;5;28mlist\u001B[39m(key), ndim\u001B[38;5;241m=\u001B[39m\u001B[38;5;241m2\u001B[39m)\n\u001B[1;32m    242\u001B[0m \u001B[38;5;28;01melse\u001B[39;00m:\n",
      "\u001B[0;31mKeyError\u001B[0m: \"Columns not found: 'text'\""
     ]
    }
   ],
   "source": [
    "df.groupby(['n_mentions'])[['text']].count()"
   ]
  },
  {
   "cell_type": "code",
   "execution_count": null,
   "metadata": {
    "ExecuteTime": {
     "start_time": "2024-08-14T06:54:41.298789Z"
    }
   },
   "outputs": [],
   "source": [
    "df['n_mentions'].value_counts()"
   ]
  },
  {
   "cell_type": "code",
   "execution_count": null,
   "metadata": {
    "ExecuteTime": {
     "start_time": "2024-08-14T06:54:41.300476Z"
    }
   },
   "outputs": [],
   "source": [
    "plt.figure(figsize=(10, 6))\n",
    "plt.hist(df['n_mentions'], rwidth=1.0)\n",
    "plt.title('Distribution of the number of mentions per tweet')\n",
    "plt.ylabel(\"Tweets\")\n",
    "plt.xlabel(\"Mentions (per tweet)\")\n",
    "plt.show()"
   ]
  },
  {
   "cell_type": "code",
   "execution_count": null,
   "metadata": {},
   "outputs": [],
   "source": [
    "# Now let us see how the tweets are spread across hours of the day. \n",
    "# YOUR SOLUTION HERE"
   ]
  },
  {
   "cell_type": "code",
   "execution_count": 30,
   "metadata": {},
   "outputs": [],
   "source": [
    "df_2017 = df[df['created_at'].dt.year == 2017]"
   ]
  },
  {
   "cell_type": "code",
   "execution_count": 31,
   "metadata": {},
   "outputs": [
    {
     "data": {
      "image/png": "[encoded data removed]",
      "text/plain": [
       "<Figure size 1000x600 with 1 Axes>"
      ]
     },
     "metadata": {},
     "output_type": "display_data"
    }
   ],
   "source": [
    "plt.figure(figsize=(10, 6))\n",
    "plt.hist(df_2017['day_hour'], rwidth=0.6)\n",
    "plt.title('Year 2017')\n",
    "plt.ylabel(\"Tweets\")\n",
    "plt.xlabel(\"Hour of the day\")\n",
    "plt.show()"
   ]
  },
  {
   "attachments": {},
   "cell_type": "markdown",
   "metadata": {},
   "source": [
    "So far we have used directly `matplotlib` to generate our plots.\n",
    "\n",
    "`pandas`'s dataframes provide some methods that directly call `matplotlib`'s API behind the scenes:\n",
    "- `hist()` for histograms\n",
    "- `boxplot()` for boxplots\n",
    "- `plot()` for other types of plots (specified with e.g. `any='scatter'`)"
   ]
  },
  {
   "attachments": {},
   "cell_type": "markdown",
   "metadata": {},
   "source": [
    "By passing the `by` parameter to e.g. `hist()` it is possible to produce one histogram plot of a given variable for each value in another column."
   ]
  },
  {
   "attachments": {},
   "cell_type": "markdown",
   "metadata": {},
   "source": [
    "Let's see how we can plot the number of mentions by year:"
   ]
  },
  {
   "cell_type": "code",
   "execution_count": 32,
   "metadata": {},
   "outputs": [],
   "source": [
    "df['year'] = df['created_at'].dt.year"
   ]
  },
  {
   "cell_type": "code",
   "execution_count": 33,
   "metadata": {},
   "outputs": [
    {
     "data": {
      "image/png": "[encoded data removed]",
      "text/plain": [
       "<Figure size 1000x1000 with 9 Axes>"
      ]
     },
     "metadata": {},
     "output_type": "display_data"
    }
   ],
   "source": [
    "axes = df.hist(column='day_hour', by='year', figsize=(10,10))"
   ]
  },
  {
   "attachments": {},
   "cell_type": "markdown",
   "metadata": {},
   "source": [
    "#### Scatter plots\n",
    "\n",
    "They are useful to plot the relation between two variables in your dataset."
   ]
  },
  {
   "cell_type": "code",
   "execution_count": 34,
   "metadata": {},
   "outputs": [
    {
     "data": {
      "text/html": [
       "<div>\n",
       "<style scoped>\n",
       "    .dataframe tbody tr th:only-of-type {\n",
       "        vertical-align: middle;\n",
       "    }\n",
       "\n",
       "    .dataframe tbody tr th {\n",
       "        vertical-align: top;\n",
       "    }\n",
       "\n",
       "    .dataframe thead th {\n",
       "        text-align: right;\n",
       "    }\n",
       "</style>\n",
       "<table border=\"1\" class=\"dataframe\">\n",
       "  <thead>\n",
       "    <tr style=\"text-align: right;\">\n",
       "      <th></th>\n",
       "      <th>created_at</th>\n",
       "      <th>text</th>\n",
       "      <th>tweet_link</th>\n",
       "      <th>tweet_mentions</th>\n",
       "      <th>n_mentions</th>\n",
       "      <th>week_day_name</th>\n",
       "      <th>week_day</th>\n",
       "      <th>day_hour</th>\n",
       "      <th>year</th>\n",
       "    </tr>\n",
       "    <tr>\n",
       "      <th>id</th>\n",
       "      <th></th>\n",
       "      <th></th>\n",
       "      <th></th>\n",
       "      <th></th>\n",
       "      <th></th>\n",
       "      <th></th>\n",
       "      <th></th>\n",
       "      <th></th>\n",
       "      <th></th>\n",
       "    </tr>\n",
       "  </thead>\n",
       "  <tbody>\n",
       "    <tr>\n",
       "      <th>849636868052275200</th>\n",
       "      <td>2017-04-05 14:56:29</td>\n",
       "      <td>b'And so the robots spared humanity ... https:...</td>\n",
       "      <td>https://twitter.com/i/web/status/8496368680522...</td>\n",
       "      <td></td>\n",
       "      <td>1</td>\n",
       "      <td>Wednesday</td>\n",
       "      <td>2</td>\n",
       "      <td>14</td>\n",
       "      <td>2017</td>\n",
       "    </tr>\n",
       "    <tr>\n",
       "      <th>848988730585096192</th>\n",
       "      <td>2017-04-03 20:01:01</td>\n",
       "      <td>b\"@ForIn2020 @waltmossberg @mims @defcon_5 Exa...</td>\n",
       "      <td>https://twitter.com/i/web/status/8489887305850...</td>\n",
       "      <td>@ForIn2020, @waltmossberg, @mims, @defcon_5</td>\n",
       "      <td>4</td>\n",
       "      <td>Monday</td>\n",
       "      <td>0</td>\n",
       "      <td>20</td>\n",
       "      <td>2017</td>\n",
       "    </tr>\n",
       "    <tr>\n",
       "      <th>848943072423497728</th>\n",
       "      <td>2017-04-03 16:59:35</td>\n",
       "      <td>b'@waltmossberg @mims @defcon_5 Et tu, Walt?'</td>\n",
       "      <td>https://twitter.com/i/web/status/8489430724234...</td>\n",
       "      <td>@waltmossberg, @mims, @defcon_5</td>\n",
       "      <td>3</td>\n",
       "      <td>Monday</td>\n",
       "      <td>0</td>\n",
       "      <td>16</td>\n",
       "      <td>2017</td>\n",
       "    </tr>\n",
       "  </tbody>\n",
       "</table>\n",
       "</div>"
      ],
      "text/plain": [
       "                            created_at  \\\n",
       "id                                       \n",
       "849636868052275200 2017-04-05 14:56:29   \n",
       "848988730585096192 2017-04-03 20:01:01   \n",
       "848943072423497728 2017-04-03 16:59:35   \n",
       "\n",
       "                                                                 text  \\\n",
       "id                                                                      \n",
       "849636868052275200  b'And so the robots spared humanity ... https:...   \n",
       "848988730585096192  b\"@ForIn2020 @waltmossberg @mims @defcon_5 Exa...   \n",
       "848943072423497728      b'@waltmossberg @mims @defcon_5 Et tu, Walt?'   \n",
       "\n",
       "                                                           tweet_link  \\\n",
       "id                                                                      \n",
       "849636868052275200  https://twitter.com/i/web/status/8496368680522...   \n",
       "848988730585096192  https://twitter.com/i/web/status/8489887305850...   \n",
       "848943072423497728  https://twitter.com/i/web/status/8489430724234...   \n",
       "\n",
       "                                                 tweet_mentions  n_mentions  \\\n",
       "id                                                                            \n",
       "849636868052275200                                                        1   \n",
       "848988730585096192  @ForIn2020, @waltmossberg, @mims, @defcon_5           4   \n",
       "848943072423497728              @waltmossberg, @mims, @defcon_5           3   \n",
       "\n",
       "                   week_day_name  week_day  day_hour  year  \n",
       "id                                                          \n",
       "849636868052275200     Wednesday         2        14  2017  \n",
       "848988730585096192        Monday         0        20  2017  \n",
       "848943072423497728        Monday         0        16  2017  "
      ]
     },
     "execution_count": 34,
     "metadata": {},
     "output_type": "execute_result"
    }
   ],
   "source": [
    "df.head(3)"
   ]
  },
  {
   "cell_type": "code",
   "execution_count": 35,
   "metadata": {},
   "outputs": [
    {
     "data": {
      "image/png": "[encoded data removed]",
      "text/plain": [
       "<Figure size 1000x600 with 1 Axes>"
      ]
     },
     "metadata": {},
     "output_type": "display_data"
    }
   ],
   "source": [
    "plt.figure(figsize=(10, 6))\n",
    "\n",
    "# specify the type of plot and the two\n",
    "# variables to be plotted against one another\n",
    "plt.scatter(df['n_mentions'], df['day_hour'])\n",
    "\n",
    "# give a title to the plot\n",
    "plt.title('Number of mentions vs hour of the day')\n",
    "\n",
    "# give a label to the axes\n",
    "plt.ylabel(\"Day hour\")\n",
    "plt.xlabel(\"Number of mentions\")\n",
    "plt.show()"
   ]
  },
  {
   "attachments": {},
   "cell_type": "markdown",
   "metadata": {},
   "source": [
    "#### Bar charts\n",
    "\n",
    "They are useful to plot categorical data."
   ]
  },
  {
   "cell_type": "code",
   "execution_count": 36,
   "metadata": {},
   "outputs": [],
   "source": [
    "# plt.bar?"
   ]
  },
  {
   "cell_type": "code",
   "execution_count": 37,
   "metadata": {},
   "outputs": [],
   "source": [
    "tweets_by_weekday = df.groupby(df['created_at'].dt.weekday)[['text']].count()"
   ]
  },
  {
   "cell_type": "code",
   "execution_count": 38,
   "metadata": {},
   "outputs": [],
   "source": [
    "week_days = [\n",
    "    \"Mon\",\n",
    "    \"Tue\",\n",
    "    \"Wed\",\n",
    "    \"Thur\",\n",
    "    \"Fri\",\n",
    "    \"Sat\",\n",
    "    \"Sun\"\n",
    "]"
   ]
  },
  {
   "cell_type": "code",
   "execution_count": 43,
   "metadata": {},
   "outputs": [
    {
     "data": {
      "text/html": [
       "<div>\n",
       "<style scoped>\n",
       "    .dataframe tbody tr th:only-of-type {\n",
       "        vertical-align: middle;\n",
       "    }\n",
       "\n",
       "    .dataframe tbody tr th {\n",
       "        vertical-align: top;\n",
       "    }\n",
       "\n",
       "    .dataframe thead th {\n",
       "        text-align: right;\n",
       "    }\n",
       "</style>\n",
       "<table border=\"1\" class=\"dataframe\">\n",
       "  <thead>\n",
       "    <tr style=\"text-align: right;\">\n",
       "      <th></th>\n",
       "      <th>text</th>\n",
       "    </tr>\n",
       "    <tr>\n",
       "      <th>created_at</th>\n",
       "      <th></th>\n",
       "    </tr>\n",
       "  </thead>\n",
       "  <tbody>\n",
       "    <tr>\n",
       "      <th>0</th>\n",
       "      <td>315</td>\n",
       "    </tr>\n",
       "    <tr>\n",
       "      <th>1</th>\n",
       "      <td>385</td>\n",
       "    </tr>\n",
       "    <tr>\n",
       "      <th>2</th>\n",
       "      <td>380</td>\n",
       "    </tr>\n",
       "    <tr>\n",
       "      <th>3</th>\n",
       "      <td>361</td>\n",
       "    </tr>\n",
       "    <tr>\n",
       "      <th>4</th>\n",
       "      <td>530</td>\n",
       "    </tr>\n",
       "    <tr>\n",
       "      <th>5</th>\n",
       "      <td>426</td>\n",
       "    </tr>\n",
       "    <tr>\n",
       "      <th>6</th>\n",
       "      <td>422</td>\n",
       "    </tr>\n",
       "  </tbody>\n",
       "</table>\n",
       "</div>"
      ],
      "text/plain": [
       "            text\n",
       "created_at      \n",
       "0            315\n",
       "1            385\n",
       "2            380\n",
       "3            361\n",
       "4            530\n",
       "5            426\n",
       "6            422"
      ]
     },
     "execution_count": 43,
     "metadata": {},
     "output_type": "execute_result"
    }
   ],
   "source": [
    "tweets_by_weekday"
   ]
  },
  {
   "cell_type": "code",
   "execution_count": 44,
   "metadata": {},
   "outputs": [
    {
     "data": {
      "image/png": "[encoded data removed]",
      "text/plain": [
       "<Figure size 800x600 with 1 Axes>"
      ]
     },
     "metadata": {},
     "output_type": "display_data"
    }
   ],
   "source": [
    "plt.figure(figsize=(8, 6))\n",
    "\n",
    "# specify the type of plot and the labels\n",
    "# for the y axis (the bars)\n",
    "plt.bar(\n",
    "    tweets_by_weekday.index,\n",
    "    tweets_by_weekday['text'],\n",
    "    tick_label=week_days,\n",
    "    width=0.5\n",
    ")\n",
    "\n",
    "# give a title to the plot\n",
    "plt.title('Elon Musk\\'s week on Twitter')\n",
    "\n",
    "# give a label to the axes\n",
    "plt.ylabel(\"Number of tweets\")\n",
    "plt.xlabel(\"Week day\")\n",
    "plt.show()"
   ]
  },
  {
   "attachments": {},
   "cell_type": "markdown",
   "metadata": {},
   "source": [
    "#### Box plots\n",
    "\n",
    "![box plot explained](./figures/eda-boxplot.png)"
   ]
  },
  {
   "cell_type": "code",
   "execution_count": 45,
   "metadata": {},
   "outputs": [
    {
     "data": {
      "text/html": [
       "<div>\n",
       "<style scoped>\n",
       "    .dataframe tbody tr th:only-of-type {\n",
       "        vertical-align: middle;\n",
       "    }\n",
       "\n",
       "    .dataframe tbody tr th {\n",
       "        vertical-align: top;\n",
       "    }\n",
       "\n",
       "    .dataframe thead th {\n",
       "        text-align: right;\n",
       "    }\n",
       "</style>\n",
       "<table border=\"1\" class=\"dataframe\">\n",
       "  <thead>\n",
       "    <tr style=\"text-align: right;\">\n",
       "      <th></th>\n",
       "      <th>text</th>\n",
       "    </tr>\n",
       "    <tr>\n",
       "      <th>created_at</th>\n",
       "      <th></th>\n",
       "    </tr>\n",
       "  </thead>\n",
       "  <tbody>\n",
       "    <tr>\n",
       "      <th>0</th>\n",
       "      <td>315</td>\n",
       "    </tr>\n",
       "    <tr>\n",
       "      <th>1</th>\n",
       "      <td>385</td>\n",
       "    </tr>\n",
       "    <tr>\n",
       "      <th>2</th>\n",
       "      <td>380</td>\n",
       "    </tr>\n",
       "    <tr>\n",
       "      <th>3</th>\n",
       "      <td>361</td>\n",
       "    </tr>\n",
       "    <tr>\n",
       "      <th>4</th>\n",
       "      <td>530</td>\n",
       "    </tr>\n",
       "    <tr>\n",
       "      <th>5</th>\n",
       "      <td>426</td>\n",
       "    </tr>\n",
       "    <tr>\n",
       "      <th>6</th>\n",
       "      <td>422</td>\n",
       "    </tr>\n",
       "  </tbody>\n",
       "</table>\n",
       "</div>"
      ],
      "text/plain": [
       "            text\n",
       "created_at      \n",
       "0            315\n",
       "1            385\n",
       "2            380\n",
       "3            361\n",
       "4            530\n",
       "5            426\n",
       "6            422"
      ]
     },
     "execution_count": 45,
     "metadata": {},
     "output_type": "execute_result"
    }
   ],
   "source": [
    "tweets_by_weekday"
   ]
  },
  {
   "cell_type": "code",
   "execution_count": 46,
   "metadata": {},
   "outputs": [
    {
     "data": {
      "text/html": [
       "<div>\n",
       "<style scoped>\n",
       "    .dataframe tbody tr th:only-of-type {\n",
       "        vertical-align: middle;\n",
       "    }\n",
       "\n",
       "    .dataframe tbody tr th {\n",
       "        vertical-align: top;\n",
       "    }\n",
       "\n",
       "    .dataframe thead th {\n",
       "        text-align: right;\n",
       "    }\n",
       "</style>\n",
       "<table border=\"1\" class=\"dataframe\">\n",
       "  <thead>\n",
       "    <tr style=\"text-align: right;\">\n",
       "      <th></th>\n",
       "      <th>text</th>\n",
       "    </tr>\n",
       "  </thead>\n",
       "  <tbody>\n",
       "    <tr>\n",
       "      <th>count</th>\n",
       "      <td>7.000000</td>\n",
       "    </tr>\n",
       "    <tr>\n",
       "      <th>mean</th>\n",
       "      <td>402.714286</td>\n",
       "    </tr>\n",
       "    <tr>\n",
       "      <th>std</th>\n",
       "      <td>67.551744</td>\n",
       "    </tr>\n",
       "    <tr>\n",
       "      <th>min</th>\n",
       "      <td>315.000000</td>\n",
       "    </tr>\n",
       "    <tr>\n",
       "      <th>25%</th>\n",
       "      <td>370.500000</td>\n",
       "    </tr>\n",
       "    <tr>\n",
       "      <th>50%</th>\n",
       "      <td>385.000000</td>\n",
       "    </tr>\n",
       "    <tr>\n",
       "      <th>75%</th>\n",
       "      <td>424.000000</td>\n",
       "    </tr>\n",
       "    <tr>\n",
       "      <th>max</th>\n",
       "      <td>530.000000</td>\n",
       "    </tr>\n",
       "  </tbody>\n",
       "</table>\n",
       "</div>"
      ],
      "text/plain": [
       "             text\n",
       "count    7.000000\n",
       "mean   402.714286\n",
       "std     67.551744\n",
       "min    315.000000\n",
       "25%    370.500000\n",
       "50%    385.000000\n",
       "75%    424.000000\n",
       "max    530.000000"
      ]
     },
     "execution_count": 46,
     "metadata": {},
     "output_type": "execute_result"
    }
   ],
   "source": [
    "tweets_by_weekday.describe()"
   ]
  },
  {
   "cell_type": "code",
   "execution_count": 60,
   "metadata": {},
   "outputs": [
    {
     "data": {
      "image/png": "[encoded data removed]",
      "text/plain": [
       "<Figure size 800x600 with 1 Axes>"
      ]
     },
     "metadata": {},
     "output_type": "display_data"
    }
   ],
   "source": [
    "df[['day_hour', 'week_day_name']].boxplot(\n",
    "    by='week_day_name',\n",
    "    grid=False,\n",
    "    figsize=(8,6),\n",
    "    fontsize=10\n",
    ")\n",
    "\n",
    "# give a title to the plot\n",
    "plt.title('')\n",
    "\n",
    "# give a label to the axes\n",
    "plt.xlabel(\"Day of the week\")\n",
    "plt.show()"
   ]
  },
  {
   "attachments": {},
   "cell_type": "markdown",
   "metadata": {},
   "source": [
    "---"
   ]
  }
 ],
 "metadata": {
  "kernelspec": {
   "display_name": "Python 3 (ipykernel)",
   "language": "python",
   "name": "python3"
  },
  "language_info": {
   "codemirror_mode": {
    "name": "ipython",
    "version": 3
   },
   "file_extension": ".py",
   "mimetype": "text/x-python",
   "name": "python",
   "nbconvert_exporter": "python",
   "pygments_lexer": "ipython3",
   "version": "3.10.3"
  },
  "toc": {
   "base_numbering": 1,
   "nav_menu": {},
   "number_sections": false,
   "sideBar": true,
   "skip_h1_title": false,
   "title_cell": "Table of Contents",
   "title_sidebar": "Contents",
   "toc_cell": false,
   "toc_position": {
    "height": "calc(100% - 180px)",
    "left": "10px",
    "top": "150px",
    "width": "384px"
   },
   "toc_section_display": true,
   "toc_window_display": true
  }
 },
 "nbformat": 4,
 "nbformat_minor": 4
}
