{
 "cells": [
  {
   "attachments": {},
   "cell_type": "markdown",
   "metadata": {},
   "source": [
    "# 2.1 Tidy data"
   ]
  },
  {
   "attachments": {},
   "cell_type": "markdown",
   "metadata": {},
   "source": [
    "In this notebook, we take a closer look at the BL books dataset and tidy it up."
   ]
  },
  {
   "cell_type": "code",
   "execution_count": 10,
   "metadata": {
    "ExecuteTime": {
     "end_time": "2024-08-11T08:43:11.462957Z",
     "start_time": "2024-08-11T08:43:11.440375Z"
    }
   },
   "outputs": [],
   "source": [
    "# imports\n",
    "\n",
    "import pandas as pd\n",
    "import json, os, codecs\n",
    "from collections import defaultdict, OrderedDict\n",
    "import seaborn as sns"
   ]
  },
  {
   "attachments": {},
   "cell_type": "markdown",
   "metadata": {},
   "source": [
    "## Import the dataset\n",
    "Let us import the sample dataset in memory, as it is, without transformations. We rely on some Python libraries to do so."
   ]
  },
  {
   "cell_type": "code",
   "execution_count": 24,
   "metadata": {
    "ExecuteTime": {
     "end_time": "2024-08-11T08:48:24.198331Z",
     "start_time": "2024-08-11T08:48:23.615703Z"
    }
   },
   "outputs": [],
   "source": [
    "root_folder = \"../data/bl_books/sample/\"\n",
    "\n",
    "# metadata: stored in a single JSON file\n",
    "filename = \"book_data_sample.json\"\n",
    "metadata = json.load(codecs.open(os.path.join(root_folder,filename), encoding=\"utf8\"))\n",
    "\n",
    "# fulltexts: stored in several JSON files, one per book\n",
    "foldername = \"full_texts\"\n",
    "texts = defaultdict(list)\n",
    "for root, dirs, files in os.walk(os.path.join(root_folder,foldername)):\n",
    "    for f in files:\n",
    "        if \".json\" in f:\n",
    "            t = json.load(codecs.open(os.path.join(root,f), encoding=\"utf8\"))\n",
    "            texts[f] = t\n",
    "\n",
    "# enriched metadata: stored in a single CSV file\n",
    "filename = \"extra_metadata_sample.csv\"\n",
    "df_extra = pd.read_csv(os.path.join(root_folder,filename), delimiter=\";\")\n",
    "df_extra = df_extra.rename(str.lower, axis='columns') # rename columns to lower case"
   ]
  },
  {
   "attachments": {},
   "cell_type": "markdown",
   "metadata": {},
   "source": [
    "## Take a look\n",
    "Let's take a look to the dataset"
   ]
  },
  {
   "cell_type": "code",
   "execution_count": 25,
   "metadata": {
    "ExecuteTime": {
     "end_time": "2024-08-11T08:49:01.094871Z",
     "start_time": "2024-08-11T08:49:01.071768Z"
    }
   },
   "outputs": [
    {
     "name": "stdout",
     "output_type": "stream",
     "text": [
      "452\n"
     ]
    }
   ],
   "source": [
    "# there are 452 books in the sample\n",
    "\n",
    "print(len(metadata))"
   ]
  },
  {
   "cell_type": "code",
   "execution_count": 26,
   "metadata": {
    "ExecuteTime": {
     "end_time": "2024-08-11T08:49:03.788158Z",
     "start_time": "2024-08-11T08:49:03.756181Z"
    }
   },
   "outputs": [
    {
     "data": {
      "text/plain": "{'datefield': '1841',\n 'shelfmarks': ['British Library HMNTS 11601.ddd.2.'],\n 'publisher': 'Privately printed',\n 'title': [\"The Poetical Aviary, with a bird's-eye view of the English poets. [The preface signed: A. A.] Ms. notes\"],\n 'edition': '',\n 'flickr_url_to_book_images': 'http://www.flickr.com/photos/britishlibrary/tags/sysnum000000196',\n 'place': 'Calcutta',\n 'issuance': 'monographic',\n 'authors': {'creator': ['A. A.']},\n 'date': '1841',\n 'pdf': {'1': 'lsidyv35c55757'},\n 'identifier': '000000196',\n 'corporate': {},\n 'fulltext_filename': 'sample/full_texts/000000196_01_text.json'}"
     },
     "execution_count": 26,
     "metadata": {},
     "output_type": "execute_result"
    }
   ],
   "source": [
    "# each one contains the following catalog metadata\n",
    "\n",
    "metadata[0]"
   ]
  },
  {
   "attachments": {},
   "cell_type": "markdown",
   "metadata": {},
   "source": [
    "**Questions** on 'metadata':\n",
    "\n",
    "* Can you identify some messy aspects of this dataset representation?\n",
    "* Take a look at the 'shelfmarks' or 'title' fields: what is the problem here?\n",
    "* Do the same for the 'authors' and 'pdf' fields: what is the problem?\n",
    "* Look at the datefield of the *third* item in this list: is there a problem?"
   ]
  },
  {
   "cell_type": "code",
   "execution_count": 29,
   "outputs": [
    {
     "name": "stdout",
     "output_type": "stream",
     "text": [
      "['British Library HMNTS 11601.ddd.2.']\n",
      "['British Library HMNTS 9025.cc.14.']\n",
      "['British Library HMNTS C.131.d.16.', 'British Library HMNTS 9505.d.3.']\n",
      "['British Library HMNTS 10351.cc.60.']\n",
      "['British Library HMNTS 9078.c.10.']\n",
      "['British Library HMNTS 012622.f.25.']\n",
      "['British Library HMNTS 10409.bbb.26.(7.)']\n",
      "['British Library HMNTS 792.g.28.', 'British Library HMNTS 792.g.29.']\n",
      "['British Library HMNTS 10411.bbb.28.']\n",
      "['British Library HMNTS 11781.d.30.']\n",
      "['British Library HMNTS 11641.df.59.']\n",
      "['British Library HMNTS 9603.ee.12.']\n",
      "['British Library HMNTS 9602.c.27.']\n",
      "['British Library HMNTS 012641.i.62.']\n",
      "['British Library HMNTS 010370.e.8.']\n",
      "['British Library HMNTS 10408.c.1.']\n",
      "['British Library HMNTS 11770.g.8.']\n",
      "['British Library HMNTS 010057.g.3.']\n",
      "['British Library HMNTS 9602.ee.11.']\n",
      "['British Library HMNTS 11781.df.24.']\n",
      "['British Library HMNTS 11642.dd.3.']\n",
      "['British Library HMNTS 10409.g.4.']\n",
      "['British Library HMNTS 643.e.7.(4.)', 'British Library HMNTS 161.g.11.']\n",
      "['British Library HMNTS 10412.ee.16.']\n",
      "['British Library HMNTS 9055.c.7.', 'British Library OC T 3324', 'British Library OC T 3325', 'British Library OC T 11460']\n",
      "['British Library HMNTS 11781.d.23.(3.)']\n",
      "['British Library HMNTS 9605.dd.8.']\n",
      "['British Library HMNTS 1061.k.10.', 'British Library HMNTS 1061.k.11.']\n",
      "['British Library HMNTS 9604.cc.2.']\n",
      "['British Library HMNTS 9781.c.12.']\n",
      "['British Library HMNTS 9602.d.3.']\n",
      "['British Library HMNTS 643.f.1.(7.)']\n",
      "['British Library HMNTS 643.f.1.(1.)']\n",
      "['British Library HMNTS 793.f.25.', 'British Library HMNTS 1298.c.13.']\n",
      "['British Library HMNTS 010358.g.20.']\n",
      "['British Library HMNTS 1424.h.8.']\n",
      "['British Library HMNTS 11644.h.10.']\n",
      "['British Library HMNTS 11643.f.4.', 'British Library HMNTS 11658.c.35.']\n",
      "['British Library HMNTS 07705.eee.4.', 'British Library HMNTS 010096.ff.56.']\n",
      "['British Library HMNTS 10390.g.9.']\n",
      "['British Library HMNTS 10055.ee.19.']\n",
      "['British Library HMNTS 10055.bb.30.']\n",
      "['British Library HMNTS 10347.e.30.(12.)']\n",
      "['British Library HMNTS 10002.bb.31.']\n",
      "['British Library HMNTS 10057.de.5.']\n",
      "['British Library HMNTS 9604.bbb.6.']\n",
      "['British Library HMNTS 521.f.21.']\n",
      "['British Library HMNTS 11612.df.24.']\n",
      "['British Library HMNTS 010360.ee.3.']\n",
      "['British Library HMNTS 10351.f.6.']\n",
      "['British Library HMNTS 10350.de.10.']\n",
      "['British Library HMNTS 11642.h.22.', 'British Library HMNTS Bloomfield 80.', 'British Library HMNTS Bloomfield 5.(2.).', 'British Library HMNTS Bloomfield 81.', 'British Library HMNTS Bloomfield 82.', 'British Library HMNTS Bloomfield 3.(2.)']\n",
      "['British Library HMNTS 7106.ff.1.']\n",
      "['British Library HMNTS 10195.dd.4.']\n",
      "['British Library HMNTS 11601.d.31.(6.)']\n",
      "['British Library HMNTS 1048.i.11.']\n",
      "['British Library HMNTS 9615.dd.9.']\n",
      "['British Library HMNTS 9615.d.2.']\n",
      "['British Library HMNTS 10352.k.10.']\n",
      "['British Library HMNTS 11601.d.15.(3.)']\n",
      "['British Library HMNTS 10006.ff.8.']\n",
      "['British Library HMNTS 010360.ee.7.']\n",
      "['British Library HMNTS 1307.d.22.']\n",
      "['British Library HMNTS 11601.d.31.(10.)']\n",
      "['British Library HMNTS 11612.e.4.']\n",
      "['British Library HMNTS 11781.df.17.']\n",
      "['British Library HMNTS 010358.f.22.']\n",
      "['British Library HMNTS 10410.e.4.']\n",
      "['British Library HMNTS 9771.aaa.4.']\n",
      "['British Library HMNTS 10055.df.19.']\n",
      "['British Library HMNTS 642.i.33.', 'British Library HMNTS Ashley2699.']\n",
      "['British Library HMNTS 993.h.11.(1.)', 'British Library HMNTS 993.h.11.(2.)', 'British Library HMNTS 993.h.12.(1-2.)']\n",
      "['British Library HMNTS 12641.c.31.']\n",
      "['British Library HMNTS 643.f.25.(1.)']\n",
      "['British Library HMNTS 010369.g.30.']\n",
      "['British Library HMNTS 643.h.10.(11.)']\n",
      "['British Library HMNTS 10361.b.23.']\n",
      "['British Library HMNTS 07108.h.4.']\n",
      "['British Library HMNTS 10369.k.13.']\n",
      "['British Library HMNTS 11781.h.29.(5.)']\n",
      "['British Library HMNTS 9603.cc.30.']\n",
      "['British Library HMNTS 10347.e.34.(9.)']\n",
      "['British Library HMNTS 07108.k.']\n",
      "['British Library HMNTS 11781.df.23.']\n",
      "['British Library HMNTS 012641.k.36.']\n",
      "['British Library HMNTS 10096.g.21.']\n",
      "['British Library HMNTS 11781.df.1.']\n",
      "['British Library HMNTS 11601.dd.33.']\n",
      "['British Library HMNTS 11601.d.8.']\n",
      "['British Library HMNTS 10347.f.7.(12.)']\n",
      "['British Library HMNTS 10095.e.29.']\n",
      "['British Library HMNTS 010368.w.110.']\n",
      "['British Library HMNTS 11781.df.33.']\n",
      "['British Library HMNTS 11601.dd.4.']\n",
      "['British Library HMNTS 796.f.38.(1.)']\n",
      "['British Library HMNTS 10360.ccc.15.']\n",
      "['British Library HMNTS 11601.d.10.']\n",
      "['British Library HMNTS 12641.h.4.']\n",
      "['British Library HMNTS 10358.l.8.']\n",
      "['British Library HMNTS 11648.h.38.']\n",
      "['British Library HMNTS 725.g.21.']\n",
      "['British Library HMNTS 10174.g.26.']\n",
      "['British Library HMNTS 642.i.5.(3.)', 'British Library HMNTS 161.h.28.', 'British Library HMNTS 641.e.28.(2.)']\n",
      "['British Library HMNTS 010349.i.42.']\n",
      "['British Library HMNTS 10491.g.4.']\n",
      "['British Library HMNTS 809.i.1.']\n",
      "['British Library HMNTS 9026.b.19.']\n",
      "['British Library HMNTS 11779.f.78.', 'British Library HMNTS C.108.x.9.']\n",
      "['British Library HMNTS 11781.df.26.']\n",
      "['British Library HMNTS 992.l.6.', 'British Library HMNTS 992.l.7.']\n",
      "['British Library HMNTS 10370.dd.9.']\n",
      "['British Library HMNTS 9781.d.11.']\n",
      "['British Library HMNTS 11642.d.15.']\n",
      "['British Library HMNTS 1322.d.9-10.']\n",
      "['British Library HMNTS 643.e.7.(6.)', 'British Library HMNTS 161.h.49.']\n",
      "['British Library HMNTS 643.f.1.(4.)']\n",
      "['British Library HMNTS 10347.ee.16.(6.)']\n",
      "['British Library HMNTS 644.h.6.']\n",
      "['British Library HMNTS 11642.d.34.']\n",
      "['British Library HMNTS 7106.cc.9.']\n",
      "['British Library HMNTS 1304.l.3.']\n",
      "['British Library HMNTS 11642.d.32.']\n",
      "['British Library HMNTS 10369.h.1.']\n",
      "['British Library HMNTS 2368.b.2.', 'British Library HMNTS 10352.cc.8.']\n",
      "['British Library HMNTS 012641.e.93.']\n",
      "['British Library HMNTS 1304.i.14.']\n",
      "['British Library HMNTS 11602.ff.27.(5.)']\n",
      "['British Library HMNTS 10347.b.22.(7.)']\n",
      "['British Library HMNTS 10411.f.27.']\n",
      "['British Library HMNTS 11771.d.2.']\n",
      "['British Library HMNTS 10076.bb.19.']\n",
      "['British Library HMNTS 644.k.18.(13.)', 'British Library HMNTS 840.l.34.(8.)', 'British Library HMNTS 11630.f.15.', 'British Library HMNTS T.667.(2.)', 'British Library HMNTS 163.l.24.']\n",
      "['British Library HMNTS 11779.d.1.']\n",
      "['British Library HMNTS 10351.k.7.']\n",
      "['British Library HMNTS 644.g.83.', 'British Library HMNTS Ashley3149.']\n",
      "['British Library HMNTS 643.h.18.(4.)']\n",
      "['British Library HMNTS 643.e.6.(3.)']\n",
      "['British Library HMNTS 12641.dd.29.']\n",
      "['British Library HMNTS RB.23.a.16334.', 'British Library HMNTS 10353.b.51.']\n",
      "['British Library HMNTS 10172.h.3.']\n",
      "['British Library HMNTS 643.k.7.(14.)', 'British Library HMNTS 840.k.7.(10.)', 'British Library HMNTS 163.m.75.']\n",
      "['British Library HMNTS 1295.c.36.']\n",
      "['British Library HMNTS 11622.f.8.']\n",
      "['British Library HMNTS 10056.h.19.']\n",
      "['British Library HMNTS 12623.f.36.', 'British Library HMNTS C.140.aa.42.']\n",
      "['British Library HMNTS 10352.l.19.']\n",
      "['British Library HMNTS 11601.d.15.(1.)']\n",
      "['British Library HMNTS 9061.b.11.']\n",
      "['British Library HMNTS 1303.g.5.']\n",
      "['British Library HMNTS 9509.f.26.']\n",
      "['British Library HMNTS 11771.e.3.']\n",
      "['British Library HMNTS 11781.df.2.']\n",
      "['British Library HMNTS 11603.g.31.']\n",
      "['British Library HMNTS 012641.i.7.']\n",
      "['British Library HMNTS 012641.i.61.']\n",
      "['British Library HMNTS 10411.e.4.']\n",
      "['British Library HMNTS 9501.b.18.']\n",
      "['British Library HMNTS 11602.ff.10.(17.)']\n",
      "['British Library HMNTS 10470.d.14.']\n",
      "['British Library HMNTS 11601.d.15.(9.)']\n",
      "['British Library HMNTS 643.i.2.(2.)']\n",
      "['British Library HMNTS 11630.d.8.(13.)', 'British Library HMNTS 644.k.18.(14.)', 'British Library HMNTS 163.m.52.']\n",
      "['British Library HMNTS 10390.h.11.']\n",
      "['British Library HMNTS 1055.e.12.']\n",
      "['British Library HMNTS 9505.bbb.5.']\n",
      "['British Library HMNTS 11642.d.55.']\n",
      "['British Library HMNTS 10492.eee.9.']\n",
      "['British Library HMNTS 10360.f.19.']\n",
      "['British Library HMNTS 9078.ff.26.']\n",
      "['British Library HMNTS 10162.aaa.6.']\n",
      "['British Library HMNTS 808.i.3-6.']\n",
      "['British Library HMNTS 9041.d.27.']\n",
      "['British Library HMNTS 1055.e.21.(1.)']\n",
      "['British Library HMNTS 9602.cc.33.(3.)']\n",
      "['British Library HMNTS 7107.c.15.']\n",
      "['British Library HMNTS 7108.bb.22.']\n",
      "['British Library HMNTS 10058.bb.18.', 'British Library OC T 4796']\n",
      "['British Library HMNTS 644.e.50.', 'British Library HMNTS 83.b.13.(3.)']\n",
      "['British Library HMNTS 10349.s.3.']\n",
      "['British Library HMNTS 11781.h.29.(7.)', 'British Library DSC X26/4868']\n",
      "['British Library HMNTS 07108.g.22.', 'British Library HMNTS 07108.g.28.']\n",
      "['British Library HMNTS 10390.h.10.']\n",
      "['British Library HMNTS 601.f.7.', 'British Library HMNTS 1321.h.19.']\n",
      "['British Library HMNTS 012624.h.25/10.']\n",
      "['British Library HMNTS 12637.k.13.']\n",
      "['British Library HMNTS 1299.k.15.']\n",
      "['British Library HMNTS 012641.l.16.']\n",
      "['British Library HMNTS 10358.c.2.']\n",
      "['British Library HMNTS 643.f.25.(3.)']\n",
      "['British Library HMNTS 9078.ff.24.']\n",
      "['British Library HMNTS 7104.bb.18.']\n",
      "['British Library HMNTS 10196.m.4.']\n",
      "['British Library HMNTS 643.f.1.(6.)', 'British Library HMNTS 162.h.26.']\n",
      "['British Library HMNTS 10409.l.4.']\n",
      "['British Library HMNTS 10408.bb.41.', 'British Library DSC MFE/33/21019 *1*']\n",
      "['British Library HMNTS 10408.de.']\n",
      "['British Library HMNTS 643.f.1.(2.)']\n",
      "['British Library HMNTS 11612.e.2.']\n",
      "['British Library HMNTS 643.e.7.(2.)', 'British Library HMNTS 83.a.26.', 'British Library HMNTS 1607/5728.(3.)']\n",
      "['British Library HMNTS 10411.i.21.']\n",
      "['British Library HMNTS 9603.cc.4.']\n",
      "['British Library HMNTS 10408.k.12.']\n",
      "['British Library HMNTS 10412.f.9.']\n",
      "['British Library HMNTS 10411.dd.13.']\n",
      "['British Library HMNTS 9505.ee.2.']\n",
      "['British Library HMNTS 10413.k.23.']\n",
      "['British Library HMNTS 643.f.1.(3.)', 'British Library HMNTS 162.i.8.']\n",
      "['British Library HMNTS 528.k.27.']\n",
      "['British Library HMNTS 1447.d.15.']\n",
      "['British Library HMNTS 1077.l.3.(3.)']\n",
      "['British Library HMNTS 11603.ee.29/3.']\n",
      "['British Library HMNTS 613.k.54.', 'British Library HMNTS 792.d.5.']\n",
      "['British Library HMNTS 11642.h.43.(2.)']\n",
      "['British Library HMNTS 11781.df.34.']\n",
      "['British Library HMNTS 09504.ee.6.']\n",
      "['British Library HMNTS 10410.ff.13.']\n",
      "['British Library HMNTS 9605.cc.7.']\n",
      "['British Library HMNTS 10360.ccc.17.', 'British Library HMNTS G.16179.(2.)']\n",
      "['British Library HMNTS 10077.h.12.']\n",
      "['British Library HMNTS 11781.f.36.', 'British Library HMNTS 11779.cc.']\n",
      "['British Library HMNTS 11641.e.3.']\n",
      "['British Library HMNTS 10026.cc.5.', 'British Library HMNTS 10026.cc.6.']\n",
      "['British Library HMNTS 10347.ee.26.(12.)']\n",
      "['British Library HMNTS 10130.bb.11.']\n",
      "['British Library HMNTS 644.k.18.(7.)']\n",
      "['British Library HMNTS 9602.bb.4.']\n",
      "['British Library HMNTS 10097.g.11.']\n",
      "['British Library HMNTS 10097.b.26.']\n",
      "['British Library HMNTS 800.g.18.', 'British Library OC W 4144']\n",
      "['British Library HMNTS 10360.c.23.', 'British Library HMNTS G.3627.']\n",
      "['British Library HMNTS 11781.df.7.']\n",
      "['British Library HMNTS 012641.ee.37.']\n",
      "['British Library HMNTS 10347.ee.20.(2.)']\n",
      "['British Library HMNTS 10347.ee.19.(12.)']\n",
      "['British Library HMNTS 11641.df.14.']\n",
      "['British Library HMNTS 10168.ccc.15.']\n",
      "['British Library HMNTS 010096.ee.50.']\n",
      "['British Library HMNTS 11601.ddd.8.(3.)']\n",
      "['British Library HMNTS 012641.a.21.']\n",
      "['British Library HMNTS 796.i.12.']\n",
      "['British Library HMNTS 953.k.1.', 'British Library HMNTS 953.k.2.']\n",
      "['British Library HMNTS 643.h.10.(1.)', 'British Library HMNTS 643.h.10.(2.)', 'British Library HMNTS 161.e.55.', 'British Library HMNTS 1570/622.(5.)']\n",
      "['British Library HMNTS 1434.f.16.']\n",
      "['British Library HMNTS 7107.e.16.']\n",
      "['British Library HMNTS 10349.i.14.']\n",
      "['British Library HMNTS 1325.f.26.']\n",
      "['British Library HMNTS 9603.ee.7.']\n",
      "['British Library HMNTS 9604.c.3.']\n",
      "['British Library HMNTS 1254.d.7.']\n",
      "['British Library HMNTS 979.f.22.']\n",
      "['British Library HMNTS 1432.f.4.']\n",
      "['British Library HMNTS 11602.ff.27.(14.)']\n",
      "['British Library HMNTS 11601.dd.13.(2.)']\n",
      "['British Library HMNTS 011641.de.76.']\n",
      "['British Library HMNTS 10106.e.21.']\n",
      "['British Library HMNTS 9508.dd.3.']\n",
      "['British Library HMNTS 10412.g.29.']\n",
      "['British Library HMNTS 1303.b.4.']\n",
      "['British Library HMNTS 11781.de.21.']\n",
      "['British Library HMNTS 9605.cc.5.']\n",
      "['British Library HMNTS 11603.ee.21.']\n",
      "['British Library HMNTS 10058.bbb.10.', 'British Library OC T 11503', 'British Library OC IOL.1947.a.434(f)']\n",
      "['British Library HMNTS 10360.dd.4.']\n",
      "['British Library HMNTS 802.k.20.', 'British Library OC T 35362']\n",
      "['British Library HMNTS 12641.l.1.']\n",
      "['British Library HMNTS 11781.dd.16.']\n",
      "['British Library HMNTS 11781.d.12.']\n",
      "['British Library HMNTS 10412.d.30.']\n",
      "['British Library HMNTS 1046.e.14,15.', 'British Library OC T 36100']\n",
      "['British Library HMNTS 10368.f.9.']\n",
      "['British Library HMNTS 643.e.7.(1.)', 'British Library HMNTS 643.g.9.(11.)', 'British Library HMNTS 1346.f.6.', 'British Library HMNTS 163.k.66.']\n",
      "['British Library HMNTS 9181.c.28.']\n",
      "['British Library HMNTS 10261.g.19.']\n",
      "['British Library HMNTS 10261.bbb.31.']\n",
      "['British Library HMNTS 11644.i.2.', 'British Library HMNTS Ashley1144.']\n",
      "['British Library HMNTS 11779.bb.7.']\n",
      "['British Library HMNTS 644.k.22.(7.)', 'British Library HMNTS 1486.l.17.(1.)']\n",
      "['British Library HMNTS 12640.n.8.']\n",
      "['British Library HMNTS 1055.e.31.']\n",
      "['British Library HMNTS 643.e.6.(8.)', 'British Library HMNTS 161.e.74.']\n",
      "['British Library HMNTS 10409.dd.9.']\n",
      "['British Library HMNTS 010057.f.29.']\n",
      "['British Library HMNTS 11602.ff.10.(13.)']\n",
      "['British Library HMNTS 012641.m.22.']\n",
      "['British Library HMNTS 11601.ddd.11.(6.)']\n",
      "['British Library HMNTS 9220.c.5.']\n",
      "['British Library HMNTS 10292.e.3.']\n",
      "['British Library HMNTS 11609.e.22.']\n",
      "['British Library HMNTS 789.a.2.']\n",
      "['British Library HMNTS 11601.dd.37.']\n",
      "['British Library HMNTS 1055.e.7.']\n",
      "['British Library HMNTS 10491.e.7.']\n",
      "['British Library HMNTS 11621.i.5.']\n",
      "['British Library HMNTS 11601.dd.13.(5.)']\n",
      "['British Library HMNTS 11781.d.23.(13.)', 'British Library HMNTS 11781.cc.25.']\n",
      "['British Library HMNTS 9078.ff.3.']\n",
      "['British Library HMNTS 11644.h.27.', 'British Library HMNTS Ashley2671.']\n",
      "['British Library HMNTS 11602.ccc.14.']\n",
      "['British Library HMNTS 010168.f.6.']\n",
      "['British Library HMNTS 10413.i.12.']\n",
      "['British Library HMNTS 9225.i.21.']\n",
      "['British Library HMNTS 10358.cc.35.']\n",
      "['British Library HMNTS 9555.df.15.']\n",
      "['British Library HMNTS 10408.ee.4.']\n",
      "['British Library HMNTS 012641.f.10.']\n",
      "['British Library HMNTS 010077.g.10.']\n",
      "['British Library HMNTS 9509.i.4.']\n",
      "['British Library HMNTS 9505.ff.1.']\n",
      "['British Library HMNTS 1434.f.9.']\n",
      "['British Library HMNTS 11770.g.10.', 'British Library HMNTS 2304.f.14.']\n",
      "['British Library HMNTS 10350.cc.40.']\n",
      "['British Library HMNTS 11602.ff.10.(11.)']\n",
      "['British Library HMNTS 012641.f.16.']\n",
      "['British Library HMNTS 11601.d.15.(11.)']\n",
      "['British Library HMNTS 9555.bbb.20.']\n",
      "['British Library HMNTS 11601.ddd.8.(4.)']\n",
      "['British Library HMNTS 11770.g.6.']\n",
      "['British Library HMNTS 11642.d.19.']\n",
      "['British Library HMNTS 012641.l.23.']\n",
      "['British Library HMNTS 643.k.7.(6.)']\n",
      "['British Library HMNTS 9041.f.4.']\n",
      "['British Library HMNTS 010368.p.12.']\n",
      "['British Library HMNTS 7106.cc.21.']\n",
      "['British Library HMNTS 644.k.22.(2.)']\n",
      "['British Library HMNTS 796.f.14.']\n",
      "['British Library HMNTS 10077.cc.21.', 'British Library OC ORW.1986.a.1664']\n",
      "['British Library HMNTS 799.e.19.']\n",
      "['British Library HMNTS 10370.bbb.27.']\n",
      "['British Library HMNTS 10094.h.24.']\n",
      "['British Library HMNTS 11770.e.5.']\n",
      "['British Library HMNTS 12624.f.35.']\n",
      "['British Library HMNTS 10352.h.49.']\n",
      "['British Library HMNTS 9605.d.21.']\n",
      "['British Library HMNTS 643.h.10.(5.)', 'British Library HMNTS 161.e.6.']\n",
      "['British Library HMNTS 643.h.10.(6.)']\n",
      "['British Library HMNTS 9602.i.1.']\n",
      "['British Library HMNTS 10347.e.30.(5.)']\n",
      "['British Library HMNTS 9602.cc.33.(5.)']\n",
      "['British Library HMNTS 10096.bb.3.']\n",
      "['British Library HMNTS 10358.h.12.']\n",
      "['British Library HMNTS 840.h.7.(2.)', 'British Library HMNTS 1077.l.3.(5.)']\n",
      "['British Library HMNTS 643.e.6.(9.)']\n",
      "['British Library HMNTS 11641.df.48.']\n",
      "['British Library HMNTS 644.h.89.']\n",
      "['British Library HMNTS 1346.e.11.', 'British Library HMNTS 841.d.21.', 'British Library HMNTS 644.f.28.', 'British Library HMNTS 81.c.15.(2.)']\n",
      "['British Library HMNTS 11781.d.15.']\n",
      "['British Library HMNTS 012641.k.31.']\n",
      "['British Library HMNTS 10358.ccc.12.']\n",
      "['British Library HMNTS 11781.d.23.(12.)']\n",
      "['British Library HMNTS 12623.f.34.', 'British Library HMNTS C.140.e.25.(4.)']\n",
      "['British Library HMNTS 10410.bb.24.']\n",
      "['British Library HMNTS 796.f.18.']\n",
      "['British Library HMNTS 11642.d.16.']\n",
      "['British Library HMNTS 11601.dd.25.']\n",
      "['British Library HMNTS 11602.e.39.(3.)']\n",
      "['British Library HMNTS 7105.bb.27.']\n",
      "['British Library HMNTS 1344.i.4.', 'British Library HMNTS 643.f.25.(4.)']\n",
      "['British Library HMNTS 012641.m.10.']\n",
      "['British Library HMNTS 012641.f.28.']\n",
      "['British Library HMNTS 643.d.38.', 'British Library HMNTS 162.d.65.']\n",
      "['British Library HMNTS 11602.e.39.(5.)']\n",
      "['British Library HMNTS 11602.e.39.(6.)']\n",
      "['British Library HMNTS 643.e.7.(5.)', 'British Library HMNTS 163.h.54.']\n",
      "['British Library HMNTS 11781.df.8.']\n",
      "['British Library HMNTS 1308.c.14.']\n",
      "['British Library HMNTS 012641.l.38.']\n",
      "['British Library HMNTS 11633.bbb.34.', 'British Library HMNTS 642.i.5.(2.)']\n",
      "['British Library HMNTS 9078.ee.29.']\n",
      "['British Library HMNTS 11603.ee.18.']\n",
      "['British Library HMNTS 1304.l.1.']\n",
      "['British Library HMNTS 010370.dd.10.', 'British Library HMNTS 792.l.22.']\n",
      "['British Library HMNTS 10055.ee.28.', 'British Library OC T 11384']\n",
      "['British Library HMNTS 9079.bb.36.']\n",
      "['British Library HMNTS 09077.h.5.']\n",
      "['British Library HMNTS 10261.b.5.']\n",
      "['British Library HMNTS 1447.h.5.']\n",
      "['British Library HMNTS 1319.h.6.']\n",
      "['British Library HMNTS 010360.k.23.']\n",
      "['British Library HMNTS 10007.aaa.3.']\n",
      "['British Library HMNTS 10007.aaa.4.']\n",
      "['British Library HMNTS 9605.bbb.28.']\n",
      "['British Library HMNTS 11779.g.8.(12.)']\n",
      "['British Library HMNTS 11779.g.8.(17.)']\n",
      "['British Library HMNTS 1426.c.1.']\n",
      "['British Library HMNTS 10002.c.2.']\n",
      "['British Library HMNTS 1430.f.21.']\n",
      "['British Library HMNTS 7109.c.22.']\n",
      "['British Library HMNTS 9210.cc.28.']\n",
      "['British Library HMNTS 7108.de.23.']\n",
      "['British Library HMNTS 11781.df.5.']\n",
      "['British Library HMNTS 10196.cc.12.']\n",
      "['British Library HMNTS 10058.l.7.', 'British Library OC V 3061']\n",
      "['British Library HMNTS 012623.ee.49.']\n",
      "['British Library HMNTS 10350.c.27.']\n",
      "['British Library HMNTS 11601.d.31.(12.)']\n",
      "['British Library HMNTS 11644.h.6.']\n",
      "['British Library HMNTS 11621.f.21.', 'British Library HMNTS G.18433.', 'British Library HMNTS 1077.f.19.', 'British Library HMNTS Bloomfield 251.']\n",
      "['British Library HMNTS 10358.g.19.']\n",
      "['British Library HMNTS 9602.ee.7.']\n",
      "['British Library HMNTS 10024.g.15.']\n",
      "['British Library HMNTS 9504.h.1.']\n",
      "['British Library HMNTS 1434.e.12.', 'British Library OC T 36027']\n",
      "['British Library HMNTS 1432.d.23.']\n",
      "['British Library HMNTS 10347.f.11.(18.)']\n",
      "['British Library HMNTS 643.f.25.(2.)']\n",
      "['British Library HMNTS 643.h.10.(3.)']\n",
      "['British Library HMNTS 10491.e.29.']\n",
      "['British Library HMNTS 10057.de.37.']\n",
      "['British Library HMNTS 11644.h.25.']\n",
      "['British Library HMNTS 012641.aa.14.']\n",
      "['British Library HMNTS 10470.f.37.']\n",
      "['British Library HMNTS 10352.g.56.']\n",
      "['British Library HMNTS 9604.bb.14.']\n",
      "['British Library HMNTS 1254.h.3.']\n",
      "['British Library HMNTS 643.f.1.(5.)']\n",
      "['British Library HMNTS 11601.dd.22.']\n",
      "['British Library HMNTS 641.h.13.(10.)', 'British Library HMNTS 643.h.6.(1.)']\n",
      "['British Library HMNTS 010358.f.3.']\n",
      "['British Library HMNTS 9078.ff.18.']\n",
      "['British Library HMNTS 9078.ee.30.']\n",
      "['British Library HMNTS 11601.d.31.(9.)', 'British Library HMNTS X.908/36909.(1.)']\n",
      "['British Library HMNTS 07108.e.5.']\n",
      "['British Library HMNTS 10369.h.16.']\n",
      "['British Library HMNTS 10027.h.15.']\n",
      "['British Library HMNTS 11771.f.10.']\n",
      "['British Library HMNTS 10348.c.29.', 'British Library HMNTS 578.b.20.']\n",
      "['British Library HMNTS 012641.l.12.']\n",
      "['British Library HMNTS 11601.dd.7.']\n",
      "['British Library HMNTS 11644.h.8.']\n",
      "['British Library HMNTS 10161.dd.9.']\n",
      "['British Library HMNTS 1309.b.3.']\n",
      "['British Library HMNTS 10369.g.15.']\n",
      "['British Library HMNTS 1429.h.15.(2.)']\n",
      "['British Library HMNTS 11781.d.23.(2.)']\n",
      "['British Library HMNTS 10058.bb.4.', 'British Library OC T 37131']\n",
      "['British Library HMNTS 9061.ccc.23.', 'British Library HMNTS 9061.ccc.29.']\n",
      "['British Library HMNTS 11781.ee.14.']\n",
      "['British Library HMNTS 10362.g.45.(4.)']\n",
      "['British Library HMNTS 9605.c.11.']\n",
      "['British Library HMNTS 11603.ee.29.(4.)']\n",
      "['British Library HMNTS 10358.cc.57.']\n",
      "['British Library HMNTS 11601.d.15.(12.)']\n",
      "['British Library HMNTS 10351.cc.23.']\n",
      "['British Library HMNTS 11642.de.33.', 'British Library HMNTS 4372.i.24.(2.)']\n",
      "['British Library HMNTS 11601.d.15.(8.)']\n",
      "['British Library HMNTS 9502.c.21.']\n",
      "['British Library HMNTS 11771.f.11.']\n",
      "['British Library HMNTS 643.i.2.(5.)']\n",
      "['British Library HMNTS 643.h.10.(7.)']\n",
      "['British Library HMNTS 10347.ee.18.(14.)']\n",
      "['British Library HMNTS 11781.dd.50']\n",
      "['British Library HMNTS 11779.bb.6']\n"
     ]
    }
   ],
   "source": [
    "for i in range(len(metadata)):\n",
    "    print(metadata[i]['shelfmarks'])"
   ],
   "metadata": {
    "collapsed": false,
    "ExecuteTime": {
     "end_time": "2024-08-11T08:53:24.734960Z",
     "start_time": "2024-08-11T08:53:24.709925Z"
    }
   }
  },
  {
   "cell_type": "code",
   "execution_count": 30,
   "metadata": {
    "ExecuteTime": {
     "end_time": "2024-08-11T08:54:14.890884Z",
     "start_time": "2024-08-11T08:54:14.858188Z"
    }
   },
   "outputs": [
    {
     "name": "stdout",
     "output_type": "stream",
     "text": [
      "452\n"
     ]
    }
   ],
   "source": [
    "# let's check we have the same amount of books with a text file\n",
    "\n",
    "print(len(texts))"
   ]
  },
  {
   "attachments": {},
   "cell_type": "markdown",
   "metadata": {},
   "source": [
    "*Note: we have selected for the sample just the first volume/pdf for every book.*"
   ]
  },
  {
   "cell_type": "code",
   "execution_count": 31,
   "metadata": {
    "ExecuteTime": {
     "end_time": "2024-08-11T08:54:16.871159Z",
     "start_time": "2024-08-11T08:54:16.835610Z"
    }
   },
   "outputs": [
    {
     "data": {
      "text/plain": "164"
     },
     "execution_count": 31,
     "metadata": {},
     "output_type": "execute_result"
    }
   ],
   "source": [
    "len(texts['000000196_01_text.json'])"
   ]
  },
  {
   "cell_type": "code",
   "execution_count": 32,
   "metadata": {
    "ExecuteTime": {
     "end_time": "2024-08-11T08:54:19.928028Z",
     "start_time": "2024-08-11T08:54:19.903955Z"
    }
   },
   "outputs": [
    {
     "data": {
      "text/plain": "[[1, ''],\n [2, ''],\n [3, ''],\n [4, ''],\n [5, ''],\n [6, ''],\n [7,\n  \"THE POETICAL AVIARY, WITH A B I R D'S-E YE VIEW OF THE ENGLISH POETS. (NOT PUBLISHED.) CALCUTTA: PRINTED AT THE BAPTIST MISSION PRESS, CIRCULAR ROAD. 1841.\"],\n [8, ''],\n [9,\n  'POETICAL AVIARY. PART THE FIRST. BIRDS WITHOUT ALLUSION TO THEIR NOTES. One of the curious political medals that were struck in the reign of Charles II. represents, on one side, Titus Oates with two faces. On the reverse are the heads of the king and four of his principal ministers, with this motto round the border, \" Birds of a feather flock together.\" This, as well as various other proverbs derived from birds, haee been introduced into poetry. Thus Anstey — And \\'twas pretty to see how like birds of a feather The people of quality flocked all together, All pressing, addressing, caressing, and fond, Just the same as those animals do in a pond. Under the sign of an inn representing a man with a bird in his hand, and two birds in a bush I have seen written, \" A bird in the hand\" d\\'ye see , Is worth two in the bushes that be. These verses under signs are now a rarity in England ; they were formerly more common. Swift, speaking of Harley, Earl of Oxford, the prime minister, says — Would take me in his coach to chat, And question me of this or that ; Or gravely try to read the lines Writ underneath the country signs. ii']]"
     },
     "execution_count": 32,
     "metadata": {},
     "output_type": "execute_result"
    }
   ],
   "source": [
    "# each text comes as a list of lists: one per page, as follows [page number, text]\n",
    "\n",
    "texts['000000196_01_text.json'][:9]"
   ]
  },
  {
   "cell_type": "code",
   "execution_count": 16,
   "metadata": {
    "ExecuteTime": {
     "end_time": "2024-08-11T08:44:08.492675Z",
     "start_time": "2024-08-11T08:44:08.464417Z"
    }
   },
   "outputs": [
    {
     "data": {
      "text/plain": "     aleph system no. country code language code (008) language code (041)  \\\n0            14805618          |||                 eng                 NaN   \n1            14939494          |||                 eng                 NaN   \n2            14828093          |||                 eng                 NaN   \n3            14880318          |||                 eng                 NaN   \n4            14872367          |||                 eng                 NaN   \n..                ...          ...                 ...                 ...   \n475          15743151          enk                 eng                 NaN   \n476          14814805          |||                 eng                 NaN   \n477          14846809          |||                 eng                 NaN   \n478          14847467          |||                 eng                 NaN   \n479          14867567          |||                 eng                 NaN   \n\n     ddc                                    personal author corporate author  \\\n0    NaN                             BONNEY, Thomas George.              NaN   \n1    NaN                          FREEMAN, Edward Augustus.              NaN   \n2    NaN                                  REDFERN, Francis.              NaN   \n3    NaN        SIMONDE DE SISMONDI, Jean Charles Léonard.              NaN   \n4    NaN  MIKHAILOVSKY-DANILEVSKY, Aleksandr Ivanovich, ...              NaN   \n..   ...                                                ...              ...   \n475  NaN                                                NaN              NaN   \n476  NaN                                                NaN              NaN   \n477  NaN                                       ARTERTON, A.              NaN   \n478  NaN                          JENNER, Katharine Amabel.              NaN   \n479  NaN                          Savage, Richard, d. 1743.              NaN   \n\n                                                 title  \\\n0    The Alpine Regions of Switzerland and the neig...   \n1    [The History of the Norman Conquest of England...   \n2    History of the Town of Uttoxeter; with notices...   \n3    The History of the French ... Translated by W....   \n4    History of the Campaign in France in the year ...   \n..                                                 ...   \n475  The dramatic works of Wycherley, Congreve, Van...   \n476  Looking Glass for my Poli-comedie actors in Eu...   \n477  Thespis and Melpomene. A lyrical drama, in fou...   \n478  Half-hour Plays. Rumpelstilskin and other play...   \n479  Sir Thomas Overbury: a tragedy. Altered from t...   \n\n                                edition  \\\n0                                   NaN   \n1    Third edition, revised. vol. 1, 2.   \n2                                   NaN   \n3                                   NaN   \n4                                   NaN   \n..                                  ...   \n475                           A new ed.   \n476                                 NaN   \n477                                 NaN   \n478                                 NaN   \n479                                 NaN   \n\n                                        imprint series subjects  \\\n0       Cambridge : Deighton, Bell & Co., 1868.    NaN      NaN   \n1                                 Oxford, 1877.    NaN      NaN   \n2                                 London, 1865.    NaN      NaN   \n3                             London, 1849, 50.    NaN      NaN   \n4                                 London, 1839.    NaN      NaN   \n..                                          ...    ...      ...   \n475                London : Edward Moxon, 1851.    NaN      NaN   \n476                               Bombay, 1891.    NaN      NaN   \n477  London : London Literary Society, [1885.].    NaN      NaN   \n478            London : W. Smith & Innes, 1889.    NaN      NaN   \n479                  London : F. Newbery, 1777.    NaN      NaN   \n\n                                other personal authors  \\\n0                                     WHYMPER, Edward.   \n1                                                  NaN   \n2                                                  NaN   \n3               BELLINGHAM, William, of Lincoln's Inn.   \n4                                                  NaN   \n..                                                 ...   \n475  Wycherley, William, 1640-1716. -- Congreve, Wi...   \n476                                                NaN   \n477                                                NaN   \n478                                                NaN   \n479                      Woodfall, William, 1746-1803.   \n\n     other corporate authors                            dom id     type  \\\n0                        NaN                    lsidyv3becb649    story   \n1                        NaN  lsidyv386a29a7 -- lsidyv386a4a87    story   \n2                        NaN                    lsidyv3c4d30a3    story   \n3                        NaN                    lsidyv2af98846    story   \n4                        NaN                    lsidyv370ba897    story   \n..                       ...                               ...      ...   \n475                      NaN                    lsidyv349212f1     play   \n476                      NaN                    lsidyv3ce84653   comedy   \n477                      NaN                    lsidyv35cf487e     play   \n478                      NaN                    lsidyv35e8df0c     play   \n479                      NaN                    lsidyv36799ab2  tragedy   \n\n     genre       first_pdf  \n0    Prose  lsidyv3becb649  \n1    Prose  lsidyv386a29a7  \n2    Prose  lsidyv3c4d30a3  \n3    Prose  lsidyv2af98846  \n4    Prose  lsidyv370ba897  \n..     ...             ...  \n475  Drama  lsidyv349212f1  \n476  Drama  lsidyv3ce84653  \n477  Drama  lsidyv35cf487e  \n478  Drama  lsidyv35e8df0c  \n479  Drama  lsidyv36799ab2  \n\n[480 rows x 18 columns]",
      "text/html": "<div>\n<style scoped>\n    .dataframe tbody tr th:only-of-type {\n        vertical-align: middle;\n    }\n\n    .dataframe tbody tr th {\n        vertical-align: top;\n    }\n\n    .dataframe thead th {\n        text-align: right;\n    }\n</style>\n<table border=\"1\" class=\"dataframe\">\n  <thead>\n    <tr style=\"text-align: right;\">\n      <th></th>\n      <th>aleph system no.</th>\n      <th>country code</th>\n      <th>language code (008)</th>\n      <th>language code (041)</th>\n      <th>ddc</th>\n      <th>personal author</th>\n      <th>corporate author</th>\n      <th>title</th>\n      <th>edition</th>\n      <th>imprint</th>\n      <th>series</th>\n      <th>subjects</th>\n      <th>other personal authors</th>\n      <th>other corporate authors</th>\n      <th>dom id</th>\n      <th>type</th>\n      <th>genre</th>\n      <th>first_pdf</th>\n    </tr>\n  </thead>\n  <tbody>\n    <tr>\n      <th>0</th>\n      <td>14805618</td>\n      <td>|||</td>\n      <td>eng</td>\n      <td>NaN</td>\n      <td>NaN</td>\n      <td>BONNEY, Thomas George.</td>\n      <td>NaN</td>\n      <td>The Alpine Regions of Switzerland and the neig...</td>\n      <td>NaN</td>\n      <td>Cambridge : Deighton, Bell &amp; Co., 1868.</td>\n      <td>NaN</td>\n      <td>NaN</td>\n      <td>WHYMPER, Edward.</td>\n      <td>NaN</td>\n      <td>lsidyv3becb649</td>\n      <td>story</td>\n      <td>Prose</td>\n      <td>lsidyv3becb649</td>\n    </tr>\n    <tr>\n      <th>1</th>\n      <td>14939494</td>\n      <td>|||</td>\n      <td>eng</td>\n      <td>NaN</td>\n      <td>NaN</td>\n      <td>FREEMAN, Edward Augustus.</td>\n      <td>NaN</td>\n      <td>[The History of the Norman Conquest of England...</td>\n      <td>Third edition, revised. vol. 1, 2.</td>\n      <td>Oxford, 1877.</td>\n      <td>NaN</td>\n      <td>NaN</td>\n      <td>NaN</td>\n      <td>NaN</td>\n      <td>lsidyv386a29a7 -- lsidyv386a4a87</td>\n      <td>story</td>\n      <td>Prose</td>\n      <td>lsidyv386a29a7</td>\n    </tr>\n    <tr>\n      <th>2</th>\n      <td>14828093</td>\n      <td>|||</td>\n      <td>eng</td>\n      <td>NaN</td>\n      <td>NaN</td>\n      <td>REDFERN, Francis.</td>\n      <td>NaN</td>\n      <td>History of the Town of Uttoxeter; with notices...</td>\n      <td>NaN</td>\n      <td>London, 1865.</td>\n      <td>NaN</td>\n      <td>NaN</td>\n      <td>NaN</td>\n      <td>NaN</td>\n      <td>lsidyv3c4d30a3</td>\n      <td>story</td>\n      <td>Prose</td>\n      <td>lsidyv3c4d30a3</td>\n    </tr>\n    <tr>\n      <th>3</th>\n      <td>14880318</td>\n      <td>|||</td>\n      <td>eng</td>\n      <td>NaN</td>\n      <td>NaN</td>\n      <td>SIMONDE DE SISMONDI, Jean Charles Léonard.</td>\n      <td>NaN</td>\n      <td>The History of the French ... Translated by W....</td>\n      <td>NaN</td>\n      <td>London, 1849, 50.</td>\n      <td>NaN</td>\n      <td>NaN</td>\n      <td>BELLINGHAM, William, of Lincoln's Inn.</td>\n      <td>NaN</td>\n      <td>lsidyv2af98846</td>\n      <td>story</td>\n      <td>Prose</td>\n      <td>lsidyv2af98846</td>\n    </tr>\n    <tr>\n      <th>4</th>\n      <td>14872367</td>\n      <td>|||</td>\n      <td>eng</td>\n      <td>NaN</td>\n      <td>NaN</td>\n      <td>MIKHAILOVSKY-DANILEVSKY, Aleksandr Ivanovich, ...</td>\n      <td>NaN</td>\n      <td>History of the Campaign in France in the year ...</td>\n      <td>NaN</td>\n      <td>London, 1839.</td>\n      <td>NaN</td>\n      <td>NaN</td>\n      <td>NaN</td>\n      <td>NaN</td>\n      <td>lsidyv370ba897</td>\n      <td>story</td>\n      <td>Prose</td>\n      <td>lsidyv370ba897</td>\n    </tr>\n    <tr>\n      <th>...</th>\n      <td>...</td>\n      <td>...</td>\n      <td>...</td>\n      <td>...</td>\n      <td>...</td>\n      <td>...</td>\n      <td>...</td>\n      <td>...</td>\n      <td>...</td>\n      <td>...</td>\n      <td>...</td>\n      <td>...</td>\n      <td>...</td>\n      <td>...</td>\n      <td>...</td>\n      <td>...</td>\n      <td>...</td>\n      <td>...</td>\n    </tr>\n    <tr>\n      <th>475</th>\n      <td>15743151</td>\n      <td>enk</td>\n      <td>eng</td>\n      <td>NaN</td>\n      <td>NaN</td>\n      <td>NaN</td>\n      <td>NaN</td>\n      <td>The dramatic works of Wycherley, Congreve, Van...</td>\n      <td>A new ed.</td>\n      <td>London : Edward Moxon, 1851.</td>\n      <td>NaN</td>\n      <td>NaN</td>\n      <td>Wycherley, William, 1640-1716. -- Congreve, Wi...</td>\n      <td>NaN</td>\n      <td>lsidyv349212f1</td>\n      <td>play</td>\n      <td>Drama</td>\n      <td>lsidyv349212f1</td>\n    </tr>\n    <tr>\n      <th>476</th>\n      <td>14814805</td>\n      <td>|||</td>\n      <td>eng</td>\n      <td>NaN</td>\n      <td>NaN</td>\n      <td>NaN</td>\n      <td>NaN</td>\n      <td>Looking Glass for my Poli-comedie actors in Eu...</td>\n      <td>NaN</td>\n      <td>Bombay, 1891.</td>\n      <td>NaN</td>\n      <td>NaN</td>\n      <td>NaN</td>\n      <td>NaN</td>\n      <td>lsidyv3ce84653</td>\n      <td>comedy</td>\n      <td>Drama</td>\n      <td>lsidyv3ce84653</td>\n    </tr>\n    <tr>\n      <th>477</th>\n      <td>14846809</td>\n      <td>|||</td>\n      <td>eng</td>\n      <td>NaN</td>\n      <td>NaN</td>\n      <td>ARTERTON, A.</td>\n      <td>NaN</td>\n      <td>Thespis and Melpomene. A lyrical drama, in fou...</td>\n      <td>NaN</td>\n      <td>London : London Literary Society, [1885.].</td>\n      <td>NaN</td>\n      <td>NaN</td>\n      <td>NaN</td>\n      <td>NaN</td>\n      <td>lsidyv35cf487e</td>\n      <td>play</td>\n      <td>Drama</td>\n      <td>lsidyv35cf487e</td>\n    </tr>\n    <tr>\n      <th>478</th>\n      <td>14847467</td>\n      <td>|||</td>\n      <td>eng</td>\n      <td>NaN</td>\n      <td>NaN</td>\n      <td>JENNER, Katharine Amabel.</td>\n      <td>NaN</td>\n      <td>Half-hour Plays. Rumpelstilskin and other play...</td>\n      <td>NaN</td>\n      <td>London : W. Smith &amp; Innes, 1889.</td>\n      <td>NaN</td>\n      <td>NaN</td>\n      <td>NaN</td>\n      <td>NaN</td>\n      <td>lsidyv35e8df0c</td>\n      <td>play</td>\n      <td>Drama</td>\n      <td>lsidyv35e8df0c</td>\n    </tr>\n    <tr>\n      <th>479</th>\n      <td>14867567</td>\n      <td>|||</td>\n      <td>eng</td>\n      <td>NaN</td>\n      <td>NaN</td>\n      <td>Savage, Richard, d. 1743.</td>\n      <td>NaN</td>\n      <td>Sir Thomas Overbury: a tragedy. Altered from t...</td>\n      <td>NaN</td>\n      <td>London : F. Newbery, 1777.</td>\n      <td>NaN</td>\n      <td>NaN</td>\n      <td>Woodfall, William, 1746-1803.</td>\n      <td>NaN</td>\n      <td>lsidyv36799ab2</td>\n      <td>tragedy</td>\n      <td>Drama</td>\n      <td>lsidyv36799ab2</td>\n    </tr>\n  </tbody>\n</table>\n<p>480 rows × 18 columns</p>\n</div>"
     },
     "execution_count": 16,
     "metadata": {},
     "output_type": "execute_result"
    }
   ],
   "source": [
    "df_extra"
   ]
  },
  {
   "cell_type": "code",
   "execution_count": 33,
   "outputs": [
    {
     "data": {
      "text/plain": "480"
     },
     "execution_count": 33,
     "metadata": {},
     "output_type": "execute_result"
    }
   ],
   "source": [
    "len(df_extra)"
   ],
   "metadata": {
    "collapsed": false,
    "ExecuteTime": {
     "end_time": "2024-08-11T08:54:45.539837Z",
     "start_time": "2024-08-11T08:54:45.498723Z"
    }
   }
  },
  {
   "cell_type": "code",
   "execution_count": 34,
   "metadata": {
    "ExecuteTime": {
     "end_time": "2024-08-11T08:54:56.397185Z",
     "start_time": "2024-08-11T08:54:56.374763Z"
    }
   },
   "outputs": [
    {
     "data": {
      "text/plain": "     aleph system no. country code language code (008) language code (041)  \\\n234          14846757          |||                 eng                 NaN   \n\n     ddc personal author corporate author  \\\n234  NaN           A. A.              NaN   \n\n                                                 title edition  \\\n234  The Poetical Aviary, with a bird's-eye view of...     NaN   \n\n                                 imprint series subjects  \\\n234  Calcutta : Privately printed, 1841.    NaN      NaN   \n\n    other personal authors  other corporate authors          dom id  type  \\\n234                    NaN                      NaN  lsidyv35c55757  poet   \n\n      genre       first_pdf  \n234  Poetry  lsidyv35c55757  ",
      "text/html": "<div>\n<style scoped>\n    .dataframe tbody tr th:only-of-type {\n        vertical-align: middle;\n    }\n\n    .dataframe tbody tr th {\n        vertical-align: top;\n    }\n\n    .dataframe thead th {\n        text-align: right;\n    }\n</style>\n<table border=\"1\" class=\"dataframe\">\n  <thead>\n    <tr style=\"text-align: right;\">\n      <th></th>\n      <th>aleph system no.</th>\n      <th>country code</th>\n      <th>language code (008)</th>\n      <th>language code (041)</th>\n      <th>ddc</th>\n      <th>personal author</th>\n      <th>corporate author</th>\n      <th>title</th>\n      <th>edition</th>\n      <th>imprint</th>\n      <th>series</th>\n      <th>subjects</th>\n      <th>other personal authors</th>\n      <th>other corporate authors</th>\n      <th>dom id</th>\n      <th>type</th>\n      <th>genre</th>\n      <th>first_pdf</th>\n    </tr>\n  </thead>\n  <tbody>\n    <tr>\n      <th>234</th>\n      <td>14846757</td>\n      <td>|||</td>\n      <td>eng</td>\n      <td>NaN</td>\n      <td>NaN</td>\n      <td>A. A.</td>\n      <td>NaN</td>\n      <td>The Poetical Aviary, with a bird's-eye view of...</td>\n      <td>NaN</td>\n      <td>Calcutta : Privately printed, 1841.</td>\n      <td>NaN</td>\n      <td>NaN</td>\n      <td>NaN</td>\n      <td>NaN</td>\n      <td>lsidyv35c55757</td>\n      <td>poet</td>\n      <td>Poetry</td>\n      <td>lsidyv35c55757</td>\n    </tr>\n  </tbody>\n</table>\n</div>"
     },
     "execution_count": 34,
     "metadata": {},
     "output_type": "execute_result"
    }
   ],
   "source": [
    "# the extra metadata can be already used as a data frame\n",
    "\n",
    "df_extra[df_extra[\"first_pdf\"] == \"lsidyv35c55757\"]\n",
    "# we perform here a selection of rows which abide to a given condition. We'll see more of this later on."
   ]
  },
  {
   "attachments": {},
   "cell_type": "markdown",
   "metadata": {},
   "source": [
    "**Question**: explore this data frame and find examples of messy aspects."
   ]
  },
  {
   "cell_type": "code",
   "execution_count": 18,
   "metadata": {
    "ExecuteTime": {
     "end_time": "2024-08-11T08:44:19.985535Z",
     "start_time": "2024-08-11T08:44:19.960506Z"
    }
   },
   "outputs": [
    {
     "data": {
      "text/plain": "{'datefield': '1841',\n 'shelfmarks': ['British Library HMNTS 11601.ddd.2.'],\n 'publisher': 'Privately printed',\n 'title': [\"The Poetical Aviary, with a bird's-eye view of the English poets. [The preface signed: A. A.] Ms. notes\"],\n 'edition': '',\n 'flickr_url_to_book_images': 'http://www.flickr.com/photos/britishlibrary/tags/sysnum000000196',\n 'place': 'Calcutta',\n 'issuance': 'monographic',\n 'authors': {'creator': ['A. A.']},\n 'date': '1841',\n 'pdf': {'1': 'lsidyv35c55757'},\n 'identifier': '000000196',\n 'corporate': {},\n 'fulltext_filename': 'sample/full_texts/000000196_01_text.json'}"
     },
     "execution_count": 18,
     "metadata": {},
     "output_type": "execute_result"
    }
   ],
   "source": [
    "metadata[0]"
   ]
  },
  {
   "attachments": {},
   "cell_type": "markdown",
   "metadata": {},
   "source": [
    "## Create dataframes from legacy data\n",
    "\n",
    "The extra bibliographic metadata were already loaded into the `df_extra` dataframe, remember?\n",
    "\n",
    "However, book metadata and information about fulltexts are not yet stored in dataframes, so let's do that."
   ]
  },
  {
   "cell_type": "code",
   "execution_count": 35,
   "metadata": {
    "ExecuteTime": {
     "end_time": "2024-08-11T08:56:13.786813Z",
     "start_time": "2024-08-11T08:56:13.757686Z"
    }
   },
   "outputs": [],
   "source": [
    "# you've probably executed already this cell at the very beginning of the notebook\n",
    "# but for the sake of readability we copy it here as well, so that it's closer to the \n",
    "# code that transforms it into a dataframe\n",
    "\n",
    "root_folder = \"../data/bl_books/sample/\"\n",
    "\n",
    "# metadata: stored in a single JSON file\n",
    "filename = \"book_data_sample.json\"\n",
    "metadata = json.load(codecs.open(os.path.join(root_folder,filename), encoding=\"utf8\"))"
   ]
  },
  {
   "attachments": {},
   "cell_type": "markdown",
   "metadata": {},
   "source": [
    "`metadata` is a list of dictionaries as the `json.load()` function reads the content of file `../data/bl_books/sample/book_data_sample.json` into a list of dictionaries.\n",
    "\n",
    "As a reminder, this is what one of these dictionaries looks like (here we are peeking at the first element of the list):"
   ]
  },
  {
   "cell_type": "code",
   "execution_count": 19,
   "metadata": {
    "ExecuteTime": {
     "end_time": "2024-08-11T08:44:36.961242Z",
     "start_time": "2024-08-11T08:44:36.940340Z"
    }
   },
   "outputs": [
    {
     "data": {
      "text/plain": "{'datefield': '1841',\n 'shelfmarks': ['British Library HMNTS 11601.ddd.2.'],\n 'publisher': 'Privately printed',\n 'title': [\"The Poetical Aviary, with a bird's-eye view of the English poets. [The preface signed: A. A.] Ms. notes\"],\n 'edition': '',\n 'flickr_url_to_book_images': 'http://www.flickr.com/photos/britishlibrary/tags/sysnum000000196',\n 'place': 'Calcutta',\n 'issuance': 'monographic',\n 'authors': {'creator': ['A. A.']},\n 'date': '1841',\n 'pdf': {'1': 'lsidyv35c55757'},\n 'identifier': '000000196',\n 'corporate': {},\n 'fulltext_filename': 'sample/full_texts/000000196_01_text.json'}"
     },
     "execution_count": 19,
     "metadata": {},
     "output_type": "execute_result"
    }
   ],
   "source": [
    "metadata[0]"
   ]
  },
  {
   "attachments": {},
   "cell_type": "markdown",
   "metadata": {},
   "source": [
    "Let's start by turning the content of `metadata` (list of dictionaries) into a dataframe.\n",
    "In order to do so, we create a dictionary of lists:\n",
    "- each key in the dictionary corresponds to a dataframe variable\n",
    "- each key has as a value the list of observations of that specific variable\n",
    "\n",
    "In the process, we drop some variables that we don't need at this stage (we simply ignore them and don't add them to the resulting dataframe)."
   ]
  },
  {
   "cell_type": "code",
   "execution_count": 36,
   "metadata": {
    "ExecuteTime": {
     "end_time": "2024-08-11T08:56:40.696590Z",
     "start_time": "2024-08-11T08:56:40.675427Z"
    }
   },
   "outputs": [],
   "source": [
    "# let's declare the empty lists where we will store the values\n",
    "# keep in mind that each of these lists will become a column (series) of the resulting dataframe \n",
    "datefield = list() # '1841'\n",
    "publisher = list() # 'Privately printed',\n",
    "title = list() # [\"The Poetical Aviary, with a bird's-eye view of the English poets. [The preface signed: A. A.] Ms. notes\"]\n",
    "edition = list() # ''\n",
    "place = list() # 'Calcutta'\n",
    "issuance = list() # 'monographic'\n",
    "authors = list() # {'creator': ['A. A.']}\n",
    "first_pdf = list() # {'1': 'lsidyv35c55757'}\n",
    "number_volumes = list()\n",
    "identifier = list() # '000000196'\n",
    "fulltext_filename = list() # 'sample/full_texts/000000196_01_text.json'\n",
    "\n",
    "# now we can iterate through our list of dictionaries\n",
    "for book in metadata:\n",
    "    if book[\"date\"]:\n",
    "        # we keep only the first four digits of `book[\"date\"]`\n",
    "        # in order to filter out years in brackets\n",
    "        # and we cast this value to an integer\n",
    "        datefield.append(int(book[\"date\"][:4]))\n",
    "    else:\n",
    "        datefield.append(None)\n",
    "    publisher.append(book[\"publisher\"])\n",
    "    \n",
    "    # book[\"title\"] is a list, so we keep only the first title\n",
    "    title.append(book[\"title\"][0])\n",
    "    edition.append(book[\"edition\"])\n",
    "    place.append(book[\"place\"])\n",
    "    issuance.append(book[\"issuance\"])\n",
    "\n",
    "    # book[\"authors\"] contained a dictionary\n",
    "    # we flatten this dictionary into a list, which later\n",
    "    # we will spinto into a dedicated dataframe\n",
    "    if \"creator\" in book[\"authors\"].keys():\n",
    "        authors.append(book[\"authors\"][\"creator\"]) # this is a list!\n",
    "    else:\n",
    "        authors.append([''])\n",
    "    first_pdf.append(book[\"pdf\"][\"1\"])\n",
    "\n",
    "    # although we keep the fulltext of only the first volume\n",
    "    # we want to store the number of volumes for a given book (for later analysis)\n",
    "    number_volumes.append(len(book[\"pdf\"]))\n",
    "    identifier.append(book[\"identifier\"])\n",
    "    fulltext_filename.append(book[\"fulltext_filename\"].split(\"/\")[-1])"
   ]
  },
  {
   "cell_type": "code",
   "execution_count": 37,
   "metadata": {
    "ExecuteTime": {
     "end_time": "2024-08-11T08:56:43.251285Z",
     "start_time": "2024-08-11T08:56:43.226692Z"
    }
   },
   "outputs": [],
   "source": [
    "# we combine all the previously created lists into a single dictionary of lists\n",
    "# which we pass directly to `pd.DataFrame.from_dict()`\n",
    "input_dict = {\n",
    "        \"datefield\": datefield,\n",
    "        \"publisher\": publisher,\n",
    "        \"title\": title,\n",
    "        \"edition\": edition,\n",
    "        \"place\": place,\n",
    "        \"issuance\": issuance,\n",
    "        \"authors\": authors,\n",
    "        \"first_pdf\": first_pdf,\n",
    "        \"number_volumes\": number_volumes,\n",
    "        \"identifier\": identifier,\n",
    "        \"fulltext_filename\": fulltext_filename\n",
    "    }\n",
    "\n",
    "df_meta = pd.DataFrame.from_dict(input_dict)"
   ]
  },
  {
   "attachments": {},
   "cell_type": "markdown",
   "metadata": {},
   "source": [
    "Before we create the dataframe, let's make sure that all the lists we just created have the same number of values = (observations):"
   ]
  },
  {
   "cell_type": "code",
   "execution_count": 9,
   "metadata": {},
   "outputs": [],
   "source": [
    "assert len(datefield) == len(publisher) == len(title) == len(edition) == len(place) == len(issuance) == len(authors) == len(first_pdf) == len(number_volumes) == len(identifier) == len(fulltext_filename)"
   ]
  },
  {
   "attachments": {},
   "cell_type": "markdown",
   "metadata": {},
   "source": [
    "Let's now create a dataframe containing the fulltexts for the books in our dataset."
   ]
  },
  {
   "cell_type": "code",
   "execution_count": 38,
   "metadata": {
    "ExecuteTime": {
     "end_time": "2024-08-11T08:56:56.865496Z",
     "start_time": "2024-08-11T08:56:56.282263Z"
    }
   },
   "outputs": [],
   "source": [
    "# fulltexts: stored in several JSON files, one per book\n",
    "foldername = \"full_texts\"\n",
    "texts = defaultdict(list)\n",
    "for root, dirs, files in os.walk(os.path.join(root_folder,foldername)):\n",
    "    for f in files:\n",
    "        if \".json\" in f:\n",
    "            t = json.load(codecs.open(os.path.join(root,f), encoding=\"utf8\"))\n",
    "            texts[f] = t"
   ]
  },
  {
   "cell_type": "code",
   "execution_count": 39,
   "metadata": {
    "ExecuteTime": {
     "end_time": "2024-08-11T08:57:06.330389Z",
     "start_time": "2024-08-11T08:57:06.305195Z"
    }
   },
   "outputs": [
    {
     "data": {
      "text/plain": "[[1, ''],\n [2, ''],\n [3, ''],\n [4, ''],\n [5, ''],\n [6, ''],\n [7, ''],\n [8, ''],\n [9, ''],\n [10, '\\' -■\" \\' LiLitr-- )Wm&,'],\n [11,\n  'HISTORY OF THE TOWN OF GROTON, INCLUDING PEPPERELL AND SHIRLEY, FROM THE FIRST GRANT OF GROTON PLANTATION IN 1655. WITH APPENDICES, CONTAINING FAMILY REGISTERS, TOWN AND STATE OFFICERS, POPULATION, AND OTHER STATISTICS. BY CALEB BUTLER. \"Pleraque eorum quæ referam parva forsitan et levia memoratu videri, non nescius sum.\" — Tacitus. \" Small things, in the beginning of natural or politic bodies, are as remarkable as greater, in bodies full grown.\" — Qov. Dudley\\'s Letter to Countess of Lincoln. BOSTON : PRESS OF T. R. MARVIN, No. 24 Congress Street. 1848.']]"
     },
     "execution_count": 39,
     "metadata": {},
     "output_type": "execute_result"
    }
   ],
   "source": [
    "# as a reminder of what the `texts` variable contains: it's\n",
    "# a dictionary where keys are filenames and values are lists of [page_number, fulltext]\n",
    "one_filename = list(texts.keys())[0]\n",
    "texts[one_filename][:11]"
   ]
  },
  {
   "cell_type": "code",
   "execution_count": 40,
   "metadata": {
    "ExecuteTime": {
     "end_time": "2024-08-11T08:57:15.784660Z",
     "start_time": "2024-08-11T08:57:15.777461Z"
    }
   },
   "outputs": [],
   "source": [
    "# texts\n",
    "how_many_pages = 50 # we reduce the amount of text to the first n pages, to make it faster to play with it\n",
    "fulltext_filename = list()\n",
    "fulltext = list()\n",
    "for f,t in texts.items():\n",
    "    fulltext_filename.append(f)\n",
    "\n",
    "    # we concatenate the first 50 pages into one string per book/document\n",
    "    text = \" \".join([line[1] for line in t][:how_many_pages])\n",
    "    fulltext.append(text)\n",
    "\n",
    "df_texts = pd.DataFrame.from_dict({\n",
    "    \"fulltext_filename\": fulltext_filename,\n",
    "    \"fulltext\": fulltext}\n",
    ")"
   ]
  },
  {
   "cell_type": "code",
   "execution_count": 41,
   "metadata": {
    "ExecuteTime": {
     "end_time": "2024-08-11T08:57:23.191238Z",
     "start_time": "2024-08-11T08:57:23.163186Z"
    }
   },
   "outputs": [
    {
     "data": {
      "text/plain": "        fulltext_filename                                           fulltext\n0  000551646_01_text.json           ' -■\" ' LiLitr-- )Wm&, HISTORY OF THE...\n1  002674278_01_text.json          The Great Revolution of 1840. REMINISC...\n2  001975731_01_text.json          THE REAR-GUARD OF THE REVOLUTION. BY E...\n3  000570834_01_text.json    'Tis Well it's no Worfe: A COMEDY. As it is ...\n4  001831273_01_text.json      OFFICIAL CORRESPONDENCE WITH THE DEPARTMEN...",
      "text/html": "<div>\n<style scoped>\n    .dataframe tbody tr th:only-of-type {\n        vertical-align: middle;\n    }\n\n    .dataframe tbody tr th {\n        vertical-align: top;\n    }\n\n    .dataframe thead th {\n        text-align: right;\n    }\n</style>\n<table border=\"1\" class=\"dataframe\">\n  <thead>\n    <tr style=\"text-align: right;\">\n      <th></th>\n      <th>fulltext_filename</th>\n      <th>fulltext</th>\n    </tr>\n  </thead>\n  <tbody>\n    <tr>\n      <th>0</th>\n      <td>000551646_01_text.json</td>\n      <td>' -■\" ' LiLitr-- )Wm&amp;, HISTORY OF THE...</td>\n    </tr>\n    <tr>\n      <th>1</th>\n      <td>002674278_01_text.json</td>\n      <td>The Great Revolution of 1840. REMINISC...</td>\n    </tr>\n    <tr>\n      <th>2</th>\n      <td>001975731_01_text.json</td>\n      <td>THE REAR-GUARD OF THE REVOLUTION. BY E...</td>\n    </tr>\n    <tr>\n      <th>3</th>\n      <td>000570834_01_text.json</td>\n      <td>'Tis Well it's no Worfe: A COMEDY. As it is ...</td>\n    </tr>\n    <tr>\n      <th>4</th>\n      <td>001831273_01_text.json</td>\n      <td>OFFICIAL CORRESPONDENCE WITH THE DEPARTMEN...</td>\n    </tr>\n  </tbody>\n</table>\n</div>"
     },
     "execution_count": 41,
     "metadata": {},
     "output_type": "execute_result"
    }
   ],
   "source": [
    "df_texts.head()"
   ]
  },
  {
   "attachments": {},
   "cell_type": "markdown",
   "metadata": {},
   "source": [
    "## A second look\n",
    "Let's check data types and typical values to be sure of what we have."
   ]
  },
  {
   "cell_type": "code",
   "execution_count": 42,
   "metadata": {
    "ExecuteTime": {
     "end_time": "2024-08-11T08:57:27.964878Z",
     "start_time": "2024-08-11T08:57:27.937182Z"
    }
   },
   "outputs": [
    {
     "data": {
      "text/plain": "datefield            float64\npublisher             object\ntitle                 object\nedition               object\nplace                 object\nissuance              object\nauthors               object\nfirst_pdf             object\nnumber_volumes         int64\nidentifier            object\nfulltext_filename     object\ndtype: object"
     },
     "execution_count": 42,
     "metadata": {},
     "output_type": "execute_result"
    }
   ],
   "source": [
    "df_meta.dtypes"
   ]
  },
  {
   "cell_type": "code",
   "execution_count": 43,
   "metadata": {
    "ExecuteTime": {
     "end_time": "2024-08-11T08:57:31.678434Z",
     "start_time": "2024-08-11T08:57:31.349584Z"
    }
   },
   "outputs": [
    {
     "data": {
      "text/plain": "<Axes: >"
     },
     "execution_count": 43,
     "metadata": {},
     "output_type": "execute_result"
    },
    {
     "data": {
      "text/plain": "<Figure size 640x480 with 1 Axes>",
      "image/png": "[encoded data removed]"
     },
     "metadata": {},
     "output_type": "display_data"
    }
   ],
   "source": [
    "df_meta[\"datefield\"].hist(bins=20)"
   ]
  },
  {
   "cell_type": "code",
   "execution_count": 44,
   "metadata": {
    "ExecuteTime": {
     "end_time": "2024-08-11T08:57:34.589860Z",
     "start_time": "2024-08-11T08:57:34.478716Z"
    }
   },
   "outputs": [
    {
     "data": {
      "text/plain": "<Axes: >"
     },
     "execution_count": 44,
     "metadata": {},
     "output_type": "execute_result"
    },
    {
     "data": {
      "text/plain": "<Figure size 640x480 with 1 Axes>",
      "image/png": "[encoded data removed]"
     },
     "metadata": {},
     "output_type": "display_data"
    }
   ],
   "source": [
    "df_meta[\"number_volumes\"].hist()"
   ]
  },
  {
   "cell_type": "code",
   "execution_count": 45,
   "metadata": {
    "ExecuteTime": {
     "end_time": "2024-08-11T08:57:36.780246Z",
     "start_time": "2024-08-11T08:57:36.757440Z"
    }
   },
   "outputs": [
    {
     "data": {
      "text/plain": "place\nLondon          243\nNew York         23\nDublin           10\nPhiladelphia     10\nEdinburgh         9\nenk               8\nLeeds             8\nCambridge         6\nBoston            6\n                  5\nOxford            5\nName: count, dtype: int64"
     },
     "execution_count": 45,
     "metadata": {},
     "output_type": "execute_result"
    }
   ],
   "source": [
    "variable = \"place\"\n",
    "df_meta[variable].value_counts()[:11]"
   ]
  },
  {
   "cell_type": "code",
   "execution_count": 46,
   "metadata": {
    "ExecuteTime": {
     "end_time": "2024-08-11T08:57:39.475328Z",
     "start_time": "2024-08-11T08:57:39.445993Z"
    }
   },
   "outputs": [
    {
     "data": {
      "text/plain": "place\nBangor, Ma           1\nBayonne              1\nNewcastle            1\nFramlingham          1\nNashua               1\nJ. Wiseheart         1\nSpringfield, Mass    1\nNew Haven            1\nCirencester          1\nPrivately printed    1\nName: count, dtype: int64"
     },
     "execution_count": 46,
     "metadata": {},
     "output_type": "execute_result"
    }
   ],
   "source": [
    "df_meta[variable].value_counts()[-10:]"
   ]
  },
  {
   "cell_type": "code",
   "execution_count": 47,
   "metadata": {
    "ExecuteTime": {
     "end_time": "2024-08-11T08:57:41.179563Z",
     "start_time": "2024-08-11T08:57:41.155279Z"
    }
   },
   "outputs": [
    {
     "data": {
      "text/plain": "genre\nProse     120\nPoetry    120\nMusic     120\nDrama     120\nName: count, dtype: int64"
     },
     "execution_count": 47,
     "metadata": {},
     "output_type": "execute_result"
    }
   ],
   "source": [
    "df_extra[\"genre\"].value_counts()"
   ]
  },
  {
   "cell_type": "code",
   "execution_count": 48,
   "metadata": {
    "ExecuteTime": {
     "end_time": "2024-08-11T08:57:42.894367Z",
     "start_time": "2024-08-11T08:57:42.872370Z"
    }
   },
   "outputs": [
    {
     "data": {
      "text/plain": "type\nstory         106\nopera          79\nplay           64\node            53\npoet           37\nsong           36\ntragedy        32\ncomedy         18\nverse          10\nlines           9\nrecitation      6\nromance         6\nelegy           6\nmelody          3\ntale            3\nnovel           3\nlyric           2\nhymn            2\nsatire          2\nrhyme           2\nballad          1\nName: count, dtype: int64"
     },
     "execution_count": 48,
     "metadata": {},
     "output_type": "execute_result"
    }
   ],
   "source": [
    "df_extra[\"type\"].value_counts()"
   ]
  },
  {
   "attachments": {},
   "cell_type": "markdown",
   "metadata": {},
   "source": [
    "**Questions**:\n",
    "    \n",
    "* 'place' seems like a reasonably uniform variable. Try with 'edition' instead, and think about how that might be more problematic.\n",
    "* While the 'genre' variable is uniform in representation, the 'type' variable is not. Can you find out what are the most well-represented types for each genre category? How might this influence our use of 'type' for analysis?"
   ]
  },
  {
   "attachments": {},
   "cell_type": "markdown",
   "metadata": {},
   "source": [
    "## UML modelling\n",
    "From an Entity-Relationship model to a relational model (tidy data).\n",
    "\n",
    "UML: Unified Modelling Language. A visual design language to go about modelling systems, including data. https://en.wikipedia.org/wiki/Unified_Modeling_Language"
   ]
  },
  {
   "cell_type": "code",
   "execution_count": 18,
   "metadata": {},
   "outputs": [
    {
     "data": {
      "text/html": [
       "<div>\n",
       "<style scoped>\n",
       "    .dataframe tbody tr th:only-of-type {\n",
       "        vertical-align: middle;\n",
       "    }\n",
       "\n",
       "    .dataframe tbody tr th {\n",
       "        vertical-align: top;\n",
       "    }\n",
       "\n",
       "    .dataframe thead th {\n",
       "        text-align: right;\n",
       "    }\n",
       "</style>\n",
       "<table border=\"1\" class=\"dataframe\">\n",
       "  <thead>\n",
       "    <tr style=\"text-align: right;\">\n",
       "      <th></th>\n",
       "      <th>datefield</th>\n",
       "      <th>publisher</th>\n",
       "      <th>title</th>\n",
       "      <th>edition</th>\n",
       "      <th>place</th>\n",
       "      <th>issuance</th>\n",
       "      <th>authors</th>\n",
       "      <th>first_pdf</th>\n",
       "      <th>number_volumes</th>\n",
       "      <th>identifier</th>\n",
       "      <th>fulltext_filename</th>\n",
       "    </tr>\n",
       "  </thead>\n",
       "  <tbody>\n",
       "    <tr>\n",
       "      <th>0</th>\n",
       "      <td>1841.0</td>\n",
       "      <td>Privately printed</td>\n",
       "      <td>The Poetical Aviary, with a bird's-eye view of...</td>\n",
       "      <td></td>\n",
       "      <td>Calcutta</td>\n",
       "      <td>monographic</td>\n",
       "      <td>[A. A.]</td>\n",
       "      <td>lsidyv35c55757</td>\n",
       "      <td>1</td>\n",
       "      <td>000000196</td>\n",
       "      <td>000000196_01_text.json</td>\n",
       "    </tr>\n",
       "  </tbody>\n",
       "</table>\n",
       "</div>"
      ],
      "text/plain": [
       "   datefield          publisher  \\\n",
       "0     1841.0  Privately printed   \n",
       "\n",
       "                                               title edition     place  \\\n",
       "0  The Poetical Aviary, with a bird's-eye view of...          Calcutta   \n",
       "\n",
       "      issuance  authors       first_pdf  number_volumes identifier  \\\n",
       "0  monographic  [A. A.]  lsidyv35c55757               1  000000196   \n",
       "\n",
       "        fulltext_filename  \n",
       "0  000000196_01_text.json  "
      ]
     },
     "execution_count": 18,
     "metadata": {},
     "output_type": "execute_result"
    }
   ],
   "source": [
    "df_meta.head(1)"
   ]
  },
  {
   "cell_type": "code",
   "execution_count": 25,
   "metadata": {},
   "outputs": [
    {
     "data": {
      "text/html": [
       "<div>\n",
       "<style scoped>\n",
       "    .dataframe tbody tr th:only-of-type {\n",
       "        vertical-align: middle;\n",
       "    }\n",
       "\n",
       "    .dataframe tbody tr th {\n",
       "        vertical-align: top;\n",
       "    }\n",
       "\n",
       "    .dataframe thead th {\n",
       "        text-align: right;\n",
       "    }\n",
       "</style>\n",
       "<table border=\"1\" class=\"dataframe\">\n",
       "  <thead>\n",
       "    <tr style=\"text-align: right;\">\n",
       "      <th></th>\n",
       "      <th>fulltext_filename</th>\n",
       "      <th>fulltext</th>\n",
       "    </tr>\n",
       "  </thead>\n",
       "  <tbody>\n",
       "    <tr>\n",
       "      <th>0</th>\n",
       "      <td>000551646_01_text.json</td>\n",
       "      <td>' -■\" ' LiLitr-- )Wm&amp;, HISTORY OF THE...</td>\n",
       "    </tr>\n",
       "    <tr>\n",
       "      <th>1</th>\n",
       "      <td>002674278_01_text.json</td>\n",
       "      <td>The Great Revolution of 1840. REMINISC...</td>\n",
       "    </tr>\n",
       "    <tr>\n",
       "      <th>2</th>\n",
       "      <td>001975731_01_text.json</td>\n",
       "      <td>THE REAR-GUARD OF THE REVOLUTION. BY E...</td>\n",
       "    </tr>\n",
       "    <tr>\n",
       "      <th>3</th>\n",
       "      <td>000570834_01_text.json</td>\n",
       "      <td>'Tis Well it's no Worfe: A COMEDY. As it is ...</td>\n",
       "    </tr>\n",
       "    <tr>\n",
       "      <th>4</th>\n",
       "      <td>001831273_01_text.json</td>\n",
       "      <td>OFFICIAL CORRESPONDENCE WITH THE DEPARTMEN...</td>\n",
       "    </tr>\n",
       "    <tr>\n",
       "      <th>...</th>\n",
       "      <td>...</td>\n",
       "      <td>...</td>\n",
       "    </tr>\n",
       "    <tr>\n",
       "      <th>448</th>\n",
       "      <td>003405646_01_text.json</td>\n",
       "      <td>M/MEA &amp; LAYCOCK Pflf^r^/iS,LŒ/)S.  l^eabon, ...</td>\n",
       "    </tr>\n",
       "    <tr>\n",
       "      <th>449</th>\n",
       "      <td>003865691_01_text.json</td>\n",
       "      <td>THE HISTORY OF A LUMP OF IRON, &lt;d|rom fit*...</td>\n",
       "    </tr>\n",
       "    <tr>\n",
       "      <th>450</th>\n",
       "      <td>000387896_01_text.json</td>\n",
       "      <td>THE HISTORY OF SALT; WITH OBSERVATIONS ON ...</td>\n",
       "    </tr>\n",
       "    <tr>\n",
       "      <th>451</th>\n",
       "      <td>001845847_01_text.json</td>\n",
       "      <td>Xeisure IDour XiPrics C. W. JAMES  LEISURE H...</td>\n",
       "    </tr>\n",
       "    <tr>\n",
       "      <th>452</th>\n",
       "      <td>000000196_01_text-checkpoint.json</td>\n",
       "      <td>THE POETICAL AVIARY, WITH A B I R D'S-E ...</td>\n",
       "    </tr>\n",
       "  </tbody>\n",
       "</table>\n",
       "<p>453 rows × 2 columns</p>\n",
       "</div>"
      ],
      "text/plain": [
       "                     fulltext_filename  \\\n",
       "0               000551646_01_text.json   \n",
       "1               002674278_01_text.json   \n",
       "2               001975731_01_text.json   \n",
       "3               000570834_01_text.json   \n",
       "4               001831273_01_text.json   \n",
       "..                                 ...   \n",
       "448             003405646_01_text.json   \n",
       "449             003865691_01_text.json   \n",
       "450             000387896_01_text.json   \n",
       "451             001845847_01_text.json   \n",
       "452  000000196_01_text-checkpoint.json   \n",
       "\n",
       "                                              fulltext  \n",
       "0             ' -■\" ' LiLitr-- )Wm&, HISTORY OF THE...  \n",
       "1            The Great Revolution of 1840. REMINISC...  \n",
       "2            THE REAR-GUARD OF THE REVOLUTION. BY E...  \n",
       "3      'Tis Well it's no Worfe: A COMEDY. As it is ...  \n",
       "4        OFFICIAL CORRESPONDENCE WITH THE DEPARTMEN...  \n",
       "..                                                 ...  \n",
       "448    M/MEA & LAYCOCK Pflf^r^/iS,LŒ/)S.  l^eabon, ...  \n",
       "449      THE HISTORY OF A LUMP OF IRON, <d|rom fit*...  \n",
       "450      THE HISTORY OF SALT; WITH OBSERVATIONS ON ...  \n",
       "451    Xeisure IDour XiPrics C. W. JAMES  LEISURE H...  \n",
       "452        THE POETICAL AVIARY, WITH A B I R D'S-E ...  \n",
       "\n",
       "[453 rows x 2 columns]"
      ]
     },
     "execution_count": 25,
     "metadata": {},
     "output_type": "execute_result"
    }
   ],
   "source": [
    "df_texts"
   ]
  },
  {
   "cell_type": "code",
   "execution_count": 19,
   "metadata": {},
   "outputs": [
    {
     "data": {
      "text/html": [
       "<div>\n",
       "<style scoped>\n",
       "    .dataframe tbody tr th:only-of-type {\n",
       "        vertical-align: middle;\n",
       "    }\n",
       "\n",
       "    .dataframe tbody tr th {\n",
       "        vertical-align: top;\n",
       "    }\n",
       "\n",
       "    .dataframe thead th {\n",
       "        text-align: right;\n",
       "    }\n",
       "</style>\n",
       "<table border=\"1\" class=\"dataframe\">\n",
       "  <thead>\n",
       "    <tr style=\"text-align: right;\">\n",
       "      <th></th>\n",
       "      <th>fulltext_filename</th>\n",
       "      <th>fulltext</th>\n",
       "    </tr>\n",
       "  </thead>\n",
       "  <tbody>\n",
       "    <tr>\n",
       "      <th>150</th>\n",
       "      <td>000000196_01_text.json</td>\n",
       "      <td>THE POETICAL AVIARY, WITH A B I R D'S-E ...</td>\n",
       "    </tr>\n",
       "  </tbody>\n",
       "</table>\n",
       "</div>"
      ],
      "text/plain": [
       "          fulltext_filename                                           fulltext\n",
       "150  000000196_01_text.json        THE POETICAL AVIARY, WITH A B I R D'S-E ..."
      ]
     },
     "execution_count": 19,
     "metadata": {},
     "output_type": "execute_result"
    }
   ],
   "source": [
    "df_texts[df_texts[\"fulltext_filename\"] == '000000196_01_text.json']"
   ]
  },
  {
   "cell_type": "code",
   "execution_count": 20,
   "metadata": {},
   "outputs": [
    {
     "data": {
      "text/html": [
       "<div>\n",
       "<style scoped>\n",
       "    .dataframe tbody tr th:only-of-type {\n",
       "        vertical-align: middle;\n",
       "    }\n",
       "\n",
       "    .dataframe tbody tr th {\n",
       "        vertical-align: top;\n",
       "    }\n",
       "\n",
       "    .dataframe thead th {\n",
       "        text-align: right;\n",
       "    }\n",
       "</style>\n",
       "<table border=\"1\" class=\"dataframe\">\n",
       "  <thead>\n",
       "    <tr style=\"text-align: right;\">\n",
       "      <th></th>\n",
       "      <th>aleph system no.</th>\n",
       "      <th>country code</th>\n",
       "      <th>language code (008)</th>\n",
       "      <th>language code (041)</th>\n",
       "      <th>ddc</th>\n",
       "      <th>personal author</th>\n",
       "      <th>corporate author</th>\n",
       "      <th>title</th>\n",
       "      <th>edition</th>\n",
       "      <th>imprint</th>\n",
       "      <th>series</th>\n",
       "      <th>subjects</th>\n",
       "      <th>other personal authors</th>\n",
       "      <th>other corporate authors</th>\n",
       "      <th>dom id</th>\n",
       "      <th>type</th>\n",
       "      <th>genre</th>\n",
       "      <th>first_pdf</th>\n",
       "    </tr>\n",
       "  </thead>\n",
       "  <tbody>\n",
       "    <tr>\n",
       "      <th>234</th>\n",
       "      <td>14846757</td>\n",
       "      <td>|||</td>\n",
       "      <td>eng</td>\n",
       "      <td>NaN</td>\n",
       "      <td>NaN</td>\n",
       "      <td>A. A.</td>\n",
       "      <td>NaN</td>\n",
       "      <td>The Poetical Aviary, with a bird's-eye view of...</td>\n",
       "      <td>NaN</td>\n",
       "      <td>Calcutta : Privately printed, 1841.</td>\n",
       "      <td>NaN</td>\n",
       "      <td>NaN</td>\n",
       "      <td>NaN</td>\n",
       "      <td>NaN</td>\n",
       "      <td>lsidyv35c55757</td>\n",
       "      <td>poet</td>\n",
       "      <td>Poetry</td>\n",
       "      <td>lsidyv35c55757</td>\n",
       "    </tr>\n",
       "  </tbody>\n",
       "</table>\n",
       "</div>"
      ],
      "text/plain": [
       "     aleph system no. country code language code (008) language code (041)  \\\n",
       "234          14846757          |||                 eng                 NaN   \n",
       "\n",
       "     ddc personal author corporate author  \\\n",
       "234  NaN           A. A.              NaN   \n",
       "\n",
       "                                                 title edition  \\\n",
       "234  The Poetical Aviary, with a bird's-eye view of...     NaN   \n",
       "\n",
       "                                 imprint series subjects  \\\n",
       "234  Calcutta : Privately printed, 1841.    NaN      NaN   \n",
       "\n",
       "    other personal authors  other corporate authors          dom id  type  \\\n",
       "234                    NaN                      NaN  lsidyv35c55757  poet   \n",
       "\n",
       "      genre       first_pdf  \n",
       "234  Poetry  lsidyv35c55757  "
      ]
     },
     "execution_count": 20,
     "metadata": {},
     "output_type": "execute_result"
    }
   ],
   "source": [
    "df_extra[df_extra[\"first_pdf\"] == \"lsidyv35c55757\"]"
   ]
  },
  {
   "attachments": {},
   "cell_type": "markdown",
   "metadata": {},
   "source": [
    "**Now we switch to the blackboard and model!**"
   ]
  },
  {
   "attachments": {},
   "cell_type": "markdown",
   "metadata": {},
   "source": [
    "## Tidy dataset: relational-model\n",
    "\n",
    "* Full view (for your curiosity): https://dbdiagram.io/d/5d06a4adfff7633dfc8e3a42\n",
    "* Reduced view (we here use this one): https://dbdiagram.io/d/5d06a5d0fff7633dfc8e3a47"
   ]
  },
  {
   "cell_type": "code",
   "execution_count": 26,
   "metadata": {},
   "outputs": [],
   "source": [
    "# first, join the extra metadata genre column to the metadata data frame. More details on joins in class 3.1.\n",
    "\n",
    "df_extra_genre = df_extra[[\"type\",\"genre\",\"first_pdf\"]]\n",
    "df_book = df_meta.join(df_extra_genre.set_index('first_pdf'), on='first_pdf')"
   ]
  },
  {
   "cell_type": "code",
   "execution_count": 27,
   "metadata": {},
   "outputs": [
    {
     "data": {
      "text/html": [
       "<div>\n",
       "<style scoped>\n",
       "    .dataframe tbody tr th:only-of-type {\n",
       "        vertical-align: middle;\n",
       "    }\n",
       "\n",
       "    .dataframe tbody tr th {\n",
       "        vertical-align: top;\n",
       "    }\n",
       "\n",
       "    .dataframe thead th {\n",
       "        text-align: right;\n",
       "    }\n",
       "</style>\n",
       "<table border=\"1\" class=\"dataframe\">\n",
       "  <thead>\n",
       "    <tr style=\"text-align: right;\">\n",
       "      <th></th>\n",
       "      <th>datefield</th>\n",
       "      <th>publisher</th>\n",
       "      <th>title</th>\n",
       "      <th>edition</th>\n",
       "      <th>place</th>\n",
       "      <th>issuance</th>\n",
       "      <th>authors</th>\n",
       "      <th>first_pdf</th>\n",
       "      <th>number_volumes</th>\n",
       "      <th>identifier</th>\n",
       "      <th>fulltext_filename</th>\n",
       "      <th>type</th>\n",
       "      <th>genre</th>\n",
       "    </tr>\n",
       "  </thead>\n",
       "  <tbody>\n",
       "    <tr>\n",
       "      <th>0</th>\n",
       "      <td>1841.0</td>\n",
       "      <td>Privately printed</td>\n",
       "      <td>The Poetical Aviary, with a bird's-eye view of...</td>\n",
       "      <td></td>\n",
       "      <td>Calcutta</td>\n",
       "      <td>monographic</td>\n",
       "      <td>[A. A.]</td>\n",
       "      <td>lsidyv35c55757</td>\n",
       "      <td>1</td>\n",
       "      <td>000000196</td>\n",
       "      <td>000000196_01_text.json</td>\n",
       "      <td>poet</td>\n",
       "      <td>Poetry</td>\n",
       "    </tr>\n",
       "  </tbody>\n",
       "</table>\n",
       "</div>"
      ],
      "text/plain": [
       "   datefield          publisher  \\\n",
       "0     1841.0  Privately printed   \n",
       "\n",
       "                                               title edition     place  \\\n",
       "0  The Poetical Aviary, with a bird's-eye view of...          Calcutta   \n",
       "\n",
       "      issuance  authors       first_pdf  number_volumes identifier  \\\n",
       "0  monographic  [A. A.]  lsidyv35c55757               1  000000196   \n",
       "\n",
       "        fulltext_filename  type   genre  \n",
       "0  000000196_01_text.json  poet  Poetry  "
      ]
     },
     "execution_count": 27,
     "metadata": {},
     "output_type": "execute_result"
    }
   ],
   "source": [
    "df_book.head(1)"
   ]
  },
  {
   "cell_type": "code",
   "execution_count": 28,
   "metadata": {},
   "outputs": [
    {
     "data": {
      "text/html": [
       "<div>\n",
       "<style scoped>\n",
       "    .dataframe tbody tr th:only-of-type {\n",
       "        vertical-align: middle;\n",
       "    }\n",
       "\n",
       "    .dataframe tbody tr th {\n",
       "        vertical-align: top;\n",
       "    }\n",
       "\n",
       "    .dataframe thead th {\n",
       "        text-align: right;\n",
       "    }\n",
       "</style>\n",
       "<table border=\"1\" class=\"dataframe\">\n",
       "  <thead>\n",
       "    <tr style=\"text-align: right;\">\n",
       "      <th></th>\n",
       "      <th>fulltext_filename</th>\n",
       "      <th>fulltext</th>\n",
       "    </tr>\n",
       "  </thead>\n",
       "  <tbody>\n",
       "    <tr>\n",
       "      <th>0</th>\n",
       "      <td>000551646_01_text.json</td>\n",
       "      <td>' -■\" ' LiLitr-- )Wm&amp;, HISTORY OF THE...</td>\n",
       "    </tr>\n",
       "    <tr>\n",
       "      <th>1</th>\n",
       "      <td>002674278_01_text.json</td>\n",
       "      <td>The Great Revolution of 1840. REMINISC...</td>\n",
       "    </tr>\n",
       "    <tr>\n",
       "      <th>2</th>\n",
       "      <td>001975731_01_text.json</td>\n",
       "      <td>THE REAR-GUARD OF THE REVOLUTION. BY E...</td>\n",
       "    </tr>\n",
       "    <tr>\n",
       "      <th>3</th>\n",
       "      <td>000570834_01_text.json</td>\n",
       "      <td>'Tis Well it's no Worfe: A COMEDY. As it is ...</td>\n",
       "    </tr>\n",
       "    <tr>\n",
       "      <th>4</th>\n",
       "      <td>001831273_01_text.json</td>\n",
       "      <td>OFFICIAL CORRESPONDENCE WITH THE DEPARTMEN...</td>\n",
       "    </tr>\n",
       "    <tr>\n",
       "      <th>...</th>\n",
       "      <td>...</td>\n",
       "      <td>...</td>\n",
       "    </tr>\n",
       "    <tr>\n",
       "      <th>448</th>\n",
       "      <td>003405646_01_text.json</td>\n",
       "      <td>M/MEA &amp; LAYCOCK Pflf^r^/iS,LŒ/)S.  l^eabon, ...</td>\n",
       "    </tr>\n",
       "    <tr>\n",
       "      <th>449</th>\n",
       "      <td>003865691_01_text.json</td>\n",
       "      <td>THE HISTORY OF A LUMP OF IRON, &lt;d|rom fit*...</td>\n",
       "    </tr>\n",
       "    <tr>\n",
       "      <th>450</th>\n",
       "      <td>000387896_01_text.json</td>\n",
       "      <td>THE HISTORY OF SALT; WITH OBSERVATIONS ON ...</td>\n",
       "    </tr>\n",
       "    <tr>\n",
       "      <th>451</th>\n",
       "      <td>001845847_01_text.json</td>\n",
       "      <td>Xeisure IDour XiPrics C. W. JAMES  LEISURE H...</td>\n",
       "    </tr>\n",
       "    <tr>\n",
       "      <th>452</th>\n",
       "      <td>000000196_01_text-checkpoint.json</td>\n",
       "      <td>THE POETICAL AVIARY, WITH A B I R D'S-E ...</td>\n",
       "    </tr>\n",
       "  </tbody>\n",
       "</table>\n",
       "<p>453 rows × 2 columns</p>\n",
       "</div>"
      ],
      "text/plain": [
       "                     fulltext_filename  \\\n",
       "0               000551646_01_text.json   \n",
       "1               002674278_01_text.json   \n",
       "2               001975731_01_text.json   \n",
       "3               000570834_01_text.json   \n",
       "4               001831273_01_text.json   \n",
       "..                                 ...   \n",
       "448             003405646_01_text.json   \n",
       "449             003865691_01_text.json   \n",
       "450             000387896_01_text.json   \n",
       "451             001845847_01_text.json   \n",
       "452  000000196_01_text-checkpoint.json   \n",
       "\n",
       "                                              fulltext  \n",
       "0             ' -■\" ' LiLitr-- )Wm&, HISTORY OF THE...  \n",
       "1            The Great Revolution of 1840. REMINISC...  \n",
       "2            THE REAR-GUARD OF THE REVOLUTION. BY E...  \n",
       "3      'Tis Well it's no Worfe: A COMEDY. As it is ...  \n",
       "4        OFFICIAL CORRESPONDENCE WITH THE DEPARTMEN...  \n",
       "..                                                 ...  \n",
       "448    M/MEA & LAYCOCK Pflf^r^/iS,LŒ/)S.  l^eabon, ...  \n",
       "449      THE HISTORY OF A LUMP OF IRON, <d|rom fit*...  \n",
       "450      THE HISTORY OF SALT; WITH OBSERVATIONS ON ...  \n",
       "451    Xeisure IDour XiPrics C. W. JAMES  LEISURE H...  \n",
       "452        THE POETICAL AVIARY, WITH A B I R D'S-E ...  \n",
       "\n",
       "[453 rows x 2 columns]"
      ]
     },
     "execution_count": 28,
     "metadata": {},
     "output_type": "execute_result"
    }
   ],
   "source": [
    "df_texts"
   ]
  },
  {
   "cell_type": "code",
   "execution_count": 21,
   "metadata": {},
   "outputs": [
    {
     "data": {
      "text/html": [
       "<div>\n",
       "<style scoped>\n",
       "    .dataframe tbody tr th:only-of-type {\n",
       "        vertical-align: middle;\n",
       "    }\n",
       "\n",
       "    .dataframe tbody tr th {\n",
       "        vertical-align: top;\n",
       "    }\n",
       "\n",
       "    .dataframe thead th {\n",
       "        text-align: right;\n",
       "    }\n",
       "</style>\n",
       "<table border=\"1\" class=\"dataframe\">\n",
       "  <thead>\n",
       "    <tr style=\"text-align: right;\">\n",
       "      <th></th>\n",
       "      <th>identifier</th>\n",
       "    </tr>\n",
       "    <tr>\n",
       "      <th>fulltext_filename</th>\n",
       "      <th></th>\n",
       "    </tr>\n",
       "  </thead>\n",
       "  <tbody>\n",
       "    <tr>\n",
       "      <th>000000196_01_text.json</th>\n",
       "      <td>000000196</td>\n",
       "    </tr>\n",
       "    <tr>\n",
       "      <th>000004047_01_text.json</th>\n",
       "      <td>000004047</td>\n",
       "    </tr>\n",
       "    <tr>\n",
       "      <th>000005382_01_text.json</th>\n",
       "      <td>000005382</td>\n",
       "    </tr>\n",
       "    <tr>\n",
       "      <th>000014627_01_text.json</th>\n",
       "      <td>000014627</td>\n",
       "    </tr>\n",
       "    <tr>\n",
       "      <th>000017057_01_text.json</th>\n",
       "      <td>000017057</td>\n",
       "    </tr>\n",
       "    <tr>\n",
       "      <th>...</th>\n",
       "      <td>...</td>\n",
       "    </tr>\n",
       "    <tr>\n",
       "      <th>003988464_01_text.json</th>\n",
       "      <td>003988464</td>\n",
       "    </tr>\n",
       "    <tr>\n",
       "      <th>003988508_01_text.json</th>\n",
       "      <td>003988508</td>\n",
       "    </tr>\n",
       "    <tr>\n",
       "      <th>003999073_01_text.json</th>\n",
       "      <td>003999073</td>\n",
       "    </tr>\n",
       "    <tr>\n",
       "      <th>004088697_01_text.json</th>\n",
       "      <td>004088697</td>\n",
       "    </tr>\n",
       "    <tr>\n",
       "      <th>004088699_01_text.json</th>\n",
       "      <td>004088699</td>\n",
       "    </tr>\n",
       "  </tbody>\n",
       "</table>\n",
       "<p>452 rows × 1 columns</p>\n",
       "</div>"
      ],
      "text/plain": [
       "                       identifier\n",
       "fulltext_filename                \n",
       "000000196_01_text.json  000000196\n",
       "000004047_01_text.json  000004047\n",
       "000005382_01_text.json  000005382\n",
       "000014627_01_text.json  000014627\n",
       "000017057_01_text.json  000017057\n",
       "...                           ...\n",
       "003988464_01_text.json  003988464\n",
       "003988508_01_text.json  003988508\n",
       "003999073_01_text.json  003999073\n",
       "004088697_01_text.json  004088697\n",
       "004088699_01_text.json  004088699\n",
       "\n",
       "[452 rows x 1 columns]"
      ]
     },
     "execution_count": 21,
     "metadata": {},
     "output_type": "execute_result"
    }
   ],
   "source": [
    "df_book[[\"identifier\",\"fulltext_filename\"]].set_index('fulltext_filename')"
   ]
  },
  {
   "cell_type": "code",
   "execution_count": 29,
   "metadata": {},
   "outputs": [
    {
     "data": {
      "text/html": [
       "<div>\n",
       "<style scoped>\n",
       "    .dataframe tbody tr th:only-of-type {\n",
       "        vertical-align: middle;\n",
       "    }\n",
       "\n",
       "    .dataframe tbody tr th {\n",
       "        vertical-align: top;\n",
       "    }\n",
       "\n",
       "    .dataframe thead th {\n",
       "        text-align: right;\n",
       "    }\n",
       "</style>\n",
       "<table border=\"1\" class=\"dataframe\">\n",
       "  <thead>\n",
       "    <tr style=\"text-align: right;\">\n",
       "      <th></th>\n",
       "      <th>fulltext_filename</th>\n",
       "      <th>fulltext</th>\n",
       "      <th>book_id</th>\n",
       "    </tr>\n",
       "  </thead>\n",
       "  <tbody>\n",
       "    <tr>\n",
       "      <th>0</th>\n",
       "      <td>000551646_01_text.json</td>\n",
       "      <td>' -■\" ' LiLitr-- )Wm&amp;, HISTORY OF THE...</td>\n",
       "      <td>000551646</td>\n",
       "    </tr>\n",
       "    <tr>\n",
       "      <th>1</th>\n",
       "      <td>002674278_01_text.json</td>\n",
       "      <td>The Great Revolution of 1840. REMINISC...</td>\n",
       "      <td>002674278</td>\n",
       "    </tr>\n",
       "    <tr>\n",
       "      <th>2</th>\n",
       "      <td>001975731_01_text.json</td>\n",
       "      <td>THE REAR-GUARD OF THE REVOLUTION. BY E...</td>\n",
       "      <td>001975731</td>\n",
       "    </tr>\n",
       "  </tbody>\n",
       "</table>\n",
       "</div>"
      ],
      "text/plain": [
       "        fulltext_filename                                           fulltext  \\\n",
       "0  000551646_01_text.json           ' -■\" ' LiLitr-- )Wm&, HISTORY OF THE...   \n",
       "1  002674278_01_text.json          The Great Revolution of 1840. REMINISC...   \n",
       "2  001975731_01_text.json          THE REAR-GUARD OF THE REVOLUTION. BY E...   \n",
       "\n",
       "     book_id  \n",
       "0  000551646  \n",
       "1  002674278  \n",
       "2  001975731  "
      ]
     },
     "execution_count": 29,
     "metadata": {},
     "output_type": "execute_result"
    }
   ],
   "source": [
    "# second, add the book_id to the book_text dataframe\n",
    "\n",
    "df_book_text = df_texts.join(df_book[[\"identifier\",\"fulltext_filename\"]].set_index('fulltext_filename'), on='fulltext_filename')\n",
    "df_book_text = df_book_text.rename(columns={\"identifier\":\"book_id\"})\n",
    "df_book_text.head(3)"
   ]
  },
  {
   "cell_type": "code",
   "execution_count": 30,
   "metadata": {},
   "outputs": [],
   "source": [
    "# third, pull our author information and create the author table and the author-book table\n",
    "\n",
    "author_id = 0 # this is a counter which provides for a distinct identifier to every author\n",
    "author_dict = OrderedDict()\n",
    "author_book_table = {\"book_id\":list(),\"author_id\":list()}\n",
    "for book_id, authors in df_book[[\"identifier\",\"authors\"]].values:\n",
    "    for author in authors:\n",
    "        if author not in author_dict.keys():\n",
    "            author_dict[author] = author_id\n",
    "            author_id += 1\n",
    "        author_book_table[\"book_id\"].append(book_id)\n",
    "        author_book_table[\"author_id\"].append(author_dict[author])\n",
    "        \n",
    "df_author_book = pd.DataFrame.from_dict(author_book_table)\n",
    "df_author = pd.DataFrame.from_dict({\"name\":[v for v in author_dict.keys()],\n",
    "                                   \"id\":[k for k in author_dict.values()]})\n",
    "df_author.set_index(\"id\", inplace=True)"
   ]
  },
  {
   "cell_type": "code",
   "execution_count": 31,
   "metadata": {},
   "outputs": [
    {
     "data": {
      "text/html": [
       "<div>\n",
       "<style scoped>\n",
       "    .dataframe tbody tr th:only-of-type {\n",
       "        vertical-align: middle;\n",
       "    }\n",
       "\n",
       "    .dataframe tbody tr th {\n",
       "        vertical-align: top;\n",
       "    }\n",
       "\n",
       "    .dataframe thead th {\n",
       "        text-align: right;\n",
       "    }\n",
       "</style>\n",
       "<table border=\"1\" class=\"dataframe\">\n",
       "  <thead>\n",
       "    <tr style=\"text-align: right;\">\n",
       "      <th></th>\n",
       "      <th>name</th>\n",
       "    </tr>\n",
       "    <tr>\n",
       "      <th>id</th>\n",
       "      <th></th>\n",
       "    </tr>\n",
       "  </thead>\n",
       "  <tbody>\n",
       "    <tr>\n",
       "      <th>0</th>\n",
       "      <td>A. A.</td>\n",
       "    </tr>\n",
       "    <tr>\n",
       "      <th>1</th>\n",
       "      <td>Abbott, Evelyn</td>\n",
       "    </tr>\n",
       "    <tr>\n",
       "      <th>2</th>\n",
       "      <td>A'BECKETT, Gilbert Abbott.</td>\n",
       "    </tr>\n",
       "  </tbody>\n",
       "</table>\n",
       "</div>"
      ],
      "text/plain": [
       "                          name\n",
       "id                            \n",
       "0                        A. A.\n",
       "1               Abbott, Evelyn\n",
       "2   A'BECKETT, Gilbert Abbott."
      ]
     },
     "execution_count": 31,
     "metadata": {},
     "output_type": "execute_result"
    }
   ],
   "source": [
    "df_author.head(3)"
   ]
  },
  {
   "cell_type": "code",
   "execution_count": 26,
   "metadata": {},
   "outputs": [
    {
     "data": {
      "text/html": [
       "<div>\n",
       "<style scoped>\n",
       "    .dataframe tbody tr th:only-of-type {\n",
       "        vertical-align: middle;\n",
       "    }\n",
       "\n",
       "    .dataframe tbody tr th {\n",
       "        vertical-align: top;\n",
       "    }\n",
       "\n",
       "    .dataframe thead th {\n",
       "        text-align: right;\n",
       "    }\n",
       "</style>\n",
       "<table border=\"1\" class=\"dataframe\">\n",
       "  <thead>\n",
       "    <tr style=\"text-align: right;\">\n",
       "      <th></th>\n",
       "      <th>book_id</th>\n",
       "      <th>author_id</th>\n",
       "    </tr>\n",
       "  </thead>\n",
       "  <tbody>\n",
       "    <tr>\n",
       "      <th>0</th>\n",
       "      <td>000000196</td>\n",
       "      <td>0</td>\n",
       "    </tr>\n",
       "    <tr>\n",
       "      <th>1</th>\n",
       "      <td>000004047</td>\n",
       "      <td>1</td>\n",
       "    </tr>\n",
       "    <tr>\n",
       "      <th>2</th>\n",
       "      <td>000005382</td>\n",
       "      <td>2</td>\n",
       "    </tr>\n",
       "  </tbody>\n",
       "</table>\n",
       "</div>"
      ],
      "text/plain": [
       "     book_id  author_id\n",
       "0  000000196          0\n",
       "1  000004047          1\n",
       "2  000005382          2"
      ]
     },
     "execution_count": 26,
     "metadata": {},
     "output_type": "execute_result"
    }
   ],
   "source": [
    "df_author_book.head(3)"
   ]
  },
  {
   "cell_type": "code",
   "execution_count": 32,
   "metadata": {},
   "outputs": [],
   "source": [
    "# drop authors from df_books\n",
    "df_book.drop(columns=[\"authors\"], inplace=True)"
   ]
  },
  {
   "attachments": {},
   "cell_type": "markdown",
   "metadata": {},
   "source": [
    "*Note: you don't need to do this: these dataframes are already there!*"
   ]
  },
  {
   "cell_type": "code",
   "execution_count": 33,
   "metadata": {},
   "outputs": [],
   "source": [
    "# let's now save our data frames for future use\n",
    "root_folder = \"../data/bl_books/sample_tidy/\"\n",
    "df_book.to_csv(os.path.join(root_folder,\"df_book.csv\"), index=False)\n",
    "df_author.to_csv(os.path.join(root_folder,\"df_author.csv\"), index=False)\n",
    "df_author_book.to_csv(os.path.join(root_folder,\"df_author_book.csv\"), index=False)\n",
    "df_book_text.to_csv(os.path.join(root_folder,\"df_book_text.csv\"), index=False)"
   ]
  },
  {
   "attachments": {},
   "cell_type": "markdown",
   "metadata": {},
   "source": [
    "## A last look at the tidy dataset\n",
    "\n",
    "**Questions**:\n",
    "* how many authors are there? Are there books with more than one author? And authors who published more than one book?\n",
    "* How many books per genre do we have?\n",
    "* What is the typical year of publication of our books?"
   ]
  },
  {
   "attachments": {},
   "cell_type": "markdown",
   "metadata": {},
   "source": [
    "## SQL and relational databases\n",
    "\n",
    "Our tidy dataset is structured now as a relational database. \n",
    "\n",
    "SQL (Structured Query Language) is the general language to query such databases. https://en.wikipedia.org/wiki/SQL\n",
    "\n",
    "MySQL and Postgresql are common implementation of relational databases."
   ]
  },
  {
   "attachments": {},
   "cell_type": "markdown",
   "metadata": {},
   "source": [
    "To demonstrate how to load data from an SQL DB into a pandas dataframe, we create an instance of an SQLite DB (which lives in the memory of your computer and it's not persisted to disk) and load the datafrane we just created into it."
   ]
  },
  {
   "cell_type": "code",
   "execution_count": 50,
   "metadata": {},
   "outputs": [],
   "source": [
    "from sqlalchemy import create_engine\n",
    "from sqlalchemy.types import Integer\n",
    "\n",
    "# this is our SQLite DB\n",
    "engine = create_engine('sqlite://', echo=False)"
   ]
  },
  {
   "cell_type": "code",
   "execution_count": 51,
   "metadata": {},
   "outputs": [],
   "source": [
    "# we load the book dataframe we just created\n",
    "root_folder = \"../data/bl_books/sample_tidy/\"\n",
    "df_book = pd.read_csv(os.path.join(root_folder,\"df_book.csv\"))"
   ]
  },
  {
   "cell_type": "code",
   "execution_count": 52,
   "metadata": {},
   "outputs": [
    {
     "data": {
      "text/plain": [
       "452"
      ]
     },
     "execution_count": 52,
     "metadata": {},
     "output_type": "execute_result"
    }
   ],
   "source": [
    "# we now create an SQL table containing rows from `df_book`\n",
    "# the new table is called `books`\n",
    "df_book.to_sql('books', con=engine, index=False, dtype={\"datefield\": Integer()})"
   ]
  },
  {
   "cell_type": "code",
   "execution_count": 53,
   "metadata": {},
   "outputs": [
    {
     "data": {
      "text/plain": [
       "[(1841, 'Privately printed', \"The Poetical Aviary, with a bird's-eye view of the English poets. [The preface signed: A. A.] Ms. notes\", None, 'Calcutta', 'monographic', 'lsidyv35c55757', 1, 196, '000000196_01_text.json', 'poet', 'Poetry'),\n",
       " (1888, 'Rivingtons', 'A History of Greece. Part I. From the earliest times to the Ionian Revolt', None, 'London', 'monographic', 'lsidyv376da437', 1, 4047, '000004047_01_text.json', 'story', 'Prose'),\n",
       " (1847, 'Punch Office', 'The Comic History of England ... With ... coloured etchings, and ... woodcuts, by John Leech', None, 'London', 'monographic', 'lsidyv38b27a31', 1, 5382, '000005382_01_text.json', 'story', 'Prose'),\n",
       " (1892, 'Eden, Remington & Co.', \"The Cruise of “The Tomahawk”: the story of a summer's holiday in prose and rhyme. By Mrs. R. S. de C. Laffan ... assisted by “Stroke” and “Bow.”\", None, 'London', 'monographic', 'lsidyv3c4a946a', 1, 14627, '000014627_01_text.json', 'rhyme', 'Poetry'),\n",
       " (1863, 'Virtue Bros. & Co.', 'Scenes from the Drama of European History', None, 'London', 'monographic', 'lsidyv32c34c22', 1, 17057, '000017057_01_text.json', 'play', 'Drama')]"
      ]
     },
     "execution_count": 53,
     "metadata": {},
     "output_type": "execute_result"
    }
   ],
   "source": [
    "# we can execute SQL queries on the table we just created\n",
    "sql_query = \"SELECT * FROM books LIMIT 5\"\n",
    "engine.execute(sql_query).fetchall()"
   ]
  },
  {
   "cell_type": "code",
   "execution_count": 54,
   "metadata": {},
   "outputs": [],
   "source": [
    "# and we can also create a dataframe from a DB table\n",
    "# by using pandas' `read_sql_query()` function\n",
    "sql_query = \"SELECT * FROM books\"\n",
    "df_books_fromDB = pd.read_sql_query(sql_query, engine)"
   ]
  },
  {
   "cell_type": "code",
   "execution_count": 55,
   "metadata": {},
   "outputs": [
    {
     "data": {
      "text/html": [
       "<div>\n",
       "<style scoped>\n",
       "    .dataframe tbody tr th:only-of-type {\n",
       "        vertical-align: middle;\n",
       "    }\n",
       "\n",
       "    .dataframe tbody tr th {\n",
       "        vertical-align: top;\n",
       "    }\n",
       "\n",
       "    .dataframe thead th {\n",
       "        text-align: right;\n",
       "    }\n",
       "</style>\n",
       "<table border=\"1\" class=\"dataframe\">\n",
       "  <thead>\n",
       "    <tr style=\"text-align: right;\">\n",
       "      <th></th>\n",
       "      <th>datefield</th>\n",
       "      <th>publisher</th>\n",
       "      <th>title</th>\n",
       "      <th>edition</th>\n",
       "      <th>place</th>\n",
       "      <th>issuance</th>\n",
       "      <th>first_pdf</th>\n",
       "      <th>number_volumes</th>\n",
       "      <th>identifier</th>\n",
       "      <th>fulltext_filename</th>\n",
       "      <th>type</th>\n",
       "      <th>genre</th>\n",
       "    </tr>\n",
       "  </thead>\n",
       "  <tbody>\n",
       "    <tr>\n",
       "      <th>0</th>\n",
       "      <td>1841.0</td>\n",
       "      <td>Privately printed</td>\n",
       "      <td>The Poetical Aviary, with a bird's-eye view of...</td>\n",
       "      <td>None</td>\n",
       "      <td>Calcutta</td>\n",
       "      <td>monographic</td>\n",
       "      <td>lsidyv35c55757</td>\n",
       "      <td>1</td>\n",
       "      <td>196</td>\n",
       "      <td>000000196_01_text.json</td>\n",
       "      <td>poet</td>\n",
       "      <td>Poetry</td>\n",
       "    </tr>\n",
       "    <tr>\n",
       "      <th>1</th>\n",
       "      <td>1888.0</td>\n",
       "      <td>Rivingtons</td>\n",
       "      <td>A History of Greece. Part I. From the earliest...</td>\n",
       "      <td>None</td>\n",
       "      <td>London</td>\n",
       "      <td>monographic</td>\n",
       "      <td>lsidyv376da437</td>\n",
       "      <td>1</td>\n",
       "      <td>4047</td>\n",
       "      <td>000004047_01_text.json</td>\n",
       "      <td>story</td>\n",
       "      <td>Prose</td>\n",
       "    </tr>\n",
       "    <tr>\n",
       "      <th>2</th>\n",
       "      <td>1847.0</td>\n",
       "      <td>Punch Office</td>\n",
       "      <td>The Comic History of England ... With ... colo...</td>\n",
       "      <td>None</td>\n",
       "      <td>London</td>\n",
       "      <td>monographic</td>\n",
       "      <td>lsidyv38b27a31</td>\n",
       "      <td>1</td>\n",
       "      <td>5382</td>\n",
       "      <td>000005382_01_text.json</td>\n",
       "      <td>story</td>\n",
       "      <td>Prose</td>\n",
       "    </tr>\n",
       "    <tr>\n",
       "      <th>3</th>\n",
       "      <td>1892.0</td>\n",
       "      <td>Eden, Remington &amp; Co.</td>\n",
       "      <td>The Cruise of “The Tomahawk”: the story of a s...</td>\n",
       "      <td>None</td>\n",
       "      <td>London</td>\n",
       "      <td>monographic</td>\n",
       "      <td>lsidyv3c4a946a</td>\n",
       "      <td>1</td>\n",
       "      <td>14627</td>\n",
       "      <td>000014627_01_text.json</td>\n",
       "      <td>rhyme</td>\n",
       "      <td>Poetry</td>\n",
       "    </tr>\n",
       "    <tr>\n",
       "      <th>4</th>\n",
       "      <td>1863.0</td>\n",
       "      <td>Virtue Bros. &amp; Co.</td>\n",
       "      <td>Scenes from the Drama of European History</td>\n",
       "      <td>None</td>\n",
       "      <td>London</td>\n",
       "      <td>monographic</td>\n",
       "      <td>lsidyv32c34c22</td>\n",
       "      <td>1</td>\n",
       "      <td>17057</td>\n",
       "      <td>000017057_01_text.json</td>\n",
       "      <td>play</td>\n",
       "      <td>Drama</td>\n",
       "    </tr>\n",
       "  </tbody>\n",
       "</table>\n",
       "</div>"
      ],
      "text/plain": [
       "   datefield              publisher  \\\n",
       "0     1841.0      Privately printed   \n",
       "1     1888.0             Rivingtons   \n",
       "2     1847.0           Punch Office   \n",
       "3     1892.0  Eden, Remington & Co.   \n",
       "4     1863.0     Virtue Bros. & Co.   \n",
       "\n",
       "                                               title edition     place  \\\n",
       "0  The Poetical Aviary, with a bird's-eye view of...    None  Calcutta   \n",
       "1  A History of Greece. Part I. From the earliest...    None    London   \n",
       "2  The Comic History of England ... With ... colo...    None    London   \n",
       "3  The Cruise of “The Tomahawk”: the story of a s...    None    London   \n",
       "4          Scenes from the Drama of European History    None    London   \n",
       "\n",
       "      issuance       first_pdf  number_volumes  identifier  \\\n",
       "0  monographic  lsidyv35c55757               1         196   \n",
       "1  monographic  lsidyv376da437               1        4047   \n",
       "2  monographic  lsidyv38b27a31               1        5382   \n",
       "3  monographic  lsidyv3c4a946a               1       14627   \n",
       "4  monographic  lsidyv32c34c22               1       17057   \n",
       "\n",
       "        fulltext_filename   type   genre  \n",
       "0  000000196_01_text.json   poet  Poetry  \n",
       "1  000004047_01_text.json  story   Prose  \n",
       "2  000005382_01_text.json  story   Prose  \n",
       "3  000014627_01_text.json  rhyme  Poetry  \n",
       "4  000017057_01_text.json   play   Drama  "
      ]
     },
     "execution_count": 55,
     "metadata": {},
     "output_type": "execute_result"
    }
   ],
   "source": [
    "df_books_fromDB.head(5)"
   ]
  }
 ],
 "metadata": {
  "kernelspec": {
   "display_name": "Python 3 (ipykernel)",
   "language": "python",
   "name": "python3"
  },
  "language_info": {
   "codemirror_mode": {
    "name": "ipython",
    "version": 3
   },
   "file_extension": ".py",
   "mimetype": "text/x-python",
   "name": "python",
   "nbconvert_exporter": "python",
   "pygments_lexer": "ipython3",
   "version": "3.10.0"
  },
  "toc": {
   "base_numbering": 1,
   "nav_menu": {},
   "number_sections": true,
   "sideBar": true,
   "skip_h1_title": false,
   "title_cell": "Table of Contents",
   "title_sidebar": "Contents",
   "toc_cell": false,
   "toc_position": {},
   "toc_section_display": true,
   "toc_window_display": false
  }
 },
 "nbformat": 4,
 "nbformat_minor": 4
}
