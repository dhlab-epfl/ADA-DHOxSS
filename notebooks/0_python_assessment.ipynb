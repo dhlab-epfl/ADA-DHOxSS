{
  "cells": [
    {
      "cell_type": "markdown",
      "id": "93a83b3b",
      "metadata": {
        "hide_input": false,
        "id": "93a83b3b"
      },
      "source": [
        "# 🐍 Python assessment Notebook\n",
        "\n",
        "🎯 The purpose of this notebook is to assess your prior knowledge of Python in order for us to adapt the contents of the strand accordingly. So in other words, this is NOT a graded test of any kind 😊 Please answer with your *real personal* knowledge and in all honesty, there is no one to impress 😉 And if you don't know how to answer a question, don't worry at all. Just leave the cell blank, we'll have time to learn this together.\n",
        "\n"
      ]
    },
    {
      "cell_type": "markdown",
      "id": "4efa786b",
      "metadata": {
        "id": "4efa786b"
      },
      "source": [
        "## Data types"
      ]
    },
    {
      "cell_type": "markdown",
      "id": "c03ae4dd",
      "metadata": {
        "id": "c03ae4dd"
      },
      "source": [
        "### Integers and strings"
      ]
    },
    {
      "cell_type": "markdown",
      "id": "3466ae93",
      "metadata": {
        "id": "3466ae93"
      },
      "source": [
        "Let's consider two variables named `value_1` and `value_2`, instatiated as follows:"
      ]
    },
    {
      "cell_type": "code",
      "execution_count": 5,
      "id": "39dcf1ad",
      "metadata": {
        "id": "39dcf1ad"
      },
      "outputs": [],
      "source": [
        "value_1 = \"10\"\n",
        "value_2 = 20"
      ]
    },
    {
      "cell_type": "markdown",
      "id": "5a8b076f",
      "metadata": {
        "id": "5a8b076f"
      },
      "source": [
        "❓What value (or outcome) do you expect when summing (`+`) the values of these two variables?"
      ]
    },
    {
      "cell_type": "code",
      "execution_count": 2,
      "id": "99850ff5",
      "metadata": {
        "id": "99850ff5"
      },
      "outputs": [],
      "source": [
        "# 📃 Write your solution here"
      ]
    },
    {
      "cell_type": "markdown",
      "id": "7ac92990",
      "metadata": {
        "id": "7ac92990"
      },
      "source": [
        "❓How can the cell above be changed so that it can be executed without raising exceptions?"
      ]
    },
    {
      "cell_type": "code",
      "execution_count": null,
      "id": "LMKKcw6E-rnw",
      "metadata": {
        "id": "LMKKcw6E-rnw"
      },
      "outputs": [],
      "source": [
        "# 📃 Write your solution here"
      ]
    },
    {
      "cell_type": "code",
      "execution_count": 8,
      "id": "358f90da",
      "metadata": {},
      "outputs": [
        {
          "data": {
            "text/plain": [
              "30"
            ]
          },
          "execution_count": 8,
          "metadata": {},
          "output_type": "execute_result"
        }
      ],
      "source": [
        "int(value_1) + value_2"
      ]
    },
    {
      "cell_type": "markdown",
      "id": "aa6ffd02",
      "metadata": {
        "id": "aa6ffd02"
      },
      "source": [
        "### Lists"
      ]
    },
    {
      "cell_type": "markdown",
      "id": "cb0e7697",
      "metadata": {
        "id": "cb0e7697"
      },
      "source": [
        "Let's imagine a spreadsheet containing catalogue data about an archeological collection of a museum.\n",
        "We take only the first 10 records, and select the column containing an indication of the type of object:"
      ]
    },
    {
      "cell_type": "code",
      "execution_count": 33,
      "id": "f4373ace",
      "metadata": {
        "id": "f4373ace"
      },
      "outputs": [],
      "source": [
        "artefact_type = [\n",
        "    \"kantharos\",\n",
        "    \"kylix\",\n",
        "    \"krater\",\n",
        "    \"dinos\",\n",
        "    \"kylix\",\n",
        "    \"kantharos\",\n",
        "    \"amphora\",\n",
        "    \"amphora\",\n",
        "    \"amphora\",\n",
        "    \"amphora\",\n",
        "]"
      ]
    },
    {
      "cell_type": "markdown",
      "id": "5d027279",
      "metadata": {
        "id": "5d027279"
      },
      "source": [
        "❓ Write an expression to select the 1st item in this list."
      ]
    },
    {
      "cell_type": "code",
      "execution_count": 10,
      "id": "415d4509",
      "metadata": {
        "id": "415d4509"
      },
      "outputs": [
        {
          "data": {
            "text/plain": [
              "'kantharos'"
            ]
          },
          "execution_count": 10,
          "metadata": {},
          "output_type": "execute_result"
        }
      ],
      "source": [
        "# 📃 Write your solution here\n",
        "\n",
        "artefact_type[0]"
      ]
    },
    {
      "cell_type": "markdown",
      "id": "25a42945",
      "metadata": {
        "id": "25a42945"
      },
      "source": [
        "❓ Write now an expression to select the last item."
      ]
    },
    {
      "cell_type": "code",
      "execution_count": null,
      "id": "68d67635",
      "metadata": {
        "id": "68d67635"
      },
      "outputs": [],
      "source": [
        "# 📃 Write your solution here"
      ]
    },
    {
      "cell_type": "code",
      "execution_count": 12,
      "id": "c1bd9d37",
      "metadata": {},
      "outputs": [
        {
          "data": {
            "text/plain": [
              "'amphora'"
            ]
          },
          "execution_count": 12,
          "metadata": {},
          "output_type": "execute_result"
        }
      ],
      "source": [
        "artefact_type[-1]"
      ]
    },
    {
      "cell_type": "markdown",
      "id": "38c38a31",
      "metadata": {
        "id": "38c38a31"
      },
      "source": [
        "❓ And what about retrieving the last 4 items?"
      ]
    },
    {
      "cell_type": "code",
      "execution_count": null,
      "id": "35b40697",
      "metadata": {
        "id": "35b40697"
      },
      "outputs": [],
      "source": [
        "# 📃 Write your solution here"
      ]
    },
    {
      "cell_type": "code",
      "execution_count": 15,
      "id": "532ad6dc",
      "metadata": {},
      "outputs": [
        {
          "data": {
            "text/plain": [
              "['kantharos', 'amphora', 'amphora', 'amphora']"
            ]
          },
          "execution_count": 15,
          "metadata": {},
          "output_type": "execute_result"
        }
      ],
      "source": [
        "artefact_type[-5:-1]"
      ]
    },
    {
      "cell_type": "markdown",
      "id": "5312619d",
      "metadata": {
        "id": "5312619d"
      },
      "source": [
        "### Dictionaries"
      ]
    },
    {
      "cell_type": "markdown",
      "id": "d4232aba",
      "metadata": {
        "id": "d4232aba"
      },
      "source": [
        "Building upon the example above, let's imagine that we have a dictionary associating the artefact identifier with its type as in the following:"
      ]
    },
    {
      "cell_type": "code",
      "execution_count": 18,
      "id": "0b2b6ceb",
      "metadata": {
        "id": "0b2b6ceb"
      },
      "outputs": [],
      "source": [
        "artefact_type_by_id = {\n",
        "    'P135':'kantharos',\n",
        "    'A781':'kylix',\n",
        "    'Q444':'krater',\n",
        "    'D912':'dinos',\n",
        "    'B111':'kylix',\n",
        "    'C789':'kantharos',\n",
        "    'Z908':'amphora',\n",
        "    'W222':'amphora',\n",
        "    'S456':'amphora',\n",
        "    'F289':'amphora'\n",
        "}"
      ]
    },
    {
      "cell_type": "markdown",
      "id": "7c57b731",
      "metadata": {
        "id": "7c57b731"
      },
      "source": [
        "❓Write an expression returning from the dictionary `artefact_type_by_id` the value `dinos`."
      ]
    },
    {
      "cell_type": "code",
      "execution_count": null,
      "id": "c6bb1751",
      "metadata": {
        "id": "c6bb1751"
      },
      "outputs": [],
      "source": [
        "# 📃 Write your solution here"
      ]
    },
    {
      "cell_type": "markdown",
      "id": "f151574c",
      "metadata": {
        "id": "f151574c"
      },
      "source": [
        "## Control flow statements"
      ]
    },
    {
      "cell_type": "markdown",
      "id": "256c0c17",
      "metadata": {
        "id": "256c0c17"
      },
      "source": [
        "### Repetition (`for`)"
      ]
    },
    {
      "cell_type": "markdown",
      "id": "ab1b98ce",
      "metadata": {
        "id": "ab1b98ce"
      },
      "source": [
        "Let's imagine you want to capitalize the artefact type contained in the list `artefact_type`, which we defined a few cells above.\n",
        "\n",
        "The following sequence of instructions will do:"
      ]
    },
    {
      "cell_type": "code",
      "execution_count": 30,
      "id": "e7587b60",
      "metadata": {},
      "outputs": [
        {
          "data": {
            "text/plain": [
              "['kantharos',\n",
              " 'kylix',\n",
              " 'krater',\n",
              " 'dinos',\n",
              " 'kylix',\n",
              " 'kantharos',\n",
              " 'amphora',\n",
              " 'amphora',\n",
              " 'amphora',\n",
              " 'amphora']"
            ]
          },
          "execution_count": 30,
          "metadata": {},
          "output_type": "execute_result"
        }
      ],
      "source": [
        "artefact_type"
      ]
    },
    {
      "cell_type": "code",
      "execution_count": 31,
      "id": "b4a24c40",
      "metadata": {
        "id": "b4a24c40"
      },
      "outputs": [],
      "source": [
        "artefact_type[0] = artefact_type[0].upper()\n",
        "artefact_type[1] = artefact_type[1].upper()\n",
        "artefact_type[2] = artefact_type[2].upper()\n",
        "artefact_type[3] = artefact_type[3].upper()\n",
        "artefact_type[4] = artefact_type[4].upper()\n",
        "artefact_type[5] = artefact_type[5].upper()\n",
        "artefact_type[6] = artefact_type[6].upper()\n",
        "artefact_type[7] = artefact_type[7].upper()\n",
        "artefact_type[8] = artefact_type[8].upper()\n",
        "artefact_type[9] = artefact_type[9].upper()"
      ]
    },
    {
      "cell_type": "markdown",
      "id": "938daade",
      "metadata": {
        "id": "938daade"
      },
      "source": [
        "However, to perform such repetitive transformations, which need to be applied to all items of a list or all values in a dictionary, Python offers the `for` control flow statement."
      ]
    },
    {
      "cell_type": "markdown",
      "id": "4b350eb0",
      "metadata": {
        "id": "4b350eb0"
      },
      "source": [
        "❓ Can you rewrite the sequence of statements above in the form of a `for` loop?\n",
        "\n",
        "*Hint*: there are (at least) two ways of achieving this: 1) by changing the values of `artefact_type` or 2) by creating a new list (with a different name!) which is of the same length as the original one and contains uppercased values."
      ]
    },
    {
      "cell_type": "code",
      "execution_count": null,
      "id": "5535cdc4",
      "metadata": {
        "id": "5535cdc4"
      },
      "outputs": [],
      "source": [
        "# 📃 Write your solution here"
      ]
    },
    {
      "cell_type": "code",
      "execution_count": 40,
      "id": "9e4bddc2",
      "metadata": {
        "id": "9e4bddc2"
      },
      "outputs": [
        {
          "ename": "TypeError",
          "evalue": "'int' object is not iterable",
          "output_type": "error",
          "traceback": [
            "\u001b[0;31m---------------------------------------------------------------------------\u001b[0m",
            "\u001b[0;31mTypeError\u001b[0m                                 Traceback (most recent call last)",
            "Cell \u001b[0;32mIn[40], line 1\u001b[0m\n\u001b[0;32m----> 1\u001b[0m \u001b[38;5;28;01mfor\u001b[39;00m i \u001b[38;5;129;01min\u001b[39;00m \u001b[38;5;28mlen\u001b[39m(artefact_type):\n\u001b[1;32m      2\u001b[0m     artefact_type[i] \u001b[38;5;241m=\u001b[39m artefact_type[i]\u001b[38;5;241m.\u001b[39mtitle()\n",
            "\u001b[0;31mTypeError\u001b[0m: 'int' object is not iterable"
          ]
        }
      ],
      "source": [
        "for i in len(artefact_type):\n",
        "    artefact_type[i] = artefact_type[i].title()"
      ]
    },
    {
      "cell_type": "code",
      "execution_count": 39,
      "id": "f73972eb",
      "metadata": {},
      "outputs": [
        {
          "data": {
            "text/plain": [
              "['Kantharos',\n",
              " 'Kylix',\n",
              " 'Krater',\n",
              " 'Dinos',\n",
              " 'Kylix',\n",
              " 'Kantharos',\n",
              " 'Amphora',\n",
              " 'Amphora',\n",
              " 'Amphora',\n",
              " 'Amphora']"
            ]
          },
          "execution_count": 39,
          "metadata": {},
          "output_type": "execute_result"
        }
      ],
      "source": [
        "artefact_type"
      ]
    },
    {
      "cell_type": "markdown",
      "id": "934d7b83",
      "metadata": {
        "id": "934d7b83"
      },
      "source": [
        "### Selection (`if`/`else`)"
      ]
    },
    {
      "cell_type": "markdown",
      "id": "3368e9c6",
      "metadata": {
        "id": "3368e9c6"
      },
      "source": [
        "Similarly to `for`, `if` allows you to change the linearity of the execution of a sequence of statements by checking that a certain condition is fulfilled."
      ]
    },
    {
      "cell_type": "markdown",
      "id": "6cdd2592",
      "metadata": {
        "id": "6cdd2592"
      },
      "source": [
        "❓ Rewrite your last solution (`for` loop with `upper()` function call) so that `upper` is called only when the artefact type is `amphora`.  "
      ]
    },
    {
      "cell_type": "code",
      "execution_count": 45,
      "id": "5d2c5909",
      "metadata": {
        "id": "5d2c5909"
      },
      "outputs": [],
      "source": [
        "# run this cell every time you need\n",
        "# to revert the list back to its original\n",
        "# (uncapitalized form)\n",
        "\n",
        "artefact_type = [\n",
        "    \"kantharos\",\n",
        "    \"kylix\",\n",
        "    \"krater\",\n",
        "    \"dinos\",\n",
        "    \"kylix\",\n",
        "    \"kantharos\",\n",
        "    \"amphora\",\n",
        "    \"amphora\",\n",
        "    \"amphora\",\n",
        "    \"amphora\",\n",
        "]"
      ]
    },
    {
      "cell_type": "code",
      "execution_count": 46,
      "id": "d0dd6d68",
      "metadata": {},
      "outputs": [],
      "source": [
        "for i in range(len(artefact_type)):\n",
        "    if artefact_type[i]=='amphora':\n",
        "        artefact_type[i] = artefact_type[i].upper()"
      ]
    },
    {
      "cell_type": "code",
      "execution_count": null,
      "id": "7d01e8f4",
      "metadata": {
        "id": "7d01e8f4"
      },
      "outputs": [],
      "source": [
        "# 📃 Write your solution here"
      ]
    },
    {
      "cell_type": "markdown",
      "id": "9ebe66d1",
      "metadata": {
        "id": "9ebe66d1"
      },
      "source": [
        "## Functions\n",
        "\n",
        "Functions let you write reusable blocks of code that perform a certain number of operations. They may have input parameters, and may return a result at the end of their execution. Here's an example of calling and defining a very simple function:"
      ]
    },
    {
      "cell_type": "code",
      "execution_count": 48,
      "id": "28ccc288",
      "metadata": {
        "id": "28ccc288"
      },
      "outputs": [
        {
          "name": "stdout",
          "output_type": "stream",
          "text": [
            "This is an example of a function without input parameters, which does not yield a result\n"
          ]
        }
      ],
      "source": [
        "# here I define my function, called `demo`\n",
        "def demo():\n",
        "   print('This is an example of a function without input parameters, which does not yield a result')\n",
        "\n",
        "# and here is my function call\n",
        "demo()"
      ]
    },
    {
      "cell_type": "markdown",
      "id": "a3f5742e",
      "metadata": {
        "id": "a3f5742e"
      },
      "source": [
        "❓ Define a function with the following characteristics:\n",
        "- its name should be `name_check`\n",
        "- it should be possible to call it on each item of the list `artefact_type`\n",
        "- it should return `1` **if** its input value starts with letter `\"k\"` and return `0` otherwise"
      ]
    },
    {
      "cell_type": "markdown",
      "id": "8e5accb2",
      "metadata": {
        "id": "8e5accb2"
      },
      "source": [
        "Let's take again our example list:"
      ]
    },
    {
      "cell_type": "code",
      "execution_count": 49,
      "id": "52786d85",
      "metadata": {
        "id": "52786d85"
      },
      "outputs": [],
      "source": [
        "artefact_type = [\n",
        "    \"kantharos\",\n",
        "    \"kylix\",\n",
        "    \"krater\",\n",
        "    \"dinos\",\n",
        "    \"kylix\",\n",
        "    \"kantharos\",\n",
        "    \"amphora\",\n",
        "    \"amphora\",\n",
        "    \"amphora\",\n",
        "    \"amphora\",\n",
        "]"
      ]
    },
    {
      "cell_type": "code",
      "execution_count": 56,
      "id": "25ac923d",
      "metadata": {
        "id": "25ac923d"
      },
      "outputs": [],
      "source": [
        "# write your solution here by modifying\n",
        "# the following function definition\n",
        "def name_check(list_element):\n",
        "    #if list_element.startswith('k'):\n",
        "    if list_element[0] =='k':\n",
        "        return 1\n",
        "    else:\n",
        "        return 0"
      ]
    },
    {
      "cell_type": "code",
      "execution_count": 58,
      "id": "2829bd18",
      "metadata": {},
      "outputs": [
        {
          "data": {
            "text/plain": [
              "1"
            ]
          },
          "execution_count": 58,
          "metadata": {},
          "output_type": "execute_result"
        }
      ],
      "source": [
        "name_check(artefact_type[1])"
      ]
    },
    {
      "cell_type": "code",
      "execution_count": null,
      "id": "8e65b3f8",
      "metadata": {
        "id": "8e65b3f8"
      },
      "outputs": [],
      "source": [
        "# 📃 Write your solution here"
      ]
    },
    {
      "cell_type": "markdown",
      "id": "58d3102f",
      "metadata": {
        "id": "58d3102f"
      },
      "source": [
        "Once the function is defined, run the next cell to find out how many artefact types start with letter 'k'."
      ]
    },
    {
      "cell_type": "code",
      "execution_count": null,
      "id": "c4fc2482",
      "metadata": {
        "id": "c4fc2482"
      },
      "outputs": [],
      "source": [
        "sum([name_check(t) for t in artefact_type])"
      ]
    },
    {
      "cell_type": "markdown",
      "id": "3ec9551e",
      "metadata": {
        "id": "3ec9551e"
      },
      "source": [
        "# Advanced questions"
      ]
    },
    {
      "cell_type": "markdown",
      "id": "5ae237ad",
      "metadata": {
        "id": "5ae237ad"
      },
      "source": [
        "These questions are more advanced, and you are not expected to score 100%. They are designed to assess what to put the focus on."
      ]
    },
    {
      "cell_type": "markdown",
      "id": "0da71d99",
      "metadata": {
        "id": "0da71d99"
      },
      "source": [
        "❓ Open the two files named `column1.txt`and `column2.txt` and convert their contents into two lists\n",
        "- the first list variable should be named `x`, and the second list `y`\n",
        "- the files contain one element of the list per row; beware that the separator between rows of a text files is the newspace character `\\n`\n",
        "- beware that the contents of a `.txt` file is always of the type `string`. You should account for the fact that the `column2.txt` file contains numerical data.\n"
      ]
    },
    {
      "cell_type": "code",
      "execution_count": 91,
      "id": "cd059441",
      "metadata": {
        "id": "cd059441"
      },
      "outputs": [],
      "source": [
        "# 📃 Write your solution here\n",
        "\n",
        "with open('../data/column1.txt') as f:\n",
        "    lines_column1 = f.readlines()\n",
        "\n",
        "with open('../data/column2.txt') as f:\n",
        "    lines_column2 = f.readlines()\n",
        "\n"
      ]
    },
    {
      "cell_type": "code",
      "execution_count": 92,
      "id": "38a90c33",
      "metadata": {},
      "outputs": [],
      "source": [
        "for i in range(len(lines_column1)):\n",
        "    if i==len(lines_column1)-1:\n",
        "        pass\n",
        "    else:\n",
        "        lines_column1[i] = str(lines_column1[i][:-1])\n",
        "\n",
        "for i in range(len(lines_column2)):\n",
        "    lines_column2[i] = int(lines_column2[i])"
      ]
    },
    {
      "cell_type": "code",
      "execution_count": 93,
      "id": "de0c2b5b",
      "metadata": {},
      "outputs": [
        {
          "data": {
            "text/plain": [
              "(['kantharos', 'kylix', 'krater', 'dinos', 'amphora'], [12, 15, 8, 2, 32])"
            ]
          },
          "execution_count": 93,
          "metadata": {},
          "output_type": "execute_result"
        }
      ],
      "source": [
        "lines_column1, lines_column2"
      ]
    },
    {
      "cell_type": "markdown",
      "id": "e3398a43",
      "metadata": {
        "id": "e3398a43"
      },
      "source": [
        "❓ Convert the two column variables into a Pandas dataframe and export it to a csv\n",
        "- create the Pandas dataframe from the two variables\n",
        "- the first list should be named `artefact`\n",
        "- the first list should be named `count`\n",
        "- it should be output as `export_data.csv` in the same folder as this python notebook"
      ]
    },
    {
      "cell_type": "code",
      "execution_count": null,
      "id": "eb1131af",
      "metadata": {
        "id": "eb1131af"
      },
      "outputs": [],
      "source": [
        "# 📃 Write your solution here\n",
        " \n",
        "import pandas as pd\n",
        "\n",
        "dataframe = pd.DataFrame(data={'artefact':lines_column1, 'count':lines_column2})"
      ]
    },
    {
      "cell_type": "code",
      "execution_count": 98,
      "id": "e617520a",
      "metadata": {},
      "outputs": [
        {
          "data": {
            "text/html": [
              "<div>\n",
              "<style scoped>\n",
              "    .dataframe tbody tr th:only-of-type {\n",
              "        vertical-align: middle;\n",
              "    }\n",
              "\n",
              "    .dataframe tbody tr th {\n",
              "        vertical-align: top;\n",
              "    }\n",
              "\n",
              "    .dataframe thead th {\n",
              "        text-align: right;\n",
              "    }\n",
              "</style>\n",
              "<table border=\"1\" class=\"dataframe\">\n",
              "  <thead>\n",
              "    <tr style=\"text-align: right;\">\n",
              "      <th></th>\n",
              "      <th>artefact</th>\n",
              "      <th>count</th>\n",
              "    </tr>\n",
              "  </thead>\n",
              "  <tbody>\n",
              "    <tr>\n",
              "      <th>0</th>\n",
              "      <td>kantharos</td>\n",
              "      <td>12</td>\n",
              "    </tr>\n",
              "    <tr>\n",
              "      <th>1</th>\n",
              "      <td>kylix</td>\n",
              "      <td>15</td>\n",
              "    </tr>\n",
              "    <tr>\n",
              "      <th>2</th>\n",
              "      <td>krater</td>\n",
              "      <td>8</td>\n",
              "    </tr>\n",
              "    <tr>\n",
              "      <th>3</th>\n",
              "      <td>dinos</td>\n",
              "      <td>2</td>\n",
              "    </tr>\n",
              "    <tr>\n",
              "      <th>4</th>\n",
              "      <td>amphora</td>\n",
              "      <td>32</td>\n",
              "    </tr>\n",
              "  </tbody>\n",
              "</table>\n",
              "</div>"
            ],
            "text/plain": [
              "    artefact  count\n",
              "0  kantharos     12\n",
              "1      kylix     15\n",
              "2     krater      8\n",
              "3      dinos      2\n",
              "4    amphora     32"
            ]
          },
          "execution_count": 98,
          "metadata": {},
          "output_type": "execute_result"
        }
      ],
      "source": [
        "dataframe"
      ]
    },
    {
      "cell_type": "markdown",
      "id": "4186d02e",
      "metadata": {
        "id": "4186d02e"
      },
      "source": [
        "❓ Plot a histogram of the number of times each artefact type appears in the list artefact_type\n",
        "- use a built-in Pandas function\n",
        "- the `x` and `y` axes should be labelled with the column name\n",
        "- the figure should have a title\n",
        "- the bars should be coloured red\n"
      ]
    },
    {
      "cell_type": "code",
      "execution_count": null,
      "id": "5be0afba",
      "metadata": {
        "id": "5be0afba"
      },
      "outputs": [],
      "source": [
        "# 📃 Write your solution here"
      ]
    },
    {
      "cell_type": "markdown",
      "id": "N16Fc_FA_EKB",
      "metadata": {
        "id": "N16Fc_FA_EKB"
      },
      "source": [
        "❓ What does the following snippet return ? Try to guess it without running the cell.\n",
        "\n",
        "`a = [i==5 for i in range(5)]`"
      ]
    },
    {
      "cell_type": "code",
      "execution_count": 3,
      "id": "t-l8K-oR_6_-",
      "metadata": {
        "id": "t-l8K-oR_6_-"
      },
      "outputs": [],
      "source": [
        "# 📃 Write your solution here"
      ]
    }
  ],
  "metadata": {
    "colab": {
      "collapsed_sections": [
        "4efa786b",
        "f151574c",
        "9ebe66d1",
        "3ec9551e"
      ],
      "provenance": []
    },
    "kernelspec": {
      "display_name": "dhoxss",
      "language": "python",
      "name": "python3"
    },
    "language_info": {
      "codemirror_mode": {
        "name": "ipython",
        "version": 3
      },
      "file_extension": ".py",
      "mimetype": "text/x-python",
      "name": "python",
      "nbconvert_exporter": "python",
      "pygments_lexer": "ipython3",
      "version": "3.12.4"
    },
    "toc": {
      "base_numbering": 1,
      "nav_menu": {},
      "number_sections": false,
      "sideBar": true,
      "skip_h1_title": false,
      "title_cell": "Table of Contents",
      "title_sidebar": "Contents",
      "toc_cell": false,
      "toc_position": {},
      "toc_section_display": true,
      "toc_window_display": true
    }
  },
  "nbformat": 4,
  "nbformat_minor": 5
}
